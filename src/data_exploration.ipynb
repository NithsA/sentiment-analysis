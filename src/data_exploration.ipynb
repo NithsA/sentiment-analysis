{
 "cells": [
  {
   "cell_type": "code",
   "execution_count": 1,
   "metadata": {},
   "outputs": [],
   "source": [
    "import numpy as np\n",
    "import pandas as pd\n",
    "import matplotlib.pyplot as plt"
   ]
  },
  {
   "cell_type": "markdown",
   "metadata": {},
   "source": [
    "## Load Data"
   ]
  },
  {
   "cell_type": "code",
   "execution_count": 5,
   "metadata": {},
   "outputs": [],
   "source": [
    "data_path = \"/Users/bradpayne/Desktop/CS6890/project/data/training.1600000.processed.noemoticon.csv\""
   ]
  },
  {
   "cell_type": "code",
   "execution_count": 6,
   "metadata": {},
   "outputs": [],
   "source": [
    "data = pd.read_csv(data_path, header=None )\n",
    "data.columns = [\"target\", \"id\", \"date\", \"flag\", \"user\", \"text\"]"
   ]
  },
  {
   "cell_type": "code",
   "execution_count": 7,
   "metadata": {},
   "outputs": [
    {
     "data": {
      "text/html": [
       "<div>\n",
       "<style scoped>\n",
       "    .dataframe tbody tr th:only-of-type {\n",
       "        vertical-align: middle;\n",
       "    }\n",
       "\n",
       "    .dataframe tbody tr th {\n",
       "        vertical-align: top;\n",
       "    }\n",
       "\n",
       "    .dataframe thead th {\n",
       "        text-align: right;\n",
       "    }\n",
       "</style>\n",
       "<table border=\"1\" class=\"dataframe\">\n",
       "  <thead>\n",
       "    <tr style=\"text-align: right;\">\n",
       "      <th></th>\n",
       "      <th>target</th>\n",
       "      <th>id</th>\n",
       "      <th>date</th>\n",
       "      <th>flag</th>\n",
       "      <th>user</th>\n",
       "      <th>text</th>\n",
       "    </tr>\n",
       "  </thead>\n",
       "  <tbody>\n",
       "    <tr>\n",
       "      <th>0</th>\n",
       "      <td>0</td>\n",
       "      <td>1467810369</td>\n",
       "      <td>Mon Apr 06 22:19:45 PDT 2009</td>\n",
       "      <td>NO_QUERY</td>\n",
       "      <td>_TheSpecialOne_</td>\n",
       "      <td>@switchfoot http://twitpic.com/2y1zl - Awww, t...</td>\n",
       "    </tr>\n",
       "    <tr>\n",
       "      <th>1</th>\n",
       "      <td>0</td>\n",
       "      <td>1467810672</td>\n",
       "      <td>Mon Apr 06 22:19:49 PDT 2009</td>\n",
       "      <td>NO_QUERY</td>\n",
       "      <td>scotthamilton</td>\n",
       "      <td>is upset that he can't update his Facebook by ...</td>\n",
       "    </tr>\n",
       "    <tr>\n",
       "      <th>2</th>\n",
       "      <td>0</td>\n",
       "      <td>1467810917</td>\n",
       "      <td>Mon Apr 06 22:19:53 PDT 2009</td>\n",
       "      <td>NO_QUERY</td>\n",
       "      <td>mattycus</td>\n",
       "      <td>@Kenichan I dived many times for the ball. Man...</td>\n",
       "    </tr>\n",
       "    <tr>\n",
       "      <th>3</th>\n",
       "      <td>0</td>\n",
       "      <td>1467811184</td>\n",
       "      <td>Mon Apr 06 22:19:57 PDT 2009</td>\n",
       "      <td>NO_QUERY</td>\n",
       "      <td>ElleCTF</td>\n",
       "      <td>my whole body feels itchy and like its on fire</td>\n",
       "    </tr>\n",
       "    <tr>\n",
       "      <th>4</th>\n",
       "      <td>0</td>\n",
       "      <td>1467811193</td>\n",
       "      <td>Mon Apr 06 22:19:57 PDT 2009</td>\n",
       "      <td>NO_QUERY</td>\n",
       "      <td>Karoli</td>\n",
       "      <td>@nationwideclass no, it's not behaving at all....</td>\n",
       "    </tr>\n",
       "  </tbody>\n",
       "</table>\n",
       "</div>"
      ],
      "text/plain": [
       "   target          id                          date      flag  \\\n",
       "0       0  1467810369  Mon Apr 06 22:19:45 PDT 2009  NO_QUERY   \n",
       "1       0  1467810672  Mon Apr 06 22:19:49 PDT 2009  NO_QUERY   \n",
       "2       0  1467810917  Mon Apr 06 22:19:53 PDT 2009  NO_QUERY   \n",
       "3       0  1467811184  Mon Apr 06 22:19:57 PDT 2009  NO_QUERY   \n",
       "4       0  1467811193  Mon Apr 06 22:19:57 PDT 2009  NO_QUERY   \n",
       "\n",
       "              user                                               text  \n",
       "0  _TheSpecialOne_  @switchfoot http://twitpic.com/2y1zl - Awww, t...  \n",
       "1    scotthamilton  is upset that he can't update his Facebook by ...  \n",
       "2         mattycus  @Kenichan I dived many times for the ball. Man...  \n",
       "3          ElleCTF    my whole body feels itchy and like its on fire   \n",
       "4           Karoli  @nationwideclass no, it's not behaving at all....  "
      ]
     },
     "execution_count": 7,
     "metadata": {},
     "output_type": "execute_result"
    }
   ],
   "source": [
    "data.head()"
   ]
  },
  {
   "cell_type": "markdown",
   "metadata": {},
   "source": [
    "## Exploration"
   ]
  },
  {
   "cell_type": "code",
   "execution_count": 8,
   "metadata": {},
   "outputs": [
    {
     "data": {
      "text/plain": [
       "1600000"
      ]
     },
     "execution_count": 8,
     "metadata": {},
     "output_type": "execute_result"
    }
   ],
   "source": [
    "len(data)"
   ]
  },
  {
   "cell_type": "code",
   "execution_count": 9,
   "metadata": {},
   "outputs": [
    {
     "data": {
      "text/plain": [
       "800000"
      ]
     },
     "execution_count": 9,
     "metadata": {},
     "output_type": "execute_result"
    }
   ],
   "source": [
    "# negative \n",
    "data[\"target\"][data[\"target\"] == 0].count()"
   ]
  },
  {
   "cell_type": "code",
   "execution_count": 10,
   "metadata": {},
   "outputs": [
    {
     "data": {
      "text/plain": [
       "0"
      ]
     },
     "execution_count": 10,
     "metadata": {},
     "output_type": "execute_result"
    }
   ],
   "source": [
    "# neutral\n",
    "data[\"target\"][data[\"target\"] == 2].count()"
   ]
  },
  {
   "cell_type": "code",
   "execution_count": 11,
   "metadata": {},
   "outputs": [
    {
     "data": {
      "text/plain": [
       "800000"
      ]
     },
     "execution_count": 11,
     "metadata": {},
     "output_type": "execute_result"
    }
   ],
   "source": [
    "# positive \n",
    "data[\"target\"][data[\"target\"] == 4].count()"
   ]
  },
  {
   "cell_type": "code",
   "execution_count": 12,
   "metadata": {},
   "outputs": [
    {
     "data": {
      "image/png": "[encoded data removed]",
      "text/plain": [
       "<Figure size 432x288 with 1 Axes>"
      ]
     },
     "metadata": {
      "needs_background": "light"
     },
     "output_type": "display_data"
    }
   ],
   "source": [
    "# target: the polarity of the tweet (0 = negative, 2 = neutral, 4 = positive)\n",
    "plt.figure()\n",
    "plt.hist(data[\"target\"])\n",
    "plt.show()"
   ]
  },
  {
   "cell_type": "code",
   "execution_count": 13,
   "metadata": {},
   "outputs": [
    {
     "data": {
      "text/plain": [
       "(array([], dtype=int64),)"
      ]
     },
     "execution_count": 13,
     "metadata": {},
     "output_type": "execute_result"
    }
   ],
   "source": [
    "# check to see if there is anything useful in the 'flag' column\n",
    "np.where(data[\"flag\"] != \"NO_QUERY\")"
   ]
  },
  {
   "cell_type": "markdown",
   "metadata": {},
   "source": [
    "```\n",
    "All of the flag columns are set to NO_QUERY, so the column is not useful\n",
    "```"
   ]
  },
  {
   "cell_type": "code",
   "execution_count": 14,
   "metadata": {},
   "outputs": [
    {
     "data": {
      "text/plain": [
       "1598315"
      ]
     },
     "execution_count": 14,
     "metadata": {},
     "output_type": "execute_result"
    }
   ],
   "source": [
    "data.id.nunique()"
   ]
  },
  {
   "cell_type": "code",
   "execution_count": 15,
   "metadata": {},
   "outputs": [
    {
     "data": {
      "text/plain": [
       "1581466"
      ]
     },
     "execution_count": 15,
     "metadata": {},
     "output_type": "execute_result"
    }
   ],
   "source": [
    "data.text.nunique()"
   ]
  },
  {
   "cell_type": "code",
   "execution_count": 16,
   "metadata": {},
   "outputs": [],
   "source": [
    "duplicate_text = np.where(data.text.duplicated())"
   ]
  },
  {
   "cell_type": "code",
   "execution_count": 17,
   "metadata": {},
   "outputs": [
    {
     "data": {
      "text/html": [
       "<div>\n",
       "<style scoped>\n",
       "    .dataframe tbody tr th:only-of-type {\n",
       "        vertical-align: middle;\n",
       "    }\n",
       "\n",
       "    .dataframe tbody tr th {\n",
       "        vertical-align: top;\n",
       "    }\n",
       "\n",
       "    .dataframe thead th {\n",
       "        text-align: right;\n",
       "    }\n",
       "</style>\n",
       "<table border=\"1\" class=\"dataframe\">\n",
       "  <thead>\n",
       "    <tr style=\"text-align: right;\">\n",
       "      <th></th>\n",
       "      <th>target</th>\n",
       "      <th>id</th>\n",
       "      <th>date</th>\n",
       "      <th>flag</th>\n",
       "      <th>user</th>\n",
       "      <th>text</th>\n",
       "    </tr>\n",
       "  </thead>\n",
       "  <tbody>\n",
       "    <tr>\n",
       "      <th>1940</th>\n",
       "      <td>0</td>\n",
       "      <td>1468267465</td>\n",
       "      <td>Tue Apr 07 00:38:38 PDT 2009</td>\n",
       "      <td>NO_QUERY</td>\n",
       "      <td>ei8htyOne</td>\n",
       "      <td>and so the editing of 3000 wedding shots begins</td>\n",
       "    </tr>\n",
       "    <tr>\n",
       "      <th>2149</th>\n",
       "      <td>0</td>\n",
       "      <td>1468316454</td>\n",
       "      <td>Tue Apr 07 00:56:00 PDT 2009</td>\n",
       "      <td>NO_QUERY</td>\n",
       "      <td>Augustina22CA</td>\n",
       "      <td>im lonely  keep me company! 22 female, california</td>\n",
       "    </tr>\n",
       "    <tr>\n",
       "      <th>3743</th>\n",
       "      <td>0</td>\n",
       "      <td>1468664220</td>\n",
       "      <td>Tue Apr 07 03:02:08 PDT 2009</td>\n",
       "      <td>NO_QUERY</td>\n",
       "      <td>FranciscoAndre</td>\n",
       "      <td>I'm not liking that new iTunes Pricing at all....</td>\n",
       "    </tr>\n",
       "    <tr>\n",
       "      <th>3746</th>\n",
       "      <td>0</td>\n",
       "      <td>1468664704</td>\n",
       "      <td>Tue Apr 07 03:02:17 PDT 2009</td>\n",
       "      <td>NO_QUERY</td>\n",
       "      <td>ammaryasir</td>\n",
       "      <td>cant eat, drink or breath properly thanks to t...</td>\n",
       "    </tr>\n",
       "    <tr>\n",
       "      <th>4163</th>\n",
       "      <td>0</td>\n",
       "      <td>1468756463</td>\n",
       "      <td>Tue Apr 07 03:33:56 PDT 2009</td>\n",
       "      <td>NO_QUERY</td>\n",
       "      <td>lkm1989</td>\n",
       "      <td>has a cold</td>\n",
       "    </tr>\n",
       "  </tbody>\n",
       "</table>\n",
       "</div>"
      ],
      "text/plain": [
       "      target          id                          date      flag  \\\n",
       "1940       0  1468267465  Tue Apr 07 00:38:38 PDT 2009  NO_QUERY   \n",
       "2149       0  1468316454  Tue Apr 07 00:56:00 PDT 2009  NO_QUERY   \n",
       "3743       0  1468664220  Tue Apr 07 03:02:08 PDT 2009  NO_QUERY   \n",
       "3746       0  1468664704  Tue Apr 07 03:02:17 PDT 2009  NO_QUERY   \n",
       "4163       0  1468756463  Tue Apr 07 03:33:56 PDT 2009  NO_QUERY   \n",
       "\n",
       "                user                                               text  \n",
       "1940       ei8htyOne   and so the editing of 3000 wedding shots begins   \n",
       "2149   Augustina22CA  im lonely  keep me company! 22 female, california  \n",
       "3743  FranciscoAndre  I'm not liking that new iTunes Pricing at all....  \n",
       "3746      ammaryasir  cant eat, drink or breath properly thanks to t...  \n",
       "4163         lkm1989                                        has a cold   "
      ]
     },
     "execution_count": 17,
     "metadata": {},
     "output_type": "execute_result"
    }
   ],
   "source": [
    "data.loc[duplicate_text].head()"
   ]
  },
  {
   "cell_type": "code",
   "execution_count": 18,
   "metadata": {},
   "outputs": [
    {
     "data": {
      "text/plain": [
       "659775"
      ]
     },
     "execution_count": 18,
     "metadata": {},
     "output_type": "execute_result"
    }
   ],
   "source": [
    "# unique users \n",
    "data.user.nunique()"
   ]
  },
  {
   "cell_type": "code",
   "execution_count": null,
   "metadata": {},
   "outputs": [],
   "source": [
    "plt.figure()\n",
    "plt.hist(data[\"user\"])\n",
    "plt.show()"
   ]
  },
  {
   "cell_type": "code",
   "execution_count": 20,
   "metadata": {},
   "outputs": [],
   "source": [
    "from datetime import datetime"
   ]
  },
  {
   "cell_type": "code",
   "execution_count": 21,
   "metadata": {},
   "outputs": [
    {
     "data": {
      "text/plain": [
       "'Mon Apr 06 22:19:45 PDT 2009'"
      ]
     },
     "execution_count": 21,
     "metadata": {},
     "output_type": "execute_result"
    }
   ],
   "source": [
    "data[\"date\"][0]"
   ]
  },
  {
   "cell_type": "code",
   "execution_count": 22,
   "metadata": {},
   "outputs": [
    {
     "ename": "ValueError",
     "evalue": "time data 'PDT' does not match format '%Z'",
     "output_type": "error",
     "traceback": [
      "\u001b[0;31m---------------------------------------------------------------------------\u001b[0m",
      "\u001b[0;31mValueError\u001b[0m                                Traceback (most recent call last)",
      "\u001b[1;32m/Users/bradpayne/Desktop/CS6890/project/src/data_exploration.ipynb Cell 22'\u001b[0m in \u001b[0;36m<module>\u001b[0;34m\u001b[0m\n\u001b[0;32m----> <a href='vscode-notebook-cell:/Users/bradpayne/Desktop/CS6890/project/src/data_exploration.ipynb#ch0000021?line=0'>1</a>\u001b[0m datetime\u001b[39m.\u001b[39;49mstrptime(\u001b[39m\"\u001b[39;49m\u001b[39mPDT\u001b[39;49m\u001b[39m\"\u001b[39;49m, \u001b[39m\"\u001b[39;49m\u001b[39m%\u001b[39;49m\u001b[39mZ\u001b[39;49m\u001b[39m\"\u001b[39;49m)\n",
      "File \u001b[0;32m~/.pyenv/versions/3.9.7/lib/python3.9/_strptime.py:568\u001b[0m, in \u001b[0;36m_strptime_datetime\u001b[0;34m(cls, data_string, format)\u001b[0m\n\u001b[1;32m    <a href='file:///Users/bradpayne/.pyenv/versions/3.9.7/lib/python3.9/_strptime.py?line=564'>565</a>\u001b[0m \u001b[39mdef\u001b[39;00m \u001b[39m_strptime_datetime\u001b[39m(\u001b[39mcls\u001b[39m, data_string, \u001b[39mformat\u001b[39m\u001b[39m=\u001b[39m\u001b[39m\"\u001b[39m\u001b[39m%a\u001b[39;00m\u001b[39m \u001b[39m\u001b[39m%\u001b[39m\u001b[39mb \u001b[39m\u001b[39m%d\u001b[39;00m\u001b[39m \u001b[39m\u001b[39m%\u001b[39m\u001b[39mH:\u001b[39m\u001b[39m%\u001b[39m\u001b[39mM:\u001b[39m\u001b[39m%\u001b[39m\u001b[39mS \u001b[39m\u001b[39m%\u001b[39m\u001b[39mY\u001b[39m\u001b[39m\"\u001b[39m):\n\u001b[1;32m    <a href='file:///Users/bradpayne/.pyenv/versions/3.9.7/lib/python3.9/_strptime.py?line=565'>566</a>\u001b[0m     \u001b[39m\"\"\"Return a class cls instance based on the input string and the\u001b[39;00m\n\u001b[1;32m    <a href='file:///Users/bradpayne/.pyenv/versions/3.9.7/lib/python3.9/_strptime.py?line=566'>567</a>\u001b[0m \u001b[39m    format string.\"\"\"\u001b[39;00m\n\u001b[0;32m--> <a href='file:///Users/bradpayne/.pyenv/versions/3.9.7/lib/python3.9/_strptime.py?line=567'>568</a>\u001b[0m     tt, fraction, gmtoff_fraction \u001b[39m=\u001b[39m _strptime(data_string, \u001b[39mformat\u001b[39;49m)\n\u001b[1;32m    <a href='file:///Users/bradpayne/.pyenv/versions/3.9.7/lib/python3.9/_strptime.py?line=568'>569</a>\u001b[0m     tzname, gmtoff \u001b[39m=\u001b[39m tt[\u001b[39m-\u001b[39m\u001b[39m2\u001b[39m:]\n\u001b[1;32m    <a href='file:///Users/bradpayne/.pyenv/versions/3.9.7/lib/python3.9/_strptime.py?line=569'>570</a>\u001b[0m     args \u001b[39m=\u001b[39m tt[:\u001b[39m6\u001b[39m] \u001b[39m+\u001b[39m (fraction,)\n",
      "File \u001b[0;32m~/.pyenv/versions/3.9.7/lib/python3.9/_strptime.py:349\u001b[0m, in \u001b[0;36m_strptime\u001b[0;34m(data_string, format)\u001b[0m\n\u001b[1;32m    <a href='file:///Users/bradpayne/.pyenv/versions/3.9.7/lib/python3.9/_strptime.py?line=346'>347</a>\u001b[0m found \u001b[39m=\u001b[39m format_regex\u001b[39m.\u001b[39mmatch(data_string)\n\u001b[1;32m    <a href='file:///Users/bradpayne/.pyenv/versions/3.9.7/lib/python3.9/_strptime.py?line=347'>348</a>\u001b[0m \u001b[39mif\u001b[39;00m \u001b[39mnot\u001b[39;00m found:\n\u001b[0;32m--> <a href='file:///Users/bradpayne/.pyenv/versions/3.9.7/lib/python3.9/_strptime.py?line=348'>349</a>\u001b[0m     \u001b[39mraise\u001b[39;00m \u001b[39mValueError\u001b[39;00m(\u001b[39m\"\u001b[39m\u001b[39mtime data \u001b[39m\u001b[39m%r\u001b[39;00m\u001b[39m does not match format \u001b[39m\u001b[39m%r\u001b[39;00m\u001b[39m\"\u001b[39m \u001b[39m%\u001b[39m\n\u001b[1;32m    <a href='file:///Users/bradpayne/.pyenv/versions/3.9.7/lib/python3.9/_strptime.py?line=349'>350</a>\u001b[0m                      (data_string, \u001b[39mformat\u001b[39m))\n\u001b[1;32m    <a href='file:///Users/bradpayne/.pyenv/versions/3.9.7/lib/python3.9/_strptime.py?line=350'>351</a>\u001b[0m \u001b[39mif\u001b[39;00m \u001b[39mlen\u001b[39m(data_string) \u001b[39m!=\u001b[39m found\u001b[39m.\u001b[39mend():\n\u001b[1;32m    <a href='file:///Users/bradpayne/.pyenv/versions/3.9.7/lib/python3.9/_strptime.py?line=351'>352</a>\u001b[0m     \u001b[39mraise\u001b[39;00m \u001b[39mValueError\u001b[39;00m(\u001b[39m\"\u001b[39m\u001b[39munconverted data remains: \u001b[39m\u001b[39m%s\u001b[39;00m\u001b[39m\"\u001b[39m \u001b[39m%\u001b[39m\n\u001b[1;32m    <a href='file:///Users/bradpayne/.pyenv/versions/3.9.7/lib/python3.9/_strptime.py?line=352'>353</a>\u001b[0m                       data_string[found\u001b[39m.\u001b[39mend():])\n",
      "\u001b[0;31mValueError\u001b[0m: time data 'PDT' does not match format '%Z'"
     ]
    }
   ],
   "source": [
    "datetime.strptime(\"PDT\", \"%Z\")"
   ]
  },
  {
   "cell_type": "code",
   "execution_count": 23,
   "metadata": {},
   "outputs": [
    {
     "data": {
      "text/plain": [
       "datetime.datetime(2009, 4, 6, 22, 19, 45)"
      ]
     },
     "execution_count": 23,
     "metadata": {},
     "output_type": "execute_result"
    }
   ],
   "source": [
    "datetime.strptime(data[\"date\"][0], \"%a %b %d %H:%M:%S PDT %Y\")"
   ]
  },
  {
   "cell_type": "code",
   "execution_count": 24,
   "metadata": {},
   "outputs": [],
   "source": [
    "data[\"formated_date\"] = data[\"date\"].apply(lambda x: datetime.strptime(x, \"%a %b %d %H:%M:%S PDT %Y\"))"
   ]
  },
  {
   "cell_type": "code",
   "execution_count": 25,
   "metadata": {},
   "outputs": [
    {
     "name": "stderr",
     "output_type": "stream",
     "text": [
      "/var/folders/37/7mzk5kw57r7g8szv12sz9g7r0000gn/T/ipykernel_4747/1792313948.py:1: FutureWarning: Treating datetime data as categorical rather than numeric in `.describe` is deprecated and will be removed in a future version of pandas. Specify `datetime_is_numeric=True` to silence this warning and adopt the future behavior now.\n",
      "  data[\"formated_date\"].describe()\n"
     ]
    },
    {
     "data": {
      "text/plain": [
       "count                 1600000\n",
       "unique                 774363\n",
       "top       2009-06-15 12:53:14\n",
       "freq                       20\n",
       "first     2009-04-06 22:19:45\n",
       "last      2009-06-25 10:28:31\n",
       "Name: formated_date, dtype: object"
      ]
     },
     "execution_count": 25,
     "metadata": {},
     "output_type": "execute_result"
    }
   ],
   "source": [
    "data[\"formated_date\"].describe()"
   ]
  },
  {
   "cell_type": "code",
   "execution_count": 26,
   "metadata": {},
   "outputs": [
    {
     "data": {
      "text/plain": [
       "'Fri Apr 17 20:30:31 PDT 2009'"
      ]
     },
     "execution_count": 26,
     "metadata": {},
     "output_type": "execute_result"
    }
   ],
   "source": [
    "data[\"date\"].min()"
   ]
  },
  {
   "cell_type": "code",
   "execution_count": 27,
   "metadata": {},
   "outputs": [
    {
     "data": {
      "text/plain": [
       "'Wed May 27 07:27:38 PDT 2009'"
      ]
     },
     "execution_count": 27,
     "metadata": {},
     "output_type": "execute_result"
    }
   ],
   "source": [
    "data[\"date\"].max()"
   ]
  },
  {
   "cell_type": "code",
   "execution_count": 28,
   "metadata": {},
   "outputs": [
    {
     "data": {
      "text/plain": [
       "count                          1600000\n",
       "unique                          774363\n",
       "top       Mon Jun 15 12:53:14 PDT 2009\n",
       "freq                                20\n",
       "Name: date, dtype: object"
      ]
     },
     "execution_count": 28,
     "metadata": {},
     "output_type": "execute_result"
    }
   ],
   "source": [
    "data[\"date\"].describe()"
   ]
  },
  {
   "cell_type": "markdown",
   "metadata": {},
   "source": [
    "## Text Cleaning"
   ]
  },
  {
   "cell_type": "code",
   "execution_count": 29,
   "metadata": {},
   "outputs": [
    {
     "data": {
      "text/plain": [
       "'@cleders sorry...i was rooting for them too... '"
      ]
     },
     "execution_count": 29,
     "metadata": {},
     "output_type": "execute_result"
    }
   ],
   "source": [
    "data.text[501]"
   ]
  },
  {
   "cell_type": "code",
   "execution_count": 1,
   "metadata": {},
   "outputs": [],
   "source": [
    "import re"
   ]
  },
  {
   "cell_type": "code",
   "execution_count": 31,
   "metadata": {},
   "outputs": [
    {
     "data": {
      "text/plain": [
       "'cleders sorry i was rooting for them too  '"
      ]
     },
     "execution_count": 31,
     "metadata": {},
     "output_type": "execute_result"
    }
   ],
   "source": [
    "# remove punctuation, replace elipses with spaces \n",
    "test_text = re.sub(r'\\.{3,}', \" \", data.text[501])\n",
    "re.sub(r'[^A-Za-z0-9 ]+', \"\", test_text)"
   ]
  },
  {
   "cell_type": "code",
   "execution_count": 44,
   "metadata": {},
   "outputs": [
    {
     "name": "stdout",
     "output_type": "stream",
     "text": [
      "Requirement already satisfied: tweet-preprocessor in /Users/bradpayne/.pyenv/versions/3.9.7/lib/python3.9/site-packages (0.6.0)\n"
     ]
    }
   ],
   "source": [
    "!pip install tweet-preprocessor"
   ]
  },
  {
   "cell_type": "code",
   "execution_count": 45,
   "metadata": {},
   "outputs": [
    {
     "ename": "AttributeError",
     "evalue": "module 'preprocessor' has no attribute 'set_options'",
     "output_type": "error",
     "traceback": [
      "\u001b[0;31m---------------------------------------------------------------------------\u001b[0m",
      "\u001b[0;31mAttributeError\u001b[0m                            Traceback (most recent call last)",
      "\u001b[1;32m/Users/bradpayne/Desktop/CS6890/project/src/data_exploration.ipynb Cell 34'\u001b[0m in \u001b[0;36m<module>\u001b[0;34m\u001b[0m\n\u001b[1;32m      <a href='vscode-notebook-cell:/Users/bradpayne/Desktop/CS6890/project/src/data_exploration.ipynb#ch0000032?line=0'>1</a>\u001b[0m \u001b[39mimport\u001b[39;00m \u001b[39mnltk\u001b[39;00m\n\u001b[1;32m      <a href='vscode-notebook-cell:/Users/bradpayne/Desktop/CS6890/project/src/data_exploration.ipynb#ch0000032?line=1'>2</a>\u001b[0m \u001b[39mimport\u001b[39;00m \u001b[39mpreprocessor\u001b[39;00m \u001b[39mas\u001b[39;00m \u001b[39mp\u001b[39;00m\n\u001b[0;32m----> <a href='vscode-notebook-cell:/Users/bradpayne/Desktop/CS6890/project/src/data_exploration.ipynb#ch0000032?line=2'>3</a>\u001b[0m p\u001b[39m.\u001b[39;49mset_options(p\u001b[39m.\u001b[39mOPT\u001b[39m.\u001b[39mURL, p\u001b[39m.\u001b[39mOPT\u001b[39m.\u001b[39mMENTION, p\u001b[39m.\u001b[39mOPT\u001b[39m.\u001b[39mRESERVED, p\u001b[39m.\u001b[39mOPT\u001b[39m.\u001b[39mNUMBER)\n",
      "\u001b[0;31mAttributeError\u001b[0m: module 'preprocessor' has no attribute 'set_options'"
     ]
    }
   ],
   "source": [
    "import nltk\n",
    "import preprocessor as p\n",
    "p.set_options(p.OPT.URL, p.OPT.MENTION, p.OPT.RESERVED, p.OPT.NUMBER)"
   ]
  },
  {
   "cell_type": "code",
   "execution_count": 46,
   "metadata": {},
   "outputs": [
    {
     "name": "stderr",
     "output_type": "stream",
     "text": [
      "[nltk_data] Downloading package stopwords to\n",
      "[nltk_data]     /Users/bradpayne/nltk_data...\n",
      "[nltk_data]   Package stopwords is already up-to-date!\n"
     ]
    }
   ],
   "source": [
    "nltk.download(\"stopwords\")\n",
    "stopwords = nltk.corpus.stopwords.words(\"english\")"
   ]
  },
  {
   "cell_type": "code",
   "execution_count": 38,
   "metadata": {},
   "outputs": [],
   "source": [
    "stopwords = [re.sub(r'[^a-z]+', \"\", word) for word in stopwords]\n",
    "stopwords.append(\"\")"
   ]
  },
  {
   "cell_type": "markdown",
   "metadata": {},
   "source": [
    "```\n",
    "By default, p clean removes the following,\n",
    "Can be customized \n",
    "https://pypi.org/project/tweet-preprocessor/\n",
    "Option Name\tOption Short Code\n",
    "URL\tp.OPT.URL\n",
    "Mention\tp.OPT.MENTION\n",
    "Hashtag\tp.OPT.HASHTAG\n",
    "Reserved Words\tp.OPT.RESERVED\n",
    "Emoji\tp.OPT.EMOJI\n",
    "Smiley\tp.OPT.SMILEY\n",
    "Number\tp.OPT.NUMBER\n",
    "```"
   ]
  },
  {
   "cell_type": "code",
   "execution_count": 47,
   "metadata": {},
   "outputs": [
    {
     "ename": "AttributeError",
     "evalue": "module 'preprocessor' has no attribute 'clean'",
     "output_type": "error",
     "traceback": [
      "\u001b[0;31m---------------------------------------------------------------------------\u001b[0m",
      "\u001b[0;31mAttributeError\u001b[0m                            Traceback (most recent call last)",
      "\u001b[1;32m/Users/bradpayne/Desktop/CS6890/project/src/data_exploration.ipynb Cell 38'\u001b[0m in \u001b[0;36m<module>\u001b[0;34m\u001b[0m\n\u001b[1;32m      <a href='vscode-notebook-cell:/Users/bradpayne/Desktop/CS6890/project/src/data_exploration.ipynb#ch0000036?line=0'>1</a>\u001b[0m \u001b[39m# remove urls, \u001b[39;00m\n\u001b[0;32m----> <a href='vscode-notebook-cell:/Users/bradpayne/Desktop/CS6890/project/src/data_exploration.ipynb#ch0000036?line=1'>2</a>\u001b[0m test_text \u001b[39m=\u001b[39m p\u001b[39m.\u001b[39;49mclean(test_text)\u001b[39m.\u001b[39mlower()\n",
      "\u001b[0;31mAttributeError\u001b[0m: module 'preprocessor' has no attribute 'clean'"
     ]
    }
   ],
   "source": [
    "# remove urls, \n",
    "test_text = p.clean(test_text).lower()"
   ]
  },
  {
   "cell_type": "code",
   "execution_count": 48,
   "metadata": {},
   "outputs": [
    {
     "data": {
      "text/plain": [
       "'@cleders sorry i was rooting for them too  '"
      ]
     },
     "execution_count": 48,
     "metadata": {},
     "output_type": "execute_result"
    }
   ],
   "source": [
    "test_text"
   ]
  },
  {
   "cell_type": "code",
   "execution_count": 49,
   "metadata": {},
   "outputs": [
    {
     "data": {
      "text/plain": [
       "['@cleders', 'sorry', 'rooting', '', '']"
      ]
     },
     "execution_count": 49,
     "metadata": {},
     "output_type": "execute_result"
    }
   ],
   "source": [
    "[word for word in test_text.split(\" \") if word not in stopwords]"
   ]
  },
  {
   "cell_type": "code",
   "execution_count": 50,
   "metadata": {},
   "outputs": [
    {
     "data": {
      "text/plain": [
       "0"
      ]
     },
     "execution_count": 50,
     "metadata": {},
     "output_type": "execute_result"
    }
   ],
   "source": [
    "data.target[501]"
   ]
  },
  {
   "cell_type": "code",
   "execution_count": 51,
   "metadata": {},
   "outputs": [
    {
     "ename": "AttributeError",
     "evalue": "module 'preprocessor' has no attribute 'clean'",
     "output_type": "error",
     "traceback": [
      "\u001b[0;31m---------------------------------------------------------------------------\u001b[0m",
      "\u001b[0;31mAttributeError\u001b[0m                            Traceback (most recent call last)",
      "\u001b[1;32m/Users/bradpayne/Desktop/CS6890/project/src/data_exploration.ipynb Cell 42'\u001b[0m in \u001b[0;36m<module>\u001b[0;34m\u001b[0m\n\u001b[0;32m----> <a href='vscode-notebook-cell:/Users/bradpayne/Desktop/CS6890/project/src/data_exploration.ipynb#ch0000040?line=0'>1</a>\u001b[0m data[\u001b[39m\"\u001b[39m\u001b[39mclean_text\u001b[39m\u001b[39m\"\u001b[39m] \u001b[39m=\u001b[39m data\u001b[39m.\u001b[39;49mtext\u001b[39m.\u001b[39;49mapply(\u001b[39mlambda\u001b[39;49;00m text: p\u001b[39m.\u001b[39;49mclean(text)\u001b[39m.\u001b[39;49mlower())\n",
      "File \u001b[0;32m~/.pyenv/versions/3.9.7/lib/python3.9/site-packages/pandas/core/series.py:4433\u001b[0m, in \u001b[0;36mSeries.apply\u001b[0;34m(self, func, convert_dtype, args, **kwargs)\u001b[0m\n\u001b[1;32m   <a href='file:///Users/bradpayne/.pyenv/versions/3.9.7/lib/python3.9/site-packages/pandas/core/series.py?line=4322'>4323</a>\u001b[0m \u001b[39mdef\u001b[39;00m \u001b[39mapply\u001b[39m(\n\u001b[1;32m   <a href='file:///Users/bradpayne/.pyenv/versions/3.9.7/lib/python3.9/site-packages/pandas/core/series.py?line=4323'>4324</a>\u001b[0m     \u001b[39mself\u001b[39m,\n\u001b[1;32m   <a href='file:///Users/bradpayne/.pyenv/versions/3.9.7/lib/python3.9/site-packages/pandas/core/series.py?line=4324'>4325</a>\u001b[0m     func: AggFuncType,\n\u001b[0;32m   (...)\u001b[0m\n\u001b[1;32m   <a href='file:///Users/bradpayne/.pyenv/versions/3.9.7/lib/python3.9/site-packages/pandas/core/series.py?line=4327'>4328</a>\u001b[0m     \u001b[39m*\u001b[39m\u001b[39m*\u001b[39mkwargs,\n\u001b[1;32m   <a href='file:///Users/bradpayne/.pyenv/versions/3.9.7/lib/python3.9/site-packages/pandas/core/series.py?line=4328'>4329</a>\u001b[0m ) \u001b[39m-\u001b[39m\u001b[39m>\u001b[39m DataFrame \u001b[39m|\u001b[39m Series:\n\u001b[1;32m   <a href='file:///Users/bradpayne/.pyenv/versions/3.9.7/lib/python3.9/site-packages/pandas/core/series.py?line=4329'>4330</a>\u001b[0m     \u001b[39m\"\"\"\u001b[39;00m\n\u001b[1;32m   <a href='file:///Users/bradpayne/.pyenv/versions/3.9.7/lib/python3.9/site-packages/pandas/core/series.py?line=4330'>4331</a>\u001b[0m \u001b[39m    Invoke function on values of Series.\u001b[39;00m\n\u001b[1;32m   <a href='file:///Users/bradpayne/.pyenv/versions/3.9.7/lib/python3.9/site-packages/pandas/core/series.py?line=4331'>4332</a>\u001b[0m \n\u001b[0;32m   (...)\u001b[0m\n\u001b[1;32m   <a href='file:///Users/bradpayne/.pyenv/versions/3.9.7/lib/python3.9/site-packages/pandas/core/series.py?line=4430'>4431</a>\u001b[0m \u001b[39m    dtype: float64\u001b[39;00m\n\u001b[1;32m   <a href='file:///Users/bradpayne/.pyenv/versions/3.9.7/lib/python3.9/site-packages/pandas/core/series.py?line=4431'>4432</a>\u001b[0m \u001b[39m    \"\"\"\u001b[39;00m\n\u001b[0;32m-> <a href='file:///Users/bradpayne/.pyenv/versions/3.9.7/lib/python3.9/site-packages/pandas/core/series.py?line=4432'>4433</a>\u001b[0m     \u001b[39mreturn\u001b[39;00m SeriesApply(\u001b[39mself\u001b[39;49m, func, convert_dtype, args, kwargs)\u001b[39m.\u001b[39;49mapply()\n",
      "File \u001b[0;32m~/.pyenv/versions/3.9.7/lib/python3.9/site-packages/pandas/core/apply.py:1082\u001b[0m, in \u001b[0;36mSeriesApply.apply\u001b[0;34m(self)\u001b[0m\n\u001b[1;32m   <a href='file:///Users/bradpayne/.pyenv/versions/3.9.7/lib/python3.9/site-packages/pandas/core/apply.py?line=1077'>1078</a>\u001b[0m \u001b[39mif\u001b[39;00m \u001b[39misinstance\u001b[39m(\u001b[39mself\u001b[39m\u001b[39m.\u001b[39mf, \u001b[39mstr\u001b[39m):\n\u001b[1;32m   <a href='file:///Users/bradpayne/.pyenv/versions/3.9.7/lib/python3.9/site-packages/pandas/core/apply.py?line=1078'>1079</a>\u001b[0m     \u001b[39m# if we are a string, try to dispatch\u001b[39;00m\n\u001b[1;32m   <a href='file:///Users/bradpayne/.pyenv/versions/3.9.7/lib/python3.9/site-packages/pandas/core/apply.py?line=1079'>1080</a>\u001b[0m     \u001b[39mreturn\u001b[39;00m \u001b[39mself\u001b[39m\u001b[39m.\u001b[39mapply_str()\n\u001b[0;32m-> <a href='file:///Users/bradpayne/.pyenv/versions/3.9.7/lib/python3.9/site-packages/pandas/core/apply.py?line=1081'>1082</a>\u001b[0m \u001b[39mreturn\u001b[39;00m \u001b[39mself\u001b[39;49m\u001b[39m.\u001b[39;49mapply_standard()\n",
      "File \u001b[0;32m~/.pyenv/versions/3.9.7/lib/python3.9/site-packages/pandas/core/apply.py:1137\u001b[0m, in \u001b[0;36mSeriesApply.apply_standard\u001b[0;34m(self)\u001b[0m\n\u001b[1;32m   <a href='file:///Users/bradpayne/.pyenv/versions/3.9.7/lib/python3.9/site-packages/pandas/core/apply.py?line=1130'>1131</a>\u001b[0m         values \u001b[39m=\u001b[39m obj\u001b[39m.\u001b[39mastype(\u001b[39mobject\u001b[39m)\u001b[39m.\u001b[39m_values\n\u001b[1;32m   <a href='file:///Users/bradpayne/.pyenv/versions/3.9.7/lib/python3.9/site-packages/pandas/core/apply.py?line=1131'>1132</a>\u001b[0m         \u001b[39m# error: Argument 2 to \"map_infer\" has incompatible type\u001b[39;00m\n\u001b[1;32m   <a href='file:///Users/bradpayne/.pyenv/versions/3.9.7/lib/python3.9/site-packages/pandas/core/apply.py?line=1132'>1133</a>\u001b[0m         \u001b[39m# \"Union[Callable[..., Any], str, List[Union[Callable[..., Any], str]],\u001b[39;00m\n\u001b[1;32m   <a href='file:///Users/bradpayne/.pyenv/versions/3.9.7/lib/python3.9/site-packages/pandas/core/apply.py?line=1133'>1134</a>\u001b[0m         \u001b[39m# Dict[Hashable, Union[Union[Callable[..., Any], str],\u001b[39;00m\n\u001b[1;32m   <a href='file:///Users/bradpayne/.pyenv/versions/3.9.7/lib/python3.9/site-packages/pandas/core/apply.py?line=1134'>1135</a>\u001b[0m         \u001b[39m# List[Union[Callable[..., Any], str]]]]]\"; expected\u001b[39;00m\n\u001b[1;32m   <a href='file:///Users/bradpayne/.pyenv/versions/3.9.7/lib/python3.9/site-packages/pandas/core/apply.py?line=1135'>1136</a>\u001b[0m         \u001b[39m# \"Callable[[Any], Any]\"\u001b[39;00m\n\u001b[0;32m-> <a href='file:///Users/bradpayne/.pyenv/versions/3.9.7/lib/python3.9/site-packages/pandas/core/apply.py?line=1136'>1137</a>\u001b[0m         mapped \u001b[39m=\u001b[39m lib\u001b[39m.\u001b[39;49mmap_infer(\n\u001b[1;32m   <a href='file:///Users/bradpayne/.pyenv/versions/3.9.7/lib/python3.9/site-packages/pandas/core/apply.py?line=1137'>1138</a>\u001b[0m             values,\n\u001b[1;32m   <a href='file:///Users/bradpayne/.pyenv/versions/3.9.7/lib/python3.9/site-packages/pandas/core/apply.py?line=1138'>1139</a>\u001b[0m             f,  \u001b[39m# type: ignore[arg-type]\u001b[39;49;00m\n\u001b[1;32m   <a href='file:///Users/bradpayne/.pyenv/versions/3.9.7/lib/python3.9/site-packages/pandas/core/apply.py?line=1139'>1140</a>\u001b[0m             convert\u001b[39m=\u001b[39;49m\u001b[39mself\u001b[39;49m\u001b[39m.\u001b[39;49mconvert_dtype,\n\u001b[1;32m   <a href='file:///Users/bradpayne/.pyenv/versions/3.9.7/lib/python3.9/site-packages/pandas/core/apply.py?line=1140'>1141</a>\u001b[0m         )\n\u001b[1;32m   <a href='file:///Users/bradpayne/.pyenv/versions/3.9.7/lib/python3.9/site-packages/pandas/core/apply.py?line=1142'>1143</a>\u001b[0m \u001b[39mif\u001b[39;00m \u001b[39mlen\u001b[39m(mapped) \u001b[39mand\u001b[39;00m \u001b[39misinstance\u001b[39m(mapped[\u001b[39m0\u001b[39m], ABCSeries):\n\u001b[1;32m   <a href='file:///Users/bradpayne/.pyenv/versions/3.9.7/lib/python3.9/site-packages/pandas/core/apply.py?line=1143'>1144</a>\u001b[0m     \u001b[39m# GH#43986 Need to do list(mapped) in order to get treated as nested\u001b[39;00m\n\u001b[1;32m   <a href='file:///Users/bradpayne/.pyenv/versions/3.9.7/lib/python3.9/site-packages/pandas/core/apply.py?line=1144'>1145</a>\u001b[0m     \u001b[39m#  See also GH#25959 regarding EA support\u001b[39;00m\n\u001b[1;32m   <a href='file:///Users/bradpayne/.pyenv/versions/3.9.7/lib/python3.9/site-packages/pandas/core/apply.py?line=1145'>1146</a>\u001b[0m     \u001b[39mreturn\u001b[39;00m obj\u001b[39m.\u001b[39m_constructor_expanddim(\u001b[39mlist\u001b[39m(mapped), index\u001b[39m=\u001b[39mobj\u001b[39m.\u001b[39mindex)\n",
      "File \u001b[0;32m~/.pyenv/versions/3.9.7/lib/python3.9/site-packages/pandas/_libs/lib.pyx:2870\u001b[0m, in \u001b[0;36mpandas._libs.lib.map_infer\u001b[0;34m()\u001b[0m\n",
      "\u001b[1;32m/Users/bradpayne/Desktop/CS6890/project/src/data_exploration.ipynb Cell 42'\u001b[0m in \u001b[0;36m<lambda>\u001b[0;34m(text)\u001b[0m\n\u001b[0;32m----> <a href='vscode-notebook-cell:/Users/bradpayne/Desktop/CS6890/project/src/data_exploration.ipynb#ch0000040?line=0'>1</a>\u001b[0m data[\u001b[39m\"\u001b[39m\u001b[39mclean_text\u001b[39m\u001b[39m\"\u001b[39m] \u001b[39m=\u001b[39m data\u001b[39m.\u001b[39mtext\u001b[39m.\u001b[39mapply(\u001b[39mlambda\u001b[39;00m text: p\u001b[39m.\u001b[39;49mclean(text)\u001b[39m.\u001b[39mlower())\n",
      "\u001b[0;31mAttributeError\u001b[0m: module 'preprocessor' has no attribute 'clean'"
     ]
    }
   ],
   "source": [
    "data[\"clean_text\"] = data.text.apply(lambda text: p.clean(text).lower())"
   ]
  },
  {
   "cell_type": "code",
   "execution_count": 52,
   "metadata": {},
   "outputs": [
    {
     "data": {
      "text/plain": [
       "'isPlayer Has Died! Sorry '"
      ]
     },
     "execution_count": 52,
     "metadata": {},
     "output_type": "execute_result"
    }
   ],
   "source": [
    "data[\"text\"][99972]"
   ]
  },
  {
   "cell_type": "code",
   "execution_count": 53,
   "metadata": {},
   "outputs": [
    {
     "data": {
      "text/plain": [
       "count                       1600000\n",
       "unique                      1581466\n",
       "top       isPlayer Has Died! Sorry \n",
       "freq                            210\n",
       "Name: text, dtype: object"
      ]
     },
     "execution_count": 53,
     "metadata": {},
     "output_type": "execute_result"
    }
   ],
   "source": [
    "data[\"text\"].describe()"
   ]
  },
  {
   "cell_type": "code",
   "execution_count": 59,
   "metadata": {},
   "outputs": [],
   "source": [
    "\n",
    "def clean_text(text, stopwords=stopwords):\n",
    "    \"\"\" cleans text of urls, emojis, \n",
    "\n",
    "    Args:\n",
    "        text (str): tweet text\n",
    "        stopwords (list, optional): list of stopwords. Defaults to nltk.english.stopwords.\n",
    "\n",
    "    Returns:\n",
    "        list: list of words in tweet after preprocessing\n",
    "    \"\"\"\n",
    "    # text = p.clean(text).lower()\n",
    "    text = text.lower()\n",
    "    text = re.sub(r'\\.{3,}', \" \", text)\n",
    "    text = re.sub(r'&[A-Za-z]*;', \"\", text)\n",
    "    text = re.sub(r'[^A-Za-z0-9 ]+', \"\",text)\n",
    "    return \" \".join([word for word in text.split(\" \") if word not in stopwords])"
   ]
  },
  {
   "cell_type": "code",
   "execution_count": 60,
   "metadata": {},
   "outputs": [
    {
     "data": {
      "text/plain": [
       "\"The Muppet Whatnot Workshop site is temporarily down, apparently totally sold out Working hard to get it back ASAP  Hurry up, y'all. \""
      ]
     },
     "execution_count": 60,
     "metadata": {},
     "output_type": "execute_result"
    }
   ],
   "source": [
    "re.sub(r'&[A-Za-z]*;', \"\", data[\"text\"][3456])"
   ]
  },
  {
   "cell_type": "code",
   "execution_count": 61,
   "metadata": {},
   "outputs": [
    {
     "data": {
      "text/plain": [
       "'muppet whatnot workshop site temporarily apparently totally sold working hard get back asap  hurry yall '"
      ]
     },
     "execution_count": 61,
     "metadata": {},
     "output_type": "execute_result"
    }
   ],
   "source": [
    "clean_text(data[\"text\"][3456])"
   ]
  },
  {
   "cell_type": "code",
   "execution_count": 62,
   "metadata": {},
   "outputs": [],
   "source": [
    "data[\"clean_text\"] = data.text.apply(lambda text: clean_text(text))"
   ]
  },
  {
   "cell_type": "code",
   "execution_count": null,
   "metadata": {},
   "outputs": [
    {
     "data": {
      "text/html": [
       "<div>\n",
       "<style scoped>\n",
       "    .dataframe tbody tr th:only-of-type {\n",
       "        vertical-align: middle;\n",
       "    }\n",
       "\n",
       "    .dataframe tbody tr th {\n",
       "        vertical-align: top;\n",
       "    }\n",
       "\n",
       "    .dataframe thead th {\n",
       "        text-align: right;\n",
       "    }\n",
       "</style>\n",
       "<table border=\"1\" class=\"dataframe\">\n",
       "  <thead>\n",
       "    <tr style=\"text-align: right;\">\n",
       "      <th></th>\n",
       "      <th>target</th>\n",
       "      <th>id</th>\n",
       "      <th>date</th>\n",
       "      <th>flag</th>\n",
       "      <th>user</th>\n",
       "      <th>text</th>\n",
       "      <th>formated_date</th>\n",
       "      <th>clean_text</th>\n",
       "    </tr>\n",
       "  </thead>\n",
       "  <tbody>\n",
       "    <tr>\n",
       "      <th>0</th>\n",
       "      <td>0</td>\n",
       "      <td>1467810369</td>\n",
       "      <td>Mon Apr 06 22:19:45 PDT 2009</td>\n",
       "      <td>NO_QUERY</td>\n",
       "      <td>_TheSpecialOne_</td>\n",
       "      <td>@switchfoot http://twitpic.com/2y1zl - Awww, t...</td>\n",
       "      <td>2009-04-06 22:19:45</td>\n",
       "      <td>awww thats bummer shoulda got david carr third...</td>\n",
       "    </tr>\n",
       "    <tr>\n",
       "      <th>1</th>\n",
       "      <td>0</td>\n",
       "      <td>1467810672</td>\n",
       "      <td>Mon Apr 06 22:19:49 PDT 2009</td>\n",
       "      <td>NO_QUERY</td>\n",
       "      <td>scotthamilton</td>\n",
       "      <td>is upset that he can't update his Facebook by ...</td>\n",
       "      <td>2009-04-06 22:19:49</td>\n",
       "      <td>upset cant update facebook texting might cry r...</td>\n",
       "    </tr>\n",
       "    <tr>\n",
       "      <th>2</th>\n",
       "      <td>0</td>\n",
       "      <td>1467810917</td>\n",
       "      <td>Mon Apr 06 22:19:53 PDT 2009</td>\n",
       "      <td>NO_QUERY</td>\n",
       "      <td>mattycus</td>\n",
       "      <td>@Kenichan I dived many times for the ball. Man...</td>\n",
       "      <td>2009-04-06 22:19:53</td>\n",
       "      <td>dived many times ball managed save rest go bounds</td>\n",
       "    </tr>\n",
       "    <tr>\n",
       "      <th>3</th>\n",
       "      <td>0</td>\n",
       "      <td>1467811184</td>\n",
       "      <td>Mon Apr 06 22:19:57 PDT 2009</td>\n",
       "      <td>NO_QUERY</td>\n",
       "      <td>ElleCTF</td>\n",
       "      <td>my whole body feels itchy and like its on fire</td>\n",
       "      <td>2009-04-06 22:19:57</td>\n",
       "      <td>whole body feels itchy like fire</td>\n",
       "    </tr>\n",
       "    <tr>\n",
       "      <th>4</th>\n",
       "      <td>0</td>\n",
       "      <td>1467811193</td>\n",
       "      <td>Mon Apr 06 22:19:57 PDT 2009</td>\n",
       "      <td>NO_QUERY</td>\n",
       "      <td>Karoli</td>\n",
       "      <td>@nationwideclass no, it's not behaving at all....</td>\n",
       "      <td>2009-04-06 22:19:57</td>\n",
       "      <td>behaving im mad cant see</td>\n",
       "    </tr>\n",
       "    <tr>\n",
       "      <th>5</th>\n",
       "      <td>0</td>\n",
       "      <td>1467811372</td>\n",
       "      <td>Mon Apr 06 22:20:00 PDT 2009</td>\n",
       "      <td>NO_QUERY</td>\n",
       "      <td>joy_wolf</td>\n",
       "      <td>@Kwesidei not the whole crew</td>\n",
       "      <td>2009-04-06 22:20:00</td>\n",
       "      <td>whole crew</td>\n",
       "    </tr>\n",
       "    <tr>\n",
       "      <th>6</th>\n",
       "      <td>0</td>\n",
       "      <td>1467811592</td>\n",
       "      <td>Mon Apr 06 22:20:03 PDT 2009</td>\n",
       "      <td>NO_QUERY</td>\n",
       "      <td>mybirch</td>\n",
       "      <td>Need a hug</td>\n",
       "      <td>2009-04-06 22:20:03</td>\n",
       "      <td>need hug</td>\n",
       "    </tr>\n",
       "    <tr>\n",
       "      <th>7</th>\n",
       "      <td>0</td>\n",
       "      <td>1467811594</td>\n",
       "      <td>Mon Apr 06 22:20:03 PDT 2009</td>\n",
       "      <td>NO_QUERY</td>\n",
       "      <td>coZZ</td>\n",
       "      <td>@LOLTrish hey  long time no see! Yes.. Rains a...</td>\n",
       "      <td>2009-04-06 22:20:03</td>\n",
       "      <td>hey long time see yes rains bit bit lol im fin...</td>\n",
       "    </tr>\n",
       "    <tr>\n",
       "      <th>8</th>\n",
       "      <td>0</td>\n",
       "      <td>1467811795</td>\n",
       "      <td>Mon Apr 06 22:20:05 PDT 2009</td>\n",
       "      <td>NO_QUERY</td>\n",
       "      <td>2Hood4Hollywood</td>\n",
       "      <td>@Tatiana_K nope they didn't have it</td>\n",
       "      <td>2009-04-06 22:20:05</td>\n",
       "      <td>nope</td>\n",
       "    </tr>\n",
       "    <tr>\n",
       "      <th>9</th>\n",
       "      <td>0</td>\n",
       "      <td>1467812025</td>\n",
       "      <td>Mon Apr 06 22:20:09 PDT 2009</td>\n",
       "      <td>NO_QUERY</td>\n",
       "      <td>mimismo</td>\n",
       "      <td>@twittera que me muera ?</td>\n",
       "      <td>2009-04-06 22:20:09</td>\n",
       "      <td>que muera</td>\n",
       "    </tr>\n",
       "  </tbody>\n",
       "</table>\n",
       "</div>"
      ],
      "text/plain": [
       "   target          id                          date      flag  \\\n",
       "0       0  1467810369  Mon Apr 06 22:19:45 PDT 2009  NO_QUERY   \n",
       "1       0  1467810672  Mon Apr 06 22:19:49 PDT 2009  NO_QUERY   \n",
       "2       0  1467810917  Mon Apr 06 22:19:53 PDT 2009  NO_QUERY   \n",
       "3       0  1467811184  Mon Apr 06 22:19:57 PDT 2009  NO_QUERY   \n",
       "4       0  1467811193  Mon Apr 06 22:19:57 PDT 2009  NO_QUERY   \n",
       "5       0  1467811372  Mon Apr 06 22:20:00 PDT 2009  NO_QUERY   \n",
       "6       0  1467811592  Mon Apr 06 22:20:03 PDT 2009  NO_QUERY   \n",
       "7       0  1467811594  Mon Apr 06 22:20:03 PDT 2009  NO_QUERY   \n",
       "8       0  1467811795  Mon Apr 06 22:20:05 PDT 2009  NO_QUERY   \n",
       "9       0  1467812025  Mon Apr 06 22:20:09 PDT 2009  NO_QUERY   \n",
       "\n",
       "              user                                               text  \\\n",
       "0  _TheSpecialOne_  @switchfoot http://twitpic.com/2y1zl - Awww, t...   \n",
       "1    scotthamilton  is upset that he can't update his Facebook by ...   \n",
       "2         mattycus  @Kenichan I dived many times for the ball. Man...   \n",
       "3          ElleCTF    my whole body feels itchy and like its on fire    \n",
       "4           Karoli  @nationwideclass no, it's not behaving at all....   \n",
       "5         joy_wolf                      @Kwesidei not the whole crew    \n",
       "6          mybirch                                        Need a hug    \n",
       "7             coZZ  @LOLTrish hey  long time no see! Yes.. Rains a...   \n",
       "8  2Hood4Hollywood               @Tatiana_K nope they didn't have it    \n",
       "9          mimismo                          @twittera que me muera ?    \n",
       "\n",
       "        formated_date                                         clean_text  \n",
       "0 2009-04-06 22:19:45  awww thats bummer shoulda got david carr third...  \n",
       "1 2009-04-06 22:19:49  upset cant update facebook texting might cry r...  \n",
       "2 2009-04-06 22:19:53  dived many times ball managed save rest go bounds  \n",
       "3 2009-04-06 22:19:57                   whole body feels itchy like fire  \n",
       "4 2009-04-06 22:19:57                           behaving im mad cant see  \n",
       "5 2009-04-06 22:20:00                                         whole crew  \n",
       "6 2009-04-06 22:20:03                                           need hug  \n",
       "7 2009-04-06 22:20:03  hey long time see yes rains bit bit lol im fin...  \n",
       "8 2009-04-06 22:20:05                                               nope  \n",
       "9 2009-04-06 22:20:09                                          que muera  "
      ]
     },
     "execution_count": 146,
     "metadata": {},
     "output_type": "execute_result"
    }
   ],
   "source": [
    "data.head(10)"
   ]
  },
  {
   "cell_type": "markdown",
   "metadata": {},
   "source": [
    "## Vectorization"
   ]
  },
  {
   "cell_type": "code",
   "execution_count": 63,
   "metadata": {},
   "outputs": [],
   "source": [
    "from sklearn.feature_extraction.text import CountVectorizer"
   ]
  },
  {
   "cell_type": "code",
   "execution_count": 64,
   "metadata": {},
   "outputs": [],
   "source": [
    "def getBOWRepresentation(tweets):    \n",
    "    vectorizer = CountVectorizer(stop_words=None)\n",
    "    vectorizer.fit(tweets)\n",
    "    bow_representation = vectorizer.transform(tweets)\n",
    "    return bow_representation, vectorizer"
   ]
  },
  {
   "cell_type": "code",
   "execution_count": 104,
   "metadata": {},
   "outputs": [],
   "source": [
    "BOW, vectorizer = getBOWRepresentation(data[\"clean_text\"].to_numpy())"
   ]
  },
  {
   "cell_type": "code",
   "execution_count": 66,
   "metadata": {},
   "outputs": [
    {
     "data": {
      "text/plain": [
       "{'switchfoot': 660316,\n",
       " 'httptwitpiccom2y1zl': 313191,\n",
       " 'awww': 59747,\n",
       " 'thats': 673019,\n",
       " 'bummer': 99562,\n",
       " 'shoulda': 619703,\n",
       " 'got': 243603,\n",
       " 'david': 155754,\n",
       " 'carr': 109183,\n",
       " 'third': 680403,\n",
       " 'day': 156852,\n",
       " 'upset': 711777,\n",
       " 'cant': 106457,\n",
       " 'update': 711265,\n",
       " 'facebook': 206324,\n",
       " 'texting': 671422,\n",
       " 'might': 469134,\n",
       " 'cry': 144799,\n",
       " 'result': 579539,\n",
       " 'school': 604159,\n",
       " 'today': 688069,\n",
       " 'also': 34647,\n",
       " 'blah': 81829,\n",
       " 'kenichan': 397115,\n",
       " 'dived': 170945,\n",
       " 'many': 449375,\n",
       " 'times': 684695,\n",
       " 'ball': 64353,\n",
       " 'managed': 447799,\n",
       " 'save': 602012,\n",
       " '50': 11184,\n",
       " 'rest': 579325,\n",
       " 'go': 240295,\n",
       " 'bounds': 89528,\n",
       " 'whole': 733607,\n",
       " 'body': 86035,\n",
       " 'feels': 211366,\n",
       " 'itchy': 355429,\n",
       " 'like': 425301,\n",
       " 'fire': 215031,\n",
       " 'nationwideclass': 499927,\n",
       " 'behaving': 72048,\n",
       " 'im': 346122,\n",
       " 'mad': 443456,\n",
       " 'see': 607977,\n",
       " 'kwesidei': 410577,\n",
       " 'crew': 143215,\n",
       " 'need': 501610,\n",
       " 'hug': 337378,\n",
       " 'loltrish': 433253,\n",
       " 'hey': 263793,\n",
       " 'long': 433663,\n",
       " 'time': 684423,\n",
       " 'yes': 753731,\n",
       " 'rains': 568287,\n",
       " 'bit': 80217,\n",
       " 'lol': 432622,\n",
       " 'fine': 214500,\n",
       " 'thanks': 672332,\n",
       " 'hows': 272888,\n",
       " 'tatianak': 665686,\n",
       " 'nope': 513086,\n",
       " 'didnt': 167255,\n",
       " 'twittera': 703506,\n",
       " 'que': 564223,\n",
       " 'muera': 490927,\n",
       " 'spring': 640955,\n",
       " 'break': 92019,\n",
       " 'plain': 548202,\n",
       " 'city': 126894,\n",
       " 'snowing': 632252,\n",
       " 'repierced': 578314,\n",
       " 'ears': 185220,\n",
       " 'caregiving': 107688,\n",
       " 'couldnt': 139713,\n",
       " 'bear': 69314,\n",
       " 'watch': 726091,\n",
       " 'thought': 681641,\n",
       " 'ua': 706173,\n",
       " 'loss': 435323,\n",
       " 'embarrassing': 192829,\n",
       " 'octolinz16': 518793,\n",
       " 'counts': 139984,\n",
       " 'idk': 343047,\n",
       " 'either': 189424,\n",
       " 'never': 504000,\n",
       " 'talk': 663155,\n",
       " 'anymore': 46466,\n",
       " 'smarrison': 629749,\n",
       " 'wouldve': 741501,\n",
       " 'first': 215359,\n",
       " 'gun': 249701,\n",
       " 'really': 572675,\n",
       " 'though': 681532,\n",
       " 'zac': 758674,\n",
       " 'snyders': 632466,\n",
       " 'doucheclown': 177405,\n",
       " 'iamjazzyfizzle': 340659,\n",
       " 'wish': 737107,\n",
       " 'miss': 473830,\n",
       " 'iamlilnicki': 340785,\n",
       " 'premiere': 555777,\n",
       " 'hollis': 268620,\n",
       " 'death': 159276,\n",
       " 'scene': 603579,\n",
       " 'hurt': 338817,\n",
       " 'severely': 611236,\n",
       " 'film': 213964,\n",
       " 'wry': 742650,\n",
       " 'directors': 169195,\n",
       " 'cut': 147158,\n",
       " 'file': 213807,\n",
       " 'taxes': 666084,\n",
       " 'lettya': 422761,\n",
       " 'ahh': 25983,\n",
       " 'ive': 357343,\n",
       " 'always': 35065,\n",
       " 'wanted': 725156,\n",
       " 'rent': 578061,\n",
       " 'love': 436251,\n",
       " 'soundtrack': 637146,\n",
       " 'fakerpattypattz': 207519,\n",
       " 'oh': 520150,\n",
       " 'dear': 159147,\n",
       " 'drinking': 180101,\n",
       " 'forgotten': 220947,\n",
       " 'table': 661948,\n",
       " 'drinks': 180142,\n",
       " 'alydesigns': 35266,\n",
       " 'get': 235093,\n",
       " 'much': 490605,\n",
       " 'done': 175464,\n",
       " 'one': 523875,\n",
       " 'friend': 224745,\n",
       " 'called': 104366,\n",
       " 'asked': 53844,\n",
       " 'meet': 460865,\n",
       " 'mid': 468645,\n",
       " 'valley': 714636,\n",
       " 'sigh': 621950,\n",
       " 'angrybarista': 42800,\n",
       " 'baked': 64023,\n",
       " 'cake': 103687,\n",
       " 'ated': 55298,\n",
       " 'week': 728746,\n",
       " 'going': 241116,\n",
       " 'hoped': 270797,\n",
       " 'blagh': 81818,\n",
       " 'class': 128146,\n",
       " 'tomorrow': 689937,\n",
       " 'hate': 257118,\n",
       " 'call': 104311,\n",
       " 'wake': 724184,\n",
       " 'people': 539947,\n",
       " 'sleep': 627882,\n",
       " 'watching': 726154,\n",
       " 'marley': 452558,\n",
       " 'sad': 594921,\n",
       " 'misslilly': 475009,\n",
       " 'ooooh': 525481,\n",
       " 'leslie': 422197,\n",
       " 'ok': 521489,\n",
       " 'wont': 739197,\n",
       " 'meh': 461985,\n",
       " 'almost': 33895,\n",
       " 'lover': 437060,\n",
       " 'exception': 203669,\n",
       " 'track': 693867,\n",
       " 'gets': 235315,\n",
       " 'depressed': 163547,\n",
       " 'every': 202168,\n",
       " 'some1': 634106,\n",
       " 'hacked': 251675,\n",
       " 'account': 19599,\n",
       " 'aim': 26911,\n",
       " 'make': 446333,\n",
       " 'new': 504163,\n",
       " 'alielayus': 31667,\n",
       " 'want': 725135,\n",
       " 'promote': 559174,\n",
       " 'gear': 232637,\n",
       " 'groove': 247765,\n",
       " 'unfornately': 709510,\n",
       " 'ride': 582578,\n",
       " 'may': 457084,\n",
       " 'anaheim': 39383,\n",
       " 'sleeping': 628019,\n",
       " 'option': 526536,\n",
       " 'realizing': 572560,\n",
       " 'evaluations': 201409,\n",
       " 'morning': 483963,\n",
       " 'work': 740266,\n",
       " 'afternoon': 24276,\n",
       " 'julieebaby': 385066,\n",
       " 'awe': 58910,\n",
       " 'humpninja': 338132,\n",
       " 'asian': 53631,\n",
       " 'eyes': 205481,\n",
       " 'night': 507756,\n",
       " 'sick': 621260,\n",
       " 'spent': 639333,\n",
       " 'hour': 272188,\n",
       " 'sitting': 625315,\n",
       " 'shower': 619942,\n",
       " 'cause': 111637,\n",
       " 'stand': 643493,\n",
       " 'held': 261199,\n",
       " 'back': 62429,\n",
       " 'puke': 561311,\n",
       " 'champ': 115351,\n",
       " 'bed': 70816,\n",
       " 'cocomix04': 131393,\n",
       " 'ill': 345183,\n",
       " 'tell': 669349,\n",
       " 'ya': 750642,\n",
       " 'story': 649310,\n",
       " 'later': 415871,\n",
       " 'good': 241906,\n",
       " 'workin': 740470,\n",
       " 'three': 681882,\n",
       " 'hours': 272234,\n",
       " 'missxu': 475968,\n",
       " 'sorry': 636378,\n",
       " 'came': 104978,\n",
       " 'gmt1': 240039,\n",
       " 'httpisgdfnge': 291704,\n",
       " 'fleurylis': 217029,\n",
       " 'dont': 176006,\n",
       " 'depressing': 163573,\n",
       " 'think': 680137,\n",
       " 'even': 201756,\n",
       " 'know': 405522,\n",
       " 'kids': 400240,\n",
       " 'suitcases': 653621,\n",
       " '812': 14321,\n",
       " '123': 2198,\n",
       " 'gym': 250838,\n",
       " '35': 8612,\n",
       " '610': 12481,\n",
       " 'another': 45031,\n",
       " 'gonna': 241786,\n",
       " 'fly': 218351,\n",
       " 'girlfriend': 237772,\n",
       " 'feel': 211239,\n",
       " 'getting': 235373,\n",
       " 'study': 651135,\n",
       " 'tomorrows': 690056,\n",
       " 'practical': 554738,\n",
       " 'exam': 203389,\n",
       " 'hes': 263549,\n",
       " 'reason': 573071,\n",
       " 'teardrops': 667721,\n",
       " 'guitar': 249396,\n",
       " 'enough': 196337,\n",
       " 'heart': 259372,\n",
       " 'feeling': 211277,\n",
       " 'wanna': 725034,\n",
       " 'still': 648010,\n",
       " 'jonathanrknight': 379618,\n",
       " 'soo': 635274,\n",
       " 'finally': 214281,\n",
       " 'comfortable': 133840,\n",
       " 'missed': 474365,\n",
       " 'falling': 207728,\n",
       " 'asleep': 53979,\n",
       " 'heard': 259310,\n",
       " 'tracy': 693973,\n",
       " 'girls': 237979,\n",
       " 'found': 221607,\n",
       " 'breaks': 92218,\n",
       " 'family': 207944,\n",
       " 'viennah': 718976,\n",
       " 'yay': 751954,\n",
       " 'happy': 255469,\n",
       " 'job': 376257,\n",
       " 'means': 459813,\n",
       " 'less': 422335,\n",
       " 'checked': 117839,\n",
       " 'user': 712843,\n",
       " 'timeline': 684625,\n",
       " 'blackberry': 81302,\n",
       " 'looks': 434142,\n",
       " 'twanking': 700641,\n",
       " 'happening': 255324,\n",
       " 'ppl': 554493,\n",
       " 'probs': 558260,\n",
       " 'bgs': 76928,\n",
       " 'uids': 707392,\n",
       " 'man': 447771,\n",
       " 'ironing': 353794,\n",
       " 'jeancjumbes': 366681,\n",
       " 'fave': 210034,\n",
       " 'top': 691802,\n",
       " 'wear': 727554,\n",
       " 'meeting': 460895,\n",
       " 'burnt': 100352,\n",
       " 'strangely': 649668,\n",
       " 'lilo': 426199,\n",
       " 'samro': 597914,\n",
       " 'breaking': 92161,\n",
       " 'tea': 667225,\n",
       " 'retweeting': 579977,\n",
       " 'broadband': 95257,\n",
       " 'plan': 548246,\n",
       " 'massive': 454452,\n",
       " 'broken': 95574,\n",
       " 'promise': 559082,\n",
       " 'httptinyurlcomdcuc33': 305919,\n",
       " 'via': 717885,\n",
       " 'wwwdiigocomtautao': 744135,\n",
       " 'waiting': 724019,\n",
       " 'localtweeps': 432039,\n",
       " 'wow': 741559,\n",
       " 'tons': 690894,\n",
       " 'replies': 578402,\n",
       " 'unfollow': 709460,\n",
       " 'friends': 224871,\n",
       " 'tweets': 701632,\n",
       " 'youre': 756510,\n",
       " 'scrolling': 606140,\n",
       " 'feed': 211080,\n",
       " 'lot': 435526,\n",
       " 'duck': 182146,\n",
       " 'chicken': 120334,\n",
       " 'taking': 662853,\n",
       " 'wayyy': 727040,\n",
       " 'hatch': 257091,\n",
       " 'put': 562598,\n",
       " 'vacation': 714024,\n",
       " 'photos': 544181,\n",
       " 'online': 524588,\n",
       " 'yrs': 757307,\n",
       " 'ago': 25326,\n",
       " 'pc': 537783,\n",
       " 'crashed': 141982,\n",
       " 'forget': 220867,\n",
       " 'name': 497596,\n",
       " 'site': 625169,\n",
       " 'andywana': 41549,\n",
       " 'sure': 656968,\n",
       " 'pos': 553154,\n",
       " 'trade': 694092,\n",
       " 'away': 58818,\n",
       " 'company': 134447,\n",
       " 'assets': 54408,\n",
       " 'andy': 41113,\n",
       " 'oanhlove': 517796,\n",
       " 'happens': 255342,\n",
       " 'dallas': 150293,\n",
       " 'show': 619849,\n",
       " 'gotta': 243798,\n",
       " 'say': 602369,\n",
       " 'youd': 755874,\n",
       " 'shows': 620140,\n",
       " 'would': 741462,\n",
       " 'use': 712769,\n",
       " 'music': 492339,\n",
       " 'game': 230282,\n",
       " 'mmm': 478358,\n",
       " 'ugh': 706863,\n",
       " '92': 15234,\n",
       " 'degrees': 161346,\n",
       " 'move': 485554,\n",
       " 'already': 34421,\n",
       " 'sd': 606426,\n",
       " 'hmmm': 267424,\n",
       " 'random': 569243,\n",
       " 'glad': 238652,\n",
       " 'hear': 259303,\n",
       " 'yer': 753676,\n",
       " 'well': 729770,\n",
       " 'batmanyng': 67238,\n",
       " 'ps3': 560087,\n",
       " 'commission': 134203,\n",
       " 'wutcha': 743382,\n",
       " 'playing': 548875,\n",
       " 'copped': 138101,\n",
       " 'blood': 83892,\n",
       " 'sand': 598264,\n",
       " 'leaving': 419639,\n",
       " 'parking': 534486,\n",
       " 'life': 424499,\n",
       " 'cool': 137470,\n",
       " 'sadly': 595192,\n",
       " 'gotten': 243837,\n",
       " 'experience': 204626,\n",
       " 'post': 553424,\n",
       " 'coitus': 132185,\n",
       " 'cigarette': 125940,\n",
       " 'nice': 505760,\n",
       " 'bad': 62966,\n",
       " 'rain': 567929,\n",
       " 'comes': 133778,\n",
       " '5am': 12003,\n",
       " 'starrbby': 644072,\n",
       " 'around': 50640,\n",
       " 'lost': 435347,\n",
       " 'pay': 537469,\n",
       " 'phone': 543738,\n",
       " 'bill': 78813,\n",
       " 'lmao': 431411,\n",
       " 'aw': 58565,\n",
       " 'shucks': 620532,\n",
       " 'damm': 150611,\n",
       " 'mo': 478904,\n",
       " 'jobs': 376400,\n",
       " 'money': 481398,\n",
       " 'hell': 261450,\n",
       " 'min': 471767,\n",
       " 'wage': 723641,\n",
       " 'fn': 218768,\n",
       " 'clams': 127727,\n",
       " 'katortiz': 393100,\n",
       " 'forever': 220713,\n",
       " 'soon': 635346,\n",
       " 'ltalgonquin': 438262,\n",
       " 'agreed': 25488,\n",
       " 'saw': 602241,\n",
       " 'failwhale': 207094,\n",
       " 'allllll': 33219,\n",
       " 'jdarter': 366239,\n",
       " 'haha': 252034,\n",
       " 'dude': 182273,\n",
       " 'look': 434018,\n",
       " 'em': 192543,\n",
       " 'unless': 710212,\n",
       " 'someone': 634243,\n",
       " 'says': 602561,\n",
       " 'added': 21614,\n",
       " 'terrible': 670588,\n",
       " 'pop': 552330,\n",
       " 'ninjen': 509638,\n",
       " 'right': 582850,\n",
       " 'start': 644251,\n",
       " 'working': 740474,\n",
       " 'nikster': 509057,\n",
       " 'jared': 362862,\n",
       " 'least': 419527,\n",
       " 'diss': 170390,\n",
       " 'bands': 65083,\n",
       " 'trace': 693719,\n",
       " 'clearly': 128778,\n",
       " 'ugly': 707041,\n",
       " 'attire': 56214,\n",
       " 'puma': 561472,\n",
       " 'singlet': 624174,\n",
       " 'adidas': 22107,\n",
       " 'shorts': 619501,\n",
       " 'black': 81251,\n",
       " 'business': 100648,\n",
       " 'socks': 633043,\n",
       " 'leather': 419550,\n",
       " 'shoes': 618739,\n",
       " 'lucky': 438809,\n",
       " 'run': 592104,\n",
       " 'cute': 147180,\n",
       " 'location': 432053,\n",
       " 'httptwitpiccom2y2es': 313194,\n",
       " 'picnic': 545042,\n",
       " 'smells': 630110,\n",
       " 'citrus': 126877,\n",
       " 'ashleyac': 52785,\n",
       " 'donkey': 175660,\n",
       " 'sensitive': 609786,\n",
       " 'comments': 134125,\n",
       " 'nevertheless': 504096,\n",
       " 'hed': 260340,\n",
       " 'med': 460142,\n",
       " 'mug': 491026,\n",
       " 'asap': 51959,\n",
       " 'charger': 116282,\n",
       " 'awol': 59498,\n",
       " 'csi': 145298,\n",
       " 'tonight': 690555,\n",
       " 'fml': 218694,\n",
       " 'arms': 50387,\n",
       " 'sore': 636220,\n",
       " 'tennis': 669893,\n",
       " 'wonders': 739070,\n",
       " 'unhappy': 709687,\n",
       " 'split': 640143,\n",
       " 'seccond': 607622,\n",
       " 'saying': 602467,\n",
       " 'bye': 102059,\n",
       " 'statravelau': 644661,\n",
       " 'ur': 712035,\n",
       " 'newsletter': 504612,\n",
       " 'fares': 208845,\n",
       " 'unbelievable': 708441,\n",
       " 'shame': 613077,\n",
       " 'booked': 87465,\n",
       " 'paid': 531724,\n",
       " 'mine': 472093,\n",
       " 'missin': 474641,\n",
       " 'boo': 87188,\n",
       " 'markhardy1974': 451988,\n",
       " 'itm': 355738,\n",
       " 'damn': 150670,\n",
       " 'chalk': 115198,\n",
       " 'chalkboard': 115201,\n",
       " 'useless': 712819,\n",
       " 'blast': 82303,\n",
       " 'getty': 235438,\n",
       " 'villa': 719297,\n",
       " 'hates': 257199,\n",
       " 'shes': 616871,\n",
       " 'throat': 682092,\n",
       " 'worse': 741240,\n",
       " 'msdrama': 488951,\n",
       " 'sup': 655567,\n",
       " 'mama': 447379,\n",
       " 'tummy': 699618,\n",
       " 'hurts': 338871,\n",
       " 'wonder': 738941,\n",
       " 'hypnosis': 339861,\n",
       " 'anything': 46599,\n",
       " 'stop': 648975,\n",
       " 'smoking': 630789,\n",
       " 'fat': 209561,\n",
       " 'ones': 524283,\n",
       " 'januarycrimson': 362647,\n",
       " 'babe': 61507,\n",
       " 'fam': 207858,\n",
       " 'annoys': 44814,\n",
       " 'thankfully': 672274,\n",
       " 'theyre': 679610,\n",
       " 'muahaha': 490510,\n",
       " 'evil': 202668,\n",
       " 'laugh': 416278,\n",
       " 'hollywoodheat': 268957,\n",
       " 'attention': 56149,\n",
       " 'covered': 140594,\n",
       " 'photoshop': 544215,\n",
       " 'webpage': 728132,\n",
       " 'design': 164252,\n",
       " 'undergrad': 708972,\n",
       " 'wednesday': 728425,\n",
       " 'bday': 68648,\n",
       " 'poor': 552244,\n",
       " 'cameron': 105084,\n",
       " 'hills': 265920,\n",
       " 'pray': 555081,\n",
       " 'please': 549126,\n",
       " 'ex': 203303,\n",
       " 'threatening': 681872,\n",
       " 'sh': 612173,\n",
       " 'myour': 494766,\n",
       " 'babies': 61619,\n",
       " '1st': 4707,\n",
       " 'birthday': 79935,\n",
       " 'party': 534966,\n",
       " 'jerk': 370294,\n",
       " 'headache': 258746,\n",
       " 'makeherfamous': 446367,\n",
       " 'hmm': 267388,\n",
       " 'enjoy': 196133,\n",
       " 'problems': 558206,\n",
       " 'constants': 136532,\n",
       " 'things': 680009,\n",
       " 'find': 214418,\n",
       " 'ulike': 707730,\n",
       " 'strider': 650334,\n",
       " 'little': 429176,\n",
       " 'puppy': 561909,\n",
       " 'httpappsfacebookcomdogbookprofileview5248435': 273882,\n",
       " 'ryleegrace': 593875,\n",
       " 'wana': 724859,\n",
       " 'steves': 647372,\n",
       " 'since': 623804,\n",
       " 'easter': 185492,\n",
       " 'wnt': 738257,\n",
       " 'able': 18425,\n",
       " 'ohh': 520414,\n",
       " 'actually': 20785,\n",
       " 'bracket': 90501,\n",
       " 'pools': 552079,\n",
       " 'wasnt': 725904,\n",
       " 'stark': 643929,\n",
       " 'follow': 219250,\n",
       " 'nite': 510023,\n",
       " 'favorite': 210102,\n",
       " 'teams': 667619,\n",
       " 'astros': 54962,\n",
       " 'spartans': 638506,\n",
       " 'lose': 435223,\n",
       " 'tw': 700554,\n",
       " 'missing': 474648,\n",
       " 'northern': 513517,\n",
       " 'calif': 104143,\n",
       " 'girl': 237684,\n",
       " 'police': 551208,\n",
       " 'remains': 577177,\n",
       " 'california': 104154,\n",
       " 'httptrimimji': 310593,\n",
       " 'mangaaa': 448521,\n",
       " 'hope': 270777,\n",
       " 'increase': 348345,\n",
       " 'capacity': 106695,\n",
       " 'fast': 209423,\n",
       " 'yesterday': 754018,\n",
       " 'pain': 531864,\n",
       " 'fail': 206982,\n",
       " 'whale': 731526,\n",
       " '15': 3073,\n",
       " 'behind': 72084,\n",
       " 'classes': 128165,\n",
       " 'house': 272317,\n",
       " 'kpreyes': 407208,\n",
       " 'remember': 577282,\n",
       " 'bum': 99447,\n",
       " 'leg': 420544,\n",
       " 'strikes': 650377,\n",
       " 'serious': 610484,\n",
       " 'paradisej': 533907,\n",
       " 'kinds': 402049,\n",
       " 'complaints': 134659,\n",
       " 'laptop': 414925,\n",
       " 'overheating': 529597,\n",
       " 'recalls': 573636,\n",
       " 'emily': 193351,\n",
       " 'mommy': 480779,\n",
       " 'training': 694374,\n",
       " 'misses': 474430,\n",
       " 'httpappsfacebookcomdogbookprofileview6176014': 273937,\n",
       " 'rather': 570285,\n",
       " 'send': 609536,\n",
       " 'messages': 465348,\n",
       " '3rd': 9526,\n",
       " 'mixed': 476877,\n",
       " 'sophmore': 636087,\n",
       " 'year': 752731,\n",
       " 'henkuyinepu': 262497,\n",
       " 'overrated': 529758,\n",
       " 'marykatherineq': 453826,\n",
       " 'wondered': 738966,\n",
       " 'thing': 679924,\n",
       " 'moscow': 484613,\n",
       " 'laying': 418215,\n",
       " 'voice': 721521,\n",
       " 'sooo': 635514,\n",
       " 'killed': 400840,\n",
       " 'kutner': 410337,\n",
       " 'whyyyyyyyy': 734257,\n",
       " 'jacobsummers': 359231,\n",
       " 'mea': 459537,\n",
       " 'culpa': 146139,\n",
       " 'alliana07': 32833,\n",
       " 'sense': 609735,\n",
       " 'suicide': 653581,\n",
       " 'refuse': 575832,\n",
       " 'believe': 72531,\n",
       " 'happened': 255295,\n",
       " 'salancaster': 596203,\n",
       " 'mercedesashley': 464573,\n",
       " 'grind': 247403,\n",
       " 'inspirational': 350937,\n",
       " 'saddening': 595011,\n",
       " 'cuz': 147597,\n",
       " 'hibanick': 264866,\n",
       " 'yeah': 752457,\n",
       " 'wudnt': 743172,\n",
       " 'chance': 115443,\n",
       " '130am': 2589,\n",
       " 'hanging': 254467,\n",
       " 'crooners': 144065,\n",
       " 'sing': 623953,\n",
       " 'sucks': 652754,\n",
       " 'erresc': 199112,\n",
       " 'aaw': 17419,\n",
       " 'bh': 76966,\n",
       " 'aww': 59636,\n",
       " 'beach': 68909,\n",
       " 'pissed': 547163,\n",
       " 'theres': 678247,\n",
       " 'asbas': 51997,\n",
       " 'radio': 566984,\n",
       " 'station': 644605,\n",
       " 'flipped': 217347,\n",
       " 'upside': 711823,\n",
       " 'head': 258727,\n",
       " 'ramen': 568868,\n",
       " 'sounds': 637107,\n",
       " 'sides': 621633,\n",
       " 'mention': 464323,\n",
       " 'crying': 144833,\n",
       " 'made': 443836,\n",
       " 'late': 415771,\n",
       " 'snack': 631272,\n",
       " 'glass': 238875,\n",
       " 'oj': 521442,\n",
       " 'bc': 68355,\n",
       " 'sickness': 621403,\n",
       " 'allyheman': 33670,\n",
       " 'big': 77737,\n",
       " 'fan': 208166,\n",
       " 'camilla': 105212,\n",
       " 'belle': 72923,\n",
       " 'grum': 248361,\n",
       " 'wah': 723697,\n",
       " 'clip': 129361,\n",
       " 'must': 492940,\n",
       " 'elstupido': 192309,\n",
       " 'filters': 214120,\n",
       " 'wait': 723968,\n",
       " 'till': 684179,\n",
       " 'puter': 562617,\n",
       " 'something': 634341,\n",
       " 'else': 192215,\n",
       " 'blame': 82081,\n",
       " 'broke': 95547,\n",
       " 'seems': 608212,\n",
       " 'longer': 433718,\n",
       " 'terms': 670430,\n",
       " 'cold': 132336,\n",
       " 'thecoolestout': 674329,\n",
       " 'ehhh': 189001,\n",
       " 'weathers': 727763,\n",
       " 'take': 662720,\n",
       " 'turn': 699969,\n",
       " 'chelserlynn': 118936,\n",
       " 'cooooold': 137854,\n",
       " 'incredible': 348376,\n",
       " 'stuff': 651257,\n",
       " 'hoping': 270953,\n",
       " 'rumbles': 592011,\n",
       " 'knights': 405196,\n",
       " 'notice': 514216,\n",
       " 'told': 689081,\n",
       " 'id': 342621,\n",
       " 'agency': 24875,\n",
       " 'said': 595736,\n",
       " 'bedtime': 71090,\n",
       " 'alive': 32216,\n",
       " 'yawwwnn': 751936,\n",
       " 'tired': 686129,\n",
       " 'imma': 346940,\n",
       " 'try': 698349,\n",
       " 'hopefully': 270826,\n",
       " 'headstart': 259091,\n",
       " 'agh': 25143,\n",
       " 'snow': 632162,\n",
       " 'kenny': 397296,\n",
       " 'powers': 554302,\n",
       " 'bridgetsbeaches': 93846,\n",
       " 'thank': 672254,\n",
       " 'letting': 422733,\n",
       " 'direct': 169155,\n",
       " 'message': 465330,\n",
       " 'bridget': 93808,\n",
       " 'india': 348609,\n",
       " '100th': 942,\n",
       " 'test': 671005,\n",
       " 'victory': 718642,\n",
       " '10th': 1505,\n",
       " 'consecutive': 136355,\n",
       " 'win': 736015,\n",
       " 'without': 737478,\n",
       " 'guess': 249094,\n",
       " 'ozesteph1992': 530599,\n",
       " 'stephan': 645816,\n",
       " 'mrsaintnick': 487604,\n",
       " 'leavin': 419637,\n",
       " 'intending': 351381,\n",
       " 'finish': 214719,\n",
       " 'editing': 187328,\n",
       " '536page': 11673,\n",
       " 'novel': 514772,\n",
       " 'manuscript': 449331,\n",
       " 'probably': 558101,\n",
       " 'happen': 255286,\n",
       " '12': 2034,\n",
       " 'pages': 531595,\n",
       " 'left': 420447,\n",
       " 'laid': 413193,\n",
       " 'twista202': 702820,\n",
       " 'havent': 257565,\n",
       " 'read': 572000,\n",
       " '9th10th': 15852,\n",
       " 'princess': 557272,\n",
       " 'diaries': 166862,\n",
       " 'saving': 602128,\n",
       " 'francesca': 222335,\n",
       " 'end': 195383,\n",
       " 'easy': 185575,\n",
       " 'books': 87604,\n",
       " 'nokia': 511772,\n",
       " '1110': 1606,\n",
       " 'died': 167329,\n",
       " 'mom': 480412,\n",
       " 'breast': 92314,\n",
       " 'cancer': 105823,\n",
       " 'worried': 741132,\n",
       " 'better': 75922,\n",
       " 'rumblepurr': 592010,\n",
       " 'understood': 709097,\n",
       " 'daylight': 157143,\n",
       " 'savings': 602136,\n",
       " 'ended': 195421,\n",
       " 'breakfast': 92075,\n",
       " 'keep': 395406,\n",
       " 'waking': 724257,\n",
       " 'onemoreproject': 524194,\n",
       " 'lame': 414005,\n",
       " 'understand': 709061,\n",
       " 'heroes': 263305,\n",
       " 'isnt': 354782,\n",
       " 'season': 607319,\n",
       " 'living': 430089,\n",
       " 'downtown': 178038,\n",
       " 'fun': 227219,\n",
       " 'jonathanchard': 379533,\n",
       " 'calorie': 104709,\n",
       " 'wise': 737062,\n",
       " 'junk': 385831,\n",
       " 'food': 219873,\n",
       " 'free': 223494,\n",
       " 'ate': 55284,\n",
       " 'sour': 637223,\n",
       " 'skittles': 626617,\n",
       " 'ass': 54294,\n",
       " 'cherry': 119375,\n",
       " 'coke': 132193,\n",
       " 'hard': 255865,\n",
       " 'hot': 271641,\n",
       " 'studying': 651164,\n",
       " 'sleeeep': 627814,\n",
       " 'eyebrows': 205364,\n",
       " 'waxed': 726748,\n",
       " 'phantasy': 542524,\n",
       " 'star': 643671,\n",
       " 'macheist': 442977,\n",
       " '30': 7853,\n",
       " 'apps': 48038,\n",
       " 'sweet': 659223,\n",
       " 'espresso': 199958,\n",
       " 'serial': 610423,\n",
       " 'although': 34843,\n",
       " 'sent': 609826,\n",
       " 'picked': 544902,\n",
       " 'mich': 467121,\n",
       " 'st': 642714,\n",
       " 'pretty': 556488,\n",
       " 'pick': 544891,\n",
       " 'way': 726779,\n",
       " 'alone': 34055,\n",
       " 'downstairs': 177997,\n",
       " 'ryanseacrest': 593638,\n",
       " 'anoop': 44986,\n",
       " 'mean': 459713,\n",
       " 'seriously': 610512,\n",
       " 'kinda': 401940,\n",
       " 'pinkserendipity': 546577,\n",
       " 'sprint': 641076,\n",
       " '4g': 10778,\n",
       " 'baltimore': 64615,\n",
       " 'chicago': 120135,\n",
       " 'far': 208749,\n",
       " 'stuck': 650905,\n",
       " 'awake': 58634,\n",
       " 'middle': 468692,\n",
       " 'second': 607663,\n",
       " 'row': 590071,\n",
       " 'felt': 211855,\n",
       " 'bursting': 100488,\n",
       " 'bubble': 98122,\n",
       " 'gosh': 243428,\n",
       " 'marieclr': 450949,\n",
       " 'naughtyhaughty': 500322,\n",
       " 'page': 531534,\n",
       " 'sooooo': 635574,\n",
       " 'deleted': 161793,\n",
       " 'history': 266817,\n",
       " 'crazy': 142258,\n",
       " 'wind': 736093,\n",
       " 'birding': 79746,\n",
       " 'httpffim1xtti': 290072,\n",
       " 'currently': 146821,\n",
       " 'grrr': 248182,\n",
       " 'ipods': 353073,\n",
       " 'acting': 20557,\n",
       " 'weird': 729504,\n",
       " 'jai': 359944,\n",
       " 'ho': 267706,\n",
       " 'thinking': 680209,\n",
       " 'arent': 49324,\n",
       " 'full': 227040,\n",
       " 'songs': 634820,\n",
       " 'ughh': 706912,\n",
       " 'penndbad': 539675,\n",
       " 'dvd': 183708,\n",
       " 'cos': 139176,\n",
       " 'heaps': 259293,\n",
       " 'deal': 158895,\n",
       " 'website': 728191,\n",
       " 'machineplay': 443026,\n",
       " 'therapyfail': 677543,\n",
       " 'colindemar': 132698,\n",
       " 'rail': 567879,\n",
       " 'tips': 686059,\n",
       " 'swear': 659009,\n",
       " 'losing': 435295,\n",
       " 'gaining': 229890,\n",
       " 'tweeps': 700986,\n",
       " 'wrenching': 742110,\n",
       " 'realized': 572550,\n",
       " 'hiding': 265053,\n",
       " 'staying': 644845,\n",
       " 'neighbors': 502177,\n",
       " 'loudhaving': 435794,\n",
       " 'dannyvegasbaby': 153180,\n",
       " 'danny': 152972,\n",
       " 'live': 429713,\n",
       " 'chat': 117286,\n",
       " 'car': 107214,\n",
       " 'trip': 696785,\n",
       " 'soooo': 635553,\n",
       " 'check': 117827,\n",
       " 'httpwwwerikaobscurablogspotcom': 332866,\n",
       " 'borders': 88423,\n",
       " 'closed': 129643,\n",
       " '10': 731,\n",
       " 'downloading': 177910,\n",
       " 'nins': 509689,\n",
       " 'album': 29351,\n",
       " 'slip': 628759,\n",
       " 'come': 133621,\n",
       " 'days': 157303,\n",
       " 'woke': 738523,\n",
       " 'written': 742432,\n",
       " 'email': 192604,\n",
       " 'early': 185062,\n",
       " 'university': 710081,\n",
       " 'teach': 667274,\n",
       " '830': 14415,\n",
       " 'hill': 265794,\n",
       " 'making': 446586,\n",
       " 'channels': 115792,\n",
       " 'yet': 754194,\n",
       " 'boring': 88688,\n",
       " 'lazy': 418401,\n",
       " 'hobby': 267794,\n",
       " 'supersport': 656434,\n",
       " 'buddy': 98573,\n",
       " 'ny': 517047,\n",
       " '25th': 6271,\n",
       " 'robluketic': 585919,\n",
       " 'french': 224067,\n",
       " 'south': 637302,\n",
       " 'qtr': 563828,\n",
       " 'snarl': 631523,\n",
       " 'beautiful': 69764,\n",
       " 'opps': 526394,\n",
       " 'remain': 577168,\n",
       " 'problem': 558172,\n",
       " 'activated': 20636,\n",
       " 'selfcontrol': 608834,\n",
       " 'block': 83315,\n",
       " 'meaning': 459765,\n",
       " 'qc': 563366,\n",
       " 'regularizing': 576200,\n",
       " 'internal': 351626,\n",
       " 'clock': 129508,\n",
       " 'difficult': 167648,\n",
       " 'fb': 210404,\n",
       " 'hillydop': 265970,\n",
       " 'spencer': 639239,\n",
       " 'guy': 250278,\n",
       " 'goodlaura': 242203,\n",
       " 'reese': 575422,\n",
       " 'dying': 184204,\n",
       " 'ttsc': 699009,\n",
       " 'finale': 214210,\n",
       " 'next': 504833,\n",
       " '24': 5901,\n",
       " 'madame': 443498,\n",
       " 'president': 556200,\n",
       " 'woman': 738802,\n",
       " 'limited': 426597,\n",
       " 'letterstoohope': 422715,\n",
       " 'guys': 250378,\n",
       " 'finei': 214535,\n",
       " 'dogshes': 174466,\n",
       " 'shit': 618016,\n",
       " 'screwed': 605993,\n",
       " 'wanttss': 725233,\n",
       " 'tonite': 690801,\n",
       " 'interview': 351901,\n",
       " 'cardiff': 107535,\n",
       " 'luck': 438715,\n",
       " 'stustone': 651688,\n",
       " 'whack': 731450,\n",
       " 'wiggetywhack': 734707,\n",
       " 'djalizay': 171390,\n",
       " 'choose': 122631,\n",
       " 'chose': 122796,\n",
       " 'accept': 19401,\n",
       " 'familys': 208015,\n",
       " 'help': 262142,\n",
       " 'dead': 158675,\n",
       " 'eloquentembrace': 192102,\n",
       " ...}"
      ]
     },
     "execution_count": 66,
     "metadata": {},
     "output_type": "execute_result"
    }
   ],
   "source": [
    "vectorizer.vocabulary_"
   ]
  },
  {
   "cell_type": "code",
   "execution_count": 67,
   "metadata": {},
   "outputs": [
    {
     "data": {
      "text/plain": [
       "762202"
      ]
     },
     "execution_count": 67,
     "metadata": {},
     "output_type": "execute_result"
    }
   ],
   "source": [
    "len(vectorizer.vocabulary_)"
   ]
  },
  {
   "cell_type": "markdown",
   "metadata": {},
   "source": [
    "## Split into Train, Test, and Validation"
   ]
  },
  {
   "cell_type": "code",
   "execution_count": 84,
   "metadata": {},
   "outputs": [],
   "source": [
    "from sklearn.model_selection import train_test_split"
   ]
  },
  {
   "cell_type": "code",
   "execution_count": 85,
   "metadata": {},
   "outputs": [],
   "source": [
    "X_train, X_test, y_train, y_test = train_test_split(BOW, data[\"target\"].to_numpy())"
   ]
  },
  {
   "cell_type": "markdown",
   "metadata": {},
   "source": [
    "## ML Algorithm"
   ]
  },
  {
   "cell_type": "code",
   "execution_count": 68,
   "metadata": {},
   "outputs": [],
   "source": [
    "from sklearn.ensemble import RandomForestClassifier"
   ]
  },
  {
   "cell_type": "code",
   "execution_count": 88,
   "metadata": {},
   "outputs": [],
   "source": [
    "clf = RandomForestClassifier()"
   ]
  },
  {
   "cell_type": "code",
   "execution_count": 89,
   "metadata": {},
   "outputs": [
    {
     "data": {
      "text/plain": [
       "RandomForestClassifier()"
      ]
     },
     "execution_count": 89,
     "metadata": {},
     "output_type": "execute_result"
    }
   ],
   "source": [
    "clf.fit(X_train[0:100000], y_train[0:100000])\n"
   ]
  },
  {
   "cell_type": "code",
   "execution_count": 83,
   "metadata": {},
   "outputs": [
    {
     "data": {
      "text/plain": [
       "(array([], dtype=int64),)"
      ]
     },
     "execution_count": 83,
     "metadata": {},
     "output_type": "execute_result"
    }
   ],
   "source": [
    "np.where(data[\"target\"].to_numpy()[0:10000])"
   ]
  },
  {
   "cell_type": "code",
   "execution_count": 77,
   "metadata": {},
   "outputs": [
    {
     "data": {
      "text/plain": [
       "array([0, 0, 0, 0, 0, 0, 0, 0, 0, 0])"
      ]
     },
     "execution_count": 77,
     "metadata": {},
     "output_type": "execute_result"
    }
   ],
   "source": [
    "clf.predict(BOW[0:10])"
   ]
  },
  {
   "cell_type": "markdown",
   "metadata": {},
   "source": [
    "## Evalute Model"
   ]
  },
  {
   "cell_type": "code",
   "execution_count": 73,
   "metadata": {},
   "outputs": [],
   "source": [
    "from sklearn.metrics import accuracy_score"
   ]
  },
  {
   "cell_type": "code",
   "execution_count": 93,
   "metadata": {},
   "outputs": [
    {
     "data": {
      "text/plain": [
       "(400000,)"
      ]
     },
     "execution_count": 93,
     "metadata": {},
     "output_type": "execute_result"
    }
   ],
   "source": [
    "y_test.shape"
   ]
  },
  {
   "cell_type": "code",
   "execution_count": 94,
   "metadata": {},
   "outputs": [],
   "source": [
    "y_pred = clf.predict(X_test)"
   ]
  },
  {
   "cell_type": "code",
   "execution_count": 108,
   "metadata": {},
   "outputs": [
    {
     "data": {
      "text/plain": [
       "array([4, 0, 4, 0, 0, 0, 4, 4, 4, 4, 4, 4, 4, 4, 4, 0, 0, 4, 4, 4, 4, 4,\n",
       "       0, 0, 0])"
      ]
     },
     "execution_count": 108,
     "metadata": {},
     "output_type": "execute_result"
    }
   ],
   "source": [
    "y_pred[0:25]"
   ]
  },
  {
   "cell_type": "code",
   "execution_count": 95,
   "metadata": {},
   "outputs": [
    {
     "data": {
      "text/plain": [
       "0.7508275"
      ]
     },
     "execution_count": 95,
     "metadata": {},
     "output_type": "execute_result"
    }
   ],
   "source": [
    "# Accuracy of the test set \n",
    "accuracy_score(y_test, y_pred)"
   ]
  },
  {
   "cell_type": "code",
   "execution_count": 113,
   "metadata": {},
   "outputs": [],
   "source": [
    "rep = vectorizer.transform((\"love flying\",))"
   ]
  },
  {
   "cell_type": "code",
   "execution_count": 114,
   "metadata": {},
   "outputs": [
    {
     "data": {
      "text/plain": [
       "<1x762202 sparse matrix of type '<class 'numpy.int64'>'\n",
       "\twith 2 stored elements in Compressed Sparse Row format>"
      ]
     },
     "execution_count": 114,
     "metadata": {},
     "output_type": "execute_result"
    }
   ],
   "source": [
    "rep"
   ]
  },
  {
   "cell_type": "code",
   "execution_count": 115,
   "metadata": {},
   "outputs": [
    {
     "data": {
      "text/plain": [
       "array([4])"
      ]
     },
     "execution_count": 115,
     "metadata": {},
     "output_type": "execute_result"
    }
   ],
   "source": [
    "clf.predict(rep)"
   ]
  },
  {
   "cell_type": "code",
   "execution_count": 79,
   "metadata": {},
   "outputs": [],
   "source": [
    "from sklearn.ensemble import RandomForestClassifier\n",
    "from sklearn.datasets import make_classification\n",
    "X, y = make_classification(n_samples=10, n_features=4, n_informative=2, n_redundant=0, random_state=0, shuffle=False)"
   ]
  },
  {
   "cell_type": "code",
   "execution_count": 80,
   "metadata": {},
   "outputs": [
    {
     "data": {
      "text/plain": [
       "array([0, 0, 0, 1, 1, 1, 0, 0, 1, 1])"
      ]
     },
     "execution_count": 80,
     "metadata": {},
     "output_type": "execute_result"
    }
   ],
   "source": [
    "y"
   ]
  }
 ],
 "metadata": {
  "interpreter": {
   "hash": "3b519ef6bc2ee8cb4647a3894e87e51237c625c1bd34856d1c9c224aa2aaabfd"
  },
  "kernelspec": {
   "display_name": "Python 3.9.4 64-bit ('3.9.4')",
   "language": "python",
   "name": "python3"
  },
  "language_info": {
   "codemirror_mode": {
    "name": "ipython",
    "version": 3
   },
   "file_extension": ".py",
   "mimetype": "text/x-python",
   "name": "python",
   "nbconvert_exporter": "python",
   "pygments_lexer": "ipython3",
   "version": "3.9.7"
  },
  "orig_nbformat": 4
 },
 "nbformat": 4,
 "nbformat_minor": 2
}
