{
  "cells": [
    {
      "cell_type": "code",
      "execution_count": 1,
      "metadata": {
        "id": "wokR3ujrNEbk"
      },
      "outputs": [],
      "source": [
        "import pandas as pd\n",
        "import numpy as np\n",
        "import matplotlib.pyplot as plt\n",
        "import nltk\n",
        "import keras\n",
        "from keras.preprocessing.text import Tokenizer\n",
        "from keras.layers import Dense, Dropout, Embedding, LSTM, Bidirectional,InputLayer\n",
        "from sklearn.model_selection import train_test_split"
      ]
    },
    {
      "cell_type": "code",
      "execution_count": 2,
      "metadata": {
        "colab": {
          "base_uri": "https://localhost:8080/"
        },
        "id": "azL1Ja52PmXq",
        "outputId": "76b0954e-d2c5-4614-a9e3-4a8e909f8528"
      },
      "outputs": [
        {
          "output_type": "stream",
          "name": "stdout",
          "text": [
            "[nltk_data] Downloading collection 'all'\n",
            "[nltk_data]    | \n",
            "[nltk_data]    | Downloading package abc to /root/nltk_data...\n",
            "[nltk_data]    |   Package abc is already up-to-date!\n",
            "[nltk_data]    | Downloading package alpino to /root/nltk_data...\n",
            "[nltk_data]    |   Package alpino is already up-to-date!\n",
            "[nltk_data]    | Downloading package averaged_perceptron_tagger to\n",
            "[nltk_data]    |     /root/nltk_data...\n",
            "[nltk_data]    |   Package averaged_perceptron_tagger is already up-\n",
            "[nltk_data]    |       to-date!\n",
            "[nltk_data]    | Downloading package averaged_perceptron_tagger_ru to\n",
            "[nltk_data]    |     /root/nltk_data...\n",
            "[nltk_data]    |   Package averaged_perceptron_tagger_ru is already\n",
            "[nltk_data]    |       up-to-date!\n",
            "[nltk_data]    | Downloading package basque_grammars to\n",
            "[nltk_data]    |     /root/nltk_data...\n",
            "[nltk_data]    |   Package basque_grammars is already up-to-date!\n",
            "[nltk_data]    | Downloading package biocreative_ppi to\n",
            "[nltk_data]    |     /root/nltk_data...\n",
            "[nltk_data]    |   Package biocreative_ppi is already up-to-date!\n",
            "[nltk_data]    | Downloading package bllip_wsj_no_aux to\n",
            "[nltk_data]    |     /root/nltk_data...\n",
            "[nltk_data]    |   Package bllip_wsj_no_aux is already up-to-date!\n",
            "[nltk_data]    | Downloading package book_grammars to\n",
            "[nltk_data]    |     /root/nltk_data...\n",
            "[nltk_data]    |   Package book_grammars is already up-to-date!\n",
            "[nltk_data]    | Downloading package brown to /root/nltk_data...\n",
            "[nltk_data]    |   Package brown is already up-to-date!\n",
            "[nltk_data]    | Downloading package brown_tei to /root/nltk_data...\n",
            "[nltk_data]    |   Package brown_tei is already up-to-date!\n",
            "[nltk_data]    | Downloading package cess_cat to /root/nltk_data...\n",
            "[nltk_data]    |   Package cess_cat is already up-to-date!\n",
            "[nltk_data]    | Downloading package cess_esp to /root/nltk_data...\n",
            "[nltk_data]    |   Package cess_esp is already up-to-date!\n",
            "[nltk_data]    | Downloading package chat80 to /root/nltk_data...\n",
            "[nltk_data]    |   Package chat80 is already up-to-date!\n",
            "[nltk_data]    | Downloading package city_database to\n",
            "[nltk_data]    |     /root/nltk_data...\n",
            "[nltk_data]    |   Package city_database is already up-to-date!\n",
            "[nltk_data]    | Downloading package cmudict to /root/nltk_data...\n",
            "[nltk_data]    |   Package cmudict is already up-to-date!\n",
            "[nltk_data]    | Downloading package comparative_sentences to\n",
            "[nltk_data]    |     /root/nltk_data...\n",
            "[nltk_data]    |   Package comparative_sentences is already up-to-\n",
            "[nltk_data]    |       date!\n",
            "[nltk_data]    | Downloading package comtrans to /root/nltk_data...\n",
            "[nltk_data]    |   Package comtrans is already up-to-date!\n",
            "[nltk_data]    | Downloading package conll2000 to /root/nltk_data...\n",
            "[nltk_data]    |   Package conll2000 is already up-to-date!\n",
            "[nltk_data]    | Downloading package conll2002 to /root/nltk_data...\n",
            "[nltk_data]    |   Package conll2002 is already up-to-date!\n",
            "[nltk_data]    | Downloading package conll2007 to /root/nltk_data...\n",
            "[nltk_data]    |   Package conll2007 is already up-to-date!\n",
            "[nltk_data]    | Downloading package crubadan to /root/nltk_data...\n",
            "[nltk_data]    |   Package crubadan is already up-to-date!\n",
            "[nltk_data]    | Downloading package dependency_treebank to\n",
            "[nltk_data]    |     /root/nltk_data...\n",
            "[nltk_data]    |   Package dependency_treebank is already up-to-date!\n",
            "[nltk_data]    | Downloading package dolch to /root/nltk_data...\n",
            "[nltk_data]    |   Package dolch is already up-to-date!\n",
            "[nltk_data]    | Downloading package europarl_raw to\n",
            "[nltk_data]    |     /root/nltk_data...\n",
            "[nltk_data]    |   Package europarl_raw is already up-to-date!\n",
            "[nltk_data]    | Downloading package extended_omw to\n",
            "[nltk_data]    |     /root/nltk_data...\n",
            "[nltk_data]    |   Package extended_omw is already up-to-date!\n",
            "[nltk_data]    | Downloading package floresta to /root/nltk_data...\n",
            "[nltk_data]    |   Package floresta is already up-to-date!\n",
            "[nltk_data]    | Downloading package framenet_v15 to\n",
            "[nltk_data]    |     /root/nltk_data...\n",
            "[nltk_data]    |   Package framenet_v15 is already up-to-date!\n",
            "[nltk_data]    | Downloading package framenet_v17 to\n",
            "[nltk_data]    |     /root/nltk_data...\n",
            "[nltk_data]    |   Package framenet_v17 is already up-to-date!\n",
            "[nltk_data]    | Downloading package gazetteers to /root/nltk_data...\n",
            "[nltk_data]    |   Package gazetteers is already up-to-date!\n",
            "[nltk_data]    | Downloading package genesis to /root/nltk_data...\n",
            "[nltk_data]    |   Package genesis is already up-to-date!\n",
            "[nltk_data]    | Downloading package gutenberg to /root/nltk_data...\n",
            "[nltk_data]    |   Package gutenberg is already up-to-date!\n",
            "[nltk_data]    | Downloading package ieer to /root/nltk_data...\n",
            "[nltk_data]    |   Package ieer is already up-to-date!\n",
            "[nltk_data]    | Downloading package inaugural to /root/nltk_data...\n",
            "[nltk_data]    |   Package inaugural is already up-to-date!\n",
            "[nltk_data]    | Downloading package indian to /root/nltk_data...\n",
            "[nltk_data]    |   Package indian is already up-to-date!\n",
            "[nltk_data]    | Downloading package jeita to /root/nltk_data...\n",
            "[nltk_data]    |   Package jeita is already up-to-date!\n",
            "[nltk_data]    | Downloading package kimmo to /root/nltk_data...\n",
            "[nltk_data]    |   Package kimmo is already up-to-date!\n",
            "[nltk_data]    | Downloading package knbc to /root/nltk_data...\n",
            "[nltk_data]    |   Package knbc is already up-to-date!\n",
            "[nltk_data]    | Downloading package large_grammars to\n",
            "[nltk_data]    |     /root/nltk_data...\n",
            "[nltk_data]    |   Package large_grammars is already up-to-date!\n",
            "[nltk_data]    | Downloading package lin_thesaurus to\n",
            "[nltk_data]    |     /root/nltk_data...\n",
            "[nltk_data]    |   Package lin_thesaurus is already up-to-date!\n",
            "[nltk_data]    | Downloading package mac_morpho to /root/nltk_data...\n",
            "[nltk_data]    |   Package mac_morpho is already up-to-date!\n",
            "[nltk_data]    | Downloading package machado to /root/nltk_data...\n",
            "[nltk_data]    |   Package machado is already up-to-date!\n",
            "[nltk_data]    | Downloading package masc_tagged to /root/nltk_data...\n",
            "[nltk_data]    |   Package masc_tagged is already up-to-date!\n",
            "[nltk_data]    | Downloading package maxent_ne_chunker to\n",
            "[nltk_data]    |     /root/nltk_data...\n",
            "[nltk_data]    |   Package maxent_ne_chunker is already up-to-date!\n",
            "[nltk_data]    | Downloading package maxent_treebank_pos_tagger to\n",
            "[nltk_data]    |     /root/nltk_data...\n",
            "[nltk_data]    |   Package maxent_treebank_pos_tagger is already up-\n",
            "[nltk_data]    |       to-date!\n",
            "[nltk_data]    | Downloading package moses_sample to\n",
            "[nltk_data]    |     /root/nltk_data...\n",
            "[nltk_data]    |   Package moses_sample is already up-to-date!\n",
            "[nltk_data]    | Downloading package movie_reviews to\n",
            "[nltk_data]    |     /root/nltk_data...\n",
            "[nltk_data]    |   Package movie_reviews is already up-to-date!\n",
            "[nltk_data]    | Downloading package mte_teip5 to /root/nltk_data...\n",
            "[nltk_data]    |   Package mte_teip5 is already up-to-date!\n",
            "[nltk_data]    | Downloading package mwa_ppdb to /root/nltk_data...\n",
            "[nltk_data]    |   Package mwa_ppdb is already up-to-date!\n",
            "[nltk_data]    | Downloading package names to /root/nltk_data...\n",
            "[nltk_data]    |   Package names is already up-to-date!\n",
            "[nltk_data]    | Downloading package nombank.1.0 to /root/nltk_data...\n",
            "[nltk_data]    |   Package nombank.1.0 is already up-to-date!\n",
            "[nltk_data]    | Downloading package nonbreaking_prefixes to\n",
            "[nltk_data]    |     /root/nltk_data...\n",
            "[nltk_data]    |   Package nonbreaking_prefixes is already up-to-date!\n",
            "[nltk_data]    | Downloading package nps_chat to /root/nltk_data...\n",
            "[nltk_data]    |   Package nps_chat is already up-to-date!\n",
            "[nltk_data]    | Downloading package omw to /root/nltk_data...\n",
            "[nltk_data]    |   Package omw is already up-to-date!\n",
            "[nltk_data]    | Downloading package omw-1.4 to /root/nltk_data...\n",
            "[nltk_data]    |   Package omw-1.4 is already up-to-date!\n",
            "[nltk_data]    | Downloading package opinion_lexicon to\n",
            "[nltk_data]    |     /root/nltk_data...\n",
            "[nltk_data]    |   Package opinion_lexicon is already up-to-date!\n",
            "[nltk_data]    | Downloading package panlex_swadesh to\n",
            "[nltk_data]    |     /root/nltk_data...\n",
            "[nltk_data]    |   Package panlex_swadesh is already up-to-date!\n",
            "[nltk_data]    | Downloading package paradigms to /root/nltk_data...\n",
            "[nltk_data]    |   Package paradigms is already up-to-date!\n",
            "[nltk_data]    | Downloading package pe08 to /root/nltk_data...\n",
            "[nltk_data]    |   Package pe08 is already up-to-date!\n",
            "[nltk_data]    | Downloading package perluniprops to\n",
            "[nltk_data]    |     /root/nltk_data...\n",
            "[nltk_data]    |   Package perluniprops is already up-to-date!\n",
            "[nltk_data]    | Downloading package pil to /root/nltk_data...\n",
            "[nltk_data]    |   Package pil is already up-to-date!\n",
            "[nltk_data]    | Downloading package pl196x to /root/nltk_data...\n",
            "[nltk_data]    |   Package pl196x is already up-to-date!\n",
            "[nltk_data]    | Downloading package porter_test to /root/nltk_data...\n",
            "[nltk_data]    |   Package porter_test is already up-to-date!\n",
            "[nltk_data]    | Downloading package ppattach to /root/nltk_data...\n",
            "[nltk_data]    |   Package ppattach is already up-to-date!\n",
            "[nltk_data]    | Downloading package problem_reports to\n",
            "[nltk_data]    |     /root/nltk_data...\n",
            "[nltk_data]    |   Package problem_reports is already up-to-date!\n",
            "[nltk_data]    | Downloading package product_reviews_1 to\n",
            "[nltk_data]    |     /root/nltk_data...\n",
            "[nltk_data]    |   Package product_reviews_1 is already up-to-date!\n",
            "[nltk_data]    | Downloading package product_reviews_2 to\n",
            "[nltk_data]    |     /root/nltk_data...\n",
            "[nltk_data]    |   Package product_reviews_2 is already up-to-date!\n",
            "[nltk_data]    | Downloading package propbank to /root/nltk_data...\n",
            "[nltk_data]    |   Package propbank is already up-to-date!\n",
            "[nltk_data]    | Downloading package pros_cons to /root/nltk_data...\n",
            "[nltk_data]    |   Package pros_cons is already up-to-date!\n",
            "[nltk_data]    | Downloading package ptb to /root/nltk_data...\n",
            "[nltk_data]    |   Package ptb is already up-to-date!\n",
            "[nltk_data]    | Downloading package punkt to /root/nltk_data...\n",
            "[nltk_data]    |   Package punkt is already up-to-date!\n",
            "[nltk_data]    | Downloading package qc to /root/nltk_data...\n",
            "[nltk_data]    |   Package qc is already up-to-date!\n",
            "[nltk_data]    | Downloading package reuters to /root/nltk_data...\n",
            "[nltk_data]    |   Package reuters is already up-to-date!\n",
            "[nltk_data]    | Downloading package rslp to /root/nltk_data...\n",
            "[nltk_data]    |   Package rslp is already up-to-date!\n",
            "[nltk_data]    | Downloading package rte to /root/nltk_data...\n",
            "[nltk_data]    |   Package rte is already up-to-date!\n",
            "[nltk_data]    | Downloading package sample_grammars to\n",
            "[nltk_data]    |     /root/nltk_data...\n",
            "[nltk_data]    |   Package sample_grammars is already up-to-date!\n",
            "[nltk_data]    | Downloading package semcor to /root/nltk_data...\n",
            "[nltk_data]    |   Package semcor is already up-to-date!\n",
            "[nltk_data]    | Downloading package senseval to /root/nltk_data...\n",
            "[nltk_data]    |   Package senseval is already up-to-date!\n",
            "[nltk_data]    | Downloading package sentence_polarity to\n",
            "[nltk_data]    |     /root/nltk_data...\n",
            "[nltk_data]    |   Package sentence_polarity is already up-to-date!\n",
            "[nltk_data]    | Downloading package sentiwordnet to\n",
            "[nltk_data]    |     /root/nltk_data...\n",
            "[nltk_data]    |   Package sentiwordnet is already up-to-date!\n",
            "[nltk_data]    | Downloading package shakespeare to /root/nltk_data...\n",
            "[nltk_data]    |   Package shakespeare is already up-to-date!\n",
            "[nltk_data]    | Downloading package sinica_treebank to\n",
            "[nltk_data]    |     /root/nltk_data...\n",
            "[nltk_data]    |   Package sinica_treebank is already up-to-date!\n",
            "[nltk_data]    | Downloading package smultron to /root/nltk_data...\n",
            "[nltk_data]    |   Package smultron is already up-to-date!\n",
            "[nltk_data]    | Downloading package snowball_data to\n",
            "[nltk_data]    |     /root/nltk_data...\n",
            "[nltk_data]    |   Package snowball_data is already up-to-date!\n",
            "[nltk_data]    | Downloading package spanish_grammars to\n",
            "[nltk_data]    |     /root/nltk_data...\n",
            "[nltk_data]    |   Package spanish_grammars is already up-to-date!\n",
            "[nltk_data]    | Downloading package state_union to /root/nltk_data...\n",
            "[nltk_data]    |   Package state_union is already up-to-date!\n",
            "[nltk_data]    | Downloading package stopwords to /root/nltk_data...\n",
            "[nltk_data]    |   Package stopwords is already up-to-date!\n",
            "[nltk_data]    | Downloading package subjectivity to\n",
            "[nltk_data]    |     /root/nltk_data...\n",
            "[nltk_data]    |   Package subjectivity is already up-to-date!\n",
            "[nltk_data]    | Downloading package swadesh to /root/nltk_data...\n",
            "[nltk_data]    |   Package swadesh is already up-to-date!\n",
            "[nltk_data]    | Downloading package switchboard to /root/nltk_data...\n",
            "[nltk_data]    |   Package switchboard is already up-to-date!\n",
            "[nltk_data]    | Downloading package tagsets to /root/nltk_data...\n",
            "[nltk_data]    |   Package tagsets is already up-to-date!\n",
            "[nltk_data]    | Downloading package timit to /root/nltk_data...\n",
            "[nltk_data]    |   Package timit is already up-to-date!\n",
            "[nltk_data]    | Downloading package toolbox to /root/nltk_data...\n",
            "[nltk_data]    |   Package toolbox is already up-to-date!\n",
            "[nltk_data]    | Downloading package treebank to /root/nltk_data...\n",
            "[nltk_data]    |   Package treebank is already up-to-date!\n",
            "[nltk_data]    | Downloading package twitter_samples to\n",
            "[nltk_data]    |     /root/nltk_data...\n",
            "[nltk_data]    |   Package twitter_samples is already up-to-date!\n",
            "[nltk_data]    | Downloading package udhr to /root/nltk_data...\n",
            "[nltk_data]    |   Package udhr is already up-to-date!\n",
            "[nltk_data]    | Downloading package udhr2 to /root/nltk_data...\n",
            "[nltk_data]    |   Package udhr2 is already up-to-date!\n",
            "[nltk_data]    | Downloading package unicode_samples to\n",
            "[nltk_data]    |     /root/nltk_data...\n",
            "[nltk_data]    |   Package unicode_samples is already up-to-date!\n",
            "[nltk_data]    | Downloading package universal_tagset to\n",
            "[nltk_data]    |     /root/nltk_data...\n",
            "[nltk_data]    |   Package universal_tagset is already up-to-date!\n",
            "[nltk_data]    | Downloading package universal_treebanks_v20 to\n",
            "[nltk_data]    |     /root/nltk_data...\n",
            "[nltk_data]    |   Package universal_treebanks_v20 is already up-to-\n",
            "[nltk_data]    |       date!\n",
            "[nltk_data]    | Downloading package vader_lexicon to\n",
            "[nltk_data]    |     /root/nltk_data...\n",
            "[nltk_data]    |   Package vader_lexicon is already up-to-date!\n",
            "[nltk_data]    | Downloading package verbnet to /root/nltk_data...\n",
            "[nltk_data]    |   Package verbnet is already up-to-date!\n",
            "[nltk_data]    | Downloading package verbnet3 to /root/nltk_data...\n",
            "[nltk_data]    |   Package verbnet3 is already up-to-date!\n",
            "[nltk_data]    | Downloading package webtext to /root/nltk_data...\n",
            "[nltk_data]    |   Package webtext is already up-to-date!\n",
            "[nltk_data]    | Downloading package wmt15_eval to /root/nltk_data...\n",
            "[nltk_data]    |   Package wmt15_eval is already up-to-date!\n",
            "[nltk_data]    | Downloading package word2vec_sample to\n",
            "[nltk_data]    |     /root/nltk_data...\n",
            "[nltk_data]    |   Package word2vec_sample is already up-to-date!\n",
            "[nltk_data]    | Downloading package wordnet to /root/nltk_data...\n",
            "[nltk_data]    |   Package wordnet is already up-to-date!\n",
            "[nltk_data]    | Downloading package wordnet2021 to /root/nltk_data...\n",
            "[nltk_data]    |   Package wordnet2021 is already up-to-date!\n",
            "[nltk_data]    | Downloading package wordnet31 to /root/nltk_data...\n",
            "[nltk_data]    |   Package wordnet31 is already up-to-date!\n",
            "[nltk_data]    | Downloading package wordnet_ic to /root/nltk_data...\n",
            "[nltk_data]    |   Package wordnet_ic is already up-to-date!\n",
            "[nltk_data]    | Downloading package words to /root/nltk_data...\n",
            "[nltk_data]    |   Package words is already up-to-date!\n",
            "[nltk_data]    | Downloading package ycoe to /root/nltk_data...\n",
            "[nltk_data]    |   Package ycoe is already up-to-date!\n",
            "[nltk_data]    | \n",
            "[nltk_data]  Done downloading collection all\n"
          ]
        },
        {
          "output_type": "execute_result",
          "data": {
            "text/plain": [
              "True"
            ]
          },
          "metadata": {},
          "execution_count": 2
        }
      ],
      "source": [
        "nltk.download('all')"
      ]
    },
    {
      "cell_type": "code",
      "execution_count": 3,
      "metadata": {
        "colab": {
          "base_uri": "https://localhost:8080/"
        },
        "id": "taWIzVhmPmU3",
        "outputId": "d18ed3fa-a1ed-465a-adcf-62f33648d698"
      },
      "outputs": [
        {
          "output_type": "stream",
          "name": "stdout",
          "text": [
            "Drive already mounted at /content/drive; to attempt to forcibly remount, call drive.mount(\"/content/drive\", force_remount=True).\n"
          ]
        }
      ],
      "source": [
        "from google.colab import drive\n",
        "drive.mount('/content/drive')"
      ]
    },
    {
      "cell_type": "code",
      "execution_count": 4,
      "metadata": {
        "id": "_QLAgSjkPmSV"
      },
      "outputs": [],
      "source": [
        "data_path = \"/content/drive/MyDrive/CS6890Project/data/training.1600000.processed.noemoticon.csv\""
      ]
    },
    {
      "cell_type": "code",
      "execution_count": 5,
      "metadata": {
        "colab": {
          "base_uri": "https://localhost:8080/"
        },
        "id": "LGj4vjMfPmPB",
        "outputId": "8615021e-eac7-4569-8e68-637d760c45e5"
      },
      "outputs": [
        {
          "output_type": "stream",
          "name": "stdout",
          "text": [
            "\"0\",\"1467810369\",\"Mon Apr 06 22:19:45 PDT 2009\",\"NO_QUERY\",\"_TheSpecialOne_\",\"@switchfoot http://twitpic.com/2y1zl - Awww, that's a bummer.  You shoulda got David Carr of Third Day to do it. ;D\"\n",
            "\n"
          ]
        }
      ],
      "source": [
        "file = open(data_path, \"r\")\n",
        "for line in file:\n",
        "    print(line)\n",
        "    break\n",
        "file.close()"
      ]
    },
    {
      "cell_type": "code",
      "execution_count": 6,
      "metadata": {
        "id": "F4J3rpIaP0LY"
      },
      "outputs": [],
      "source": [
        "data = pd.read_csv(data_path, header=None, encoding = \"ISO-8859-1\")\n",
        "data.columns = [\"target\", \"id\", \"date\", \"flag\", \"user\", \"text\"]"
      ]
    },
    {
      "cell_type": "code",
      "execution_count": 7,
      "metadata": {
        "colab": {
          "base_uri": "https://localhost:8080/",
          "height": 204
        },
        "id": "qKBImBZaP0F-",
        "outputId": "8d9336bd-9066-4e3e-f213-8e759f8ab3c8"
      },
      "outputs": [
        {
          "output_type": "execute_result",
          "data": {
            "text/plain": [
              "   target          id                          date      flag  \\\n",
              "0       0  1467810369  Mon Apr 06 22:19:45 PDT 2009  NO_QUERY   \n",
              "1       0  1467810672  Mon Apr 06 22:19:49 PDT 2009  NO_QUERY   \n",
              "2       0  1467810917  Mon Apr 06 22:19:53 PDT 2009  NO_QUERY   \n",
              "3       0  1467811184  Mon Apr 06 22:19:57 PDT 2009  NO_QUERY   \n",
              "4       0  1467811193  Mon Apr 06 22:19:57 PDT 2009  NO_QUERY   \n",
              "\n",
              "              user                                               text  \n",
              "0  _TheSpecialOne_  @switchfoot http://twitpic.com/2y1zl - Awww, t...  \n",
              "1    scotthamilton  is upset that he can't update his Facebook by ...  \n",
              "2         mattycus  @Kenichan I dived many times for the ball. Man...  \n",
              "3          ElleCTF    my whole body feels itchy and like its on fire   \n",
              "4           Karoli  @nationwideclass no, it's not behaving at all....  "
            ],
            "text/html": [
              "\n",
              "  <div id=\"df-be72001e-60b7-489d-9362-3f4e920c980b\">\n",
              "    <div class=\"colab-df-container\">\n",
              "      <div>\n",
              "<style scoped>\n",
              "    .dataframe tbody tr th:only-of-type {\n",
              "        vertical-align: middle;\n",
              "    }\n",
              "\n",
              "    .dataframe tbody tr th {\n",
              "        vertical-align: top;\n",
              "    }\n",
              "\n",
              "    .dataframe thead th {\n",
              "        text-align: right;\n",
              "    }\n",
              "</style>\n",
              "<table border=\"1\" class=\"dataframe\">\n",
              "  <thead>\n",
              "    <tr style=\"text-align: right;\">\n",
              "      <th></th>\n",
              "      <th>target</th>\n",
              "      <th>id</th>\n",
              "      <th>date</th>\n",
              "      <th>flag</th>\n",
              "      <th>user</th>\n",
              "      <th>text</th>\n",
              "    </tr>\n",
              "  </thead>\n",
              "  <tbody>\n",
              "    <tr>\n",
              "      <th>0</th>\n",
              "      <td>0</td>\n",
              "      <td>1467810369</td>\n",
              "      <td>Mon Apr 06 22:19:45 PDT 2009</td>\n",
              "      <td>NO_QUERY</td>\n",
              "      <td>_TheSpecialOne_</td>\n",
              "      <td>@switchfoot http://twitpic.com/2y1zl - Awww, t...</td>\n",
              "    </tr>\n",
              "    <tr>\n",
              "      <th>1</th>\n",
              "      <td>0</td>\n",
              "      <td>1467810672</td>\n",
              "      <td>Mon Apr 06 22:19:49 PDT 2009</td>\n",
              "      <td>NO_QUERY</td>\n",
              "      <td>scotthamilton</td>\n",
              "      <td>is upset that he can't update his Facebook by ...</td>\n",
              "    </tr>\n",
              "    <tr>\n",
              "      <th>2</th>\n",
              "      <td>0</td>\n",
              "      <td>1467810917</td>\n",
              "      <td>Mon Apr 06 22:19:53 PDT 2009</td>\n",
              "      <td>NO_QUERY</td>\n",
              "      <td>mattycus</td>\n",
              "      <td>@Kenichan I dived many times for the ball. Man...</td>\n",
              "    </tr>\n",
              "    <tr>\n",
              "      <th>3</th>\n",
              "      <td>0</td>\n",
              "      <td>1467811184</td>\n",
              "      <td>Mon Apr 06 22:19:57 PDT 2009</td>\n",
              "      <td>NO_QUERY</td>\n",
              "      <td>ElleCTF</td>\n",
              "      <td>my whole body feels itchy and like its on fire</td>\n",
              "    </tr>\n",
              "    <tr>\n",
              "      <th>4</th>\n",
              "      <td>0</td>\n",
              "      <td>1467811193</td>\n",
              "      <td>Mon Apr 06 22:19:57 PDT 2009</td>\n",
              "      <td>NO_QUERY</td>\n",
              "      <td>Karoli</td>\n",
              "      <td>@nationwideclass no, it's not behaving at all....</td>\n",
              "    </tr>\n",
              "  </tbody>\n",
              "</table>\n",
              "</div>\n",
              "      <button class=\"colab-df-convert\" onclick=\"convertToInteractive('df-be72001e-60b7-489d-9362-3f4e920c980b')\"\n",
              "              title=\"Convert this dataframe to an interactive table.\"\n",
              "              style=\"display:none;\">\n",
              "        \n",
              "  <svg xmlns=\"http://www.w3.org/2000/svg\" height=\"24px\"viewBox=\"0 0 24 24\"\n",
              "       width=\"24px\">\n",
              "    <path d=\"M0 0h24v24H0V0z\" fill=\"none\"/>\n",
              "    <path d=\"M18.56 5.44l.94 2.06.94-2.06 2.06-.94-2.06-.94-.94-2.06-.94 2.06-2.06.94zm-11 1L8.5 8.5l.94-2.06 2.06-.94-2.06-.94L8.5 2.5l-.94 2.06-2.06.94zm10 10l.94 2.06.94-2.06 2.06-.94-2.06-.94-.94-2.06-.94 2.06-2.06.94z\"/><path d=\"M17.41 7.96l-1.37-1.37c-.4-.4-.92-.59-1.43-.59-.52 0-1.04.2-1.43.59L10.3 9.45l-7.72 7.72c-.78.78-.78 2.05 0 2.83L4 21.41c.39.39.9.59 1.41.59.51 0 1.02-.2 1.41-.59l7.78-7.78 2.81-2.81c.8-.78.8-2.07 0-2.86zM5.41 20L4 18.59l7.72-7.72 1.47 1.35L5.41 20z\"/>\n",
              "  </svg>\n",
              "      </button>\n",
              "      \n",
              "  <style>\n",
              "    .colab-df-container {\n",
              "      display:flex;\n",
              "      flex-wrap:wrap;\n",
              "      gap: 12px;\n",
              "    }\n",
              "\n",
              "    .colab-df-convert {\n",
              "      background-color: #E8F0FE;\n",
              "      border: none;\n",
              "      border-radius: 50%;\n",
              "      cursor: pointer;\n",
              "      display: none;\n",
              "      fill: #1967D2;\n",
              "      height: 32px;\n",
              "      padding: 0 0 0 0;\n",
              "      width: 32px;\n",
              "    }\n",
              "\n",
              "    .colab-df-convert:hover {\n",
              "      background-color: #E2EBFA;\n",
              "      box-shadow: 0px 1px 2px rgba(60, 64, 67, 0.3), 0px 1px 3px 1px rgba(60, 64, 67, 0.15);\n",
              "      fill: #174EA6;\n",
              "    }\n",
              "\n",
              "    [theme=dark] .colab-df-convert {\n",
              "      background-color: #3B4455;\n",
              "      fill: #D2E3FC;\n",
              "    }\n",
              "\n",
              "    [theme=dark] .colab-df-convert:hover {\n",
              "      background-color: #434B5C;\n",
              "      box-shadow: 0px 1px 3px 1px rgba(0, 0, 0, 0.15);\n",
              "      filter: drop-shadow(0px 1px 2px rgba(0, 0, 0, 0.3));\n",
              "      fill: #FFFFFF;\n",
              "    }\n",
              "  </style>\n",
              "\n",
              "      <script>\n",
              "        const buttonEl =\n",
              "          document.querySelector('#df-be72001e-60b7-489d-9362-3f4e920c980b button.colab-df-convert');\n",
              "        buttonEl.style.display =\n",
              "          google.colab.kernel.accessAllowed ? 'block' : 'none';\n",
              "\n",
              "        async function convertToInteractive(key) {\n",
              "          const element = document.querySelector('#df-be72001e-60b7-489d-9362-3f4e920c980b');\n",
              "          const dataTable =\n",
              "            await google.colab.kernel.invokeFunction('convertToInteractive',\n",
              "                                                     [key], {});\n",
              "          if (!dataTable) return;\n",
              "\n",
              "          const docLinkHtml = 'Like what you see? Visit the ' +\n",
              "            '<a target=\"_blank\" href=https://colab.research.google.com/notebooks/data_table.ipynb>data table notebook</a>'\n",
              "            + ' to learn more about interactive tables.';\n",
              "          element.innerHTML = '';\n",
              "          dataTable['output_type'] = 'display_data';\n",
              "          await google.colab.output.renderOutput(dataTable, element);\n",
              "          const docLink = document.createElement('div');\n",
              "          docLink.innerHTML = docLinkHtml;\n",
              "          element.appendChild(docLink);\n",
              "        }\n",
              "      </script>\n",
              "    </div>\n",
              "  </div>\n",
              "  "
            ]
          },
          "metadata": {},
          "execution_count": 7
        }
      ],
      "source": [
        "data.head()"
      ]
    },
    {
      "cell_type": "code",
      "execution_count": 8,
      "metadata": {
        "colab": {
          "base_uri": "https://localhost:8080/"
        },
        "id": "B2Bpfm5nP0Cp",
        "outputId": "433e05a8-d078-48de-b446-e6b45bc94de3"
      },
      "outputs": [
        {
          "output_type": "execute_result",
          "data": {
            "text/plain": [
              "target     int64\n",
              "id         int64\n",
              "date      object\n",
              "flag      object\n",
              "user      object\n",
              "text      object\n",
              "dtype: object"
            ]
          },
          "metadata": {},
          "execution_count": 8
        }
      ],
      "source": [
        "data.dtypes"
      ]
    },
    {
      "cell_type": "code",
      "execution_count": 9,
      "metadata": {
        "id": "y_c9UuL6P4bl"
      },
      "outputs": [],
      "source": [
        "X=np.array(data['text'])\n",
        "Y=np.array(data['target'])\n",
        "\n",
        "# Set Y=1 for Positive Tweets\n",
        "Y[Y==4]=1"
      ]
    },
    {
      "cell_type": "code",
      "execution_count": 10,
      "metadata": {
        "colab": {
          "base_uri": "https://localhost:8080/"
        },
        "id": "2uX0tu45P4Yy",
        "outputId": "3a44d631-ac97-4b49-f110-528c98e74ee9"
      },
      "outputs": [
        {
          "output_type": "stream",
          "name": "stdout",
          "text": [
            "I am in pain. My back and sides hurt. Not to mention crying is made of fail. \n"
          ]
        }
      ],
      "source": [
        "index = 123  # index in range [0,1599999]\n",
        "\n",
        "print(X[index])"
      ]
    },
    {
      "cell_type": "markdown",
      "metadata": {
        "id": "j2Vz1pV_xZg7"
      },
      "source": [
        "#With Unprocessed Data"
      ]
    },
    {
      "cell_type": "code",
      "execution_count": 11,
      "metadata": {
        "colab": {
          "base_uri": "https://localhost:8080/"
        },
        "id": "7HdkvyHpxZUr",
        "outputId": "942ebb59-913d-4c1b-b466-ec1d2d4befa4"
      },
      "outputs": [
        {
          "output_type": "stream",
          "name": "stdout",
          "text": [
            "No. of distinct tokens = 1185412\n"
          ]
        }
      ],
      "source": [
        "tokenizer = Tokenizer(filters='@')\n",
        "tokenizer.fit_on_texts(X)\n",
        "\n",
        "print('No. of distinct tokens = '+str(len(tokenizer.word_index)))"
      ]
    },
    {
      "cell_type": "code",
      "execution_count": 12,
      "metadata": {
        "id": "JMhyvQFtxZRe"
      },
      "outputs": [],
      "source": [
        "max_vocab=50000"
      ]
    },
    {
      "cell_type": "code",
      "execution_count": 13,
      "metadata": {
        "id": "llkky0AHxZLe"
      },
      "outputs": [],
      "source": [
        "tokenizer = Tokenizer(num_words=max_vocab,filters='@')\n",
        "tokenizer.fit_on_texts(X)"
      ]
    },
    {
      "cell_type": "code",
      "execution_count": 14,
      "metadata": {
        "id": "WAvLwvV1xZJi"
      },
      "outputs": [],
      "source": [
        "X_vectorized=tokenizer.texts_to_sequences(X)"
      ]
    },
    {
      "cell_type": "code",
      "execution_count": 15,
      "metadata": {
        "colab": {
          "base_uri": "https://localhost:8080/"
        },
        "id": "ALzu_U4hxZFP",
        "outputId": "daca6d27-8242-484c-b47c-d249f78d55af"
      },
      "outputs": [
        {
          "output_type": "stream",
          "name": "stdout",
          "text": [
            "Average length of tweets = 11.967963125\n"
          ]
        }
      ],
      "source": [
        "sum=0\n",
        "for sentence in X_vectorized:\n",
        "  sum+=len(sentence)\n",
        "\n",
        "print('Average length of tweets = '+str(sum/len(X_vectorized)))"
      ]
    },
    {
      "cell_type": "code",
      "execution_count": 16,
      "metadata": {
        "colab": {
          "base_uri": "https://localhost:8080/"
        },
        "id": "6fMLVI7HxZAB",
        "outputId": "2ad04f8d-bbb0-4320-b6b9-061ed84942c1"
      },
      "outputs": [
        {
          "output_type": "stream",
          "name": "stdout",
          "text": [
            "(1600000, 20)\n"
          ]
        }
      ],
      "source": [
        "max_length=20\n",
        "X_pad = keras.preprocessing.sequence.pad_sequences(X_vectorized,max_length,padding='post',\n",
        "                                                   truncating='post')\n",
        "\n",
        "print(X_pad.shape)"
      ]
    },
    {
      "cell_type": "code",
      "execution_count": 17,
      "metadata": {
        "id": "nz7Slj1mxhC0"
      },
      "outputs": [],
      "source": [
        "def tokenize(X):\n",
        "  \"\"\"\n",
        "  Tokenize the data using nltk\n",
        "  \"\"\"\n",
        "\n",
        "  treebank = nltk.tokenize.TreebankWordTokenizer()\n",
        "  X_tokenized=[treebank.tokenize(sentence) for sentence in X]  \n",
        "  return X_tokenized"
      ]
    },
    {
      "cell_type": "code",
      "execution_count": 18,
      "metadata": {
        "colab": {
          "base_uri": "https://localhost:8080/"
        },
        "id": "FXMMo0ylx1DA",
        "outputId": "c7af05f9-4056-488c-e662-43c4259581a2"
      },
      "outputs": [
        {
          "output_type": "stream",
          "name": "stdout",
          "text": [
            "\n",
            "Original :\n",
            "I am in pain. My back and sides hurt. Not to mention crying is made of fail. \n",
            "\n",
            "Tokenized :\n",
            "['I', 'am', 'in', 'pain.', 'My', 'back', 'and', 'sides', 'hurt.', 'Not', 'to', 'mention', 'crying', 'is', 'made', 'of', 'fail', '.']\n",
            "\n",
            "Vectorized :\n",
            "[1, 57, 10, 2588, 5, 48, 6, 8826, 2898, 25, 2, 1418, 1086, 8, 187, 12, 2288]\n",
            "\n",
            "Padded :\n",
            "[   1   57   10 2588    5   48    6 8826 2898   25    2 1418 1086    8\n",
            "  187   12 2288    0    0    0]\n"
          ]
        }
      ],
      "source": [
        "index  = 123  # index in range [0,1599999]\n",
        "X_tokenized = tokenize(X)\n",
        "\n",
        "print('\\nOriginal :')\n",
        "print(X[index])\n",
        "print('\\nTokenized :')\n",
        "print(X_tokenized[index])\n",
        "print('\\nVectorized :')\n",
        "print(X_vectorized[index])\n",
        "print('\\nPadded :')\n",
        "print(X_pad[index])\n",
        "\n"
      ]
    },
    {
      "cell_type": "code",
      "execution_count": 19,
      "metadata": {
        "id": "C64iWf-ux_F7"
      },
      "outputs": [],
      "source": [
        "np.random.seed(123)\n",
        "\n",
        "model_1 = keras.models.Sequential(name='model1')\n",
        "\n",
        "model_1.add(InputLayer(input_shape=(20,),name = 'Integer_Encoding'))\n",
        "model_1.add(Embedding(max_vocab, 100,input_length=20,mask_zero=True,\n",
        "                      name='100D_Encoding',trainable=False))\n",
        "model_1.add(Bidirectional(LSTM(64,name='LSTM'),name='Bidirectional_RNN'))\n",
        "model_1.add(Dropout(0.5,name='Regularizer'))\n",
        "model_1.add(Dense(1, activation='sigmoid',name='Sigmoid_Classifier'))"
      ]
    },
    {
      "cell_type": "code",
      "execution_count": 20,
      "metadata": {
        "colab": {
          "base_uri": "https://localhost:8080/"
        },
        "id": "FuA6fPaMx_BL",
        "outputId": "fb15c0eb-526b-49b7-9ff0-6b3c041cb29f"
      },
      "outputs": [
        {
          "output_type": "execute_result",
          "data": {
            "text/plain": [
              "<keras.engine.sequential.Sequential at 0x7f73aed75f50>"
            ]
          },
          "metadata": {},
          "execution_count": 20
        }
      ],
      "source": [
        "import tensorflow as tf \n",
        "from tensorflow.keras.utils import plot_model\n",
        "\n",
        "model_1.compile(optimizer=tf.keras.optimizers.Adam(learning_rate=0.001),loss='binary_crossentropy',\n",
        "                metrics=['accuracy'])\n",
        "model_1"
      ]
    },
    {
      "cell_type": "code",
      "execution_count": 21,
      "metadata": {
        "colab": {
          "base_uri": "https://localhost:8080/"
        },
        "id": "9SkQGNuUx-9C",
        "outputId": "8af0ab45-7047-48c8-8a66-d326ec70f234"
      },
      "outputs": [
        {
          "output_type": "stream",
          "name": "stdout",
          "text": [
            "Model: \"model1\"\n",
            "_________________________________________________________________\n",
            " Layer (type)                Output Shape              Param #   \n",
            "=================================================================\n",
            " 100D_Encoding (Embedding)   (None, 20, 100)           5000000   \n",
            "                                                                 \n",
            " Bidirectional_RNN (Bidirect  (None, 128)              84480     \n",
            " ional)                                                          \n",
            "                                                                 \n",
            " Regularizer (Dropout)       (None, 128)               0         \n",
            "                                                                 \n",
            " Sigmoid_Classifier (Dense)  (None, 1)                 129       \n",
            "                                                                 \n",
            "=================================================================\n",
            "Total params: 5,084,609\n",
            "Trainable params: 84,609\n",
            "Non-trainable params: 5,000,000\n",
            "_________________________________________________________________\n"
          ]
        }
      ],
      "source": [
        "model_1.summary()"
      ]
    },
    {
      "cell_type": "code",
      "execution_count": 22,
      "metadata": {
        "colab": {
          "base_uri": "https://localhost:8080/"
        },
        "id": "0u8Oqs1Qx0_r",
        "outputId": "f34e36e0-525a-44e9-f97b-c01f7e589771"
      },
      "outputs": [
        {
          "output_type": "stream",
          "name": "stdout",
          "text": [
            "1120000\n",
            "480000\n",
            "1120000\n",
            "480000\n"
          ]
        }
      ],
      "source": [
        "np.random.seed(123)\n",
        "\n",
        "X_train, X_test, Y_train, Y_test = train_test_split (X_pad,Y.reshape(Y.shape[0],1),test_size=0.30)\n",
        "\n",
        "print(len(X_train))\n",
        "print(len(X_test))\n",
        "print(len(Y_train))\n",
        "print(len(Y_test))"
      ]
    },
    {
      "cell_type": "code",
      "execution_count": 23,
      "metadata": {
        "colab": {
          "base_uri": "https://localhost:8080/"
        },
        "id": "ZAM20xIqyMed",
        "outputId": "f439630b-112f-46ad-d0d7-789a4432f83b"
      },
      "outputs": [
        {
          "output_type": "stream",
          "name": "stdout",
          "text": [
            "Epoch 1/15\n",
            "766/766 [==============================] - 345s 436ms/step - loss: 0.6460 - accuracy: 0.6269 - val_loss: 0.6308 - val_accuracy: 0.6423\n",
            "Epoch 2/15\n",
            "766/766 [==============================] - 330s 431ms/step - loss: 0.6189 - accuracy: 0.6549 - val_loss: 0.6001 - val_accuracy: 0.6715\n",
            "Epoch 3/15\n",
            "766/766 [==============================] - 329s 430ms/step - loss: 0.5866 - accuracy: 0.6859 - val_loss: 0.5714 - val_accuracy: 0.6988\n",
            "Epoch 4/15\n",
            "766/766 [==============================] - 330s 431ms/step - loss: 0.5615 - accuracy: 0.7076 - val_loss: 0.5532 - val_accuracy: 0.7135\n",
            "Epoch 5/15\n",
            "766/766 [==============================] - 333s 435ms/step - loss: 0.5457 - accuracy: 0.7203 - val_loss: 0.5354 - val_accuracy: 0.7275\n",
            "Epoch 6/15\n",
            "766/766 [==============================] - 331s 433ms/step - loss: 0.5346 - accuracy: 0.7297 - val_loss: 0.5282 - val_accuracy: 0.7332\n",
            "Epoch 7/15\n",
            "766/766 [==============================] - 329s 429ms/step - loss: 0.5258 - accuracy: 0.7352 - val_loss: 0.5184 - val_accuracy: 0.7401\n",
            "Epoch 8/15\n",
            "766/766 [==============================] - 331s 432ms/step - loss: 0.5199 - accuracy: 0.7403 - val_loss: 0.5133 - val_accuracy: 0.7441\n",
            "Epoch 9/15\n",
            "766/766 [==============================] - 334s 436ms/step - loss: 0.5138 - accuracy: 0.7448 - val_loss: 0.5093 - val_accuracy: 0.7469\n",
            "Epoch 10/15\n",
            "766/766 [==============================] - 334s 436ms/step - loss: 0.5089 - accuracy: 0.7477 - val_loss: 0.5053 - val_accuracy: 0.7501\n",
            "Epoch 11/15\n",
            "766/766 [==============================] - 340s 444ms/step - loss: 0.5050 - accuracy: 0.7502 - val_loss: 0.5012 - val_accuracy: 0.7532\n",
            "Epoch 12/15\n",
            "766/766 [==============================] - 333s 435ms/step - loss: 0.5010 - accuracy: 0.7528 - val_loss: 0.5090 - val_accuracy: 0.7450\n",
            "Epoch 13/15\n",
            "766/766 [==============================] - 332s 433ms/step - loss: 0.4977 - accuracy: 0.7557 - val_loss: 0.4970 - val_accuracy: 0.7559\n",
            "Epoch 14/15\n",
            "766/766 [==============================] - 331s 432ms/step - loss: 0.4942 - accuracy: 0.7581 - val_loss: 0.4959 - val_accuracy: 0.7566\n",
            "Epoch 15/15\n",
            "766/766 [==============================] - 332s 434ms/step - loss: 0.4918 - accuracy: 0.7594 - val_loss: 0.4934 - val_accuracy: 0.7577\n"
          ]
        }
      ],
      "source": [
        "history_model_1 = model_1.fit(X_train,Y_train,batch_size=1024,epochs=15,validation_split=0.30)"
      ]
    },
    {
      "cell_type": "code",
      "execution_count": 24,
      "metadata": {
        "colab": {
          "base_uri": "https://localhost:8080/"
        },
        "id": "mE6jLP0cyMaG",
        "outputId": "3fb88bac-7a13-4610-b069-e24e93069dc2"
      },
      "outputs": [
        {
          "output_type": "stream",
          "name": "stdout",
          "text": [
            "15000/15000 [==============================] - 161s 11ms/step - loss: 0.4954 - accuracy: 0.7571\n"
          ]
        },
        {
          "output_type": "execute_result",
          "data": {
            "text/plain": [
              "[0.4954434037208557, 0.7570854425430298]"
            ]
          },
          "metadata": {},
          "execution_count": 24
        }
      ],
      "source": [
        "model_1.evaluate(X_test,Y_test)"
      ]
    },
    {
      "cell_type": "code",
      "execution_count": 24,
      "metadata": {
        "id": "BUBVEMhJx08M"
      },
      "outputs": [],
      "source": [
        ""
      ]
    },
    {
      "cell_type": "code",
      "execution_count": 24,
      "metadata": {
        "id": "QtAIkNTMxY8s"
      },
      "outputs": [],
      "source": [
        ""
      ]
    },
    {
      "cell_type": "markdown",
      "metadata": {
        "id": "H996134KfcUr"
      },
      "source": [
        "#Word Embedding"
      ]
    },
    {
      "cell_type": "code",
      "execution_count": 25,
      "metadata": {
        "id": "QDtNdN84P4WG"
      },
      "outputs": [],
      "source": [
        "def tokenize(X):\n",
        "  \"\"\"\n",
        "  Tokenize the data using nltk\n",
        "  \"\"\"\n",
        "\n",
        "  treebank = nltk.tokenize.TreebankWordTokenizer()\n",
        "  X_tokenized=[treebank.tokenize(sentence) for sentence in X]  \n",
        "  return X_tokenized\n",
        "\n",
        "\n",
        "def remove_stopwords(X):\n",
        "  \"\"\"\n",
        "  Remove Stopwords using nltk\n",
        "  \"\"\"\n",
        "\n",
        "  stopwords=nltk.corpus.stopwords.words('english') + ['@']\n",
        "  X_without_stopwords = []\n",
        "\n",
        "  for sentence in X:\n",
        "\n",
        "    temp = [word for word in sentence if not word in stopwords]\n",
        "    X_without_stopwords.append(temp) \n",
        "\n",
        "  return X_without_stopwords\n",
        "\n",
        "\n",
        "def stem(X,type='porter'):\n",
        "  \"\"\"\n",
        "  Perform Stemming using nltk\n",
        "  type = 'Porter','Snowball','Lancaster'\n",
        "  \"\"\"\n",
        "  \n",
        "  if type == 'porter':\n",
        "    stemmer= nltk.stem.PorterStemmer()\n",
        "  elif type == 'snowball':\n",
        "    stemmer = nltk.stem.SnowballStemmer()\n",
        "  elif type == 'lancaster':\n",
        "    stemmer = nltk.stem.LancasterStemmer()    \n",
        "\n",
        "  \n",
        "  X_stemmed = []\n",
        "\n",
        "  for sentence in X:\n",
        "\n",
        "    temp = [stemmer.stem(word) for word in sentence]\n",
        "    X_stemmed.append(temp)\n",
        "\n",
        "  return X_stemmed \n",
        "\n",
        "\n",
        "\n",
        "def get_wordnet_pos(treebank_tag):\n",
        "        \"\"\"\n",
        "        return WORDNET POS compliance to WORDENT lemmatization (a,n,r,v) \n",
        "        \"\"\"\n",
        "        if treebank_tag.startswith('J'):\n",
        "            return 'a'\n",
        "        elif treebank_tag.startswith('V'):\n",
        "            return 'v'\n",
        "        elif treebank_tag.startswith('N'):\n",
        "            return 'n'\n",
        "        elif treebank_tag.startswith('R'):\n",
        "            return 'r'\n",
        "        else:\n",
        "            return 'n'\n",
        "\n",
        "\n",
        "def lemmatize(X):\n",
        "  \"\"\"\n",
        "  Lemmatize words using corresponding POS tag\n",
        "  \"\"\"\n",
        "\n",
        "  lemmatizer = nltk.stem.WordNetLemmatizer()\n",
        "  \n",
        "  X_pos = []\n",
        "  X_lemmatized = []\n",
        "\n",
        "  for sentence in X :\n",
        "\n",
        "    temp = nltk.pos_tag(sentence)\n",
        "    X_pos.append(temp)  \n",
        "\n",
        "  for sentence in X_pos :\n",
        "\n",
        "    temp = [ lemmatizer.lemmatize(word[0],pos=get_wordnet_pos(word[1])) for word in sentence]\n",
        "    X_lemmatized.append(temp)  \n",
        "\n",
        "  return X_lemmatized    "
      ]
    },
    {
      "cell_type": "code",
      "execution_count": 26,
      "metadata": {
        "id": "YZ6RsNU9P4Tf"
      },
      "outputs": [],
      "source": [
        "X_tokenized = tokenize (X)\n",
        "\n",
        "X_without_stopwords = remove_stopwords ( X_tokenized )\n",
        "\n",
        "X_lemmatized = lemmatize ( X_without_stopwords )\n",
        "\n",
        "X_clean = []\n",
        "\n",
        "for sentence in X_lemmatized:\n",
        "\n",
        "  temp = \" \".join(sentence)\n",
        "  X_clean.append(temp)"
      ]
    },
    {
      "cell_type": "code",
      "execution_count": 27,
      "metadata": {
        "colab": {
          "base_uri": "https://localhost:8080/"
        },
        "id": "5FbBAOp4QLzH",
        "outputId": "229f11c3-b597-402b-f760-3fd9f1ebfacd"
      },
      "outputs": [
        {
          "output_type": "stream",
          "name": "stdout",
          "text": [
            "No. of distinct tokens = 837032\n"
          ]
        }
      ],
      "source": [
        "tokenizer = Tokenizer(filters='@')\n",
        "tokenizer.fit_on_texts(X_clean)\n",
        "\n",
        "print('No. of distinct tokens = '+str(len(tokenizer.word_index)))"
      ]
    },
    {
      "cell_type": "code",
      "execution_count": 28,
      "metadata": {
        "id": "4uPC5dTQQLvy"
      },
      "outputs": [],
      "source": [
        "max_vocab=50000"
      ]
    },
    {
      "cell_type": "code",
      "execution_count": 29,
      "metadata": {
        "id": "lhOyYFY_QLsi"
      },
      "outputs": [],
      "source": [
        "tokenizer = Tokenizer(num_words=max_vocab,filters='@')\n",
        "tokenizer.fit_on_texts(X_clean)"
      ]
    },
    {
      "cell_type": "code",
      "execution_count": 30,
      "metadata": {
        "id": "qjpMDZmOQUQH"
      },
      "outputs": [],
      "source": [
        "# Vectorize input text using Vocabulary\n",
        "\n",
        "X_clean_vectorized=tokenizer.texts_to_sequences(X_clean)"
      ]
    },
    {
      "cell_type": "code",
      "execution_count": 31,
      "metadata": {
        "colab": {
          "base_uri": "https://localhost:8080/"
        },
        "id": "j2AKh-XrZOP6",
        "outputId": "4c86a13a-40fe-4e01-d67b-7ee7a903f530"
      },
      "outputs": [
        {
          "output_type": "stream",
          "name": "stdout",
          "text": [
            "Average length of tweets = 10.064181875\n"
          ]
        }
      ],
      "source": [
        "# Count average length of tweets\n",
        "\n",
        "length=[]\n",
        "for sentence in X_clean_vectorized:\n",
        "  length.append(len(sentence))\n",
        "  \n",
        "print('Average length of tweets = '+str(np.mean(length)))"
      ]
    },
    {
      "cell_type": "code",
      "execution_count": 32,
      "metadata": {
        "id": "aYCzFo81ZOMO"
      },
      "outputs": [],
      "source": [
        "# Define Maximum input length of the Model\n",
        "\n",
        "max_length=20"
      ]
    },
    {
      "cell_type": "code",
      "execution_count": 33,
      "metadata": {
        "colab": {
          "base_uri": "https://localhost:8080/"
        },
        "id": "y0OycdBRZOJc",
        "outputId": "af769593-9df4-4d4d-f7dc-ec6ffaa54c3c"
      },
      "outputs": [
        {
          "output_type": "stream",
          "name": "stdout",
          "text": [
            "(1600000, 20)\n"
          ]
        }
      ],
      "source": [
        "X_clean_pad = keras.preprocessing.sequence.pad_sequences(X_clean_vectorized,max_length,padding='post',\n",
        "                                                         truncating='post')\n",
        "\n",
        "print(X_clean_pad.shape)"
      ]
    },
    {
      "cell_type": "code",
      "execution_count": 34,
      "metadata": {
        "colab": {
          "base_uri": "https://localhost:8080/"
        },
        "id": "7L41AmYbZOBc",
        "outputId": "28f7fe1c-0962-40a0-f3f4-e4c4db059949"
      },
      "outputs": [
        {
          "output_type": "stream",
          "name": "stdout",
          "text": [
            "\n",
            "Original :\n",
            "I am in pain. My back and sides hurt. Not to mention crying is made of fail. \n",
            "\n",
            "Tokenized :\n",
            "['I', 'am', 'in', 'pain.', 'My', 'back', 'and', 'sides', 'hurt.', 'Not', 'to', 'mention', 'crying', 'is', 'made', 'of', 'fail', '.']\n",
            "\n",
            "Stopwords removed :\n",
            "['I', 'pain.', 'My', 'back', 'sides', 'hurt.', 'Not', 'mention', 'crying', 'made', 'fail', '.']\n",
            "\n",
            "POS tagged :\n",
            "[('I', 'PRP'), ('pain.', 'VBP'), ('My', 'PRP$'), ('back', 'NN'), ('sides', 'NNS'), ('hurt.', 'VBP'), ('Not', 'RB'), ('mention', 'NN'), ('crying', 'VBG'), ('made', 'VBN'), ('fail', 'NN'), ('.', '.')]\n",
            "\n",
            "Lemmatized :\n",
            "['I', 'pain.', 'My', 'back', 'side', 'hurt.', 'Not', 'mention', 'cry', 'make', 'fail', '.']\n",
            "\n",
            "Clean :\n",
            "I pain. My back side hurt. Not mention cry make fail .\n",
            "\n",
            "Vectorized :\n",
            "[2, 3430, 62, 30, 591, 4231, 146, 831, 308, 33, 426, 4]\n",
            "\n",
            "Padded :\n",
            "[   2 3430   62   30  591 4231  146  831  308   33  426    4    0    0\n",
            "    0    0    0    0    0    0]\n"
          ]
        }
      ],
      "source": [
        "index  = 123  # index in range [0,1599999]\n",
        "\n",
        "print('\\nOriginal :')\n",
        "print(X[index])\n",
        "print('\\nTokenized :')\n",
        "print(X_tokenized[index])\n",
        "print('\\nStopwords removed :')\n",
        "print(X_without_stopwords[index])\n",
        "print('\\nPOS tagged :')\n",
        "print(nltk.pos_tag(X_without_stopwords[index]))\n",
        "print('\\nLemmatized :')\n",
        "print(X_lemmatized[index])\n",
        "print('\\nClean :')\n",
        "print(X_clean[index])\n",
        "print('\\nVectorized :')\n",
        "print(X_clean_vectorized[index])\n",
        "print('\\nPadded :')\n",
        "print(X_clean_pad[index])"
      ]
    },
    {
      "cell_type": "markdown",
      "metadata": {
        "id": "DQy-VPWkgDry"
      },
      "source": [
        "**Using pre-trained Word Embeddings (GloVe)**"
      ]
    },
    {
      "cell_type": "code",
      "execution_count": 35,
      "metadata": {
        "id": "Z25E3V5RZiyj"
      },
      "outputs": [],
      "source": [
        "embedding_path = \"/content/drive/MyDrive/CS6890Project/data/glove.6B.100d.txt\""
      ]
    },
    {
      "cell_type": "code",
      "execution_count": 36,
      "metadata": {
        "id": "QDux-Z4GZb0w"
      },
      "outputs": [],
      "source": [
        "embeddings_index = dict()\n",
        "f = open(embedding_path)\n",
        "for line in f:\n",
        "\tvalues = line.split()\n",
        "\tword = values[0]\n",
        "\tcoefs = np.asarray(values[1:], dtype='float32')\n",
        "\tembeddings_index[word] = coefs\n",
        "f.close()"
      ]
    },
    {
      "cell_type": "code",
      "execution_count": 37,
      "metadata": {
        "id": "LA1JWIRZZbxe"
      },
      "outputs": [],
      "source": [
        "embedding_matrix = np.zeros((max_vocab, 100))\n",
        "for i in range(1,max_vocab):\n",
        "\tembedding_vector = embeddings_index.get(tokenizer.index_word[i])\n",
        "\tif embedding_vector is not None:\n",
        "\t\tembedding_matrix[i] = embedding_vector"
      ]
    },
    {
      "cell_type": "code",
      "execution_count": 38,
      "metadata": {
        "id": "tGcVPz5qaaE0"
      },
      "outputs": [],
      "source": [
        "import tensorflow as tf "
      ]
    },
    {
      "cell_type": "code",
      "execution_count": 39,
      "metadata": {
        "id": "XM8fdIg7ZbvR"
      },
      "outputs": [],
      "source": [
        "np.random.seed(123)\n",
        "\n",
        "model_2 = keras.models.Sequential(name='model2')\n",
        "\n",
        "model_2.add(InputLayer(input_shape=(20,),name='Integer_Encoding_after_Preprocessing'))\n",
        "model_2.add(Embedding(max_vocab, 100, weights=[embedding_matrix], input_length=max_length,mask_zero=True,\n",
        "                      name='Pretrained_GloVe_100D', trainable=False))\n",
        "model_2.add(Bidirectional(LSTM(64,name='LSTM'),name='Bidirectional_RNN'))\n",
        "model_2.add(Dropout(0.5,name='Regularizer'))\n",
        "model_2.add(Dense(1, activation='sigmoid',name='Sigmoid_Classifier'))"
      ]
    },
    {
      "cell_type": "code",
      "execution_count": 40,
      "metadata": {
        "id": "DtUfjTlaZbrn"
      },
      "outputs": [],
      "source": [
        "model_2.compile(optimizer=tf.keras.optimizers.Adam(learning_rate=0.001),loss='binary_crossentropy',\n",
        "                metrics=['accuracy'])"
      ]
    },
    {
      "cell_type": "code",
      "execution_count": 41,
      "metadata": {
        "colab": {
          "base_uri": "https://localhost:8080/"
        },
        "id": "-Cfk-OGOZ5Ld",
        "outputId": "576565ad-0ba9-4903-d34c-57de9a14df60"
      },
      "outputs": [
        {
          "output_type": "stream",
          "name": "stdout",
          "text": [
            "Model: \"model2\"\n",
            "_________________________________________________________________\n",
            " Layer (type)                Output Shape              Param #   \n",
            "=================================================================\n",
            " Pretrained_GloVe_100D (Embe  (None, 20, 100)          5000000   \n",
            " dding)                                                          \n",
            "                                                                 \n",
            " Bidirectional_RNN (Bidirect  (None, 128)              84480     \n",
            " ional)                                                          \n",
            "                                                                 \n",
            " Regularizer (Dropout)       (None, 128)               0         \n",
            "                                                                 \n",
            " Sigmoid_Classifier (Dense)  (None, 1)                 129       \n",
            "                                                                 \n",
            "=================================================================\n",
            "Total params: 5,084,609\n",
            "Trainable params: 84,609\n",
            "Non-trainable params: 5,000,000\n",
            "_________________________________________________________________\n"
          ]
        }
      ],
      "source": [
        "model_2.summary()"
      ]
    },
    {
      "cell_type": "code",
      "execution_count": 42,
      "metadata": {
        "colab": {
          "base_uri": "https://localhost:8080/"
        },
        "id": "jbZIZ2FkZ5Hs",
        "outputId": "a436583a-8c37-4cfe-d384-a01023d2f921"
      },
      "outputs": [
        {
          "output_type": "stream",
          "name": "stdout",
          "text": [
            "(1120000, 20)\n",
            "(480000, 20)\n",
            "(1120000, 1)\n",
            "(480000, 1)\n"
          ]
        }
      ],
      "source": [
        "np.random.seed(123)\n",
        "\n",
        "X_train, X_test, Y_train, Y_test = train_test_split (X_clean_pad,Y.reshape(Y.shape[0],1),test_size=0.30)\n",
        "\n",
        "print(X_train.shape)\n",
        "print(X_test.shape)\n",
        "print(Y_train.shape)\n",
        "print(Y_test.shape)"
      ]
    },
    {
      "cell_type": "code",
      "execution_count": 43,
      "metadata": {
        "id": "DQ4QUUJQadtq",
        "colab": {
          "base_uri": "https://localhost:8080/"
        },
        "outputId": "3f3f5a03-c9d3-47b8-fd54-9c1647e16fd5"
      },
      "outputs": [
        {
          "output_type": "stream",
          "name": "stdout",
          "text": [
            "Epoch 1/15\n",
            "766/766 [==============================] - 342s 435ms/step - loss: 0.5394 - accuracy: 0.7245 - val_loss: 0.5000 - val_accuracy: 0.7545\n",
            "Epoch 2/15\n",
            "766/766 [==============================] - 332s 434ms/step - loss: 0.4938 - accuracy: 0.7585 - val_loss: 0.4805 - val_accuracy: 0.7671\n",
            "Epoch 3/15\n",
            "766/766 [==============================] - 333s 435ms/step - loss: 0.4776 - accuracy: 0.7694 - val_loss: 0.4690 - val_accuracy: 0.7739\n",
            "Epoch 4/15\n",
            "766/766 [==============================] - 329s 430ms/step - loss: 0.4679 - accuracy: 0.7754 - val_loss: 0.4707 - val_accuracy: 0.7729\n",
            "Epoch 5/15\n",
            "766/766 [==============================] - 330s 431ms/step - loss: 0.4608 - accuracy: 0.7805 - val_loss: 0.4590 - val_accuracy: 0.7809\n",
            "Epoch 6/15\n",
            "766/766 [==============================] - 328s 429ms/step - loss: 0.4562 - accuracy: 0.7829 - val_loss: 0.4585 - val_accuracy: 0.7799\n",
            "Epoch 7/15\n",
            "766/766 [==============================] - 327s 427ms/step - loss: 0.4508 - accuracy: 0.7864 - val_loss: 0.4560 - val_accuracy: 0.7823\n",
            "Epoch 8/15\n",
            "766/766 [==============================] - 328s 428ms/step - loss: 0.4468 - accuracy: 0.7887 - val_loss: 0.4518 - val_accuracy: 0.7850\n",
            "Epoch 9/15\n",
            "766/766 [==============================] - 331s 432ms/step - loss: 0.4430 - accuracy: 0.7913 - val_loss: 0.4511 - val_accuracy: 0.7862\n",
            "Epoch 10/15\n",
            "766/766 [==============================] - 329s 429ms/step - loss: 0.4396 - accuracy: 0.7933 - val_loss: 0.4485 - val_accuracy: 0.7873\n",
            "Epoch 11/15\n",
            "766/766 [==============================] - 330s 430ms/step - loss: 0.4371 - accuracy: 0.7949 - val_loss: 0.4498 - val_accuracy: 0.7861\n",
            "Epoch 12/15\n",
            "766/766 [==============================] - 332s 434ms/step - loss: 0.4334 - accuracy: 0.7971 - val_loss: 0.4492 - val_accuracy: 0.7882\n",
            "Epoch 13/15\n",
            "766/766 [==============================] - 331s 433ms/step - loss: 0.4308 - accuracy: 0.7987 - val_loss: 0.4474 - val_accuracy: 0.7885\n",
            "Epoch 14/15\n",
            "766/766 [==============================] - 331s 432ms/step - loss: 0.4283 - accuracy: 0.8000 - val_loss: 0.4484 - val_accuracy: 0.7870\n",
            "Epoch 15/15\n",
            "766/766 [==============================] - 330s 431ms/step - loss: 0.4259 - accuracy: 0.8013 - val_loss: 0.4463 - val_accuracy: 0.7898\n"
          ]
        }
      ],
      "source": [
        "# Train the model\n",
        "\n",
        "history_model_2 = model_2.fit(X_train,Y_train,batch_size=1024,epochs=15,validation_split=0.30)"
      ]
    },
    {
      "cell_type": "code",
      "execution_count": 44,
      "metadata": {
        "id": "jIl5kdaivfri",
        "colab": {
          "base_uri": "https://localhost:8080/"
        },
        "outputId": "6d2d3733-b533-4f87-8dc7-d04c63ada557"
      },
      "outputs": [
        {
          "output_type": "stream",
          "name": "stdout",
          "text": [
            "15000/15000 [==============================] - 165s 11ms/step - loss: 0.4467 - accuracy: 0.7892\n"
          ]
        },
        {
          "output_type": "execute_result",
          "data": {
            "text/plain": [
              "[0.44669944047927856, 0.7892208099365234]"
            ]
          },
          "metadata": {},
          "execution_count": 44
        }
      ],
      "source": [
        "model_2.evaluate(X_test,Y_test)"
      ]
    },
    {
      "cell_type": "code",
      "execution_count": 44,
      "metadata": {
        "id": "-sX5myA8yeQU"
      },
      "outputs": [],
      "source": [
        ""
      ]
    },
    {
      "cell_type": "code",
      "execution_count": 45,
      "metadata": {
        "id": "w9NkxlGdf3Iz"
      },
      "outputs": [],
      "source": [
        "n_epochs=len(history_model_1.history['loss'])\n",
        "e = list(range(1,n_epochs+1))"
      ]
    },
    {
      "cell_type": "code",
      "execution_count": 51,
      "metadata": {
        "id": "mE_bPcDzf3Fj",
        "colab": {
          "base_uri": "https://localhost:8080/",
          "height": 279
        },
        "outputId": "93806a01-b361-4245-d52f-1d258241297d"
      },
      "outputs": [
        {
          "output_type": "display_data",
          "data": {
            "text/plain": [
              "<Figure size 432x288 with 1 Axes>"
            ],
            "image/png": "[encoded data removed]"
          },
          "metadata": {
            "needs_background": "light"
          }
        }
      ],
      "source": [
        "# Training Loss\n",
        "\n",
        "plt.plot(e,history_model_1.history['loss'],'r',label='Model 1')\n",
        "plt.plot(e,history_model_2.history['loss'],'b',label='Model 2')\n",
        "plt.xlabel('Epochs')\n",
        "plt.ylabel('Training Loss')\n",
        "plt.legend()\n",
        "plt.show()"
      ]
    },
    {
      "cell_type": "code",
      "execution_count": 47,
      "metadata": {
        "id": "zOQ989XJHher",
        "colab": {
          "base_uri": "https://localhost:8080/",
          "height": 279
        },
        "outputId": "bfab446d-b341-4d40-9fe5-bbd458ecdfcc"
      },
      "outputs": [
        {
          "output_type": "display_data",
          "data": {
            "text/plain": [
              "<Figure size 432x288 with 1 Axes>"
            ],
            "image/png": "[encoded data removed]"
          },
          "metadata": {
            "needs_background": "light"
          }
        }
      ],
      "source": [
        "# Validation Loss\n",
        "\n",
        "plt.plot(e,history_model_1.history['val_loss'],'r',label='Model 1')\n",
        "plt.plot(e,history_model_2.history['val_loss'],'b',label='Model 2')\n",
        "plt.xlabel('Epochs')\n",
        "plt.ylabel('Validation Loss')\n",
        "plt.legend()\n",
        "plt.show()"
      ]
    },
    {
      "cell_type": "code",
      "execution_count": 49,
      "metadata": {
        "id": "PrOZgn_mHhaJ",
        "colab": {
          "base_uri": "https://localhost:8080/",
          "height": 279
        },
        "outputId": "a7e74700-37f6-48d9-a0dc-706bad9acfff"
      },
      "outputs": [
        {
          "output_type": "display_data",
          "data": {
            "text/plain": [
              "<Figure size 432x288 with 1 Axes>"
            ],
            "image/png": "[encoded data removed]"
          },
          "metadata": {
            "needs_background": "light"
          }
        }
      ],
      "source": [
        "# Training Accuracy\n",
        "\n",
        "plt.plot(e,history_model_1.history['val_accuracy'],'r',label='Model 1')\n",
        "plt.plot(e,history_model_2.history['val_accuracy'],'b',label='Model 2')\n",
        "plt.xlabel('Epochs')\n",
        "plt.ylabel('Training Accuracy')\n",
        "plt.legend()\n",
        "plt.show()"
      ]
    },
    {
      "cell_type": "code",
      "execution_count": 50,
      "metadata": {
        "id": "6j4v73jXHhV2",
        "colab": {
          "base_uri": "https://localhost:8080/",
          "height": 279
        },
        "outputId": "d75d4620-0b25-4012-a96d-f112d1cfc1e1"
      },
      "outputs": [
        {
          "output_type": "display_data",
          "data": {
            "text/plain": [
              "<Figure size 432x288 with 1 Axes>"
            ],
            "image/png": "[encoded data removed]"
          },
          "metadata": {
            "needs_background": "light"
          }
        }
      ],
      "source": [
        "# Validation Accuracy\n",
        "\n",
        "plt.plot(e,history_model_1.history['val_accuracy'],'r',label='Model 1')\n",
        "plt.plot(e,history_model_2.history['val_accuracy'],'b',label='Model 2')\n",
        "plt.xlabel('Epochs')\n",
        "plt.ylabel('Validation Accuracy')\n",
        "plt.legend()\n",
        "plt.show()"
      ]
    },
    {
      "cell_type": "code",
      "source": [
        ""
      ],
      "metadata": {
        "id": "OgY-3sTYGxN6"
      },
      "execution_count": null,
      "outputs": []
    },
    {
      "cell_type": "code",
      "source": [
        ""
      ],
      "metadata": {
        "id": "G9fUg2Y7GxKF"
      },
      "execution_count": null,
      "outputs": []
    },
    {
      "cell_type": "code",
      "source": [
        ""
      ],
      "metadata": {
        "id": "R8GmpZv-GyjD"
      },
      "execution_count": null,
      "outputs": []
    },
    {
      "cell_type": "code",
      "source": [
        ""
      ],
      "metadata": {
        "id": "V9s9FHb6Gyfl"
      },
      "execution_count": null,
      "outputs": []
    },
    {
      "cell_type": "code",
      "source": [
        ""
      ],
      "metadata": {
        "id": "LLN3VwRZGyZd"
      },
      "execution_count": null,
      "outputs": []
    }
  ],
  "metadata": {
    "colab": {
      "name": "lstm_word embedding.ipynb",
      "provenance": []
    },
    "kernelspec": {
      "display_name": "Python 3",
      "name": "python3"
    },
    "language_info": {
      "name": "python"
    }
  },
  "nbformat": 4,
  "nbformat_minor": 0
}