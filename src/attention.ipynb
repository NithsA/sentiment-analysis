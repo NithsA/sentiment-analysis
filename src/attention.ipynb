{
  "cells": [
    {
      "cell_type": "code",
      "execution_count": 1,
      "metadata": {
        "id": "wokR3ujrNEbk"
      },
      "outputs": [],
      "source": [
        "import pandas as pd\n",
        "import numpy as np\n",
        "import matplotlib.pyplot as plt\n",
        "import nltk\n",
        "import keras\n",
        "from keras.preprocessing.text import Tokenizer\n",
        "from keras.layers import Dense, Dropout, Embedding, LSTM, Bidirectional,InputLayer\n",
        "from sklearn.model_selection import train_test_split"
      ]
    },
    {
      "cell_type": "code",
      "execution_count": 2,
      "metadata": {
        "colab": {
          "base_uri": "https://localhost:8080/"
        },
        "id": "azL1Ja52PmXq",
        "outputId": "7434a5c7-a57f-4344-99e0-c7c1ba07a047"
      },
      "outputs": [
        {
          "output_type": "stream",
          "name": "stdout",
          "text": [
            "[nltk_data] Downloading collection 'all'\n",
            "[nltk_data]    | \n",
            "[nltk_data]    | Downloading package abc to /root/nltk_data...\n",
            "[nltk_data]    |   Unzipping corpora/abc.zip.\n",
            "[nltk_data]    | Downloading package alpino to /root/nltk_data...\n",
            "[nltk_data]    |   Unzipping corpora/alpino.zip.\n",
            "[nltk_data]    | Downloading package averaged_perceptron_tagger to\n",
            "[nltk_data]    |     /root/nltk_data...\n",
            "[nltk_data]    |   Unzipping taggers/averaged_perceptron_tagger.zip.\n",
            "[nltk_data]    | Downloading package averaged_perceptron_tagger_ru to\n",
            "[nltk_data]    |     /root/nltk_data...\n",
            "[nltk_data]    |   Unzipping\n",
            "[nltk_data]    |       taggers/averaged_perceptron_tagger_ru.zip.\n",
            "[nltk_data]    | Downloading package basque_grammars to\n",
            "[nltk_data]    |     /root/nltk_data...\n",
            "[nltk_data]    |   Unzipping grammars/basque_grammars.zip.\n",
            "[nltk_data]    | Downloading package biocreative_ppi to\n",
            "[nltk_data]    |     /root/nltk_data...\n",
            "[nltk_data]    |   Unzipping corpora/biocreative_ppi.zip.\n",
            "[nltk_data]    | Downloading package bllip_wsj_no_aux to\n",
            "[nltk_data]    |     /root/nltk_data...\n",
            "[nltk_data]    |   Unzipping models/bllip_wsj_no_aux.zip.\n",
            "[nltk_data]    | Downloading package book_grammars to\n",
            "[nltk_data]    |     /root/nltk_data...\n",
            "[nltk_data]    |   Unzipping grammars/book_grammars.zip.\n",
            "[nltk_data]    | Downloading package brown to /root/nltk_data...\n",
            "[nltk_data]    |   Unzipping corpora/brown.zip.\n",
            "[nltk_data]    | Downloading package brown_tei to /root/nltk_data...\n",
            "[nltk_data]    |   Unzipping corpora/brown_tei.zip.\n",
            "[nltk_data]    | Downloading package cess_cat to /root/nltk_data...\n",
            "[nltk_data]    |   Unzipping corpora/cess_cat.zip.\n",
            "[nltk_data]    | Downloading package cess_esp to /root/nltk_data...\n",
            "[nltk_data]    |   Unzipping corpora/cess_esp.zip.\n",
            "[nltk_data]    | Downloading package chat80 to /root/nltk_data...\n",
            "[nltk_data]    |   Unzipping corpora/chat80.zip.\n",
            "[nltk_data]    | Downloading package city_database to\n",
            "[nltk_data]    |     /root/nltk_data...\n",
            "[nltk_data]    |   Unzipping corpora/city_database.zip.\n",
            "[nltk_data]    | Downloading package cmudict to /root/nltk_data...\n",
            "[nltk_data]    |   Unzipping corpora/cmudict.zip.\n",
            "[nltk_data]    | Downloading package comparative_sentences to\n",
            "[nltk_data]    |     /root/nltk_data...\n",
            "[nltk_data]    |   Unzipping corpora/comparative_sentences.zip.\n",
            "[nltk_data]    | Downloading package comtrans to /root/nltk_data...\n",
            "[nltk_data]    | Downloading package conll2000 to /root/nltk_data...\n",
            "[nltk_data]    |   Unzipping corpora/conll2000.zip.\n",
            "[nltk_data]    | Downloading package conll2002 to /root/nltk_data...\n",
            "[nltk_data]    |   Unzipping corpora/conll2002.zip.\n",
            "[nltk_data]    | Downloading package conll2007 to /root/nltk_data...\n",
            "[nltk_data]    | Downloading package crubadan to /root/nltk_data...\n",
            "[nltk_data]    |   Unzipping corpora/crubadan.zip.\n",
            "[nltk_data]    | Downloading package dependency_treebank to\n",
            "[nltk_data]    |     /root/nltk_data...\n",
            "[nltk_data]    |   Unzipping corpora/dependency_treebank.zip.\n",
            "[nltk_data]    | Downloading package dolch to /root/nltk_data...\n",
            "[nltk_data]    |   Unzipping corpora/dolch.zip.\n",
            "[nltk_data]    | Downloading package europarl_raw to\n",
            "[nltk_data]    |     /root/nltk_data...\n",
            "[nltk_data]    |   Unzipping corpora/europarl_raw.zip.\n",
            "[nltk_data]    | Downloading package extended_omw to\n",
            "[nltk_data]    |     /root/nltk_data...\n",
            "[nltk_data]    |   Unzipping corpora/extended_omw.zip.\n",
            "[nltk_data]    | Downloading package floresta to /root/nltk_data...\n",
            "[nltk_data]    |   Unzipping corpora/floresta.zip.\n",
            "[nltk_data]    | Downloading package framenet_v15 to\n",
            "[nltk_data]    |     /root/nltk_data...\n",
            "[nltk_data]    |   Unzipping corpora/framenet_v15.zip.\n",
            "[nltk_data]    | Downloading package framenet_v17 to\n",
            "[nltk_data]    |     /root/nltk_data...\n",
            "[nltk_data]    |   Unzipping corpora/framenet_v17.zip.\n",
            "[nltk_data]    | Downloading package gazetteers to /root/nltk_data...\n",
            "[nltk_data]    |   Unzipping corpora/gazetteers.zip.\n",
            "[nltk_data]    | Downloading package genesis to /root/nltk_data...\n",
            "[nltk_data]    |   Unzipping corpora/genesis.zip.\n",
            "[nltk_data]    | Downloading package gutenberg to /root/nltk_data...\n",
            "[nltk_data]    |   Unzipping corpora/gutenberg.zip.\n",
            "[nltk_data]    | Downloading package ieer to /root/nltk_data...\n",
            "[nltk_data]    |   Unzipping corpora/ieer.zip.\n",
            "[nltk_data]    | Downloading package inaugural to /root/nltk_data...\n",
            "[nltk_data]    |   Unzipping corpora/inaugural.zip.\n",
            "[nltk_data]    | Downloading package indian to /root/nltk_data...\n",
            "[nltk_data]    |   Unzipping corpora/indian.zip.\n",
            "[nltk_data]    | Downloading package jeita to /root/nltk_data...\n",
            "[nltk_data]    | Downloading package kimmo to /root/nltk_data...\n",
            "[nltk_data]    |   Unzipping corpora/kimmo.zip.\n",
            "[nltk_data]    | Downloading package knbc to /root/nltk_data...\n",
            "[nltk_data]    | Downloading package large_grammars to\n",
            "[nltk_data]    |     /root/nltk_data...\n",
            "[nltk_data]    |   Unzipping grammars/large_grammars.zip.\n",
            "[nltk_data]    | Downloading package lin_thesaurus to\n",
            "[nltk_data]    |     /root/nltk_data...\n",
            "[nltk_data]    |   Unzipping corpora/lin_thesaurus.zip.\n",
            "[nltk_data]    | Downloading package mac_morpho to /root/nltk_data...\n",
            "[nltk_data]    |   Unzipping corpora/mac_morpho.zip.\n",
            "[nltk_data]    | Downloading package machado to /root/nltk_data...\n",
            "[nltk_data]    | Downloading package masc_tagged to /root/nltk_data...\n",
            "[nltk_data]    | Downloading package maxent_ne_chunker to\n",
            "[nltk_data]    |     /root/nltk_data...\n",
            "[nltk_data]    |   Unzipping chunkers/maxent_ne_chunker.zip.\n",
            "[nltk_data]    | Downloading package maxent_treebank_pos_tagger to\n",
            "[nltk_data]    |     /root/nltk_data...\n",
            "[nltk_data]    |   Unzipping taggers/maxent_treebank_pos_tagger.zip.\n",
            "[nltk_data]    | Downloading package moses_sample to\n",
            "[nltk_data]    |     /root/nltk_data...\n",
            "[nltk_data]    |   Unzipping models/moses_sample.zip.\n",
            "[nltk_data]    | Downloading package movie_reviews to\n",
            "[nltk_data]    |     /root/nltk_data...\n",
            "[nltk_data]    |   Unzipping corpora/movie_reviews.zip.\n",
            "[nltk_data]    | Downloading package mte_teip5 to /root/nltk_data...\n",
            "[nltk_data]    |   Unzipping corpora/mte_teip5.zip.\n",
            "[nltk_data]    | Downloading package mwa_ppdb to /root/nltk_data...\n",
            "[nltk_data]    |   Unzipping misc/mwa_ppdb.zip.\n",
            "[nltk_data]    | Downloading package names to /root/nltk_data...\n",
            "[nltk_data]    |   Unzipping corpora/names.zip.\n",
            "[nltk_data]    | Downloading package nombank.1.0 to /root/nltk_data...\n",
            "[nltk_data]    | Downloading package nonbreaking_prefixes to\n",
            "[nltk_data]    |     /root/nltk_data...\n",
            "[nltk_data]    |   Unzipping corpora/nonbreaking_prefixes.zip.\n",
            "[nltk_data]    | Downloading package nps_chat to /root/nltk_data...\n",
            "[nltk_data]    |   Unzipping corpora/nps_chat.zip.\n",
            "[nltk_data]    | Downloading package omw to /root/nltk_data...\n",
            "[nltk_data]    |   Unzipping corpora/omw.zip.\n",
            "[nltk_data]    | Downloading package omw-1.4 to /root/nltk_data...\n",
            "[nltk_data]    |   Unzipping corpora/omw-1.4.zip.\n",
            "[nltk_data]    | Downloading package opinion_lexicon to\n",
            "[nltk_data]    |     /root/nltk_data...\n",
            "[nltk_data]    |   Unzipping corpora/opinion_lexicon.zip.\n",
            "[nltk_data]    | Downloading package panlex_swadesh to\n",
            "[nltk_data]    |     /root/nltk_data...\n",
            "[nltk_data]    | Downloading package paradigms to /root/nltk_data...\n",
            "[nltk_data]    |   Unzipping corpora/paradigms.zip.\n",
            "[nltk_data]    | Downloading package pe08 to /root/nltk_data...\n",
            "[nltk_data]    |   Unzipping corpora/pe08.zip.\n",
            "[nltk_data]    | Downloading package perluniprops to\n",
            "[nltk_data]    |     /root/nltk_data...\n",
            "[nltk_data]    |   Unzipping misc/perluniprops.zip.\n",
            "[nltk_data]    | Downloading package pil to /root/nltk_data...\n",
            "[nltk_data]    |   Unzipping corpora/pil.zip.\n",
            "[nltk_data]    | Downloading package pl196x to /root/nltk_data...\n",
            "[nltk_data]    |   Unzipping corpora/pl196x.zip.\n",
            "[nltk_data]    | Downloading package porter_test to /root/nltk_data...\n",
            "[nltk_data]    |   Unzipping stemmers/porter_test.zip.\n",
            "[nltk_data]    | Downloading package ppattach to /root/nltk_data...\n",
            "[nltk_data]    |   Unzipping corpora/ppattach.zip.\n",
            "[nltk_data]    | Downloading package problem_reports to\n",
            "[nltk_data]    |     /root/nltk_data...\n",
            "[nltk_data]    |   Unzipping corpora/problem_reports.zip.\n",
            "[nltk_data]    | Downloading package product_reviews_1 to\n",
            "[nltk_data]    |     /root/nltk_data...\n",
            "[nltk_data]    |   Unzipping corpora/product_reviews_1.zip.\n",
            "[nltk_data]    | Downloading package product_reviews_2 to\n",
            "[nltk_data]    |     /root/nltk_data...\n",
            "[nltk_data]    |   Unzipping corpora/product_reviews_2.zip.\n",
            "[nltk_data]    | Downloading package propbank to /root/nltk_data...\n",
            "[nltk_data]    | Downloading package pros_cons to /root/nltk_data...\n",
            "[nltk_data]    |   Unzipping corpora/pros_cons.zip.\n",
            "[nltk_data]    | Downloading package ptb to /root/nltk_data...\n",
            "[nltk_data]    |   Unzipping corpora/ptb.zip.\n",
            "[nltk_data]    | Downloading package punkt to /root/nltk_data...\n",
            "[nltk_data]    |   Unzipping tokenizers/punkt.zip.\n",
            "[nltk_data]    | Downloading package qc to /root/nltk_data...\n",
            "[nltk_data]    |   Unzipping corpora/qc.zip.\n",
            "[nltk_data]    | Downloading package reuters to /root/nltk_data...\n",
            "[nltk_data]    | Downloading package rslp to /root/nltk_data...\n",
            "[nltk_data]    |   Unzipping stemmers/rslp.zip.\n",
            "[nltk_data]    | Downloading package rte to /root/nltk_data...\n",
            "[nltk_data]    |   Unzipping corpora/rte.zip.\n",
            "[nltk_data]    | Downloading package sample_grammars to\n",
            "[nltk_data]    |     /root/nltk_data...\n",
            "[nltk_data]    |   Unzipping grammars/sample_grammars.zip.\n",
            "[nltk_data]    | Downloading package semcor to /root/nltk_data...\n",
            "[nltk_data]    | Downloading package senseval to /root/nltk_data...\n",
            "[nltk_data]    |   Unzipping corpora/senseval.zip.\n",
            "[nltk_data]    | Downloading package sentence_polarity to\n",
            "[nltk_data]    |     /root/nltk_data...\n",
            "[nltk_data]    |   Unzipping corpora/sentence_polarity.zip.\n",
            "[nltk_data]    | Downloading package sentiwordnet to\n",
            "[nltk_data]    |     /root/nltk_data...\n",
            "[nltk_data]    |   Unzipping corpora/sentiwordnet.zip.\n",
            "[nltk_data]    | Downloading package shakespeare to /root/nltk_data...\n",
            "[nltk_data]    |   Unzipping corpora/shakespeare.zip.\n",
            "[nltk_data]    | Downloading package sinica_treebank to\n",
            "[nltk_data]    |     /root/nltk_data...\n",
            "[nltk_data]    |   Unzipping corpora/sinica_treebank.zip.\n",
            "[nltk_data]    | Downloading package smultron to /root/nltk_data...\n",
            "[nltk_data]    |   Unzipping corpora/smultron.zip.\n",
            "[nltk_data]    | Downloading package snowball_data to\n",
            "[nltk_data]    |     /root/nltk_data...\n",
            "[nltk_data]    | Downloading package spanish_grammars to\n",
            "[nltk_data]    |     /root/nltk_data...\n",
            "[nltk_data]    |   Unzipping grammars/spanish_grammars.zip.\n",
            "[nltk_data]    | Downloading package state_union to /root/nltk_data...\n",
            "[nltk_data]    |   Unzipping corpora/state_union.zip.\n",
            "[nltk_data]    | Downloading package stopwords to /root/nltk_data...\n",
            "[nltk_data]    |   Unzipping corpora/stopwords.zip.\n",
            "[nltk_data]    | Downloading package subjectivity to\n",
            "[nltk_data]    |     /root/nltk_data...\n",
            "[nltk_data]    |   Unzipping corpora/subjectivity.zip.\n",
            "[nltk_data]    | Downloading package swadesh to /root/nltk_data...\n",
            "[nltk_data]    |   Unzipping corpora/swadesh.zip.\n",
            "[nltk_data]    | Downloading package switchboard to /root/nltk_data...\n",
            "[nltk_data]    |   Unzipping corpora/switchboard.zip.\n",
            "[nltk_data]    | Downloading package tagsets to /root/nltk_data...\n",
            "[nltk_data]    |   Unzipping help/tagsets.zip.\n",
            "[nltk_data]    | Downloading package timit to /root/nltk_data...\n",
            "[nltk_data]    |   Unzipping corpora/timit.zip.\n",
            "[nltk_data]    | Downloading package toolbox to /root/nltk_data...\n",
            "[nltk_data]    |   Unzipping corpora/toolbox.zip.\n",
            "[nltk_data]    | Downloading package treebank to /root/nltk_data...\n",
            "[nltk_data]    |   Unzipping corpora/treebank.zip.\n",
            "[nltk_data]    | Downloading package twitter_samples to\n",
            "[nltk_data]    |     /root/nltk_data...\n",
            "[nltk_data]    |   Unzipping corpora/twitter_samples.zip.\n",
            "[nltk_data]    | Downloading package udhr to /root/nltk_data...\n",
            "[nltk_data]    |   Unzipping corpora/udhr.zip.\n",
            "[nltk_data]    | Downloading package udhr2 to /root/nltk_data...\n",
            "[nltk_data]    |   Unzipping corpora/udhr2.zip.\n",
            "[nltk_data]    | Downloading package unicode_samples to\n",
            "[nltk_data]    |     /root/nltk_data...\n",
            "[nltk_data]    |   Unzipping corpora/unicode_samples.zip.\n",
            "[nltk_data]    | Downloading package universal_tagset to\n",
            "[nltk_data]    |     /root/nltk_data...\n",
            "[nltk_data]    |   Unzipping taggers/universal_tagset.zip.\n",
            "[nltk_data]    | Downloading package universal_treebanks_v20 to\n",
            "[nltk_data]    |     /root/nltk_data...\n",
            "[nltk_data]    | Downloading package vader_lexicon to\n",
            "[nltk_data]    |     /root/nltk_data...\n",
            "[nltk_data]    | Downloading package verbnet to /root/nltk_data...\n",
            "[nltk_data]    |   Unzipping corpora/verbnet.zip.\n",
            "[nltk_data]    | Downloading package verbnet3 to /root/nltk_data...\n",
            "[nltk_data]    |   Unzipping corpora/verbnet3.zip.\n",
            "[nltk_data]    | Downloading package webtext to /root/nltk_data...\n",
            "[nltk_data]    |   Unzipping corpora/webtext.zip.\n",
            "[nltk_data]    | Downloading package wmt15_eval to /root/nltk_data...\n",
            "[nltk_data]    |   Unzipping models/wmt15_eval.zip.\n",
            "[nltk_data]    | Downloading package word2vec_sample to\n",
            "[nltk_data]    |     /root/nltk_data...\n",
            "[nltk_data]    |   Unzipping models/word2vec_sample.zip.\n",
            "[nltk_data]    | Downloading package wordnet to /root/nltk_data...\n",
            "[nltk_data]    |   Unzipping corpora/wordnet.zip.\n",
            "[nltk_data]    | Downloading package wordnet2021 to /root/nltk_data...\n",
            "[nltk_data]    |   Unzipping corpora/wordnet2021.zip.\n",
            "[nltk_data]    | Downloading package wordnet31 to /root/nltk_data...\n",
            "[nltk_data]    |   Unzipping corpora/wordnet31.zip.\n",
            "[nltk_data]    | Downloading package wordnet_ic to /root/nltk_data...\n",
            "[nltk_data]    |   Unzipping corpora/wordnet_ic.zip.\n",
            "[nltk_data]    | Downloading package words to /root/nltk_data...\n",
            "[nltk_data]    |   Unzipping corpora/words.zip.\n",
            "[nltk_data]    | Downloading package ycoe to /root/nltk_data...\n",
            "[nltk_data]    |   Unzipping corpora/ycoe.zip.\n",
            "[nltk_data]    | \n",
            "[nltk_data]  Done downloading collection all\n"
          ]
        },
        {
          "output_type": "execute_result",
          "data": {
            "text/plain": [
              "True"
            ]
          },
          "metadata": {},
          "execution_count": 2
        }
      ],
      "source": [
        "nltk.download('all')"
      ]
    },
    {
      "cell_type": "code",
      "execution_count": 3,
      "metadata": {
        "colab": {
          "base_uri": "https://localhost:8080/"
        },
        "id": "taWIzVhmPmU3",
        "outputId": "a51387b5-f916-4efc-ecd9-87661e9ea8af"
      },
      "outputs": [
        {
          "output_type": "stream",
          "name": "stdout",
          "text": [
            "Mounted at /content/drive\n"
          ]
        }
      ],
      "source": [
        "from google.colab import drive\n",
        "drive.mount('/content/drive')"
      ]
    },
    {
      "cell_type": "code",
      "execution_count": 4,
      "metadata": {
        "id": "_QLAgSjkPmSV"
      },
      "outputs": [],
      "source": [
        "data_path = \"/content/drive/MyDrive/CS6890Project/data/training.1600000.processed.noemoticon.csv\""
      ]
    },
    {
      "cell_type": "code",
      "execution_count": 5,
      "metadata": {
        "colab": {
          "base_uri": "https://localhost:8080/"
        },
        "id": "LGj4vjMfPmPB",
        "outputId": "a760557a-4cca-4257-c61d-d58caf9353c8"
      },
      "outputs": [
        {
          "output_type": "stream",
          "name": "stdout",
          "text": [
            "\"0\",\"1467810369\",\"Mon Apr 06 22:19:45 PDT 2009\",\"NO_QUERY\",\"_TheSpecialOne_\",\"@switchfoot http://twitpic.com/2y1zl - Awww, that's a bummer.  You shoulda got David Carr of Third Day to do it. ;D\"\n",
            "\n"
          ]
        }
      ],
      "source": [
        "file = open(data_path, \"r\")\n",
        "for line in file:\n",
        "    print(line)\n",
        "    break\n",
        "file.close()"
      ]
    },
    {
      "cell_type": "code",
      "execution_count": 6,
      "metadata": {
        "id": "F4J3rpIaP0LY"
      },
      "outputs": [],
      "source": [
        "data = pd.read_csv(data_path, header=None, encoding = \"ISO-8859-1\")\n",
        "data.columns = [\"target\", \"id\", \"date\", \"flag\", \"user\", \"text\"]"
      ]
    },
    {
      "cell_type": "code",
      "execution_count": 7,
      "metadata": {
        "colab": {
          "base_uri": "https://localhost:8080/",
          "height": 204
        },
        "id": "qKBImBZaP0F-",
        "outputId": "c6459661-15c3-4c23-c5ca-07da1584339c"
      },
      "outputs": [
        {
          "output_type": "execute_result",
          "data": {
            "text/plain": [
              "   target          id                          date      flag  \\\n",
              "0       0  1467810369  Mon Apr 06 22:19:45 PDT 2009  NO_QUERY   \n",
              "1       0  1467810672  Mon Apr 06 22:19:49 PDT 2009  NO_QUERY   \n",
              "2       0  1467810917  Mon Apr 06 22:19:53 PDT 2009  NO_QUERY   \n",
              "3       0  1467811184  Mon Apr 06 22:19:57 PDT 2009  NO_QUERY   \n",
              "4       0  1467811193  Mon Apr 06 22:19:57 PDT 2009  NO_QUERY   \n",
              "\n",
              "              user                                               text  \n",
              "0  _TheSpecialOne_  @switchfoot http://twitpic.com/2y1zl - Awww, t...  \n",
              "1    scotthamilton  is upset that he can't update his Facebook by ...  \n",
              "2         mattycus  @Kenichan I dived many times for the ball. Man...  \n",
              "3          ElleCTF    my whole body feels itchy and like its on fire   \n",
              "4           Karoli  @nationwideclass no, it's not behaving at all....  "
            ],
            "text/html": [
              "\n",
              "  <div id=\"df-203eafea-babb-4c52-bfba-9eccad41cd50\">\n",
              "    <div class=\"colab-df-container\">\n",
              "      <div>\n",
              "<style scoped>\n",
              "    .dataframe tbody tr th:only-of-type {\n",
              "        vertical-align: middle;\n",
              "    }\n",
              "\n",
              "    .dataframe tbody tr th {\n",
              "        vertical-align: top;\n",
              "    }\n",
              "\n",
              "    .dataframe thead th {\n",
              "        text-align: right;\n",
              "    }\n",
              "</style>\n",
              "<table border=\"1\" class=\"dataframe\">\n",
              "  <thead>\n",
              "    <tr style=\"text-align: right;\">\n",
              "      <th></th>\n",
              "      <th>target</th>\n",
              "      <th>id</th>\n",
              "      <th>date</th>\n",
              "      <th>flag</th>\n",
              "      <th>user</th>\n",
              "      <th>text</th>\n",
              "    </tr>\n",
              "  </thead>\n",
              "  <tbody>\n",
              "    <tr>\n",
              "      <th>0</th>\n",
              "      <td>0</td>\n",
              "      <td>1467810369</td>\n",
              "      <td>Mon Apr 06 22:19:45 PDT 2009</td>\n",
              "      <td>NO_QUERY</td>\n",
              "      <td>_TheSpecialOne_</td>\n",
              "      <td>@switchfoot http://twitpic.com/2y1zl - Awww, t...</td>\n",
              "    </tr>\n",
              "    <tr>\n",
              "      <th>1</th>\n",
              "      <td>0</td>\n",
              "      <td>1467810672</td>\n",
              "      <td>Mon Apr 06 22:19:49 PDT 2009</td>\n",
              "      <td>NO_QUERY</td>\n",
              "      <td>scotthamilton</td>\n",
              "      <td>is upset that he can't update his Facebook by ...</td>\n",
              "    </tr>\n",
              "    <tr>\n",
              "      <th>2</th>\n",
              "      <td>0</td>\n",
              "      <td>1467810917</td>\n",
              "      <td>Mon Apr 06 22:19:53 PDT 2009</td>\n",
              "      <td>NO_QUERY</td>\n",
              "      <td>mattycus</td>\n",
              "      <td>@Kenichan I dived many times for the ball. Man...</td>\n",
              "    </tr>\n",
              "    <tr>\n",
              "      <th>3</th>\n",
              "      <td>0</td>\n",
              "      <td>1467811184</td>\n",
              "      <td>Mon Apr 06 22:19:57 PDT 2009</td>\n",
              "      <td>NO_QUERY</td>\n",
              "      <td>ElleCTF</td>\n",
              "      <td>my whole body feels itchy and like its on fire</td>\n",
              "    </tr>\n",
              "    <tr>\n",
              "      <th>4</th>\n",
              "      <td>0</td>\n",
              "      <td>1467811193</td>\n",
              "      <td>Mon Apr 06 22:19:57 PDT 2009</td>\n",
              "      <td>NO_QUERY</td>\n",
              "      <td>Karoli</td>\n",
              "      <td>@nationwideclass no, it's not behaving at all....</td>\n",
              "    </tr>\n",
              "  </tbody>\n",
              "</table>\n",
              "</div>\n",
              "      <button class=\"colab-df-convert\" onclick=\"convertToInteractive('df-203eafea-babb-4c52-bfba-9eccad41cd50')\"\n",
              "              title=\"Convert this dataframe to an interactive table.\"\n",
              "              style=\"display:none;\">\n",
              "        \n",
              "  <svg xmlns=\"http://www.w3.org/2000/svg\" height=\"24px\"viewBox=\"0 0 24 24\"\n",
              "       width=\"24px\">\n",
              "    <path d=\"M0 0h24v24H0V0z\" fill=\"none\"/>\n",
              "    <path d=\"M18.56 5.44l.94 2.06.94-2.06 2.06-.94-2.06-.94-.94-2.06-.94 2.06-2.06.94zm-11 1L8.5 8.5l.94-2.06 2.06-.94-2.06-.94L8.5 2.5l-.94 2.06-2.06.94zm10 10l.94 2.06.94-2.06 2.06-.94-2.06-.94-.94-2.06-.94 2.06-2.06.94z\"/><path d=\"M17.41 7.96l-1.37-1.37c-.4-.4-.92-.59-1.43-.59-.52 0-1.04.2-1.43.59L10.3 9.45l-7.72 7.72c-.78.78-.78 2.05 0 2.83L4 21.41c.39.39.9.59 1.41.59.51 0 1.02-.2 1.41-.59l7.78-7.78 2.81-2.81c.8-.78.8-2.07 0-2.86zM5.41 20L4 18.59l7.72-7.72 1.47 1.35L5.41 20z\"/>\n",
              "  </svg>\n",
              "      </button>\n",
              "      \n",
              "  <style>\n",
              "    .colab-df-container {\n",
              "      display:flex;\n",
              "      flex-wrap:wrap;\n",
              "      gap: 12px;\n",
              "    }\n",
              "\n",
              "    .colab-df-convert {\n",
              "      background-color: #E8F0FE;\n",
              "      border: none;\n",
              "      border-radius: 50%;\n",
              "      cursor: pointer;\n",
              "      display: none;\n",
              "      fill: #1967D2;\n",
              "      height: 32px;\n",
              "      padding: 0 0 0 0;\n",
              "      width: 32px;\n",
              "    }\n",
              "\n",
              "    .colab-df-convert:hover {\n",
              "      background-color: #E2EBFA;\n",
              "      box-shadow: 0px 1px 2px rgba(60, 64, 67, 0.3), 0px 1px 3px 1px rgba(60, 64, 67, 0.15);\n",
              "      fill: #174EA6;\n",
              "    }\n",
              "\n",
              "    [theme=dark] .colab-df-convert {\n",
              "      background-color: #3B4455;\n",
              "      fill: #D2E3FC;\n",
              "    }\n",
              "\n",
              "    [theme=dark] .colab-df-convert:hover {\n",
              "      background-color: #434B5C;\n",
              "      box-shadow: 0px 1px 3px 1px rgba(0, 0, 0, 0.15);\n",
              "      filter: drop-shadow(0px 1px 2px rgba(0, 0, 0, 0.3));\n",
              "      fill: #FFFFFF;\n",
              "    }\n",
              "  </style>\n",
              "\n",
              "      <script>\n",
              "        const buttonEl =\n",
              "          document.querySelector('#df-203eafea-babb-4c52-bfba-9eccad41cd50 button.colab-df-convert');\n",
              "        buttonEl.style.display =\n",
              "          google.colab.kernel.accessAllowed ? 'block' : 'none';\n",
              "\n",
              "        async function convertToInteractive(key) {\n",
              "          const element = document.querySelector('#df-203eafea-babb-4c52-bfba-9eccad41cd50');\n",
              "          const dataTable =\n",
              "            await google.colab.kernel.invokeFunction('convertToInteractive',\n",
              "                                                     [key], {});\n",
              "          if (!dataTable) return;\n",
              "\n",
              "          const docLinkHtml = 'Like what you see? Visit the ' +\n",
              "            '<a target=\"_blank\" href=https://colab.research.google.com/notebooks/data_table.ipynb>data table notebook</a>'\n",
              "            + ' to learn more about interactive tables.';\n",
              "          element.innerHTML = '';\n",
              "          dataTable['output_type'] = 'display_data';\n",
              "          await google.colab.output.renderOutput(dataTable, element);\n",
              "          const docLink = document.createElement('div');\n",
              "          docLink.innerHTML = docLinkHtml;\n",
              "          element.appendChild(docLink);\n",
              "        }\n",
              "      </script>\n",
              "    </div>\n",
              "  </div>\n",
              "  "
            ]
          },
          "metadata": {},
          "execution_count": 7
        }
      ],
      "source": [
        "data.head()"
      ]
    },
    {
      "cell_type": "code",
      "execution_count": 8,
      "metadata": {
        "id": "y_c9UuL6P4bl"
      },
      "outputs": [],
      "source": [
        "X=np.array(data['text'])\n",
        "Y=np.array(data['target'])\n",
        "Y[Y==4]=1"
      ]
    },
    {
      "cell_type": "code",
      "execution_count": 9,
      "metadata": {
        "colab": {
          "base_uri": "https://localhost:8080/"
        },
        "id": "2uX0tu45P4Yy",
        "outputId": "07679672-cb95-4175-9e16-d2339625fac8"
      },
      "outputs": [
        {
          "output_type": "stream",
          "name": "stdout",
          "text": [
            "@islandiva147 I sent u a tweet yesterday but I don't know why it didn't work  I guess you're sleeping right now I am working soon noon !!!\n"
          ]
        }
      ],
      "source": [
        "index = 3000 \n",
        "print(X[index])"
      ]
    },
    {
      "cell_type": "markdown",
      "metadata": {
        "id": "H996134KfcUr"
      },
      "source": [
        "#Data pre-processing"
      ]
    },
    {
      "cell_type": "code",
      "execution_count": 17,
      "metadata": {
        "id": "QDtNdN84P4WG"
      },
      "outputs": [],
      "source": [
        "def tokenize(X):\n",
        "  \"\"\"\n",
        "  Tokenize the data using nltk\n",
        "  \"\"\"\n",
        "  treebank = nltk.tokenize.TreebankWordTokenizer()\n",
        "  X_tokenized=[treebank.tokenize(sentence) for sentence in X]  \n",
        "  return X_tokenized\n",
        "\n",
        "\n",
        "def remove_stopwords(X):\n",
        "  \"\"\"\n",
        "  Remove Stopwords using nltk\n",
        "  \"\"\"\n",
        "  stopwords=nltk.corpus.stopwords.words('english') + ['@']\n",
        "  X_no_stopwords = []\n",
        "  for sentence in X:\n",
        "    temp = [word for word in sentence if not word in stopwords]\n",
        "    X_no_stopwords.append(temp) \n",
        "  return X_no_stopwords\n"
      ]
    },
    {
      "cell_type": "code",
      "source": [
        "def stem(X,type='porter'):\n",
        "  \"\"\"\n",
        "  Perform Stemming using nltk\n",
        "  type = 'Porter','Snowball','Lancaster'\n",
        "  \"\"\"\n",
        "  if type == 'porter':\n",
        "    stemmer= nltk.stem.PorterStemmer()\n",
        "  elif type == 'snowball':\n",
        "    stemmer = nltk.stem.SnowballStemmer()\n",
        "  elif type == 'lancaster':\n",
        "    stemmer = nltk.stem.LancasterStemmer()    \n",
        "  X_stemmed = []\n",
        "  for sentence in X:\n",
        "    temp = [stemmer.stem(word) for word in sentence]\n",
        "    X_stemmed.append(temp)\n",
        "  return X_stemmed \n"
      ],
      "metadata": {
        "id": "Mq50Jm9ZBUBH"
      },
      "execution_count": 18,
      "outputs": []
    },
    {
      "cell_type": "code",
      "source": [
        "def get_wordnet_pos(treebank_tag):\n",
        "        \"\"\"\n",
        "        return WORDNET POS compliance to WORDENT lemmatization (a,n,r,v) \n",
        "        \"\"\"\n",
        "        if treebank_tag.startswith('J'):\n",
        "            return 'a'\n",
        "        elif treebank_tag.startswith('V'):\n",
        "            return 'v'\n",
        "        elif treebank_tag.startswith('N'):\n",
        "            return 'n'\n",
        "        elif treebank_tag.startswith('R'):\n",
        "            return 'r'\n",
        "        else:\n",
        "            return 'n'\n",
        "\n",
        "def lemmatize(X):\n",
        "  \"\"\"\n",
        "  Lemmatize words using corresponding POS tag\n",
        "  \"\"\"\n",
        "  lemmatizer = nltk.stem.WordNetLemmatizer()\n",
        "  X_pos = []\n",
        "  X_lemmatized = []\n",
        "\n",
        "  for sentence in X :\n",
        "    temp = nltk.pos_tag(sentence)\n",
        "    X_pos.append(temp)  \n",
        "\n",
        "  for sentence in X_pos :\n",
        "    temp = [ lemmatizer.lemmatize(word[0],pos=get_wordnet_pos(word[1])) for word in sentence]\n",
        "    X_lemmatized.append(temp)  \n",
        "  return X_lemmatized    "
      ],
      "metadata": {
        "id": "7ciRBxtpBZ-o"
      },
      "execution_count": 19,
      "outputs": []
    },
    {
      "cell_type": "code",
      "execution_count": 20,
      "metadata": {
        "id": "YZ6RsNU9P4Tf"
      },
      "outputs": [],
      "source": [
        "X_tokenized = tokenize(X)\n",
        "X_no_stopwords = remove_stopwords(X_tokenized)\n",
        "X_lemmatized = lemmatize(X_no_stopwords)\n",
        "X_clean = []\n",
        "for sentence in X_lemmatized:\n",
        "  temp = \" \".join(sentence)\n",
        "  X_clean.append(temp)"
      ]
    },
    {
      "cell_type": "code",
      "execution_count": 21,
      "metadata": {
        "id": "4uPC5dTQQLvy"
      },
      "outputs": [],
      "source": [
        "max_vocab=50000"
      ]
    },
    {
      "cell_type": "code",
      "execution_count": 22,
      "metadata": {
        "id": "lhOyYFY_QLsi"
      },
      "outputs": [],
      "source": [
        "tokenizer = Tokenizer(num_words=max_vocab,filters='@')\n",
        "tokenizer.fit_on_texts(X_clean)"
      ]
    },
    {
      "cell_type": "code",
      "execution_count": 23,
      "metadata": {
        "id": "qjpMDZmOQUQH"
      },
      "outputs": [],
      "source": [
        "# Vectorize\n",
        "X_clean_vectorized=tokenizer.texts_to_sequences(X_clean)"
      ]
    },
    {
      "cell_type": "code",
      "execution_count": 24,
      "metadata": {
        "id": "aYCzFo81ZOMO"
      },
      "outputs": [],
      "source": [
        "max_length=20"
      ]
    },
    {
      "cell_type": "code",
      "execution_count": 25,
      "metadata": {
        "colab": {
          "base_uri": "https://localhost:8080/"
        },
        "id": "y0OycdBRZOJc",
        "outputId": "ff043331-03f9-494b-8c86-d96370a00343"
      },
      "outputs": [
        {
          "output_type": "stream",
          "name": "stdout",
          "text": [
            "(1600000, 20)\n"
          ]
        }
      ],
      "source": [
        "X_clean_pad = keras.preprocessing.sequence.pad_sequences(X_clean_vectorized,max_length,padding='post',truncating='post')\n",
        "print(X_clean_pad.shape)"
      ]
    },
    {
      "cell_type": "code",
      "execution_count": 26,
      "metadata": {
        "colab": {
          "base_uri": "https://localhost:8080/"
        },
        "id": "7L41AmYbZOBc",
        "outputId": "c2d8b413-1001-4340-c079-4e7173c8d57b"
      },
      "outputs": [
        {
          "output_type": "stream",
          "name": "stdout",
          "text": [
            "\n",
            "Original text:\n",
            "@islandiva147 I sent u a tweet yesterday but I don't know why it didn't work  I guess you're sleeping right now I am working soon noon !!!\n",
            "\n",
            "Tokenized :\n",
            "['@', 'islandiva147', 'I', 'sent', 'u', 'a', 'tweet', 'yesterday', 'but', 'I', 'do', \"n't\", 'know', 'why', 'it', 'did', \"n't\", 'work', 'I', 'guess', 'you', \"'re\", 'sleeping', 'right', 'now', 'I', 'am', 'working', 'soon', 'noon', '!', '!', '!']\n",
            "\n",
            "Stopwords removed :\n",
            "['islandiva147', 'I', 'sent', 'u', 'tweet', 'yesterday', 'I', \"n't\", 'know', \"n't\", 'work', 'I', 'guess', \"'re\", 'sleeping', 'right', 'I', 'working', 'soon', 'noon', '!', '!', '!']\n",
            "\n",
            "POS tagged :\n",
            "[('islandiva147', 'NN'), ('I', 'PRP'), ('sent', 'VBD'), ('u', 'JJ'), ('tweet', 'NN'), ('yesterday', 'NN'), ('I', 'PRP'), (\"n't\", 'RB'), ('know', 'VBP'), (\"n't\", 'RB'), ('work', 'VB'), ('I', 'PRP'), ('guess', 'JJ'), (\"'re\", 'VBP'), ('sleeping', 'VBG'), ('right', 'RB'), ('I', 'PRP'), ('working', 'VBG'), ('soon', 'RB'), ('noon', 'RB'), ('!', '.'), ('!', '.'), ('!', '.')]\n",
            "\n",
            "Lemmatized :\n",
            "['islandiva147', 'I', 'send', 'u', 'tweet', 'yesterday', 'I', \"n't\", 'know', \"n't\", 'work', 'I', 'guess', \"'re\", 'sleep', 'right', 'I', 'work', 'soon', 'noon', '!', '!', '!']\n",
            "\n",
            "Clean :\n",
            "islandiva147 I send u tweet yesterday I n't know n't work I guess 're sleep right I work soon noon ! ! !\n",
            "\n",
            "Vectorized :\n",
            "[2, 250, 23, 108, 260, 2, 8, 28, 8, 18, 2, 188, 67, 75, 80, 2, 18, 137, 2682, 1, 1, 1]\n",
            "\n",
            "Padded :\n",
            "[   2  250   23  108  260    2    8   28    8   18    2  188   67   75\n",
            "   80    2   18  137 2682    1]\n"
          ]
        }
      ],
      "source": [
        "index  = 3000  \n",
        "\n",
        "print('\\nOriginal text:')\n",
        "print(X[index])\n",
        "print('\\nTokenized :')\n",
        "print(X_tokenized[index])\n",
        "print('\\nStopwords removed :')\n",
        "print(X_no_stopwords[index])\n",
        "print('\\nPOS tagged :')\n",
        "print(nltk.pos_tag(X_no_stopwords[index]))\n",
        "print('\\nLemmatized :')\n",
        "print(X_lemmatized[index])\n",
        "print('\\nClean :')\n",
        "print(X_clean[index])\n",
        "print('\\nVectorized :')\n",
        "print(X_clean_vectorized[index])\n",
        "print('\\nPadded :')\n",
        "print(X_clean_pad[index])"
      ]
    },
    {
      "cell_type": "markdown",
      "source": [
        "#WordEmbeddings"
      ],
      "metadata": {
        "id": "FQKFsvKBCagM"
      }
    },
    {
      "cell_type": "markdown",
      "metadata": {
        "id": "DQy-VPWkgDry"
      },
      "source": [
        "**Using pre-trained Word Embeddings (GloVe)**"
      ]
    },
    {
      "cell_type": "code",
      "execution_count": null,
      "metadata": {
        "id": "Z25E3V5RZiyj"
      },
      "outputs": [],
      "source": [
        "embedding_path = \"/content/drive/MyDrive/CS6890Project/data/glove.6B.100d.txt\""
      ]
    },
    {
      "cell_type": "code",
      "execution_count": null,
      "metadata": {
        "id": "QDux-Z4GZb0w"
      },
      "outputs": [],
      "source": [
        "emb = dict()\n",
        "f = open(embedding_path)\n",
        "for line in f:\n",
        "\tvalues = line.split()\n",
        "\tword = values[0]\n",
        "\tcf = np.asarray(values[1:], dtype='float32')\n",
        "\temb[word] = cf\n",
        "f.close()"
      ]
    },
    {
      "cell_type": "code",
      "execution_count": null,
      "metadata": {
        "id": "LA1JWIRZZbxe"
      },
      "outputs": [],
      "source": [
        "embedding_matrix = np.zeros((max_vocab, 100))\n",
        "for i in range(1,max_vocab):\n",
        "\tvector = emb.get(tokenizer.index_word[i])\n",
        "\tif vector is not None:\n",
        "\t\tembedding_matrix[i] = vector"
      ]
    },
    {
      "cell_type": "code",
      "execution_count": null,
      "metadata": {
        "colab": {
          "base_uri": "https://localhost:8080/"
        },
        "id": "jbZIZ2FkZ5Hs",
        "outputId": "d40f07e0-dc04-4b46-b1d0-cc42a7edc9bf"
      },
      "outputs": [
        {
          "output_type": "stream",
          "name": "stdout",
          "text": [
            "(1120000, 20)\n",
            "(480000, 20)\n",
            "(1120000, 1)\n",
            "(480000, 1)\n"
          ]
        }
      ],
      "source": [
        "np.random.seed(42)\n",
        "\n",
        "X_train, X_test, Y_train, Y_test = train_test_split (X_clean_pad,Y.reshape(Y.shape[0],1),test_size=0.30)\n",
        "\n",
        "print(X_train.shape)\n",
        "print(X_test.shape)\n",
        "print(Y_train.shape)\n",
        "print(Y_test.shape)"
      ]
    },
    {
      "cell_type": "code",
      "source": [
        ""
      ],
      "metadata": {
        "id": "OgY-3sTYGxN6"
      },
      "execution_count": null,
      "outputs": []
    },
    {
      "cell_type": "markdown",
      "source": [
        "#Attention Layer"
      ],
      "metadata": {
        "id": "qEWdsJLRNdpV"
      }
    },
    {
      "cell_type": "code",
      "source": [
        " import numpy as np\n",
        " from keras.preprocessing import sequence\n",
        " from keras.models import Sequential\n",
        " from keras.layers import Dense, Dropout, Embedding, LSTM, Bidirectional\n",
        " from keras.datasets import imdb "
      ],
      "metadata": {
        "id": "kJi5oHtvohzY"
      },
      "execution_count": null,
      "outputs": []
    },
    {
      "cell_type": "code",
      "source": [
        "from keras.layers import *\n",
        "from keras.models import *\n",
        "from keras import backend as K"
      ],
      "metadata": {
        "id": "DJYJ8bUSDv3S"
      },
      "execution_count": null,
      "outputs": []
    },
    {
      "cell_type": "code",
      "source": [
        "n_unique_words = 10000\n",
        "maxlen = 200"
      ],
      "metadata": {
        "id": "BHkCkiX5EXHB"
      },
      "execution_count": null,
      "outputs": []
    },
    {
      "cell_type": "code",
      "source": [
        "from tensorflow.keras.layers import Layer\n",
        "from tensorflow.keras import backend as K\n",
        "\n",
        "class Attention(Layer):\n",
        "    \n",
        "    def __init__(self, return_sequences=True):\n",
        "        self.return_sequences = return_sequences\n",
        "        super(Attention,self).__init__()\n",
        "        \n",
        "    def build(self, input_shape):\n",
        "        \n",
        "        self.W=self.add_weight(name=\"att_weight\", shape=(input_shape[-1],1),\n",
        "                               initializer=\"normal\")\n",
        "        self.b=self.add_weight(name=\"att_bias\", shape=(input_shape[1],1),\n",
        "                               initializer=\"zeros\")\n",
        "        self.b=self.add_weight(name=\"att_bias\", shape=(input_shape[1],1))\n",
        "        self.b=self.add_weight(name=\"att_bias\", shape=(input_shape[1],1))\n",
        "\n",
        "        super(Attention,self).build(input_shape)\n",
        "        \n",
        "    def call(self, x):\n",
        "        \n",
        "        e = K.tanh(K.dot(x,self.W)+self.b)\n",
        "        a = K.softmax(e, axis=1)\n",
        "        output = x*a\n",
        "        \n",
        "        if self.return_sequences:\n",
        "            return output\n",
        "        \n",
        "        return K.sum(output, axis=1)"
      ],
      "metadata": {
        "id": "jEcz3r1wD1TK"
      },
      "execution_count": null,
      "outputs": []
    },
    {
      "cell_type": "code",
      "source": [
        "max_len = 20\n",
        "max_words = 50000\n",
        "emb_dim = 128"
      ],
      "metadata": {
        "id": "nQvg5g19IHEe"
      },
      "execution_count": null,
      "outputs": []
    },
    {
      "cell_type": "code",
      "source": [
        "att_model = keras.models.Sequential(name='att_model')\n",
        "\n",
        "att_model.add(InputLayer(input_shape=(20,),name = 'Integer_Encoding'))\n",
        "att_model.add(Embedding(max_vocab, 100,input_length=20,mask_zero=True,name='100D_Encoding',trainable=False))\n",
        "att_model.add(Bidirectional(LSTM(64,name='LSTM'),name='Bidirectional_RNN'))\n",
        "att_model.add(Attention(return_sequences=True))\n",
        "att_model.add(Dropout(0.5,name='Regularizer'))\n",
        "att_model.add(Dense(1, activation='sigmoid',name='Sigmoid_Classifier'))\n"
      ],
      "metadata": {
        "id": "HHdHkuRqN8oe"
      },
      "execution_count": null,
      "outputs": []
    },
    {
      "cell_type": "code",
      "source": [
        "from tensorflow.keras.utils import plot_model\n",
        "plot_model(att_model,to_file='model.png')"
      ],
      "metadata": {
        "colab": {
          "base_uri": "https://localhost:8080/",
          "height": 564
        },
        "id": "XCRE38i5lI3q",
        "outputId": "093b242f-d201-4f14-edd8-85c1c86b70ac"
      },
      "execution_count": null,
      "outputs": [
        {
          "output_type": "execute_result",
          "data": {
            "text/plain": [
              "<IPython.core.display.Image object>"
            ],
            "image/png": "[encoded data removed]"
          },
          "metadata": {},
          "execution_count": 55
        }
      ]
    },
    {
      "cell_type": "code",
      "source": [
        "np.random.seed(123)\n",
        "#X_train: X1, X_test: X2, Y_train:Y1, Y_test:Y2\n",
        "\n",
        "X1, X2, Y1, Y2 = train_test_split (X_clean_pad,Y.reshape(Y.shape[0],1),test_size=0.30)\n",
        "\n",
        "print(len(X1))\n",
        "print(len(X2))\n",
        "print(len(Y1))\n",
        "print(len(Y2))"
      ],
      "metadata": {
        "colab": {
          "base_uri": "https://localhost:8080/"
        },
        "id": "ugWsV6SeOGUb",
        "outputId": "337bb623-476c-4526-caaf-6e1dae7d190b"
      },
      "execution_count": null,
      "outputs": [
        {
          "output_type": "stream",
          "name": "stdout",
          "text": [
            "1120000\n",
            "480000\n",
            "1120000\n",
            "480000\n"
          ]
        }
      ]
    },
    {
      "cell_type": "code",
      "source": [
        "att_model.compile(optimizer=tf.keras.optimizers.Adam(learning_rate=0.001),loss='binary_crossentropy',\n",
        "                metrics=['accuracy'])\n",
        "att_model\n"
      ],
      "metadata": {
        "id": "ZPKx2lDsL1AN",
        "outputId": "988bd93f-56b2-46d8-a235-5ff9f3a80a6a",
        "colab": {
          "base_uri": "https://localhost:8080/"
        }
      },
      "execution_count": null,
      "outputs": [
        {
          "output_type": "execute_result",
          "data": {
            "text/plain": [
              "<keras.engine.sequential.Sequential at 0x7f3c56a653d0>"
            ]
          },
          "metadata": {},
          "execution_count": 65
        }
      ]
    },
    {
      "cell_type": "code",
      "source": [
        "att_model = att_model.fit(X1,Y1,batch_size=128,epochs=10,validation_split=0.30)"
      ],
      "metadata": {
        "colab": {
          "base_uri": "https://localhost:8080/"
        },
        "id": "gEWzOTvfOGQO",
        "outputId": "0a8ab493-30f0-430d-e495-5b51fbc9bb80"
      },
      "execution_count": null,
      "outputs": [
        {
          "output_type": "stream",
          "name": "stdout",
          "text": [
            "Epoch 1/10\n",
            "6125/6125 [==============================] - 556s 90ms/step - loss: 0.6182 - accuracy: 0.6526 - val_loss: 0.5834 - val_accuracy: 0.6827\n",
            "Epoch 2/10\n",
            "6125/6125 [==============================] - 549s 90ms/step - loss: 0.5663 - accuracy: 0.6989 - val_loss: 0.5437 - val_accuracy: 0.7174\n",
            "Epoch 3/10\n",
            "6125/6125 [==============================] - 516s 84ms/step - loss: 0.5389 - accuracy: 0.7218 - val_loss: 0.5267 - val_accuracy: 0.7311\n",
            "Epoch 4/10\n",
            "6125/6125 [==============================] - 496s 81ms/step - loss: 0.5230 - accuracy: 0.7347 - val_loss: 0.5176 - val_accuracy: 0.7399\n",
            "Epoch 5/10\n",
            "6125/6125 [==============================] - 488s 80ms/step - loss: 0.5118 - accuracy: 0.7434 - val_loss: 0.5173 - val_accuracy: 0.7390\n",
            "Epoch 6/10\n",
            "6125/6125 [==============================] - 488s 80ms/step - loss: 0.5031 - accuracy: 0.7496 - val_loss: 0.5003 - val_accuracy: 0.7512\n",
            "Epoch 7/10\n",
            "6125/6125 [==============================] - 488s 80ms/step - loss: 0.4969 - accuracy: 0.7542 - val_loss: 0.4976 - val_accuracy: 0.7530\n",
            "Epoch 8/10\n",
            "6125/6125 [==============================] - 487s 80ms/step - loss: 0.4913 - accuracy: 0.7578 - val_loss: 0.4926 - val_accuracy: 0.7573\n",
            "Epoch 9/10\n",
            "6125/6125 [==============================] - 488s 80ms/step - loss: 0.4868 - accuracy: 0.7613 - val_loss: 0.4871 - val_accuracy: 0.7606\n",
            "Epoch 10/10\n",
            "6125/6125 [==============================] - 488s 80ms/step - loss: 0.4821 - accuracy: 0.7648 - val_loss: 0.4868 - val_accuracy: 0.7625\n"
          ]
        }
      ]
    },
    {
      "cell_type": "code",
      "source": [
        "att_model.params"
      ],
      "metadata": {
        "id": "3Os8_NuIBUsk",
        "outputId": "1e79c1fe-a5f6-45aa-fac1-102ec107f1b7",
        "colab": {
          "base_uri": "https://localhost:8080/"
        }
      },
      "execution_count": null,
      "outputs": [
        {
          "output_type": "execute_result",
          "data": {
            "text/plain": [
              "{'epochs': 10, 'steps': 6125, 'verbose': 1}"
            ]
          },
          "metadata": {},
          "execution_count": 59
        }
      ]
    },
    {
      "cell_type": "code",
      "source": [
        "att_model.history"
      ],
      "metadata": {
        "id": "tXcZHe_bg0XK",
        "outputId": "9c9d9665-325e-4b61-c978-a924e85a191c",
        "colab": {
          "base_uri": "https://localhost:8080/"
        }
      },
      "execution_count": null,
      "outputs": [
        {
          "output_type": "execute_result",
          "data": {
            "text/plain": [
              "{'accuracy': [0.6525701284408569,\n",
              "  0.6988711953163147,\n",
              "  0.7217869758605957,\n",
              "  0.7347449064254761,\n",
              "  0.7434477210044861,\n",
              "  0.7495625019073486,\n",
              "  0.7541581392288208,\n",
              "  0.7577563524246216,\n",
              "  0.7613252401351929,\n",
              "  0.7647678852081299],\n",
              " 'loss': [0.61822909116745,\n",
              "  0.5662626028060913,\n",
              "  0.538870096206665,\n",
              "  0.5230321884155273,\n",
              "  0.5117695927619934,\n",
              "  0.5031116604804993,\n",
              "  0.49688851833343506,\n",
              "  0.4913395345211029,\n",
              "  0.48676252365112305,\n",
              "  0.4820605218410492],\n",
              " 'val_accuracy': [0.6827232241630554,\n",
              "  0.7174196243286133,\n",
              "  0.7310506105422974,\n",
              "  0.739934504032135,\n",
              "  0.7390416860580444,\n",
              "  0.7512142658233643,\n",
              "  0.7529642581939697,\n",
              "  0.7573065757751465,\n",
              "  0.7605594992637634,\n",
              "  0.7624910473823547],\n",
              " 'val_loss': [0.5833690762519836,\n",
              "  0.5437344908714294,\n",
              "  0.5266674757003784,\n",
              "  0.5175577998161316,\n",
              "  0.5172863006591797,\n",
              "  0.5003176331520081,\n",
              "  0.49763545393943787,\n",
              "  0.49264758825302124,\n",
              "  0.4871337413787842,\n",
              "  0.48677632212638855]}"
            ]
          },
          "metadata": {},
          "execution_count": 68
        }
      ]
    },
    {
      "cell_type": "code",
      "source": [
        "att_model.evaluate(X2,Y2)"
      ],
      "metadata": {
        "id": "re46yT5YN8kz"
      },
      "execution_count": null,
      "outputs": []
    },
    {
      "cell_type": "code",
      "source": [
        ""
      ],
      "metadata": {
        "id": "w3jp6FunN8dw"
      },
      "execution_count": null,
      "outputs": []
    }
  ],
  "metadata": {
    "colab": {
      "name": "attention.ipynb",
      "provenance": [],
      "collapsed_sections": []
    },
    "kernelspec": {
      "display_name": "Python 3",
      "name": "python3"
    },
    "language_info": {
      "name": "python"
    }
  },
  "nbformat": 4,
  "nbformat_minor": 0
}