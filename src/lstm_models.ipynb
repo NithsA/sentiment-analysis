{
  "cells": [
    {
      "cell_type": "code",
      "execution_count": null,
      "metadata": {
        "id": "wokR3ujrNEbk"
      },
      "outputs": [],
      "source": [
        "import pandas as pd\n",
        "import numpy as np\n",
        "import matplotlib.pyplot as plt\n",
        "import nltk\n",
        "import keras\n",
        "from keras.preprocessing.text import Tokenizer\n",
        "from keras.layers import Dense, Dropout, Embedding, LSTM, Bidirectional,InputLayer\n",
        "from sklearn.model_selection import train_test_split"
      ]
    },
    {
      "cell_type": "code",
      "execution_count": null,
      "metadata": {
        "colab": {
          "base_uri": "https://localhost:8080/"
        },
        "id": "azL1Ja52PmXq",
        "outputId": "43aa5b9d-081a-481f-f04b-e1683f26d5e0"
      },
      "outputs": [
        {
          "output_type": "stream",
          "name": "stdout",
          "text": [
            "[nltk_data] Downloading collection 'all'\n",
            "[nltk_data]    | \n",
            "[nltk_data]    | Downloading package abc to /root/nltk_data...\n",
            "[nltk_data]    |   Unzipping corpora/abc.zip.\n",
            "[nltk_data]    | Downloading package alpino to /root/nltk_data...\n",
            "[nltk_data]    |   Unzipping corpora/alpino.zip.\n",
            "[nltk_data]    | Downloading package averaged_perceptron_tagger to\n",
            "[nltk_data]    |     /root/nltk_data...\n",
            "[nltk_data]    |   Unzipping taggers/averaged_perceptron_tagger.zip.\n",
            "[nltk_data]    | Downloading package averaged_perceptron_tagger_ru to\n",
            "[nltk_data]    |     /root/nltk_data...\n",
            "[nltk_data]    |   Unzipping\n",
            "[nltk_data]    |       taggers/averaged_perceptron_tagger_ru.zip.\n",
            "[nltk_data]    | Downloading package basque_grammars to\n",
            "[nltk_data]    |     /root/nltk_data...\n",
            "[nltk_data]    |   Unzipping grammars/basque_grammars.zip.\n",
            "[nltk_data]    | Downloading package biocreative_ppi to\n",
            "[nltk_data]    |     /root/nltk_data...\n",
            "[nltk_data]    |   Unzipping corpora/biocreative_ppi.zip.\n",
            "[nltk_data]    | Downloading package bllip_wsj_no_aux to\n",
            "[nltk_data]    |     /root/nltk_data...\n",
            "[nltk_data]    |   Unzipping models/bllip_wsj_no_aux.zip.\n",
            "[nltk_data]    | Downloading package book_grammars to\n",
            "[nltk_data]    |     /root/nltk_data...\n",
            "[nltk_data]    |   Unzipping grammars/book_grammars.zip.\n",
            "[nltk_data]    | Downloading package brown to /root/nltk_data...\n",
            "[nltk_data]    |   Unzipping corpora/brown.zip.\n",
            "[nltk_data]    | Downloading package brown_tei to /root/nltk_data...\n",
            "[nltk_data]    |   Unzipping corpora/brown_tei.zip.\n",
            "[nltk_data]    | Downloading package cess_cat to /root/nltk_data...\n",
            "[nltk_data]    |   Unzipping corpora/cess_cat.zip.\n",
            "[nltk_data]    | Downloading package cess_esp to /root/nltk_data...\n",
            "[nltk_data]    |   Unzipping corpora/cess_esp.zip.\n",
            "[nltk_data]    | Downloading package chat80 to /root/nltk_data...\n",
            "[nltk_data]    |   Unzipping corpora/chat80.zip.\n",
            "[nltk_data]    | Downloading package city_database to\n",
            "[nltk_data]    |     /root/nltk_data...\n",
            "[nltk_data]    |   Unzipping corpora/city_database.zip.\n",
            "[nltk_data]    | Downloading package cmudict to /root/nltk_data...\n",
            "[nltk_data]    |   Unzipping corpora/cmudict.zip.\n",
            "[nltk_data]    | Downloading package comparative_sentences to\n",
            "[nltk_data]    |     /root/nltk_data...\n",
            "[nltk_data]    |   Unzipping corpora/comparative_sentences.zip.\n",
            "[nltk_data]    | Downloading package comtrans to /root/nltk_data...\n",
            "[nltk_data]    | Downloading package conll2000 to /root/nltk_data...\n",
            "[nltk_data]    |   Unzipping corpora/conll2000.zip.\n",
            "[nltk_data]    | Downloading package conll2002 to /root/nltk_data...\n",
            "[nltk_data]    |   Unzipping corpora/conll2002.zip.\n",
            "[nltk_data]    | Downloading package conll2007 to /root/nltk_data...\n",
            "[nltk_data]    | Downloading package crubadan to /root/nltk_data...\n",
            "[nltk_data]    |   Unzipping corpora/crubadan.zip.\n",
            "[nltk_data]    | Downloading package dependency_treebank to\n",
            "[nltk_data]    |     /root/nltk_data...\n",
            "[nltk_data]    |   Unzipping corpora/dependency_treebank.zip.\n",
            "[nltk_data]    | Downloading package dolch to /root/nltk_data...\n",
            "[nltk_data]    |   Unzipping corpora/dolch.zip.\n",
            "[nltk_data]    | Downloading package europarl_raw to\n",
            "[nltk_data]    |     /root/nltk_data...\n",
            "[nltk_data]    |   Unzipping corpora/europarl_raw.zip.\n",
            "[nltk_data]    | Downloading package extended_omw to\n",
            "[nltk_data]    |     /root/nltk_data...\n",
            "[nltk_data]    |   Unzipping corpora/extended_omw.zip.\n",
            "[nltk_data]    | Downloading package floresta to /root/nltk_data...\n",
            "[nltk_data]    |   Unzipping corpora/floresta.zip.\n",
            "[nltk_data]    | Downloading package framenet_v15 to\n",
            "[nltk_data]    |     /root/nltk_data...\n",
            "[nltk_data]    |   Unzipping corpora/framenet_v15.zip.\n",
            "[nltk_data]    | Downloading package framenet_v17 to\n",
            "[nltk_data]    |     /root/nltk_data...\n",
            "[nltk_data]    |   Unzipping corpora/framenet_v17.zip.\n",
            "[nltk_data]    | Downloading package gazetteers to /root/nltk_data...\n",
            "[nltk_data]    |   Unzipping corpora/gazetteers.zip.\n",
            "[nltk_data]    | Downloading package genesis to /root/nltk_data...\n",
            "[nltk_data]    |   Unzipping corpora/genesis.zip.\n",
            "[nltk_data]    | Downloading package gutenberg to /root/nltk_data...\n",
            "[nltk_data]    |   Unzipping corpora/gutenberg.zip.\n",
            "[nltk_data]    | Downloading package ieer to /root/nltk_data...\n",
            "[nltk_data]    |   Unzipping corpora/ieer.zip.\n",
            "[nltk_data]    | Downloading package inaugural to /root/nltk_data...\n",
            "[nltk_data]    |   Unzipping corpora/inaugural.zip.\n",
            "[nltk_data]    | Downloading package indian to /root/nltk_data...\n",
            "[nltk_data]    |   Unzipping corpora/indian.zip.\n",
            "[nltk_data]    | Downloading package jeita to /root/nltk_data...\n",
            "[nltk_data]    | Downloading package kimmo to /root/nltk_data...\n",
            "[nltk_data]    |   Unzipping corpora/kimmo.zip.\n",
            "[nltk_data]    | Downloading package knbc to /root/nltk_data...\n",
            "[nltk_data]    | Downloading package large_grammars to\n",
            "[nltk_data]    |     /root/nltk_data...\n",
            "[nltk_data]    |   Unzipping grammars/large_grammars.zip.\n",
            "[nltk_data]    | Downloading package lin_thesaurus to\n",
            "[nltk_data]    |     /root/nltk_data...\n",
            "[nltk_data]    |   Unzipping corpora/lin_thesaurus.zip.\n",
            "[nltk_data]    | Downloading package mac_morpho to /root/nltk_data...\n",
            "[nltk_data]    |   Unzipping corpora/mac_morpho.zip.\n",
            "[nltk_data]    | Downloading package machado to /root/nltk_data...\n",
            "[nltk_data]    | Downloading package masc_tagged to /root/nltk_data...\n",
            "[nltk_data]    | Downloading package maxent_ne_chunker to\n",
            "[nltk_data]    |     /root/nltk_data...\n",
            "[nltk_data]    |   Unzipping chunkers/maxent_ne_chunker.zip.\n",
            "[nltk_data]    | Downloading package maxent_treebank_pos_tagger to\n",
            "[nltk_data]    |     /root/nltk_data...\n",
            "[nltk_data]    |   Unzipping taggers/maxent_treebank_pos_tagger.zip.\n",
            "[nltk_data]    | Downloading package moses_sample to\n",
            "[nltk_data]    |     /root/nltk_data...\n",
            "[nltk_data]    |   Unzipping models/moses_sample.zip.\n",
            "[nltk_data]    | Downloading package movie_reviews to\n",
            "[nltk_data]    |     /root/nltk_data...\n",
            "[nltk_data]    |   Unzipping corpora/movie_reviews.zip.\n",
            "[nltk_data]    | Downloading package mte_teip5 to /root/nltk_data...\n",
            "[nltk_data]    |   Unzipping corpora/mte_teip5.zip.\n",
            "[nltk_data]    | Downloading package mwa_ppdb to /root/nltk_data...\n",
            "[nltk_data]    |   Unzipping misc/mwa_ppdb.zip.\n",
            "[nltk_data]    | Downloading package names to /root/nltk_data...\n",
            "[nltk_data]    |   Unzipping corpora/names.zip.\n",
            "[nltk_data]    | Downloading package nombank.1.0 to /root/nltk_data...\n",
            "[nltk_data]    | Downloading package nonbreaking_prefixes to\n",
            "[nltk_data]    |     /root/nltk_data...\n",
            "[nltk_data]    |   Unzipping corpora/nonbreaking_prefixes.zip.\n",
            "[nltk_data]    | Downloading package nps_chat to /root/nltk_data...\n",
            "[nltk_data]    |   Unzipping corpora/nps_chat.zip.\n",
            "[nltk_data]    | Downloading package omw to /root/nltk_data...\n",
            "[nltk_data]    |   Unzipping corpora/omw.zip.\n",
            "[nltk_data]    | Downloading package omw-1.4 to /root/nltk_data...\n",
            "[nltk_data]    |   Unzipping corpora/omw-1.4.zip.\n",
            "[nltk_data]    | Downloading package opinion_lexicon to\n",
            "[nltk_data]    |     /root/nltk_data...\n",
            "[nltk_data]    |   Unzipping corpora/opinion_lexicon.zip.\n",
            "[nltk_data]    | Downloading package panlex_swadesh to\n",
            "[nltk_data]    |     /root/nltk_data...\n",
            "[nltk_data]    | Downloading package paradigms to /root/nltk_data...\n",
            "[nltk_data]    |   Unzipping corpora/paradigms.zip.\n",
            "[nltk_data]    | Downloading package pe08 to /root/nltk_data...\n",
            "[nltk_data]    |   Unzipping corpora/pe08.zip.\n",
            "[nltk_data]    | Downloading package perluniprops to\n",
            "[nltk_data]    |     /root/nltk_data...\n",
            "[nltk_data]    |   Unzipping misc/perluniprops.zip.\n",
            "[nltk_data]    | Downloading package pil to /root/nltk_data...\n",
            "[nltk_data]    |   Unzipping corpora/pil.zip.\n",
            "[nltk_data]    | Downloading package pl196x to /root/nltk_data...\n",
            "[nltk_data]    |   Unzipping corpora/pl196x.zip.\n",
            "[nltk_data]    | Downloading package porter_test to /root/nltk_data...\n",
            "[nltk_data]    |   Unzipping stemmers/porter_test.zip.\n",
            "[nltk_data]    | Downloading package ppattach to /root/nltk_data...\n",
            "[nltk_data]    |   Unzipping corpora/ppattach.zip.\n",
            "[nltk_data]    | Downloading package problem_reports to\n",
            "[nltk_data]    |     /root/nltk_data...\n",
            "[nltk_data]    |   Unzipping corpora/problem_reports.zip.\n",
            "[nltk_data]    | Downloading package product_reviews_1 to\n",
            "[nltk_data]    |     /root/nltk_data...\n",
            "[nltk_data]    |   Unzipping corpora/product_reviews_1.zip.\n",
            "[nltk_data]    | Downloading package product_reviews_2 to\n",
            "[nltk_data]    |     /root/nltk_data...\n",
            "[nltk_data]    |   Unzipping corpora/product_reviews_2.zip.\n",
            "[nltk_data]    | Downloading package propbank to /root/nltk_data...\n",
            "[nltk_data]    | Downloading package pros_cons to /root/nltk_data...\n",
            "[nltk_data]    |   Unzipping corpora/pros_cons.zip.\n",
            "[nltk_data]    | Downloading package ptb to /root/nltk_data...\n",
            "[nltk_data]    |   Unzipping corpora/ptb.zip.\n",
            "[nltk_data]    | Downloading package punkt to /root/nltk_data...\n",
            "[nltk_data]    |   Unzipping tokenizers/punkt.zip.\n",
            "[nltk_data]    | Downloading package qc to /root/nltk_data...\n",
            "[nltk_data]    |   Unzipping corpora/qc.zip.\n",
            "[nltk_data]    | Downloading package reuters to /root/nltk_data...\n",
            "[nltk_data]    | Downloading package rslp to /root/nltk_data...\n",
            "[nltk_data]    |   Unzipping stemmers/rslp.zip.\n",
            "[nltk_data]    | Downloading package rte to /root/nltk_data...\n",
            "[nltk_data]    |   Unzipping corpora/rte.zip.\n",
            "[nltk_data]    | Downloading package sample_grammars to\n",
            "[nltk_data]    |     /root/nltk_data...\n",
            "[nltk_data]    |   Unzipping grammars/sample_grammars.zip.\n",
            "[nltk_data]    | Downloading package semcor to /root/nltk_data...\n",
            "[nltk_data]    | Downloading package senseval to /root/nltk_data...\n",
            "[nltk_data]    |   Unzipping corpora/senseval.zip.\n",
            "[nltk_data]    | Downloading package sentence_polarity to\n",
            "[nltk_data]    |     /root/nltk_data...\n",
            "[nltk_data]    |   Unzipping corpora/sentence_polarity.zip.\n",
            "[nltk_data]    | Downloading package sentiwordnet to\n",
            "[nltk_data]    |     /root/nltk_data...\n",
            "[nltk_data]    |   Unzipping corpora/sentiwordnet.zip.\n",
            "[nltk_data]    | Downloading package shakespeare to /root/nltk_data...\n",
            "[nltk_data]    |   Unzipping corpora/shakespeare.zip.\n",
            "[nltk_data]    | Downloading package sinica_treebank to\n",
            "[nltk_data]    |     /root/nltk_data...\n",
            "[nltk_data]    |   Unzipping corpora/sinica_treebank.zip.\n",
            "[nltk_data]    | Downloading package smultron to /root/nltk_data...\n",
            "[nltk_data]    |   Unzipping corpora/smultron.zip.\n",
            "[nltk_data]    | Downloading package snowball_data to\n",
            "[nltk_data]    |     /root/nltk_data...\n",
            "[nltk_data]    | Downloading package spanish_grammars to\n",
            "[nltk_data]    |     /root/nltk_data...\n",
            "[nltk_data]    |   Unzipping grammars/spanish_grammars.zip.\n",
            "[nltk_data]    | Downloading package state_union to /root/nltk_data...\n",
            "[nltk_data]    |   Unzipping corpora/state_union.zip.\n",
            "[nltk_data]    | Downloading package stopwords to /root/nltk_data...\n",
            "[nltk_data]    |   Unzipping corpora/stopwords.zip.\n",
            "[nltk_data]    | Downloading package subjectivity to\n",
            "[nltk_data]    |     /root/nltk_data...\n",
            "[nltk_data]    |   Unzipping corpora/subjectivity.zip.\n",
            "[nltk_data]    | Downloading package swadesh to /root/nltk_data...\n",
            "[nltk_data]    |   Unzipping corpora/swadesh.zip.\n",
            "[nltk_data]    | Downloading package switchboard to /root/nltk_data...\n",
            "[nltk_data]    |   Unzipping corpora/switchboard.zip.\n",
            "[nltk_data]    | Downloading package tagsets to /root/nltk_data...\n",
            "[nltk_data]    |   Unzipping help/tagsets.zip.\n",
            "[nltk_data]    | Downloading package timit to /root/nltk_data...\n",
            "[nltk_data]    |   Unzipping corpora/timit.zip.\n",
            "[nltk_data]    | Downloading package toolbox to /root/nltk_data...\n",
            "[nltk_data]    |   Unzipping corpora/toolbox.zip.\n",
            "[nltk_data]    | Downloading package treebank to /root/nltk_data...\n",
            "[nltk_data]    |   Unzipping corpora/treebank.zip.\n",
            "[nltk_data]    | Downloading package twitter_samples to\n",
            "[nltk_data]    |     /root/nltk_data...\n",
            "[nltk_data]    |   Unzipping corpora/twitter_samples.zip.\n",
            "[nltk_data]    | Downloading package udhr to /root/nltk_data...\n",
            "[nltk_data]    |   Unzipping corpora/udhr.zip.\n",
            "[nltk_data]    | Downloading package udhr2 to /root/nltk_data...\n",
            "[nltk_data]    |   Unzipping corpora/udhr2.zip.\n",
            "[nltk_data]    | Downloading package unicode_samples to\n",
            "[nltk_data]    |     /root/nltk_data...\n",
            "[nltk_data]    |   Unzipping corpora/unicode_samples.zip.\n",
            "[nltk_data]    | Downloading package universal_tagset to\n",
            "[nltk_data]    |     /root/nltk_data...\n",
            "[nltk_data]    |   Unzipping taggers/universal_tagset.zip.\n",
            "[nltk_data]    | Downloading package universal_treebanks_v20 to\n",
            "[nltk_data]    |     /root/nltk_data...\n",
            "[nltk_data]    | Downloading package vader_lexicon to\n",
            "[nltk_data]    |     /root/nltk_data...\n",
            "[nltk_data]    | Downloading package verbnet to /root/nltk_data...\n",
            "[nltk_data]    |   Unzipping corpora/verbnet.zip.\n",
            "[nltk_data]    | Downloading package verbnet3 to /root/nltk_data...\n",
            "[nltk_data]    |   Unzipping corpora/verbnet3.zip.\n",
            "[nltk_data]    | Downloading package webtext to /root/nltk_data...\n",
            "[nltk_data]    |   Unzipping corpora/webtext.zip.\n",
            "[nltk_data]    | Downloading package wmt15_eval to /root/nltk_data...\n",
            "[nltk_data]    |   Unzipping models/wmt15_eval.zip.\n",
            "[nltk_data]    | Downloading package word2vec_sample to\n",
            "[nltk_data]    |     /root/nltk_data...\n",
            "[nltk_data]    |   Unzipping models/word2vec_sample.zip.\n",
            "[nltk_data]    | Downloading package wordnet to /root/nltk_data...\n",
            "[nltk_data]    |   Unzipping corpora/wordnet.zip.\n",
            "[nltk_data]    | Downloading package wordnet2021 to /root/nltk_data...\n",
            "[nltk_data]    |   Unzipping corpora/wordnet2021.zip.\n",
            "[nltk_data]    | Downloading package wordnet31 to /root/nltk_data...\n",
            "[nltk_data]    |   Unzipping corpora/wordnet31.zip.\n",
            "[nltk_data]    | Downloading package wordnet_ic to /root/nltk_data...\n",
            "[nltk_data]    |   Unzipping corpora/wordnet_ic.zip.\n",
            "[nltk_data]    | Downloading package words to /root/nltk_data...\n",
            "[nltk_data]    |   Unzipping corpora/words.zip.\n",
            "[nltk_data]    | Downloading package ycoe to /root/nltk_data...\n",
            "[nltk_data]    |   Unzipping corpora/ycoe.zip.\n",
            "[nltk_data]    | \n",
            "[nltk_data]  Done downloading collection all\n"
          ]
        },
        {
          "output_type": "execute_result",
          "data": {
            "text/plain": [
              "True"
            ]
          },
          "metadata": {},
          "execution_count": 2
        }
      ],
      "source": [
        "nltk.download('all')"
      ]
    },
    {
      "cell_type": "code",
      "execution_count": null,
      "metadata": {
        "id": "taWIzVhmPmU3",
        "colab": {
          "base_uri": "https://localhost:8080/"
        },
        "outputId": "a3574197-66d0-4eb7-ecb2-20379d63ae7c"
      },
      "outputs": [
        {
          "output_type": "stream",
          "name": "stdout",
          "text": [
            "Mounted at /content/drive\n"
          ]
        }
      ],
      "source": [
        "from google.colab import drive\n",
        "drive.mount('/content/drive')"
      ]
    },
    {
      "cell_type": "code",
      "execution_count": null,
      "metadata": {
        "id": "_QLAgSjkPmSV"
      },
      "outputs": [],
      "source": [
        "data_path = \"/content/drive/MyDrive/CS6890Project/data/training.1600000.processed.noemoticon.csv\""
      ]
    },
    {
      "cell_type": "code",
      "execution_count": null,
      "metadata": {
        "id": "LGj4vjMfPmPB",
        "colab": {
          "base_uri": "https://localhost:8080/"
        },
        "outputId": "bb1044ab-1a7f-4947-e787-d56f1d8fb4de"
      },
      "outputs": [
        {
          "output_type": "stream",
          "name": "stdout",
          "text": [
            "\"0\",\"1467810369\",\"Mon Apr 06 22:19:45 PDT 2009\",\"NO_QUERY\",\"_TheSpecialOne_\",\"@switchfoot http://twitpic.com/2y1zl - Awww, that's a bummer.  You shoulda got David Carr of Third Day to do it. ;D\"\n",
            "\n"
          ]
        }
      ],
      "source": [
        "file = open(data_path, \"r\")\n",
        "for line in file:\n",
        "    print(line)\n",
        "    break\n",
        "file.close()"
      ]
    },
    {
      "cell_type": "code",
      "execution_count": null,
      "metadata": {
        "id": "F4J3rpIaP0LY"
      },
      "outputs": [],
      "source": [
        "data = pd.read_csv(data_path, header=None, encoding = \"ISO-8859-1\")\n",
        "data.columns = [\"target\", \"id\", \"date\", \"flag\", \"user\", \"text\"]"
      ]
    },
    {
      "cell_type": "code",
      "execution_count": null,
      "metadata": {
        "id": "qKBImBZaP0F-",
        "colab": {
          "base_uri": "https://localhost:8080/",
          "height": 204
        },
        "outputId": "8f7ded20-3621-48f6-9ed4-6d57e10b4769"
      },
      "outputs": [
        {
          "output_type": "execute_result",
          "data": {
            "text/plain": [
              "   target          id                          date      flag  \\\n",
              "0       0  1467810369  Mon Apr 06 22:19:45 PDT 2009  NO_QUERY   \n",
              "1       0  1467810672  Mon Apr 06 22:19:49 PDT 2009  NO_QUERY   \n",
              "2       0  1467810917  Mon Apr 06 22:19:53 PDT 2009  NO_QUERY   \n",
              "3       0  1467811184  Mon Apr 06 22:19:57 PDT 2009  NO_QUERY   \n",
              "4       0  1467811193  Mon Apr 06 22:19:57 PDT 2009  NO_QUERY   \n",
              "\n",
              "              user                                               text  \n",
              "0  _TheSpecialOne_  @switchfoot http://twitpic.com/2y1zl - Awww, t...  \n",
              "1    scotthamilton  is upset that he can't update his Facebook by ...  \n",
              "2         mattycus  @Kenichan I dived many times for the ball. Man...  \n",
              "3          ElleCTF    my whole body feels itchy and like its on fire   \n",
              "4           Karoli  @nationwideclass no, it's not behaving at all....  "
            ],
            "text/html": [
              "\n",
              "  <div id=\"df-371eb10d-0f51-44c5-bfc6-b7dcb077965b\">\n",
              "    <div class=\"colab-df-container\">\n",
              "      <div>\n",
              "<style scoped>\n",
              "    .dataframe tbody tr th:only-of-type {\n",
              "        vertical-align: middle;\n",
              "    }\n",
              "\n",
              "    .dataframe tbody tr th {\n",
              "        vertical-align: top;\n",
              "    }\n",
              "\n",
              "    .dataframe thead th {\n",
              "        text-align: right;\n",
              "    }\n",
              "</style>\n",
              "<table border=\"1\" class=\"dataframe\">\n",
              "  <thead>\n",
              "    <tr style=\"text-align: right;\">\n",
              "      <th></th>\n",
              "      <th>target</th>\n",
              "      <th>id</th>\n",
              "      <th>date</th>\n",
              "      <th>flag</th>\n",
              "      <th>user</th>\n",
              "      <th>text</th>\n",
              "    </tr>\n",
              "  </thead>\n",
              "  <tbody>\n",
              "    <tr>\n",
              "      <th>0</th>\n",
              "      <td>0</td>\n",
              "      <td>1467810369</td>\n",
              "      <td>Mon Apr 06 22:19:45 PDT 2009</td>\n",
              "      <td>NO_QUERY</td>\n",
              "      <td>_TheSpecialOne_</td>\n",
              "      <td>@switchfoot http://twitpic.com/2y1zl - Awww, t...</td>\n",
              "    </tr>\n",
              "    <tr>\n",
              "      <th>1</th>\n",
              "      <td>0</td>\n",
              "      <td>1467810672</td>\n",
              "      <td>Mon Apr 06 22:19:49 PDT 2009</td>\n",
              "      <td>NO_QUERY</td>\n",
              "      <td>scotthamilton</td>\n",
              "      <td>is upset that he can't update his Facebook by ...</td>\n",
              "    </tr>\n",
              "    <tr>\n",
              "      <th>2</th>\n",
              "      <td>0</td>\n",
              "      <td>1467810917</td>\n",
              "      <td>Mon Apr 06 22:19:53 PDT 2009</td>\n",
              "      <td>NO_QUERY</td>\n",
              "      <td>mattycus</td>\n",
              "      <td>@Kenichan I dived many times for the ball. Man...</td>\n",
              "    </tr>\n",
              "    <tr>\n",
              "      <th>3</th>\n",
              "      <td>0</td>\n",
              "      <td>1467811184</td>\n",
              "      <td>Mon Apr 06 22:19:57 PDT 2009</td>\n",
              "      <td>NO_QUERY</td>\n",
              "      <td>ElleCTF</td>\n",
              "      <td>my whole body feels itchy and like its on fire</td>\n",
              "    </tr>\n",
              "    <tr>\n",
              "      <th>4</th>\n",
              "      <td>0</td>\n",
              "      <td>1467811193</td>\n",
              "      <td>Mon Apr 06 22:19:57 PDT 2009</td>\n",
              "      <td>NO_QUERY</td>\n",
              "      <td>Karoli</td>\n",
              "      <td>@nationwideclass no, it's not behaving at all....</td>\n",
              "    </tr>\n",
              "  </tbody>\n",
              "</table>\n",
              "</div>\n",
              "      <button class=\"colab-df-convert\" onclick=\"convertToInteractive('df-371eb10d-0f51-44c5-bfc6-b7dcb077965b')\"\n",
              "              title=\"Convert this dataframe to an interactive table.\"\n",
              "              style=\"display:none;\">\n",
              "        \n",
              "  <svg xmlns=\"http://www.w3.org/2000/svg\" height=\"24px\"viewBox=\"0 0 24 24\"\n",
              "       width=\"24px\">\n",
              "    <path d=\"M0 0h24v24H0V0z\" fill=\"none\"/>\n",
              "    <path d=\"M18.56 5.44l.94 2.06.94-2.06 2.06-.94-2.06-.94-.94-2.06-.94 2.06-2.06.94zm-11 1L8.5 8.5l.94-2.06 2.06-.94-2.06-.94L8.5 2.5l-.94 2.06-2.06.94zm10 10l.94 2.06.94-2.06 2.06-.94-2.06-.94-.94-2.06-.94 2.06-2.06.94z\"/><path d=\"M17.41 7.96l-1.37-1.37c-.4-.4-.92-.59-1.43-.59-.52 0-1.04.2-1.43.59L10.3 9.45l-7.72 7.72c-.78.78-.78 2.05 0 2.83L4 21.41c.39.39.9.59 1.41.59.51 0 1.02-.2 1.41-.59l7.78-7.78 2.81-2.81c.8-.78.8-2.07 0-2.86zM5.41 20L4 18.59l7.72-7.72 1.47 1.35L5.41 20z\"/>\n",
              "  </svg>\n",
              "      </button>\n",
              "      \n",
              "  <style>\n",
              "    .colab-df-container {\n",
              "      display:flex;\n",
              "      flex-wrap:wrap;\n",
              "      gap: 12px;\n",
              "    }\n",
              "\n",
              "    .colab-df-convert {\n",
              "      background-color: #E8F0FE;\n",
              "      border: none;\n",
              "      border-radius: 50%;\n",
              "      cursor: pointer;\n",
              "      display: none;\n",
              "      fill: #1967D2;\n",
              "      height: 32px;\n",
              "      padding: 0 0 0 0;\n",
              "      width: 32px;\n",
              "    }\n",
              "\n",
              "    .colab-df-convert:hover {\n",
              "      background-color: #E2EBFA;\n",
              "      box-shadow: 0px 1px 2px rgba(60, 64, 67, 0.3), 0px 1px 3px 1px rgba(60, 64, 67, 0.15);\n",
              "      fill: #174EA6;\n",
              "    }\n",
              "\n",
              "    [theme=dark] .colab-df-convert {\n",
              "      background-color: #3B4455;\n",
              "      fill: #D2E3FC;\n",
              "    }\n",
              "\n",
              "    [theme=dark] .colab-df-convert:hover {\n",
              "      background-color: #434B5C;\n",
              "      box-shadow: 0px 1px 3px 1px rgba(0, 0, 0, 0.15);\n",
              "      filter: drop-shadow(0px 1px 2px rgba(0, 0, 0, 0.3));\n",
              "      fill: #FFFFFF;\n",
              "    }\n",
              "  </style>\n",
              "\n",
              "      <script>\n",
              "        const buttonEl =\n",
              "          document.querySelector('#df-371eb10d-0f51-44c5-bfc6-b7dcb077965b button.colab-df-convert');\n",
              "        buttonEl.style.display =\n",
              "          google.colab.kernel.accessAllowed ? 'block' : 'none';\n",
              "\n",
              "        async function convertToInteractive(key) {\n",
              "          const element = document.querySelector('#df-371eb10d-0f51-44c5-bfc6-b7dcb077965b');\n",
              "          const dataTable =\n",
              "            await google.colab.kernel.invokeFunction('convertToInteractive',\n",
              "                                                     [key], {});\n",
              "          if (!dataTable) return;\n",
              "\n",
              "          const docLinkHtml = 'Like what you see? Visit the ' +\n",
              "            '<a target=\"_blank\" href=https://colab.research.google.com/notebooks/data_table.ipynb>data table notebook</a>'\n",
              "            + ' to learn more about interactive tables.';\n",
              "          element.innerHTML = '';\n",
              "          dataTable['output_type'] = 'display_data';\n",
              "          await google.colab.output.renderOutput(dataTable, element);\n",
              "          const docLink = document.createElement('div');\n",
              "          docLink.innerHTML = docLinkHtml;\n",
              "          element.appendChild(docLink);\n",
              "        }\n",
              "      </script>\n",
              "    </div>\n",
              "  </div>\n",
              "  "
            ]
          },
          "metadata": {},
          "execution_count": 7
        }
      ],
      "source": [
        "data.head()"
      ]
    },
    {
      "cell_type": "code",
      "execution_count": null,
      "metadata": {
        "id": "B2Bpfm5nP0Cp",
        "colab": {
          "base_uri": "https://localhost:8080/"
        },
        "outputId": "9e9f88b8-71ab-4510-f2cc-2bece32ef678"
      },
      "outputs": [
        {
          "output_type": "execute_result",
          "data": {
            "text/plain": [
              "target     int64\n",
              "id         int64\n",
              "date      object\n",
              "flag      object\n",
              "user      object\n",
              "text      object\n",
              "dtype: object"
            ]
          },
          "metadata": {},
          "execution_count": 8
        }
      ],
      "source": [
        "data.dtypes"
      ]
    },
    {
      "cell_type": "code",
      "execution_count": null,
      "metadata": {
        "id": "y_c9UuL6P4bl"
      },
      "outputs": [],
      "source": [
        "X=np.array(data['text'])\n",
        "Y=np.array(data['target'])\n",
        "\n",
        "# Set Y=1 for Positive Tweets\n",
        "Y[Y==4]=1"
      ]
    },
    {
      "cell_type": "code",
      "execution_count": null,
      "metadata": {
        "id": "2uX0tu45P4Yy",
        "colab": {
          "base_uri": "https://localhost:8080/"
        },
        "outputId": "9b408047-c229-4b80-90f7-4ad36e607a4e"
      },
      "outputs": [
        {
          "output_type": "stream",
          "name": "stdout",
          "text": [
            "Loves what #drupal file framework module could do, but is sick of Bitcache errors making it impossible to upload files \n"
          ]
        }
      ],
      "source": [
        "index = 1897  \n",
        "print(X[index])"
      ]
    },
    {
      "cell_type": "markdown",
      "metadata": {
        "id": "j2Vz1pV_xZg7"
      },
      "source": [
        "#With Unprocessed Data"
      ]
    },
    {
      "cell_type": "code",
      "execution_count": null,
      "metadata": {
        "id": "7HdkvyHpxZUr",
        "colab": {
          "base_uri": "https://localhost:8080/"
        },
        "outputId": "86d7afd7-a2b3-45a0-df52-e7d1502676e4"
      },
      "outputs": [
        {
          "output_type": "stream",
          "name": "stdout",
          "text": [
            "No. of distinct tokens = 1185412\n"
          ]
        }
      ],
      "source": [
        "tokenizer = Tokenizer(filters='@')\n",
        "tokenizer.fit_on_texts(X)\n",
        "print('No. of distinct tokens = '+str(len(tokenizer.word_index)))"
      ]
    },
    {
      "cell_type": "code",
      "execution_count": null,
      "metadata": {
        "id": "JMhyvQFtxZRe"
      },
      "outputs": [],
      "source": [
        "max_vocab=50000"
      ]
    },
    {
      "cell_type": "code",
      "execution_count": null,
      "metadata": {
        "id": "llkky0AHxZLe"
      },
      "outputs": [],
      "source": [
        "tokenizer = Tokenizer(num_words=max_vocab,filters='@')\n",
        "tokenizer.fit_on_texts(X)"
      ]
    },
    {
      "cell_type": "code",
      "execution_count": null,
      "metadata": {
        "id": "WAvLwvV1xZJi"
      },
      "outputs": [],
      "source": [
        "X_vectorized=tokenizer.texts_to_sequences(X)"
      ]
    },
    {
      "cell_type": "code",
      "execution_count": null,
      "metadata": {
        "id": "6fMLVI7HxZAB",
        "colab": {
          "base_uri": "https://localhost:8080/"
        },
        "outputId": "5489ccf5-5a72-4e95-9499-811f37983df4"
      },
      "outputs": [
        {
          "output_type": "stream",
          "name": "stdout",
          "text": [
            "(1600000, 20)\n"
          ]
        }
      ],
      "source": [
        "max_length=20\n",
        "X_pad = keras.preprocessing.sequence.pad_sequences(X_vectorized,max_length,padding='post',truncating='post')\n",
        "print(X_pad.shape)"
      ]
    },
    {
      "cell_type": "code",
      "execution_count": null,
      "metadata": {
        "id": "nz7Slj1mxhC0"
      },
      "outputs": [],
      "source": [
        "def tokenize(X):\n",
        "  \"\"\"\n",
        "  Tokenize the data using nltk\n",
        "  \"\"\"\n",
        "  treebank = nltk.tokenize.TreebankWordTokenizer()\n",
        "  X_tokenized=[treebank.tokenize(sentence) for sentence in X]  \n",
        "  return X_tokenized"
      ]
    },
    {
      "cell_type": "code",
      "execution_count": null,
      "metadata": {
        "id": "FXMMo0ylx1DA",
        "colab": {
          "base_uri": "https://localhost:8080/"
        },
        "outputId": "c5dc6b38-9972-4833-aa87-31ffa3e5dbf0"
      },
      "outputs": [
        {
          "output_type": "stream",
          "name": "stdout",
          "text": [
            "\n",
            "Original :\n",
            "I am in pain. My back and sides hurt. Not to mention crying is made of fail. \n",
            "\n",
            "Tokenized :\n",
            "['I', 'am', 'in', 'pain.', 'My', 'back', 'and', 'sides', 'hurt.', 'Not', 'to', 'mention', 'crying', 'is', 'made', 'of', 'fail', '.']\n",
            "\n",
            "Vectorized :\n",
            "[1, 57, 10, 2588, 5, 48, 6, 8826, 2898, 25, 2, 1418, 1086, 8, 187, 12, 2288]\n",
            "\n",
            "Padded :\n",
            "[   1   57   10 2588    5   48    6 8826 2898   25    2 1418 1086    8\n",
            "  187   12 2288    0    0    0]\n"
          ]
        }
      ],
      "source": [
        "index  = 123  \n",
        "X_tokenized = tokenize(X)\n",
        "\n",
        "print('\\nOriginal :')\n",
        "print(X[index])\n",
        "print('\\nTokenized :')\n",
        "print(X_tokenized[index])\n",
        "print('\\nVectorized :')\n",
        "print(X_vectorized[index])\n",
        "print('\\nPadded :')\n",
        "print(X_pad[index])\n"
      ]
    },
    {
      "cell_type": "code",
      "execution_count": null,
      "metadata": {
        "id": "C64iWf-ux_F7"
      },
      "outputs": [],
      "source": [
        "np.random.seed(42)\n",
        "\n",
        "model_1 = keras.models.Sequential(name='model1')\n",
        "model_1.add(InputLayer(input_shape=(20,),name = 'Integer_Encoding'))\n",
        "model_1.add(Embedding(max_vocab, 100,input_length=20,mask_zero=True,name='100D_Encoding',trainable=False))\n",
        "model_1.add(Bidirectional(LSTM(64,name='LSTM'),name='Bidirectional_RNN'))\n",
        "model_1.add(Dropout(0.5,name='Regularizer'))\n",
        "model_1.add(Dense(1, activation='sigmoid',name='Sigmoid_Classifier'))"
      ]
    },
    {
      "cell_type": "code",
      "execution_count": null,
      "metadata": {
        "id": "FuA6fPaMx_BL",
        "colab": {
          "base_uri": "https://localhost:8080/"
        },
        "outputId": "21090d2f-e17d-4c11-ef86-756ff2afa194"
      },
      "outputs": [
        {
          "output_type": "execute_result",
          "data": {
            "text/plain": [
              "<keras.engine.sequential.Sequential at 0x7f61a390edd0>"
            ]
          },
          "metadata": {},
          "execution_count": 20
        }
      ],
      "source": [
        "import tensorflow as tf \n",
        "from tensorflow.keras.utils import plot_model\n",
        "\n",
        "model_1.compile(optimizer=tf.keras.optimizers.Adam(learning_rate=0.001),loss='binary_crossentropy',metrics=['accuracy'])\n",
        "model_1"
      ]
    },
    {
      "cell_type": "code",
      "execution_count": null,
      "metadata": {
        "id": "9SkQGNuUx-9C",
        "colab": {
          "base_uri": "https://localhost:8080/"
        },
        "outputId": "2ae5c3aa-c411-4462-d992-b470602b61bb"
      },
      "outputs": [
        {
          "output_type": "stream",
          "name": "stdout",
          "text": [
            "Model: \"model1\"\n",
            "_________________________________________________________________\n",
            " Layer (type)                Output Shape              Param #   \n",
            "=================================================================\n",
            " 100D_Encoding (Embedding)   (None, 20, 100)           5000000   \n",
            "                                                                 \n",
            " Bidirectional_RNN (Bidirect  (None, 128)              84480     \n",
            " ional)                                                          \n",
            "                                                                 \n",
            " Regularizer (Dropout)       (None, 128)               0         \n",
            "                                                                 \n",
            " Sigmoid_Classifier (Dense)  (None, 1)                 129       \n",
            "                                                                 \n",
            "=================================================================\n",
            "Total params: 5,084,609\n",
            "Trainable params: 84,609\n",
            "Non-trainable params: 5,000,000\n",
            "_________________________________________________________________\n"
          ]
        }
      ],
      "source": [
        "model_1.summary()"
      ]
    },
    {
      "cell_type": "code",
      "source": [
        "from tensorflow.keras.utils import plot_model"
      ],
      "metadata": {
        "id": "eZ2WsABVjsrd"
      },
      "execution_count": null,
      "outputs": []
    },
    {
      "cell_type": "code",
      "source": [
        "plot_model(model_1,to_file='model_1.png')"
      ],
      "metadata": {
        "id": "qYURiLTajjYM",
        "colab": {
          "base_uri": "https://localhost:8080/",
          "height": 466
        },
        "outputId": "b17cf240-b911-4ca3-88b0-5b48473f4e62"
      },
      "execution_count": null,
      "outputs": [
        {
          "output_type": "execute_result",
          "data": {
            "text/plain": [
              "<IPython.core.display.Image object>"
            ],
            "image/png": "[encoded data removed]"
          },
          "metadata": {},
          "execution_count": 23
        }
      ]
    },
    {
      "cell_type": "code",
      "execution_count": null,
      "metadata": {
        "id": "0u8Oqs1Qx0_r",
        "colab": {
          "base_uri": "https://localhost:8080/"
        },
        "outputId": "886dd63c-2c09-40fd-a042-64ccbc59cfbc"
      },
      "outputs": [
        {
          "output_type": "stream",
          "name": "stdout",
          "text": [
            "1120000\n",
            "480000\n",
            "1120000\n",
            "480000\n"
          ]
        }
      ],
      "source": [
        "np.random.seed(42)\n",
        "\n",
        "X_train, X_test, Y_train, Y_test = train_test_split (X_pad,Y.reshape(Y.shape[0],1),test_size=0.30)\n",
        "\n",
        "print(len(X_train))\n",
        "print(len(X_test))\n",
        "print(len(Y_train))\n",
        "print(len(Y_test))"
      ]
    },
    {
      "cell_type": "code",
      "execution_count": null,
      "metadata": {
        "id": "ZAM20xIqyMed",
        "colab": {
          "base_uri": "https://localhost:8080/"
        },
        "outputId": "df9f829b-5cf6-49e7-d0ad-ef6bf2053bf2"
      },
      "outputs": [
        {
          "output_type": "stream",
          "name": "stdout",
          "text": [
            "Epoch 1/25\n",
            "766/766 [==============================] - 333s 423ms/step - loss: 0.6468 - accuracy: 0.6242 - val_loss: 0.6278 - val_accuracy: 0.6454\n",
            "Epoch 2/25\n",
            "766/766 [==============================] - 329s 430ms/step - loss: 0.6167 - accuracy: 0.6570 - val_loss: 0.5965 - val_accuracy: 0.6775\n",
            "Epoch 3/25\n",
            "766/766 [==============================] - 325s 424ms/step - loss: 0.5842 - accuracy: 0.6887 - val_loss: 0.5643 - val_accuracy: 0.7050\n",
            "Epoch 4/25\n",
            "766/766 [==============================] - 321s 419ms/step - loss: 0.5600 - accuracy: 0.7089 - val_loss: 0.5662 - val_accuracy: 0.7016\n",
            "Epoch 5/25\n",
            "766/766 [==============================] - 321s 420ms/step - loss: 0.5455 - accuracy: 0.7208 - val_loss: 0.5351 - val_accuracy: 0.7275\n",
            "Epoch 6/25\n",
            "766/766 [==============================] - 323s 422ms/step - loss: 0.5348 - accuracy: 0.7283 - val_loss: 0.5259 - val_accuracy: 0.7344\n",
            "Epoch 7/25\n",
            "766/766 [==============================] - 326s 426ms/step - loss: 0.5265 - accuracy: 0.7345 - val_loss: 0.5214 - val_accuracy: 0.7373\n",
            "Epoch 8/25\n",
            "766/766 [==============================] - 324s 422ms/step - loss: 0.5208 - accuracy: 0.7386 - val_loss: 0.5161 - val_accuracy: 0.7410\n",
            "Epoch 9/25\n",
            "766/766 [==============================] - 323s 422ms/step - loss: 0.5147 - accuracy: 0.7435 - val_loss: 0.5183 - val_accuracy: 0.7385\n",
            "Epoch 10/25\n",
            "766/766 [==============================] - 326s 426ms/step - loss: 0.5107 - accuracy: 0.7463 - val_loss: 0.5054 - val_accuracy: 0.7489\n",
            "Epoch 11/25\n",
            "766/766 [==============================] - 319s 417ms/step - loss: 0.5056 - accuracy: 0.7501 - val_loss: 0.5024 - val_accuracy: 0.7509\n",
            "Epoch 12/25\n",
            "766/766 [==============================] - 319s 416ms/step - loss: 0.5024 - accuracy: 0.7523 - val_loss: 0.4987 - val_accuracy: 0.7534\n",
            "Epoch 13/25\n",
            "766/766 [==============================] - 318s 416ms/step - loss: 0.4987 - accuracy: 0.7546 - val_loss: 0.5016 - val_accuracy: 0.7519\n",
            "Epoch 14/25\n",
            "766/766 [==============================] - 326s 425ms/step - loss: 0.4962 - accuracy: 0.7565 - val_loss: 0.4942 - val_accuracy: 0.7573\n",
            "Epoch 15/25\n",
            "766/766 [==============================] - 317s 414ms/step - loss: 0.4928 - accuracy: 0.7586 - val_loss: 0.4946 - val_accuracy: 0.7561\n",
            "Epoch 16/25\n",
            "766/766 [==============================] - 321s 420ms/step - loss: 0.4899 - accuracy: 0.7607 - val_loss: 0.4912 - val_accuracy: 0.7589\n",
            "Epoch 17/25\n",
            "766/766 [==============================] - 320s 417ms/step - loss: 0.4884 - accuracy: 0.7619 - val_loss: 0.4890 - val_accuracy: 0.7608\n",
            "Epoch 18/25\n",
            "766/766 [==============================] - 321s 419ms/step - loss: 0.4852 - accuracy: 0.7635 - val_loss: 0.4873 - val_accuracy: 0.7619\n",
            "Epoch 19/25\n",
            "766/766 [==============================] - 320s 418ms/step - loss: 0.4831 - accuracy: 0.7653 - val_loss: 0.4856 - val_accuracy: 0.7630\n",
            "Epoch 20/25\n",
            "766/766 [==============================] - 324s 423ms/step - loss: 0.4817 - accuracy: 0.7662 - val_loss: 0.4846 - val_accuracy: 0.7639\n",
            "Epoch 21/25\n",
            "766/766 [==============================] - 322s 420ms/step - loss: 0.4795 - accuracy: 0.7679 - val_loss: 0.4827 - val_accuracy: 0.7644\n",
            "Epoch 22/25\n",
            "766/766 [==============================] - 321s 420ms/step - loss: 0.4776 - accuracy: 0.7687 - val_loss: 0.4836 - val_accuracy: 0.7652\n",
            "Epoch 23/25\n",
            "766/766 [==============================] - 326s 425ms/step - loss: 0.4757 - accuracy: 0.7699 - val_loss: 0.4833 - val_accuracy: 0.7638\n",
            "Epoch 24/25\n",
            "766/766 [==============================] - 325s 424ms/step - loss: 0.4742 - accuracy: 0.7709 - val_loss: 0.4793 - val_accuracy: 0.7666\n",
            "Epoch 25/25\n",
            "766/766 [==============================] - 321s 419ms/step - loss: 0.4727 - accuracy: 0.7723 - val_loss: 0.4790 - val_accuracy: 0.7677\n"
          ]
        }
      ],
      "source": [
        "history_model_1 = model_1.fit(X_train,Y_train,batch_size=1024,epochs=25,validation_split=0.30)"
      ]
    },
    {
      "cell_type": "code",
      "execution_count": null,
      "metadata": {
        "id": "mE6jLP0cyMaG",
        "colab": {
          "base_uri": "https://localhost:8080/"
        },
        "outputId": "5686dd50-a0b3-46d5-912c-0accda05426a"
      },
      "outputs": [
        {
          "output_type": "stream",
          "name": "stdout",
          "text": [
            "15000/15000 [==============================] - 152s 10ms/step - loss: 0.4813 - accuracy: 0.7673\n"
          ]
        },
        {
          "output_type": "execute_result",
          "data": {
            "text/plain": [
              "[0.4812614619731903, 0.76725834608078]"
            ]
          },
          "metadata": {},
          "execution_count": 26
        }
      ],
      "source": [
        "model_1.evaluate(X_test,Y_test)"
      ]
    },
    {
      "cell_type": "code",
      "execution_count": null,
      "metadata": {
        "id": "BUBVEMhJx08M"
      },
      "outputs": [],
      "source": [
        ""
      ]
    },
    {
      "cell_type": "code",
      "execution_count": null,
      "metadata": {
        "id": "QtAIkNTMxY8s"
      },
      "outputs": [],
      "source": [
        ""
      ]
    },
    {
      "cell_type": "markdown",
      "metadata": {
        "id": "H996134KfcUr"
      },
      "source": [
        "#Data pre-processing"
      ]
    },
    {
      "cell_type": "code",
      "source": [
        "def tokenize(X):\n",
        "  \"\"\"\n",
        "  Tokenize the data using nltk\n",
        "  \"\"\"\n",
        "  treebank = nltk.tokenize.TreebankWordTokenizer()\n",
        "  X_tokenized=[treebank.tokenize(sentence) for sentence in X]  \n",
        "  return X_tokenized\n",
        "\n",
        "def remove_stopwords(X):\n",
        "  \"\"\"\n",
        "  Remove Stopwords using nltk\n",
        "  \"\"\"\n",
        "  stop=nltk.corpus.stopwords.words('english') + ['@']\n",
        "  X_no_stopwords = []\n",
        "  for sentence in X:\n",
        "    temp = [word for word in sentence if not word in stop]\n",
        "    X_no_stopwords.append(temp) \n",
        "\n",
        "  return X_no_stopwords"
      ],
      "metadata": {
        "id": "j3S8xEntZkHB"
      },
      "execution_count": null,
      "outputs": []
    },
    {
      "cell_type": "code",
      "source": [
        "def get_wordnet_pos(treebank_tag):\n",
        "        \"\"\"\n",
        "        return WORDNET POS compliance to WORDENT lemmatization (a,n,r,v) \n",
        "        \"\"\"\n",
        "        if treebank_tag.startswith('J'):                #returns 'a' if it's an adjective\n",
        "            return 'a'\n",
        "        elif treebank_tag.startswith('V'):              #returns 'v' if it's a verb\n",
        "            return 'v'\n",
        "        elif treebank_tag.startswith('N'):              #returns 'n' if it's a noun\n",
        "            return 'n'\n",
        "        elif treebank_tag.startswith('R'):              #returns 'r' if it's an adverb\n",
        "            return 'r'\n",
        "        else:\n",
        "            return 'n'"
      ],
      "metadata": {
        "id": "NWfdUQpoeTrv"
      },
      "execution_count": null,
      "outputs": []
    },
    {
      "cell_type": "code",
      "execution_count": null,
      "metadata": {
        "id": "QDtNdN84P4WG"
      },
      "outputs": [],
      "source": [
        "def stem(X,type='porter'):\n",
        "  \"\"\"\n",
        "  Stemming using nltk\n",
        "  type = 'Porter','Snowball','Lancaster'\n",
        "  \"\"\" \n",
        "  if type == 'porter':\n",
        "    stemmer= nltk.stem.PorterStemmer()\n",
        "  elif type == 'snowball':\n",
        "    stemmer = nltk.stem.SnowballStemmer()\n",
        "  elif type == 'lancaster':\n",
        "    stemmer = nltk.stem.LancasterStemmer()    \n",
        "  X_stemmed = []\n",
        "  for sentence in X:\n",
        "    temp = [stemmer.stem(word) for word in sentence]\n",
        "    X_stemmed.append(temp)\n",
        "\n",
        "  return X_stemmed \n",
        "\n",
        "\n",
        "def lemmatize(X):\n",
        "  \"\"\"\n",
        "  Lemmatize words using corresponding POS tag\n",
        "  \"\"\"\n",
        "  lemmatizer = nltk.stem.WordNetLemmatizer()\n",
        "  X_pos = []\n",
        "  X_lemmatized = []\n",
        "  for sentence in X :\n",
        "    temp = nltk.pos_tag(sentence)\n",
        "    X_pos.append(temp)  \n",
        "  for sentence in X_pos :\n",
        "    temp = [ lemmatizer.lemmatize(word[0],pos=get_wordnet_pos(word[1])) for word in sentence]\n",
        "    X_lemmatized.append(temp)  \n",
        "\n",
        "  return X_lemmatized    "
      ]
    },
    {
      "cell_type": "code",
      "execution_count": null,
      "metadata": {
        "id": "YZ6RsNU9P4Tf"
      },
      "outputs": [],
      "source": [
        "X_tokenized = tokenize(X)\n",
        "X_no_stopwords = remove_stopwords(X_tokenized)\n",
        "X_lemmatized = lemmatize(X_no_stopwords)\n",
        "X_clean = []\n",
        "for sentence in X_lemmatized:\n",
        "  temp = \" \".join(sentence)\n",
        "  X_clean.append(temp)"
      ]
    },
    {
      "cell_type": "code",
      "execution_count": null,
      "metadata": {
        "id": "5FbBAOp4QLzH",
        "colab": {
          "base_uri": "https://localhost:8080/"
        },
        "outputId": "cf439807-5712-4a87-e570-49d0eb63c6bb"
      },
      "outputs": [
        {
          "output_type": "stream",
          "name": "stdout",
          "text": [
            "No. of distinct tokens = 837032\n"
          ]
        }
      ],
      "source": [
        "tokenizer = Tokenizer(filters='@')\n",
        "tokenizer.fit_on_texts(X_clean)\n",
        "print('No. of distinct tokens = '+str(len(tokenizer.word_index)))"
      ]
    },
    {
      "cell_type": "code",
      "execution_count": null,
      "metadata": {
        "id": "4uPC5dTQQLvy"
      },
      "outputs": [],
      "source": [
        "max_vocab=50000"
      ]
    },
    {
      "cell_type": "code",
      "execution_count": null,
      "metadata": {
        "id": "lhOyYFY_QLsi"
      },
      "outputs": [],
      "source": [
        "tokenizer = Tokenizer(num_words=max_vocab,filters='@')\n",
        "tokenizer.fit_on_texts(X_clean)"
      ]
    },
    {
      "cell_type": "code",
      "execution_count": null,
      "metadata": {
        "id": "qjpMDZmOQUQH"
      },
      "outputs": [],
      "source": [
        "# vectorize\n",
        "X_clean_vectorized=tokenizer.texts_to_sequences(X_clean)"
      ]
    },
    {
      "cell_type": "code",
      "execution_count": null,
      "metadata": {
        "id": "aYCzFo81ZOMO"
      },
      "outputs": [],
      "source": [
        "max_length=20"
      ]
    },
    {
      "cell_type": "code",
      "execution_count": null,
      "metadata": {
        "id": "y0OycdBRZOJc",
        "colab": {
          "base_uri": "https://localhost:8080/"
        },
        "outputId": "6064af7f-b120-4356-96eb-5693d8d3a133"
      },
      "outputs": [
        {
          "output_type": "stream",
          "name": "stdout",
          "text": [
            "(1600000, 20)\n"
          ]
        }
      ],
      "source": [
        "X_clean_pad = keras.preprocessing.sequence.pad_sequences(X_clean_vectorized,max_length,padding='post',truncating='post')\n",
        "print(X_clean_pad.shape)"
      ]
    },
    {
      "cell_type": "code",
      "execution_count": null,
      "metadata": {
        "id": "7L41AmYbZOBc",
        "colab": {
          "base_uri": "https://localhost:8080/"
        },
        "outputId": "f77454a3-bd2e-4aa8-a1c8-10e6af829a93"
      },
      "outputs": [
        {
          "output_type": "stream",
          "name": "stdout",
          "text": [
            "\n",
            "Original :\n",
            "@JonathanRKnight @silver_tulip27 Um, that would be a hell no to the fugly poker dog pants on the cruise!  Hi Jonathan, sorry I missed you \n",
            "\n",
            "Tokenized :\n",
            "['@', 'JonathanRKnight', '@', 'silver_tulip27', 'Um', ',', 'that', 'would', 'be', 'a', 'hell', 'no', 'to', 'the', 'fugly', 'poker', 'dog', 'pants', 'on', 'the', 'cruise', '!', 'Hi', 'Jonathan', ',', 'sorry', 'I', 'missed', 'you']\n",
            "\n",
            "Stopwords removed :\n",
            "['JonathanRKnight', 'silver_tulip27', 'Um', ',', 'would', 'hell', 'fugly', 'poker', 'dog', 'pants', 'cruise', '!', 'Hi', 'Jonathan', ',', 'sorry', 'I', 'missed']\n",
            "\n",
            "POS tagged :\n",
            "[('JonathanRKnight', 'NNP'), ('silver_tulip27', 'NN'), ('Um', 'NNP'), (',', ','), ('would', 'MD'), ('hell', 'VB'), ('fugly', 'RB'), ('poker', 'NN'), ('dog', 'NN'), ('pants', 'NNS'), ('cruise', 'NN'), ('!', '.'), ('Hi', 'NNP'), ('Jonathan', 'NNP'), (',', ','), ('sorry', 'NN'), ('I', 'PRP'), ('missed', 'VBD')]\n",
            "\n",
            "Lemmatized :\n",
            "['JonathanRKnight', 'silver_tulip27', 'Um', ',', 'would', 'hell', 'fugly', 'poker', 'dog', 'pant', 'cruise', '!', 'Hi', 'Jonathan', ',', 'sorry', 'I', 'miss']\n",
            "\n",
            "Clean :\n",
            "JonathanRKnight silver_tulip27 Um , would hell fugly poker dog pant cruise ! Hi Jonathan , sorry I miss\n",
            "\n",
            "Vectorized :\n",
            "[1287, 1473, 3, 72, 415, 15267, 2528, 368, 1605, 2261, 1, 248, 4559, 3, 86, 2, 32]\n",
            "\n",
            "Padded :\n",
            "[ 1287  1473     3    72   415 15267  2528   368  1605  2261     1   248\n",
            "  4559     3    86     2    32     0     0     0]\n"
          ]
        }
      ],
      "source": [
        "index  = 1000  \n",
        "\n",
        "print('\\nOriginal :')\n",
        "print(X[index])\n",
        "print('\\nTokenized :')\n",
        "print(X_tokenized[index])\n",
        "print('\\nStopwords removed :')\n",
        "print(X_no_stopwords[index])\n",
        "print('\\nPOS tagged :')\n",
        "print(nltk.pos_tag(X_no_stopwords[index]))\n",
        "print('\\nLemmatized :')\n",
        "print(X_lemmatized[index])\n",
        "print('\\nClean :')\n",
        "print(X_clean[index])\n",
        "print('\\nVectorized :')\n",
        "print(X_clean_vectorized[index])\n",
        "print('\\nPadded :')\n",
        "print(X_clean_pad[index])"
      ]
    },
    {
      "cell_type": "markdown",
      "source": [
        "#Word Embeddings"
      ],
      "metadata": {
        "id": "ezaZzJUpaDUK"
      }
    },
    {
      "cell_type": "markdown",
      "metadata": {
        "id": "DQy-VPWkgDry"
      },
      "source": [
        "**Using pre-trained Word Embeddings (GloVe)**"
      ]
    },
    {
      "cell_type": "code",
      "execution_count": null,
      "metadata": {
        "id": "Z25E3V5RZiyj"
      },
      "outputs": [],
      "source": [
        "embedding_path = \"/content/drive/MyDrive/CS6890Project/data/glove.6B.100d.txt\""
      ]
    },
    {
      "cell_type": "code",
      "execution_count": null,
      "metadata": {
        "id": "QDux-Z4GZb0w"
      },
      "outputs": [],
      "source": [
        "emb = dict()\n",
        "f = open(embedding_path)\n",
        "for line in f:\n",
        "\tvalues = line.split()\n",
        "\tword = values[0]\n",
        "\tcf = np.asarray(values[1:], dtype='float32')\n",
        "\temb[word] = cf\n",
        "f.close()"
      ]
    },
    {
      "cell_type": "code",
      "execution_count": null,
      "metadata": {
        "id": "LA1JWIRZZbxe"
      },
      "outputs": [],
      "source": [
        "embedding_matrix = np.zeros((max_vocab, 100))\n",
        "for i in range(1,max_vocab):\n",
        "\tvector = emb.get(tokenizer.index_word[i])\n",
        "\tif vector is not None:\n",
        "\t\tembedding_matrix[i] = vector"
      ]
    },
    {
      "cell_type": "code",
      "execution_count": null,
      "metadata": {
        "id": "tGcVPz5qaaE0"
      },
      "outputs": [],
      "source": [
        "import tensorflow as tf "
      ]
    },
    {
      "cell_type": "code",
      "execution_count": null,
      "metadata": {
        "id": "XM8fdIg7ZbvR"
      },
      "outputs": [],
      "source": [
        "np.random.seed(42)\n",
        "\n",
        "model_2 = keras.models.Sequential(name='model2')\n",
        "\n",
        "model_2.add(InputLayer(input_shape=(20,),name='Integer_Encoding_after_Preprocessing'))\n",
        "model_2.add(Embedding(max_vocab, 100, weights=[embedding_matrix], input_length=max_length,mask_zero=True,name='Pretrained_GloVe_100D', trainable=False))\n",
        "model_2.add(Bidirectional(LSTM(64,name='LSTM'),name='Bidirectional_RNN'))\n",
        "model_2.add(Dropout(0.5,name='Regularizer'))\n",
        "model_2.add(Dense(1, activation='sigmoid',name='Sigmoid_Classifier'))"
      ]
    },
    {
      "cell_type": "code",
      "execution_count": null,
      "metadata": {
        "id": "DtUfjTlaZbrn"
      },
      "outputs": [],
      "source": [
        "model_2.compile(optimizer=tf.keras.optimizers.Adam(learning_rate=0.001),loss='binary_crossentropy',\n",
        "                metrics=['accuracy'])"
      ]
    },
    {
      "cell_type": "code",
      "execution_count": null,
      "metadata": {
        "id": "-Cfk-OGOZ5Ld",
        "colab": {
          "base_uri": "https://localhost:8080/"
        },
        "outputId": "c3dd5a90-dcdf-44f5-c5a1-afd8ba285757"
      },
      "outputs": [
        {
          "output_type": "stream",
          "name": "stdout",
          "text": [
            "Model: \"model2\"\n",
            "_________________________________________________________________\n",
            " Layer (type)                Output Shape              Param #   \n",
            "=================================================================\n",
            " Pretrained_GloVe_100D (Embe  (None, 20, 100)          5000000   \n",
            " dding)                                                          \n",
            "                                                                 \n",
            " Bidirectional_RNN (Bidirect  (None, 128)              84480     \n",
            " ional)                                                          \n",
            "                                                                 \n",
            " Regularizer (Dropout)       (None, 128)               0         \n",
            "                                                                 \n",
            " Sigmoid_Classifier (Dense)  (None, 1)                 129       \n",
            "                                                                 \n",
            "=================================================================\n",
            "Total params: 5,084,609\n",
            "Trainable params: 84,609\n",
            "Non-trainable params: 5,000,000\n",
            "_________________________________________________________________\n"
          ]
        }
      ],
      "source": [
        "model_2.summary()"
      ]
    },
    {
      "cell_type": "code",
      "source": [
        "plot_model(model_2,to_file='model_1.png')"
      ],
      "metadata": {
        "id": "j-1q2OL8kUOw",
        "colab": {
          "base_uri": "https://localhost:8080/",
          "height": 466
        },
        "outputId": "3b535623-3094-4599-bd3e-6354b0cf02c8"
      },
      "execution_count": null,
      "outputs": [
        {
          "output_type": "execute_result",
          "data": {
            "text/plain": [
              "<IPython.core.display.Image object>"
            ],
            "image/png": "[encoded data removed]"
          },
          "metadata": {},
          "execution_count": 46
        }
      ]
    },
    {
      "cell_type": "code",
      "execution_count": null,
      "metadata": {
        "id": "jbZIZ2FkZ5Hs",
        "colab": {
          "base_uri": "https://localhost:8080/"
        },
        "outputId": "18420ae3-9085-4d30-d062-7ac022788d48"
      },
      "outputs": [
        {
          "output_type": "stream",
          "name": "stdout",
          "text": [
            "(1120000, 20)\n",
            "(480000, 20)\n",
            "(1120000, 1)\n",
            "(480000, 1)\n"
          ]
        }
      ],
      "source": [
        "np.random.seed(42)\n",
        "\n",
        "X_train, X_test, Y_train, Y_test = train_test_split (X_clean_pad,Y.reshape(Y.shape[0],1),test_size=0.30)\n",
        "\n",
        "print(X_train.shape)\n",
        "print(X_test.shape)\n",
        "print(Y_train.shape)\n",
        "print(Y_test.shape)"
      ]
    },
    {
      "cell_type": "code",
      "execution_count": null,
      "metadata": {
        "id": "DQ4QUUJQadtq",
        "colab": {
          "base_uri": "https://localhost:8080/"
        },
        "outputId": "66d4a1e6-ed1b-4412-eeec-3b263afe90ba"
      },
      "outputs": [
        {
          "output_type": "stream",
          "name": "stdout",
          "text": [
            "Epoch 1/25\n",
            "766/766 [==============================] - 327s 416ms/step - loss: 0.5408 - accuracy: 0.7236 - val_loss: 0.5019 - val_accuracy: 0.7524\n",
            "Epoch 2/25\n",
            "766/766 [==============================] - 319s 417ms/step - loss: 0.4954 - accuracy: 0.7580 - val_loss: 0.4839 - val_accuracy: 0.7636\n",
            "Epoch 3/25\n",
            "766/766 [==============================] - 325s 425ms/step - loss: 0.4800 - accuracy: 0.7678 - val_loss: 0.4732 - val_accuracy: 0.7717\n",
            "Epoch 4/25\n",
            "766/766 [==============================] - 323s 422ms/step - loss: 0.4699 - accuracy: 0.7742 - val_loss: 0.4669 - val_accuracy: 0.7764\n",
            "Epoch 5/25\n",
            "766/766 [==============================] - 315s 411ms/step - loss: 0.4627 - accuracy: 0.7793 - val_loss: 0.4623 - val_accuracy: 0.7781\n",
            "Epoch 6/25\n",
            "766/766 [==============================] - 317s 414ms/step - loss: 0.4571 - accuracy: 0.7827 - val_loss: 0.4572 - val_accuracy: 0.7817\n",
            "Epoch 7/25\n",
            "766/766 [==============================] - 319s 416ms/step - loss: 0.4525 - accuracy: 0.7859 - val_loss: 0.4557 - val_accuracy: 0.7827\n",
            "Epoch 8/25\n",
            "766/766 [==============================] - 319s 416ms/step - loss: 0.4489 - accuracy: 0.7877 - val_loss: 0.4537 - val_accuracy: 0.7839\n",
            "Epoch 9/25\n",
            "766/766 [==============================] - 321s 419ms/step - loss: 0.4443 - accuracy: 0.7908 - val_loss: 0.4519 - val_accuracy: 0.7859\n",
            "Epoch 10/25\n",
            "766/766 [==============================] - 326s 426ms/step - loss: 0.4411 - accuracy: 0.7924 - val_loss: 0.4493 - val_accuracy: 0.7868\n",
            "Epoch 11/25\n",
            "766/766 [==============================] - 340s 444ms/step - loss: 0.4384 - accuracy: 0.7939 - val_loss: 0.4478 - val_accuracy: 0.7878\n",
            "Epoch 12/25\n",
            "766/766 [==============================] - 343s 448ms/step - loss: 0.4351 - accuracy: 0.7962 - val_loss: 0.4518 - val_accuracy: 0.7874\n",
            "Epoch 13/25\n",
            "766/766 [==============================] - 340s 444ms/step - loss: 0.4325 - accuracy: 0.7977 - val_loss: 0.4477 - val_accuracy: 0.7880\n",
            "Epoch 14/25\n",
            "766/766 [==============================] - 332s 434ms/step - loss: 0.4297 - accuracy: 0.7994 - val_loss: 0.4474 - val_accuracy: 0.7893\n",
            "Epoch 15/25\n",
            "766/766 [==============================] - 336s 439ms/step - loss: 0.4273 - accuracy: 0.8005 - val_loss: 0.4471 - val_accuracy: 0.7901\n",
            "Epoch 16/25\n",
            "766/766 [==============================] - 330s 431ms/step - loss: 0.4248 - accuracy: 0.8022 - val_loss: 0.4463 - val_accuracy: 0.7894\n",
            "Epoch 17/25\n",
            "766/766 [==============================] - 329s 430ms/step - loss: 0.4226 - accuracy: 0.8032 - val_loss: 0.4461 - val_accuracy: 0.7896\n",
            "Epoch 18/25\n",
            "766/766 [==============================] - 318s 416ms/step - loss: 0.4206 - accuracy: 0.8043 - val_loss: 0.4460 - val_accuracy: 0.7899\n",
            "Epoch 19/25\n",
            "766/766 [==============================] - 311s 407ms/step - loss: 0.4186 - accuracy: 0.8055 - val_loss: 0.4459 - val_accuracy: 0.7896\n",
            "Epoch 20/25\n",
            "766/766 [==============================] - 315s 411ms/step - loss: 0.4160 - accuracy: 0.8070 - val_loss: 0.4479 - val_accuracy: 0.7884\n",
            "Epoch 21/25\n",
            "766/766 [==============================] - 313s 409ms/step - loss: 0.4143 - accuracy: 0.8080 - val_loss: 0.4480 - val_accuracy: 0.7905\n",
            "Epoch 22/25\n",
            "766/766 [==============================] - 313s 408ms/step - loss: 0.4124 - accuracy: 0.8092 - val_loss: 0.4552 - val_accuracy: 0.7866\n",
            "Epoch 23/25\n",
            "766/766 [==============================] - 316s 413ms/step - loss: 0.4106 - accuracy: 0.8098 - val_loss: 0.4484 - val_accuracy: 0.7901\n",
            "Epoch 24/25\n",
            "766/766 [==============================] - 316s 412ms/step - loss: 0.4088 - accuracy: 0.8113 - val_loss: 0.4484 - val_accuracy: 0.7901\n",
            "Epoch 25/25\n",
            "766/766 [==============================] - 320s 418ms/step - loss: 0.4066 - accuracy: 0.8123 - val_loss: 0.4530 - val_accuracy: 0.7898\n"
          ]
        }
      ],
      "source": [
        "# Train the model\n",
        "history_model_2 = model_2.fit(X_train,Y_train,batch_size=1024,epochs=25,validation_split=0.30)"
      ]
    },
    {
      "cell_type": "code",
      "execution_count": null,
      "metadata": {
        "id": "jIl5kdaivfri",
        "colab": {
          "base_uri": "https://localhost:8080/"
        },
        "outputId": "846df209-88dc-4431-efa3-02d29f3ab357"
      },
      "outputs": [
        {
          "output_type": "stream",
          "name": "stdout",
          "text": [
            "15000/15000 [==============================] - 146s 10ms/step - loss: 0.4534 - accuracy: 0.7895\n"
          ]
        },
        {
          "output_type": "execute_result",
          "data": {
            "text/plain": [
              "[0.4534456729888916, 0.7895374894142151]"
            ]
          },
          "metadata": {},
          "execution_count": 49
        }
      ],
      "source": [
        "model_2.evaluate(X_test,Y_test)"
      ]
    },
    {
      "cell_type": "code",
      "execution_count": null,
      "metadata": {
        "id": "w9NkxlGdf3Iz"
      },
      "outputs": [],
      "source": [
        "n_epochs=len(history_model_1.history['loss'])\n",
        "e = list(range(1,n_epochs+1))"
      ]
    },
    {
      "cell_type": "code",
      "execution_count": null,
      "metadata": {
        "id": "mE_bPcDzf3Fj",
        "colab": {
          "base_uri": "https://localhost:8080/",
          "height": 295
        },
        "outputId": "652af677-be2d-41ab-9cd5-84d66a44453c"
      },
      "outputs": [
        {
          "output_type": "display_data",
          "data": {
            "text/plain": [
              "<Figure size 432x288 with 1 Axes>"
            ],
            "image/png": "[encoded data removed]"
          },
          "metadata": {
            "needs_background": "light"
          }
        }
      ],
      "source": [
        "# Training and Validation loss\n",
        "\n",
        "plt.title('Training and validation loss for model 1')\n",
        "plt.plot(e,history_model_1.history['loss'],'r',label='training')\n",
        "plt.plot(e,history_model_1.history['val_loss'],'b',label='validation')\n",
        "plt.xlabel('Epochs')\n",
        "plt.ylabel('Loss')\n",
        "plt.legend()\n",
        "plt.show()"
      ]
    },
    {
      "cell_type": "code",
      "execution_count": null,
      "metadata": {
        "id": "zOQ989XJHher",
        "colab": {
          "base_uri": "https://localhost:8080/",
          "height": 295
        },
        "outputId": "59053688-d8b0-4398-f87f-e9f4e816263d"
      },
      "outputs": [
        {
          "output_type": "display_data",
          "data": {
            "text/plain": [
              "<Figure size 432x288 with 1 Axes>"
            ],
            "image/png": "[encoded data removed]"
          },
          "metadata": {
            "needs_background": "light"
          }
        }
      ],
      "source": [
        "# Training Loss\n",
        "\n",
        "plt.title('Training and validation loss for model 2')\n",
        "plt.plot(e,history_model_2.history['loss'],'r',label='training')\n",
        "plt.plot(e,history_model_2.history['val_loss'],'b',label='validation')\n",
        "plt.xlabel('Epochs')\n",
        "plt.ylabel('Loss')\n",
        "plt.legend()\n",
        "plt.show()"
      ]
    },
    {
      "cell_type": "code",
      "execution_count": null,
      "metadata": {
        "id": "PrOZgn_mHhaJ",
        "colab": {
          "base_uri": "https://localhost:8080/",
          "height": 295
        },
        "outputId": "b0f52329-c438-4309-b7ec-4423bd962dd0"
      },
      "outputs": [
        {
          "output_type": "display_data",
          "data": {
            "text/plain": [
              "<Figure size 432x288 with 1 Axes>"
            ],
            "image/png": "[encoded data removed]"
          },
          "metadata": {
            "needs_background": "light"
          }
        }
      ],
      "source": [
        "# Training and validation Accuracy\n",
        "\n",
        "plt.title('Training and Validation Accuracy of model 1')\n",
        "plt.plot(e,history_model_1.history['accuracy'],'r',label='training')\n",
        "plt.plot(e,history_model_1.history['val_accuracy'],'b',label='validation')\n",
        "plt.xlabel('Epochs')\n",
        "plt.ylabel('Accuracy')\n",
        "plt.legend()\n",
        "plt.show()"
      ]
    },
    {
      "cell_type": "code",
      "execution_count": null,
      "metadata": {
        "id": "6j4v73jXHhV2",
        "colab": {
          "base_uri": "https://localhost:8080/",
          "height": 295
        },
        "outputId": "9bd49ced-8fc2-4fe4-9692-0c5f35fff652"
      },
      "outputs": [
        {
          "output_type": "display_data",
          "data": {
            "text/plain": [
              "<Figure size 432x288 with 1 Axes>"
            ],
            "image/png": "[encoded data removed]"
          },
          "metadata": {
            "needs_background": "light"
          }
        }
      ],
      "source": [
        "# Training and validation Accuracy\n",
        "\n",
        "plt.title('Training and Validation Accuracy of model 2')\n",
        "plt.plot(e,history_model_2.history['accuracy'],'r',label='training')\n",
        "plt.plot(e,history_model_2.history['val_accuracy'],'b',label='validation')\n",
        "plt.xlabel('Epochs')\n",
        "plt.ylabel('Accuracy')\n",
        "plt.legend()\n",
        "plt.show()"
      ]
    },
    {
      "cell_type": "code",
      "source": [
        ""
      ],
      "metadata": {
        "id": "OgY-3sTYGxN6"
      },
      "execution_count": null,
      "outputs": []
    },
    {
      "cell_type": "code",
      "source": [
        ""
      ],
      "metadata": {
        "id": "-OEFFXyuohfL"
      },
      "execution_count": null,
      "outputs": []
    }
  ],
  "metadata": {
    "colab": {
      "name": "lstm_models.ipynb",
      "provenance": [],
      "collapsed_sections": []
    },
    "kernelspec": {
      "display_name": "Python 3",
      "name": "python3"
    },
    "language_info": {
      "name": "python"
    }
  },
  "nbformat": 4,
  "nbformat_minor": 0
}