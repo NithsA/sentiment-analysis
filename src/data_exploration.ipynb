{
 "cells": [
  {
   "cell_type": "code",
   "execution_count": 1,
   "metadata": {},
   "outputs": [],
   "source": [
    "import numpy as np\n",
    "import pandas as pd\n",
    "import matplotlib.pyplot as plt"
   ]
  },
  {
   "cell_type": "markdown",
   "metadata": {},
   "source": [
    "## Load Data"
   ]
  },
  {
   "cell_type": "code",
   "execution_count": 2,
   "metadata": {},
   "outputs": [],
   "source": [
    "data_path = \"/Users/bradpayne/Desktop/CS6890/project/data/training.1600000.processed.noemoticon.csv\""
   ]
  },
  {
   "cell_type": "code",
   "execution_count": 3,
   "metadata": {},
   "outputs": [],
   "source": [
    "data = pd.read_csv(data_path, header=None )\n",
    "data.columns = [\"target\", \"id\", \"date\", \"flag\", \"user\", \"text\"]"
   ]
  },
  {
   "cell_type": "code",
   "execution_count": 4,
   "metadata": {},
   "outputs": [
    {
     "data": {
      "text/html": [
       "<div>\n",
       "<style scoped>\n",
       "    .dataframe tbody tr th:only-of-type {\n",
       "        vertical-align: middle;\n",
       "    }\n",
       "\n",
       "    .dataframe tbody tr th {\n",
       "        vertical-align: top;\n",
       "    }\n",
       "\n",
       "    .dataframe thead th {\n",
       "        text-align: right;\n",
       "    }\n",
       "</style>\n",
       "<table border=\"1\" class=\"dataframe\">\n",
       "  <thead>\n",
       "    <tr style=\"text-align: right;\">\n",
       "      <th></th>\n",
       "      <th>target</th>\n",
       "      <th>id</th>\n",
       "      <th>date</th>\n",
       "      <th>flag</th>\n",
       "      <th>user</th>\n",
       "      <th>text</th>\n",
       "    </tr>\n",
       "  </thead>\n",
       "  <tbody>\n",
       "    <tr>\n",
       "      <th>0</th>\n",
       "      <td>0</td>\n",
       "      <td>1467810369</td>\n",
       "      <td>Mon Apr 06 22:19:45 PDT 2009</td>\n",
       "      <td>NO_QUERY</td>\n",
       "      <td>_TheSpecialOne_</td>\n",
       "      <td>@switchfoot http://twitpic.com/2y1zl - Awww, t...</td>\n",
       "    </tr>\n",
       "    <tr>\n",
       "      <th>1</th>\n",
       "      <td>0</td>\n",
       "      <td>1467810672</td>\n",
       "      <td>Mon Apr 06 22:19:49 PDT 2009</td>\n",
       "      <td>NO_QUERY</td>\n",
       "      <td>scotthamilton</td>\n",
       "      <td>is upset that he can't update his Facebook by ...</td>\n",
       "    </tr>\n",
       "    <tr>\n",
       "      <th>2</th>\n",
       "      <td>0</td>\n",
       "      <td>1467810917</td>\n",
       "      <td>Mon Apr 06 22:19:53 PDT 2009</td>\n",
       "      <td>NO_QUERY</td>\n",
       "      <td>mattycus</td>\n",
       "      <td>@Kenichan I dived many times for the ball. Man...</td>\n",
       "    </tr>\n",
       "    <tr>\n",
       "      <th>3</th>\n",
       "      <td>0</td>\n",
       "      <td>1467811184</td>\n",
       "      <td>Mon Apr 06 22:19:57 PDT 2009</td>\n",
       "      <td>NO_QUERY</td>\n",
       "      <td>ElleCTF</td>\n",
       "      <td>my whole body feels itchy and like its on fire</td>\n",
       "    </tr>\n",
       "    <tr>\n",
       "      <th>4</th>\n",
       "      <td>0</td>\n",
       "      <td>1467811193</td>\n",
       "      <td>Mon Apr 06 22:19:57 PDT 2009</td>\n",
       "      <td>NO_QUERY</td>\n",
       "      <td>Karoli</td>\n",
       "      <td>@nationwideclass no, it's not behaving at all....</td>\n",
       "    </tr>\n",
       "  </tbody>\n",
       "</table>\n",
       "</div>"
      ],
      "text/plain": [
       "   target          id                          date      flag  \\\n",
       "0       0  1467810369  Mon Apr 06 22:19:45 PDT 2009  NO_QUERY   \n",
       "1       0  1467810672  Mon Apr 06 22:19:49 PDT 2009  NO_QUERY   \n",
       "2       0  1467810917  Mon Apr 06 22:19:53 PDT 2009  NO_QUERY   \n",
       "3       0  1467811184  Mon Apr 06 22:19:57 PDT 2009  NO_QUERY   \n",
       "4       0  1467811193  Mon Apr 06 22:19:57 PDT 2009  NO_QUERY   \n",
       "\n",
       "              user                                               text  \n",
       "0  _TheSpecialOne_  @switchfoot http://twitpic.com/2y1zl - Awww, t...  \n",
       "1    scotthamilton  is upset that he can't update his Facebook by ...  \n",
       "2         mattycus  @Kenichan I dived many times for the ball. Man...  \n",
       "3          ElleCTF    my whole body feels itchy and like its on fire   \n",
       "4           Karoli  @nationwideclass no, it's not behaving at all....  "
      ]
     },
     "execution_count": 4,
     "metadata": {},
     "output_type": "execute_result"
    }
   ],
   "source": [
    "data.head()"
   ]
  },
  {
   "cell_type": "markdown",
   "metadata": {},
   "source": [
    "## Exploration"
   ]
  },
  {
   "cell_type": "code",
   "execution_count": 5,
   "metadata": {},
   "outputs": [
    {
     "data": {
      "text/plain": [
       "1600000"
      ]
     },
     "execution_count": 5,
     "metadata": {},
     "output_type": "execute_result"
    }
   ],
   "source": [
    "len(data)"
   ]
  },
  {
   "cell_type": "code",
   "execution_count": 6,
   "metadata": {},
   "outputs": [
    {
     "data": {
      "text/plain": [
       "800000"
      ]
     },
     "execution_count": 6,
     "metadata": {},
     "output_type": "execute_result"
    }
   ],
   "source": [
    "# negative \n",
    "data[\"target\"][data[\"target\"] == 0].count()"
   ]
  },
  {
   "cell_type": "code",
   "execution_count": 7,
   "metadata": {},
   "outputs": [
    {
     "data": {
      "text/plain": [
       "0"
      ]
     },
     "execution_count": 7,
     "metadata": {},
     "output_type": "execute_result"
    }
   ],
   "source": [
    "# neutral\n",
    "data[\"target\"][data[\"target\"] == 2].count()"
   ]
  },
  {
   "cell_type": "code",
   "execution_count": 8,
   "metadata": {},
   "outputs": [
    {
     "data": {
      "text/plain": [
       "800000"
      ]
     },
     "execution_count": 8,
     "metadata": {},
     "output_type": "execute_result"
    }
   ],
   "source": [
    "# positive \n",
    "data[\"target\"][data[\"target\"] == 4].count()"
   ]
  },
  {
   "cell_type": "code",
   "execution_count": 9,
   "metadata": {},
   "outputs": [
    {
     "data": {
      "image/png": "[encoded data removed]",
      "text/plain": [
       "<Figure size 432x288 with 1 Axes>"
      ]
     },
     "metadata": {
      "needs_background": "light"
     },
     "output_type": "display_data"
    }
   ],
   "source": [
    "# target: the polarity of the tweet (0 = negative, 2 = neutral, 4 = positive)\n",
    "plt.figure()\n",
    "plt.hist(data[\"target\"])\n",
    "plt.show()"
   ]
  },
  {
   "cell_type": "code",
   "execution_count": 10,
   "metadata": {},
   "outputs": [
    {
     "data": {
      "text/plain": [
       "(array([], dtype=int64),)"
      ]
     },
     "execution_count": 10,
     "metadata": {},
     "output_type": "execute_result"
    }
   ],
   "source": [
    "# check to see if there is anything useful in the 'flag' column\n",
    "np.where(data[\"flag\"] != \"NO_QUERY\")"
   ]
  },
  {
   "cell_type": "markdown",
   "metadata": {},
   "source": [
    "```\n",
    "All of the flag columns are set to NO_QUERY, so the column is not useful\n",
    "```"
   ]
  },
  {
   "cell_type": "code",
   "execution_count": 11,
   "metadata": {},
   "outputs": [
    {
     "data": {
      "text/plain": [
       "1598315"
      ]
     },
     "execution_count": 11,
     "metadata": {},
     "output_type": "execute_result"
    }
   ],
   "source": [
    "data.id.nunique()"
   ]
  },
  {
   "cell_type": "code",
   "execution_count": 12,
   "metadata": {},
   "outputs": [
    {
     "data": {
      "text/plain": [
       "1581466"
      ]
     },
     "execution_count": 12,
     "metadata": {},
     "output_type": "execute_result"
    }
   ],
   "source": [
    "data.text.nunique()"
   ]
  },
  {
   "cell_type": "code",
   "execution_count": 13,
   "metadata": {},
   "outputs": [],
   "source": [
    "duplicate_text = np.where(data.text.duplicated())"
   ]
  },
  {
   "cell_type": "code",
   "execution_count": 14,
   "metadata": {},
   "outputs": [
    {
     "data": {
      "text/html": [
       "<div>\n",
       "<style scoped>\n",
       "    .dataframe tbody tr th:only-of-type {\n",
       "        vertical-align: middle;\n",
       "    }\n",
       "\n",
       "    .dataframe tbody tr th {\n",
       "        vertical-align: top;\n",
       "    }\n",
       "\n",
       "    .dataframe thead th {\n",
       "        text-align: right;\n",
       "    }\n",
       "</style>\n",
       "<table border=\"1\" class=\"dataframe\">\n",
       "  <thead>\n",
       "    <tr style=\"text-align: right;\">\n",
       "      <th></th>\n",
       "      <th>target</th>\n",
       "      <th>id</th>\n",
       "      <th>date</th>\n",
       "      <th>flag</th>\n",
       "      <th>user</th>\n",
       "      <th>text</th>\n",
       "    </tr>\n",
       "  </thead>\n",
       "  <tbody>\n",
       "    <tr>\n",
       "      <th>1940</th>\n",
       "      <td>0</td>\n",
       "      <td>1468267465</td>\n",
       "      <td>Tue Apr 07 00:38:38 PDT 2009</td>\n",
       "      <td>NO_QUERY</td>\n",
       "      <td>ei8htyOne</td>\n",
       "      <td>and so the editing of 3000 wedding shots begins</td>\n",
       "    </tr>\n",
       "    <tr>\n",
       "      <th>2149</th>\n",
       "      <td>0</td>\n",
       "      <td>1468316454</td>\n",
       "      <td>Tue Apr 07 00:56:00 PDT 2009</td>\n",
       "      <td>NO_QUERY</td>\n",
       "      <td>Augustina22CA</td>\n",
       "      <td>im lonely  keep me company! 22 female, california</td>\n",
       "    </tr>\n",
       "    <tr>\n",
       "      <th>3743</th>\n",
       "      <td>0</td>\n",
       "      <td>1468664220</td>\n",
       "      <td>Tue Apr 07 03:02:08 PDT 2009</td>\n",
       "      <td>NO_QUERY</td>\n",
       "      <td>FranciscoAndre</td>\n",
       "      <td>I'm not liking that new iTunes Pricing at all....</td>\n",
       "    </tr>\n",
       "    <tr>\n",
       "      <th>3746</th>\n",
       "      <td>0</td>\n",
       "      <td>1468664704</td>\n",
       "      <td>Tue Apr 07 03:02:17 PDT 2009</td>\n",
       "      <td>NO_QUERY</td>\n",
       "      <td>ammaryasir</td>\n",
       "      <td>cant eat, drink or breath properly thanks to t...</td>\n",
       "    </tr>\n",
       "    <tr>\n",
       "      <th>4163</th>\n",
       "      <td>0</td>\n",
       "      <td>1468756463</td>\n",
       "      <td>Tue Apr 07 03:33:56 PDT 2009</td>\n",
       "      <td>NO_QUERY</td>\n",
       "      <td>lkm1989</td>\n",
       "      <td>has a cold</td>\n",
       "    </tr>\n",
       "  </tbody>\n",
       "</table>\n",
       "</div>"
      ],
      "text/plain": [
       "      target          id                          date      flag  \\\n",
       "1940       0  1468267465  Tue Apr 07 00:38:38 PDT 2009  NO_QUERY   \n",
       "2149       0  1468316454  Tue Apr 07 00:56:00 PDT 2009  NO_QUERY   \n",
       "3743       0  1468664220  Tue Apr 07 03:02:08 PDT 2009  NO_QUERY   \n",
       "3746       0  1468664704  Tue Apr 07 03:02:17 PDT 2009  NO_QUERY   \n",
       "4163       0  1468756463  Tue Apr 07 03:33:56 PDT 2009  NO_QUERY   \n",
       "\n",
       "                user                                               text  \n",
       "1940       ei8htyOne   and so the editing of 3000 wedding shots begins   \n",
       "2149   Augustina22CA  im lonely  keep me company! 22 female, california  \n",
       "3743  FranciscoAndre  I'm not liking that new iTunes Pricing at all....  \n",
       "3746      ammaryasir  cant eat, drink or breath properly thanks to t...  \n",
       "4163         lkm1989                                        has a cold   "
      ]
     },
     "execution_count": 14,
     "metadata": {},
     "output_type": "execute_result"
    }
   ],
   "source": [
    "data.loc[duplicate_text].head()"
   ]
  },
  {
   "cell_type": "code",
   "execution_count": 15,
   "metadata": {},
   "outputs": [
    {
     "data": {
      "text/plain": [
       "659775"
      ]
     },
     "execution_count": 15,
     "metadata": {},
     "output_type": "execute_result"
    }
   ],
   "source": [
    "# unique users \n",
    "data.user.nunique()"
   ]
  },
  {
   "cell_type": "code",
   "execution_count": null,
   "metadata": {},
   "outputs": [],
   "source": [
    "plt.figure()\n",
    "plt.hist(data[\"user\"])\n",
    "plt.show()"
   ]
  },
  {
   "cell_type": "code",
   "execution_count": 17,
   "metadata": {},
   "outputs": [],
   "source": [
    "from datetime import datetime"
   ]
  },
  {
   "cell_type": "code",
   "execution_count": 18,
   "metadata": {},
   "outputs": [
    {
     "data": {
      "text/plain": [
       "'Mon Apr 06 22:19:45 PDT 2009'"
      ]
     },
     "execution_count": 18,
     "metadata": {},
     "output_type": "execute_result"
    }
   ],
   "source": [
    "data[\"date\"][0]"
   ]
  },
  {
   "cell_type": "code",
   "execution_count": null,
   "metadata": {},
   "outputs": [
    {
     "ename": "ValueError",
     "evalue": "time data 'PDT' does not match format '%Z'",
     "output_type": "error",
     "traceback": [
      "\u001b[0;31m---------------------------------------------------------------------------\u001b[0m",
      "\u001b[0;31mValueError\u001b[0m                                Traceback (most recent call last)",
      "\u001b[1;32m/Users/bradpayne/Desktop/CS6890/project/src/data_exploration.ipynb Cell 22'\u001b[0m in \u001b[0;36m<module>\u001b[0;34m\u001b[0m\n\u001b[0;32m----> <a href='vscode-notebook-cell:/Users/bradpayne/Desktop/CS6890/project/src/data_exploration.ipynb#ch0000021?line=0'>1</a>\u001b[0m datetime\u001b[39m.\u001b[39;49mstrptime(\u001b[39m\"\u001b[39;49m\u001b[39mPDT\u001b[39;49m\u001b[39m\"\u001b[39;49m, \u001b[39m\"\u001b[39;49m\u001b[39m%\u001b[39;49m\u001b[39mZ\u001b[39;49m\u001b[39m\"\u001b[39;49m)\n",
      "File \u001b[0;32m~/.pyenv/versions/3.9.7/lib/python3.9/_strptime.py:568\u001b[0m, in \u001b[0;36m_strptime_datetime\u001b[0;34m(cls, data_string, format)\u001b[0m\n\u001b[1;32m    <a href='file:///Users/bradpayne/.pyenv/versions/3.9.7/lib/python3.9/_strptime.py?line=564'>565</a>\u001b[0m \u001b[39mdef\u001b[39;00m \u001b[39m_strptime_datetime\u001b[39m(\u001b[39mcls\u001b[39m, data_string, \u001b[39mformat\u001b[39m\u001b[39m=\u001b[39m\u001b[39m\"\u001b[39m\u001b[39m%a\u001b[39;00m\u001b[39m \u001b[39m\u001b[39m%\u001b[39m\u001b[39mb \u001b[39m\u001b[39m%d\u001b[39;00m\u001b[39m \u001b[39m\u001b[39m%\u001b[39m\u001b[39mH:\u001b[39m\u001b[39m%\u001b[39m\u001b[39mM:\u001b[39m\u001b[39m%\u001b[39m\u001b[39mS \u001b[39m\u001b[39m%\u001b[39m\u001b[39mY\u001b[39m\u001b[39m\"\u001b[39m):\n\u001b[1;32m    <a href='file:///Users/bradpayne/.pyenv/versions/3.9.7/lib/python3.9/_strptime.py?line=565'>566</a>\u001b[0m     \u001b[39m\"\"\"Return a class cls instance based on the input string and the\u001b[39;00m\n\u001b[1;32m    <a href='file:///Users/bradpayne/.pyenv/versions/3.9.7/lib/python3.9/_strptime.py?line=566'>567</a>\u001b[0m \u001b[39m    format string.\"\"\"\u001b[39;00m\n\u001b[0;32m--> <a href='file:///Users/bradpayne/.pyenv/versions/3.9.7/lib/python3.9/_strptime.py?line=567'>568</a>\u001b[0m     tt, fraction, gmtoff_fraction \u001b[39m=\u001b[39m _strptime(data_string, \u001b[39mformat\u001b[39;49m)\n\u001b[1;32m    <a href='file:///Users/bradpayne/.pyenv/versions/3.9.7/lib/python3.9/_strptime.py?line=568'>569</a>\u001b[0m     tzname, gmtoff \u001b[39m=\u001b[39m tt[\u001b[39m-\u001b[39m\u001b[39m2\u001b[39m:]\n\u001b[1;32m    <a href='file:///Users/bradpayne/.pyenv/versions/3.9.7/lib/python3.9/_strptime.py?line=569'>570</a>\u001b[0m     args \u001b[39m=\u001b[39m tt[:\u001b[39m6\u001b[39m] \u001b[39m+\u001b[39m (fraction,)\n",
      "File \u001b[0;32m~/.pyenv/versions/3.9.7/lib/python3.9/_strptime.py:349\u001b[0m, in \u001b[0;36m_strptime\u001b[0;34m(data_string, format)\u001b[0m\n\u001b[1;32m    <a href='file:///Users/bradpayne/.pyenv/versions/3.9.7/lib/python3.9/_strptime.py?line=346'>347</a>\u001b[0m found \u001b[39m=\u001b[39m format_regex\u001b[39m.\u001b[39mmatch(data_string)\n\u001b[1;32m    <a href='file:///Users/bradpayne/.pyenv/versions/3.9.7/lib/python3.9/_strptime.py?line=347'>348</a>\u001b[0m \u001b[39mif\u001b[39;00m \u001b[39mnot\u001b[39;00m found:\n\u001b[0;32m--> <a href='file:///Users/bradpayne/.pyenv/versions/3.9.7/lib/python3.9/_strptime.py?line=348'>349</a>\u001b[0m     \u001b[39mraise\u001b[39;00m \u001b[39mValueError\u001b[39;00m(\u001b[39m\"\u001b[39m\u001b[39mtime data \u001b[39m\u001b[39m%r\u001b[39;00m\u001b[39m does not match format \u001b[39m\u001b[39m%r\u001b[39;00m\u001b[39m\"\u001b[39m \u001b[39m%\u001b[39m\n\u001b[1;32m    <a href='file:///Users/bradpayne/.pyenv/versions/3.9.7/lib/python3.9/_strptime.py?line=349'>350</a>\u001b[0m                      (data_string, \u001b[39mformat\u001b[39m))\n\u001b[1;32m    <a href='file:///Users/bradpayne/.pyenv/versions/3.9.7/lib/python3.9/_strptime.py?line=350'>351</a>\u001b[0m \u001b[39mif\u001b[39;00m \u001b[39mlen\u001b[39m(data_string) \u001b[39m!=\u001b[39m found\u001b[39m.\u001b[39mend():\n\u001b[1;32m    <a href='file:///Users/bradpayne/.pyenv/versions/3.9.7/lib/python3.9/_strptime.py?line=351'>352</a>\u001b[0m     \u001b[39mraise\u001b[39;00m \u001b[39mValueError\u001b[39;00m(\u001b[39m\"\u001b[39m\u001b[39munconverted data remains: \u001b[39m\u001b[39m%s\u001b[39;00m\u001b[39m\"\u001b[39m \u001b[39m%\u001b[39m\n\u001b[1;32m    <a href='file:///Users/bradpayne/.pyenv/versions/3.9.7/lib/python3.9/_strptime.py?line=352'>353</a>\u001b[0m                       data_string[found\u001b[39m.\u001b[39mend():])\n",
      "\u001b[0;31mValueError\u001b[0m: time data 'PDT' does not match format '%Z'"
     ]
    }
   ],
   "source": [
    "datetime.strptime(\"PDT\", \"%Z\")"
   ]
  },
  {
   "cell_type": "code",
   "execution_count": 19,
   "metadata": {},
   "outputs": [
    {
     "data": {
      "text/plain": [
       "datetime.datetime(2009, 4, 6, 22, 19, 45)"
      ]
     },
     "execution_count": 19,
     "metadata": {},
     "output_type": "execute_result"
    }
   ],
   "source": [
    "datetime.strptime(data[\"date\"][0], \"%a %b %d %H:%M:%S PDT %Y\")"
   ]
  },
  {
   "cell_type": "code",
   "execution_count": 20,
   "metadata": {},
   "outputs": [],
   "source": [
    "data[\"formated_date\"] = data[\"date\"].apply(lambda x: datetime.strptime(x, \"%a %b %d %H:%M:%S PDT %Y\"))"
   ]
  },
  {
   "cell_type": "code",
   "execution_count": 21,
   "metadata": {},
   "outputs": [
    {
     "name": "stderr",
     "output_type": "stream",
     "text": [
      "/var/folders/37/7mzk5kw57r7g8szv12sz9g7r0000gn/T/ipykernel_22857/1792313948.py:1: FutureWarning: Treating datetime data as categorical rather than numeric in `.describe` is deprecated and will be removed in a future version of pandas. Specify `datetime_is_numeric=True` to silence this warning and adopt the future behavior now.\n",
      "  data[\"formated_date\"].describe()\n"
     ]
    },
    {
     "data": {
      "text/plain": [
       "count                 1600000\n",
       "unique                 774363\n",
       "top       2009-06-15 12:53:14\n",
       "freq                       20\n",
       "first     2009-04-06 22:19:45\n",
       "last      2009-06-25 10:28:31\n",
       "Name: formated_date, dtype: object"
      ]
     },
     "execution_count": 21,
     "metadata": {},
     "output_type": "execute_result"
    }
   ],
   "source": [
    "data[\"formated_date\"].describe()"
   ]
  },
  {
   "cell_type": "code",
   "execution_count": 22,
   "metadata": {},
   "outputs": [
    {
     "data": {
      "text/plain": [
       "'Fri Apr 17 20:30:31 PDT 2009'"
      ]
     },
     "execution_count": 22,
     "metadata": {},
     "output_type": "execute_result"
    }
   ],
   "source": [
    "data[\"date\"].min()"
   ]
  },
  {
   "cell_type": "code",
   "execution_count": 23,
   "metadata": {},
   "outputs": [
    {
     "data": {
      "text/plain": [
       "'Wed May 27 07:27:38 PDT 2009'"
      ]
     },
     "execution_count": 23,
     "metadata": {},
     "output_type": "execute_result"
    }
   ],
   "source": [
    "data[\"date\"].max()"
   ]
  },
  {
   "cell_type": "code",
   "execution_count": 24,
   "metadata": {},
   "outputs": [
    {
     "data": {
      "text/plain": [
       "count                          1600000\n",
       "unique                          774363\n",
       "top       Mon Jun 15 12:53:14 PDT 2009\n",
       "freq                                20\n",
       "Name: date, dtype: object"
      ]
     },
     "execution_count": 24,
     "metadata": {},
     "output_type": "execute_result"
    }
   ],
   "source": [
    "data[\"date\"].describe()"
   ]
  },
  {
   "cell_type": "markdown",
   "metadata": {},
   "source": [
    "## Text Cleaning"
   ]
  },
  {
   "cell_type": "code",
   "execution_count": 25,
   "metadata": {},
   "outputs": [
    {
     "data": {
      "text/plain": [
       "'@cleders sorry...i was rooting for them too... '"
      ]
     },
     "execution_count": 25,
     "metadata": {},
     "output_type": "execute_result"
    }
   ],
   "source": [
    "data.text[501]"
   ]
  },
  {
   "cell_type": "code",
   "execution_count": 26,
   "metadata": {},
   "outputs": [],
   "source": [
    "import re"
   ]
  },
  {
   "cell_type": "code",
   "execution_count": 27,
   "metadata": {},
   "outputs": [
    {
     "data": {
      "text/plain": [
       "'cleders sorry i was rooting for them too  '"
      ]
     },
     "execution_count": 27,
     "metadata": {},
     "output_type": "execute_result"
    }
   ],
   "source": [
    "# remove punctuation, replace elipses with spaces \n",
    "test_text = re.sub(r'\\.{3,}', \" \", data.text[501])\n",
    "re.sub(r'[^A-Za-z0-9 ]+', \"\", test_text)"
   ]
  },
  {
   "cell_type": "code",
   "execution_count": null,
   "metadata": {},
   "outputs": [
    {
     "name": "stdout",
     "output_type": "stream",
     "text": [
      "Requirement already satisfied: tweet-preprocessor in /Users/bradpayne/.pyenv/versions/3.9.7/lib/python3.9/site-packages (0.6.0)\n"
     ]
    }
   ],
   "source": [
    "!pip install tweet-preprocessor"
   ]
  },
  {
   "cell_type": "code",
   "execution_count": 28,
   "metadata": {},
   "outputs": [],
   "source": [
    "import nltk\n",
    "import preprocessor as p\n",
    "import re\n",
    "p.set_options(p.OPT.URL, p.OPT.MENTION, p.OPT.RESERVED, p.OPT.NUMBER)"
   ]
  },
  {
   "cell_type": "code",
   "execution_count": 29,
   "metadata": {},
   "outputs": [
    {
     "name": "stderr",
     "output_type": "stream",
     "text": [
      "[nltk_data] Downloading package stopwords to\n",
      "[nltk_data]     /Users/bradpayne/nltk_data...\n",
      "[nltk_data]   Package stopwords is already up-to-date!\n"
     ]
    }
   ],
   "source": [
    "nltk.download(\"stopwords\")\n",
    "stopwords = nltk.corpus.stopwords.words(\"english\")"
   ]
  },
  {
   "cell_type": "code",
   "execution_count": 30,
   "metadata": {},
   "outputs": [],
   "source": [
    "stopwords = [re.sub(r'[^a-z]+', \"\", word) for word in stopwords]\n",
    "stopwords.append(\"\")"
   ]
  },
  {
   "cell_type": "markdown",
   "metadata": {},
   "source": [
    "```\n",
    "By default, p clean removes the following,\n",
    "Can be customized \n",
    "https://pypi.org/project/tweet-preprocessor/\n",
    "Option Name\tOption Short Code\n",
    "URL\tp.OPT.URL\n",
    "Mention\tp.OPT.MENTION\n",
    "Hashtag\tp.OPT.HASHTAG\n",
    "Reserved Words\tp.OPT.RESERVED\n",
    "Emoji\tp.OPT.EMOJI\n",
    "Smiley\tp.OPT.SMILEY\n",
    "Number\tp.OPT.NUMBER\n",
    "```"
   ]
  },
  {
   "cell_type": "code",
   "execution_count": 31,
   "metadata": {},
   "outputs": [],
   "source": [
    "# remove urls, \n",
    "test_text = p.clean(test_text).lower()"
   ]
  },
  {
   "cell_type": "code",
   "execution_count": 32,
   "metadata": {},
   "outputs": [
    {
     "data": {
      "text/plain": [
       "'sorry i was rooting for them too'"
      ]
     },
     "execution_count": 32,
     "metadata": {},
     "output_type": "execute_result"
    }
   ],
   "source": [
    "test_text"
   ]
  },
  {
   "cell_type": "code",
   "execution_count": 33,
   "metadata": {},
   "outputs": [
    {
     "data": {
      "text/plain": [
       "['sorry', 'rooting']"
      ]
     },
     "execution_count": 33,
     "metadata": {},
     "output_type": "execute_result"
    }
   ],
   "source": [
    "[word for word in test_text.split(\" \") if word not in stopwords]"
   ]
  },
  {
   "cell_type": "code",
   "execution_count": 34,
   "metadata": {},
   "outputs": [
    {
     "data": {
      "text/plain": [
       "0"
      ]
     },
     "execution_count": 34,
     "metadata": {},
     "output_type": "execute_result"
    }
   ],
   "source": [
    "data.target[501]"
   ]
  },
  {
   "cell_type": "code",
   "execution_count": 35,
   "metadata": {},
   "outputs": [],
   "source": [
    "data[\"clean_text\"] = data.text.apply(lambda text: p.clean(text).lower())"
   ]
  },
  {
   "cell_type": "code",
   "execution_count": 36,
   "metadata": {},
   "outputs": [
    {
     "data": {
      "text/plain": [
       "'isPlayer Has Died! Sorry '"
      ]
     },
     "execution_count": 36,
     "metadata": {},
     "output_type": "execute_result"
    }
   ],
   "source": [
    "data[\"text\"][99972]"
   ]
  },
  {
   "cell_type": "code",
   "execution_count": 37,
   "metadata": {},
   "outputs": [
    {
     "data": {
      "text/plain": [
       "count                       1600000\n",
       "unique                      1581466\n",
       "top       isPlayer Has Died! Sorry \n",
       "freq                            210\n",
       "Name: text, dtype: object"
      ]
     },
     "execution_count": 37,
     "metadata": {},
     "output_type": "execute_result"
    }
   ],
   "source": [
    "data[\"text\"].describe()"
   ]
  },
  {
   "cell_type": "code",
   "execution_count": 38,
   "metadata": {},
   "outputs": [],
   "source": [
    "\n",
    "def clean_text(text, stopwords=stopwords):\n",
    "    \"\"\" cleans text of urls, emojis, \n",
    "\n",
    "    Args:\n",
    "        text (str): tweet text\n",
    "        stopwords (list, optional): list of stopwords. Defaults to nltk.english.stopwords.\n",
    "\n",
    "    Returns:\n",
    "        list: list of words in tweet after preprocessing\n",
    "    \"\"\"\n",
    "    text = p.clean(text).lower()\n",
    "    text = text.lower()\n",
    "    text = re.sub(r'\\.{3,}', \" \", text)\n",
    "    text = re.sub(r'&[A-Za-z]*;', \"\", text)\n",
    "    text = re.sub(r'[^A-Za-z0-9 ]+', \"\",text)\n",
    "    return \" \".join([word for word in text.split(\" \") if word not in stopwords])"
   ]
  },
  {
   "cell_type": "code",
   "execution_count": 39,
   "metadata": {},
   "outputs": [
    {
     "data": {
      "text/plain": [
       "\"The Muppet Whatnot Workshop site is temporarily down, apparently totally sold out Working hard to get it back ASAP  Hurry up, y'all. \""
      ]
     },
     "execution_count": 39,
     "metadata": {},
     "output_type": "execute_result"
    }
   ],
   "source": [
    "re.sub(r'&[A-Za-z]*;', \"\", data[\"text\"][3456])"
   ]
  },
  {
   "cell_type": "code",
   "execution_count": 40,
   "metadata": {},
   "outputs": [
    {
     "data": {
      "text/plain": [
       "'muppet whatnot workshop site temporarily apparently totally sold working hard get back asap hurry yall'"
      ]
     },
     "execution_count": 40,
     "metadata": {},
     "output_type": "execute_result"
    }
   ],
   "source": [
    "clean_text(data[\"text\"][3456])"
   ]
  },
  {
   "cell_type": "code",
   "execution_count": 41,
   "metadata": {},
   "outputs": [],
   "source": [
    "data[\"clean_text\"] = data.text.apply(lambda text: clean_text(text))"
   ]
  },
  {
   "cell_type": "code",
   "execution_count": 42,
   "metadata": {},
   "outputs": [
    {
     "data": {
      "text/html": [
       "<div>\n",
       "<style scoped>\n",
       "    .dataframe tbody tr th:only-of-type {\n",
       "        vertical-align: middle;\n",
       "    }\n",
       "\n",
       "    .dataframe tbody tr th {\n",
       "        vertical-align: top;\n",
       "    }\n",
       "\n",
       "    .dataframe thead th {\n",
       "        text-align: right;\n",
       "    }\n",
       "</style>\n",
       "<table border=\"1\" class=\"dataframe\">\n",
       "  <thead>\n",
       "    <tr style=\"text-align: right;\">\n",
       "      <th></th>\n",
       "      <th>target</th>\n",
       "      <th>id</th>\n",
       "      <th>date</th>\n",
       "      <th>flag</th>\n",
       "      <th>user</th>\n",
       "      <th>text</th>\n",
       "      <th>formated_date</th>\n",
       "      <th>clean_text</th>\n",
       "    </tr>\n",
       "  </thead>\n",
       "  <tbody>\n",
       "    <tr>\n",
       "      <th>0</th>\n",
       "      <td>0</td>\n",
       "      <td>1467810369</td>\n",
       "      <td>Mon Apr 06 22:19:45 PDT 2009</td>\n",
       "      <td>NO_QUERY</td>\n",
       "      <td>_TheSpecialOne_</td>\n",
       "      <td>@switchfoot http://twitpic.com/2y1zl - Awww, t...</td>\n",
       "      <td>2009-04-06 22:19:45</td>\n",
       "      <td>awww thats bummer shoulda got david carr third...</td>\n",
       "    </tr>\n",
       "    <tr>\n",
       "      <th>1</th>\n",
       "      <td>0</td>\n",
       "      <td>1467810672</td>\n",
       "      <td>Mon Apr 06 22:19:49 PDT 2009</td>\n",
       "      <td>NO_QUERY</td>\n",
       "      <td>scotthamilton</td>\n",
       "      <td>is upset that he can't update his Facebook by ...</td>\n",
       "      <td>2009-04-06 22:19:49</td>\n",
       "      <td>upset cant update facebook texting might cry r...</td>\n",
       "    </tr>\n",
       "    <tr>\n",
       "      <th>2</th>\n",
       "      <td>0</td>\n",
       "      <td>1467810917</td>\n",
       "      <td>Mon Apr 06 22:19:53 PDT 2009</td>\n",
       "      <td>NO_QUERY</td>\n",
       "      <td>mattycus</td>\n",
       "      <td>@Kenichan I dived many times for the ball. Man...</td>\n",
       "      <td>2009-04-06 22:19:53</td>\n",
       "      <td>dived many times ball managed save rest go bounds</td>\n",
       "    </tr>\n",
       "    <tr>\n",
       "      <th>3</th>\n",
       "      <td>0</td>\n",
       "      <td>1467811184</td>\n",
       "      <td>Mon Apr 06 22:19:57 PDT 2009</td>\n",
       "      <td>NO_QUERY</td>\n",
       "      <td>ElleCTF</td>\n",
       "      <td>my whole body feels itchy and like its on fire</td>\n",
       "      <td>2009-04-06 22:19:57</td>\n",
       "      <td>whole body feels itchy like fire</td>\n",
       "    </tr>\n",
       "    <tr>\n",
       "      <th>4</th>\n",
       "      <td>0</td>\n",
       "      <td>1467811193</td>\n",
       "      <td>Mon Apr 06 22:19:57 PDT 2009</td>\n",
       "      <td>NO_QUERY</td>\n",
       "      <td>Karoli</td>\n",
       "      <td>@nationwideclass no, it's not behaving at all....</td>\n",
       "      <td>2009-04-06 22:19:57</td>\n",
       "      <td>behaving im mad cant see</td>\n",
       "    </tr>\n",
       "    <tr>\n",
       "      <th>5</th>\n",
       "      <td>0</td>\n",
       "      <td>1467811372</td>\n",
       "      <td>Mon Apr 06 22:20:00 PDT 2009</td>\n",
       "      <td>NO_QUERY</td>\n",
       "      <td>joy_wolf</td>\n",
       "      <td>@Kwesidei not the whole crew</td>\n",
       "      <td>2009-04-06 22:20:00</td>\n",
       "      <td>whole crew</td>\n",
       "    </tr>\n",
       "    <tr>\n",
       "      <th>6</th>\n",
       "      <td>0</td>\n",
       "      <td>1467811592</td>\n",
       "      <td>Mon Apr 06 22:20:03 PDT 2009</td>\n",
       "      <td>NO_QUERY</td>\n",
       "      <td>mybirch</td>\n",
       "      <td>Need a hug</td>\n",
       "      <td>2009-04-06 22:20:03</td>\n",
       "      <td>need hug</td>\n",
       "    </tr>\n",
       "    <tr>\n",
       "      <th>7</th>\n",
       "      <td>0</td>\n",
       "      <td>1467811594</td>\n",
       "      <td>Mon Apr 06 22:20:03 PDT 2009</td>\n",
       "      <td>NO_QUERY</td>\n",
       "      <td>coZZ</td>\n",
       "      <td>@LOLTrish hey  long time no see! Yes.. Rains a...</td>\n",
       "      <td>2009-04-06 22:20:03</td>\n",
       "      <td>hey long time see yes rains bit bit lol im fin...</td>\n",
       "    </tr>\n",
       "    <tr>\n",
       "      <th>8</th>\n",
       "      <td>0</td>\n",
       "      <td>1467811795</td>\n",
       "      <td>Mon Apr 06 22:20:05 PDT 2009</td>\n",
       "      <td>NO_QUERY</td>\n",
       "      <td>2Hood4Hollywood</td>\n",
       "      <td>@Tatiana_K nope they didn't have it</td>\n",
       "      <td>2009-04-06 22:20:05</td>\n",
       "      <td>nope</td>\n",
       "    </tr>\n",
       "    <tr>\n",
       "      <th>9</th>\n",
       "      <td>0</td>\n",
       "      <td>1467812025</td>\n",
       "      <td>Mon Apr 06 22:20:09 PDT 2009</td>\n",
       "      <td>NO_QUERY</td>\n",
       "      <td>mimismo</td>\n",
       "      <td>@twittera que me muera ?</td>\n",
       "      <td>2009-04-06 22:20:09</td>\n",
       "      <td>que muera</td>\n",
       "    </tr>\n",
       "  </tbody>\n",
       "</table>\n",
       "</div>"
      ],
      "text/plain": [
       "   target          id                          date      flag  \\\n",
       "0       0  1467810369  Mon Apr 06 22:19:45 PDT 2009  NO_QUERY   \n",
       "1       0  1467810672  Mon Apr 06 22:19:49 PDT 2009  NO_QUERY   \n",
       "2       0  1467810917  Mon Apr 06 22:19:53 PDT 2009  NO_QUERY   \n",
       "3       0  1467811184  Mon Apr 06 22:19:57 PDT 2009  NO_QUERY   \n",
       "4       0  1467811193  Mon Apr 06 22:19:57 PDT 2009  NO_QUERY   \n",
       "5       0  1467811372  Mon Apr 06 22:20:00 PDT 2009  NO_QUERY   \n",
       "6       0  1467811592  Mon Apr 06 22:20:03 PDT 2009  NO_QUERY   \n",
       "7       0  1467811594  Mon Apr 06 22:20:03 PDT 2009  NO_QUERY   \n",
       "8       0  1467811795  Mon Apr 06 22:20:05 PDT 2009  NO_QUERY   \n",
       "9       0  1467812025  Mon Apr 06 22:20:09 PDT 2009  NO_QUERY   \n",
       "\n",
       "              user                                               text  \\\n",
       "0  _TheSpecialOne_  @switchfoot http://twitpic.com/2y1zl - Awww, t...   \n",
       "1    scotthamilton  is upset that he can't update his Facebook by ...   \n",
       "2         mattycus  @Kenichan I dived many times for the ball. Man...   \n",
       "3          ElleCTF    my whole body feels itchy and like its on fire    \n",
       "4           Karoli  @nationwideclass no, it's not behaving at all....   \n",
       "5         joy_wolf                      @Kwesidei not the whole crew    \n",
       "6          mybirch                                        Need a hug    \n",
       "7             coZZ  @LOLTrish hey  long time no see! Yes.. Rains a...   \n",
       "8  2Hood4Hollywood               @Tatiana_K nope they didn't have it    \n",
       "9          mimismo                          @twittera que me muera ?    \n",
       "\n",
       "        formated_date                                         clean_text  \n",
       "0 2009-04-06 22:19:45  awww thats bummer shoulda got david carr third...  \n",
       "1 2009-04-06 22:19:49  upset cant update facebook texting might cry r...  \n",
       "2 2009-04-06 22:19:53  dived many times ball managed save rest go bounds  \n",
       "3 2009-04-06 22:19:57                   whole body feels itchy like fire  \n",
       "4 2009-04-06 22:19:57                           behaving im mad cant see  \n",
       "5 2009-04-06 22:20:00                                         whole crew  \n",
       "6 2009-04-06 22:20:03                                           need hug  \n",
       "7 2009-04-06 22:20:03  hey long time see yes rains bit bit lol im fin...  \n",
       "8 2009-04-06 22:20:05                                               nope  \n",
       "9 2009-04-06 22:20:09                                          que muera  "
      ]
     },
     "execution_count": 42,
     "metadata": {},
     "output_type": "execute_result"
    }
   ],
   "source": [
    "data.head(10)"
   ]
  },
  {
   "cell_type": "markdown",
   "metadata": {},
   "source": [
    "## Vectorization"
   ]
  },
  {
   "cell_type": "code",
   "execution_count": 43,
   "metadata": {},
   "outputs": [],
   "source": [
    "from sklearn.feature_extraction.text import CountVectorizer"
   ]
  },
  {
   "cell_type": "code",
   "execution_count": 44,
   "metadata": {},
   "outputs": [],
   "source": [
    "def getBOWRepresentation(tweets):    \n",
    "    vectorizer = CountVectorizer(stop_words=None)\n",
    "    vectorizer.fit(tweets)\n",
    "    bow_representation = vectorizer.transform(tweets)\n",
    "    return bow_representation, vectorizer"
   ]
  },
  {
   "cell_type": "code",
   "execution_count": 45,
   "metadata": {},
   "outputs": [],
   "source": [
    "BOW, vectorizer = getBOWRepresentation(data[\"clean_text\"].to_numpy())"
   ]
  },
  {
   "cell_type": "code",
   "execution_count": 46,
   "metadata": {},
   "outputs": [
    {
     "data": {
      "text/plain": [
       "{'awww': 23696,\n",
       " 'thats': 302091,\n",
       " 'bummer': 45606,\n",
       " 'shoulda': 272391,\n",
       " 'got': 123153,\n",
       " 'david': 74098,\n",
       " 'carr': 50805,\n",
       " 'third': 303972,\n",
       " 'day': 74283,\n",
       " 'upset': 323969,\n",
       " 'cant': 49678,\n",
       " 'update': 323503,\n",
       " 'facebook': 100208,\n",
       " 'texting': 301143,\n",
       " 'might': 193114,\n",
       " 'cry': 69782,\n",
       " 'result': 253846,\n",
       " 'school': 264386,\n",
       " 'today': 308067,\n",
       " 'also': 12410,\n",
       " 'blah': 36017,\n",
       " 'dived': 82227,\n",
       " 'many': 185423,\n",
       " 'times': 306442,\n",
       " 'ball': 26613,\n",
       " 'managed': 184589,\n",
       " 'save': 263092,\n",
       " 'rest': 253648,\n",
       " 'go': 120841,\n",
       " 'bounds': 40649,\n",
       " 'whole': 337816,\n",
       " 'body': 38271,\n",
       " 'feels': 103451,\n",
       " 'itchy': 152579,\n",
       " 'like': 174557,\n",
       " 'fire': 105823,\n",
       " 'behaving': 31097,\n",
       " 'im': 146712,\n",
       " 'mad': 182573,\n",
       " 'see': 266417,\n",
       " 'crew': 68821,\n",
       " 'need': 207198,\n",
       " 'hug': 142188,\n",
       " 'hey': 135632,\n",
       " 'long': 177896,\n",
       " 'time': 306222,\n",
       " 'yes': 350307,\n",
       " 'rains': 247036,\n",
       " 'bit': 35221,\n",
       " 'lol': 177278,\n",
       " 'fine': 105462,\n",
       " 'thanks': 301707,\n",
       " 'hows': 141479,\n",
       " 'nope': 213033,\n",
       " 'que': 245240,\n",
       " 'muera': 201966,\n",
       " 'spring': 284853,\n",
       " 'break': 41989,\n",
       " 'plain': 234344,\n",
       " 'city': 58628,\n",
       " 'snowing': 279631,\n",
       " 'repierced': 252749,\n",
       " 'ears': 89264,\n",
       " 'bear': 29584,\n",
       " 'watch': 332564,\n",
       " 'thought': 304608,\n",
       " 'ua': 319559,\n",
       " 'loss': 178874,\n",
       " 'embarrassing': 92723,\n",
       " 'counts': 67042,\n",
       " 'idk': 145167,\n",
       " 'either': 91505,\n",
       " 'never': 208522,\n",
       " 'talk': 297048,\n",
       " 'anymore': 16388,\n",
       " 'wouldve': 343260,\n",
       " 'first': 106012,\n",
       " 'gun': 126877,\n",
       " 'really': 249114,\n",
       " 'though': 304502,\n",
       " 'zac': 353449,\n",
       " 'snyders': 279755,\n",
       " 'doucheclown': 84920,\n",
       " 'wish': 339897,\n",
       " 'miss': 195160,\n",
       " 'premiere': 239805,\n",
       " 'hollis': 138537,\n",
       " 'death': 75605,\n",
       " 'scene': 264009,\n",
       " 'hurt': 143254,\n",
       " 'severely': 268604,\n",
       " 'film': 105081,\n",
       " 'wry': 344096,\n",
       " 'directors': 81003,\n",
       " 'cut': 71049,\n",
       " 'file': 104965,\n",
       " 'taxes': 298359,\n",
       " 'ahh': 8960,\n",
       " 'ive': 153309,\n",
       " 'always': 12667,\n",
       " 'wanted': 331871,\n",
       " 'rent': 252546,\n",
       " 'love': 179280,\n",
       " 'soundtrack': 282579,\n",
       " 'oh': 217620,\n",
       " 'dear': 75548,\n",
       " 'drinking': 86322,\n",
       " 'forgotten': 109738,\n",
       " 'table': 296318,\n",
       " 'drinks': 86358,\n",
       " 'get': 118112,\n",
       " 'much': 201700,\n",
       " 'done': 83850,\n",
       " 'one': 219696,\n",
       " 'friend': 111911,\n",
       " 'called': 48585,\n",
       " 'asked': 20027,\n",
       " 'meet': 189743,\n",
       " 'mid': 192804,\n",
       " 'valley': 325980,\n",
       " 'sigh': 273921,\n",
       " 'baked': 26373,\n",
       " 'cake': 48218,\n",
       " 'ated': 20938,\n",
       " 'week': 334498,\n",
       " 'going': 121369,\n",
       " 'hoped': 139996,\n",
       " 'blagh': 36011,\n",
       " 'class': 59036,\n",
       " 'tomorrow': 309177,\n",
       " 'hate': 131694,\n",
       " 'call': 48550,\n",
       " 'wake': 331228,\n",
       " 'people': 229687,\n",
       " 'sleep': 276952,\n",
       " 'watching': 332622,\n",
       " 'marley': 186190,\n",
       " 'sad': 260429,\n",
       " 'misslilly': 195305,\n",
       " 'ooooh': 220688,\n",
       " 'leslie': 173110,\n",
       " 'ok': 218276,\n",
       " 'meh': 190075,\n",
       " 'almost': 11908,\n",
       " 'lover': 179605,\n",
       " 'exception': 98218,\n",
       " 'track': 311609,\n",
       " 'gets': 118235,\n",
       " 'depressed': 77945,\n",
       " 'every': 97172,\n",
       " 'some1': 280653,\n",
       " 'hacked': 128260,\n",
       " 'account': 5371,\n",
       " 'aim': 9545,\n",
       " 'make': 183842,\n",
       " 'new': 208607,\n",
       " 'want': 331853,\n",
       " 'promote': 241911,\n",
       " 'gear': 116949,\n",
       " 'groove': 125535,\n",
       " 'unfornately': 322086,\n",
       " 'ride': 255199,\n",
       " 'may': 187766,\n",
       " 'anaheim': 14186,\n",
       " 'sleeping': 277079,\n",
       " 'option': 221549,\n",
       " 'realizing': 249037,\n",
       " 'evaluations': 96749,\n",
       " 'morning': 199035,\n",
       " 'work': 342171,\n",
       " 'afternoon': 7755,\n",
       " 'awe': 23035,\n",
       " 'asian': 19934,\n",
       " 'eyes': 99717,\n",
       " 'night': 210046,\n",
       " 'sick': 273484,\n",
       " 'spent': 283871,\n",
       " 'hour': 140950,\n",
       " 'sitting': 275527,\n",
       " 'shower': 272592,\n",
       " 'cause': 51785,\n",
       " 'stand': 286283,\n",
       " 'held': 134191,\n",
       " 'back': 25209,\n",
       " 'puke': 243373,\n",
       " 'champ': 53575,\n",
       " 'bed': 30189,\n",
       " 'ill': 146226,\n",
       " 'tell': 299907,\n",
       " 'ya': 348059,\n",
       " 'story': 288732,\n",
       " 'later': 170610,\n",
       " 'good': 121872,\n",
       " 'workin': 342361,\n",
       " 'three': 304797,\n",
       " 'hours': 140996,\n",
       " 'sorry': 282099,\n",
       " 'came': 48896,\n",
       " 'gmt1': 120669,\n",
       " 'depressing': 77971,\n",
       " 'think': 303787,\n",
       " 'even': 96860,\n",
       " 'know': 166081,\n",
       " 'kids': 164108,\n",
       " 'suitcases': 291633,\n",
       " '12': 405,\n",
       " 'gym': 127610,\n",
       " '10': 207,\n",
       " 'another': 15649,\n",
       " 'gonna': 121795,\n",
       " 'fly': 107933,\n",
       " 'girlfriend': 119472,\n",
       " 'feel': 103337,\n",
       " 'getting': 118270,\n",
       " 'study': 289971,\n",
       " 'tomorrows': 309295,\n",
       " 'practical': 239011,\n",
       " 'exam': 97957,\n",
       " 'hes': 135485,\n",
       " 'reason': 249342,\n",
       " 'teardrops': 299005,\n",
       " 'guitar': 126678,\n",
       " 'enough': 94227,\n",
       " 'heart': 133166,\n",
       " 'feeling': 103370,\n",
       " 'wanna': 331770,\n",
       " 'still': 287891,\n",
       " 'soo': 281431,\n",
       " 'finally': 105305,\n",
       " 'comfortable': 62406,\n",
       " 'missed': 195190,\n",
       " 'falling': 101077,\n",
       " 'asleep': 20101,\n",
       " 'heard': 133113,\n",
       " 'tracy': 311687,\n",
       " 'girls': 119589,\n",
       " 'found': 110199,\n",
       " 'breaks': 42156,\n",
       " 'family': 101233,\n",
       " 'yay': 348909,\n",
       " 'happy': 130767,\n",
       " 'job': 157505,\n",
       " 'means': 189055,\n",
       " 'less': 173124,\n",
       " 'checked': 54701,\n",
       " 'user': 324685,\n",
       " 'timeline': 306387,\n",
       " 'blackberry': 35790,\n",
       " 'looks': 178251,\n",
       " 'twanking': 315580,\n",
       " 'happening': 130641,\n",
       " 'ppl': 238824,\n",
       " 'probs': 241202,\n",
       " 'bgs': 33470,\n",
       " 'uids': 320503,\n",
       " 'man': 184568,\n",
       " 'ironing': 151671,\n",
       " 'fave': 102504,\n",
       " 'top': 310415,\n",
       " 'wear': 333638,\n",
       " 'meeting': 189768,\n",
       " 'burnt': 46142,\n",
       " 'strangely': 288989,\n",
       " 'lilo': 174845,\n",
       " 'samro': 261802,\n",
       " 'breaking': 42114,\n",
       " 'retweeting': 254162,\n",
       " 'broadband': 43171,\n",
       " 'plan': 234373,\n",
       " 'massive': 186894,\n",
       " 'broken': 43372,\n",
       " 'promise': 241836,\n",
       " 'via': 327622,\n",
       " 'waiting': 331098,\n",
       " 'wow': 343304,\n",
       " 'tons': 309859,\n",
       " 'replies': 252831,\n",
       " 'unfollow': 322037,\n",
       " 'friends': 112018,\n",
       " 'tweets': 316378,\n",
       " 'scrolling': 265504,\n",
       " 'feed': 103217,\n",
       " 'lot': 178971,\n",
       " 'duck': 87402,\n",
       " 'chicken': 55740,\n",
       " 'taking': 296882,\n",
       " 'wayyy': 333257,\n",
       " 'hatch': 131675,\n",
       " 'put': 244141,\n",
       " 'vacation': 325654,\n",
       " 'photos': 232005,\n",
       " 'online': 220098,\n",
       " 'yrs': 352572,\n",
       " 'ago': 8473,\n",
       " 'pc': 228468,\n",
       " 'crashed': 68148,\n",
       " 'forget': 109668,\n",
       " 'name': 205368,\n",
       " 'site': 275406,\n",
       " 'sure': 293659,\n",
       " 'pos': 237786,\n",
       " 'trade': 311695,\n",
       " 'away': 22954,\n",
       " 'company': 62915,\n",
       " 'assets': 20376,\n",
       " 'andy': 14666,\n",
       " 'happens': 130659,\n",
       " 'dallas': 72623,\n",
       " 'show': 272516,\n",
       " 'gotta': 123255,\n",
       " 'say': 263292,\n",
       " 'shows': 272771,\n",
       " 'would': 343222,\n",
       " 'use': 324633,\n",
       " 'music': 202916,\n",
       " 'game': 115586,\n",
       " 'mmm': 196093,\n",
       " 'ugh': 320066,\n",
       " '92': 3077,\n",
       " 'degrees': 76732,\n",
       " 'move': 200236,\n",
       " 'already': 12220,\n",
       " 'sd': 265691,\n",
       " 'hmmm': 137714,\n",
       " 'random': 247496,\n",
       " 'glad': 119953,\n",
       " 'hear': 133107,\n",
       " 'yer': 350267,\n",
       " 'well': 335329,\n",
       " 'ps3': 242596,\n",
       " 'commission': 62718,\n",
       " 'wutcha': 344663,\n",
       " 'playing': 234806,\n",
       " 'copped': 65839,\n",
       " 'blood': 37281,\n",
       " 'sand': 261896,\n",
       " 'leaving': 172021,\n",
       " 'parking': 226968,\n",
       " 'life': 174062,\n",
       " 'cool': 65393,\n",
       " 'sadly': 260620,\n",
       " 'gotten': 123277,\n",
       " 'experience': 99046,\n",
       " 'post': 237985,\n",
       " 'coitus': 61361,\n",
       " 'cigarette': 58131,\n",
       " 'nice': 209539,\n",
       " 'bad': 25666,\n",
       " 'rain': 246827,\n",
       " 'comes': 62351,\n",
       " 'around': 18835,\n",
       " 'lost': 178895,\n",
       " 'pay': 228289,\n",
       " 'phone': 231672,\n",
       " 'bill': 34404,\n",
       " 'lmao': 176552,\n",
       " 'aw': 22742,\n",
       " 'shucks': 273053,\n",
       " 'damm': 72740,\n",
       " 'mo': 196426,\n",
       " 'jobs': 157595,\n",
       " 'money': 197709,\n",
       " 'hell': 134252,\n",
       " 'min': 193971,\n",
       " 'wage': 330768,\n",
       " 'fn': 108120,\n",
       " 'clams': 58879,\n",
       " 'forever': 109580,\n",
       " 'soon': 281475,\n",
       " 'agreed': 8598,\n",
       " 'saw': 263204,\n",
       " 'failwhale': 100755,\n",
       " 'allllll': 11606,\n",
       " 'haha': 128519,\n",
       " 'dude': 87463,\n",
       " 'look': 178165,\n",
       " 'em': 92545,\n",
       " 'unless': 322599,\n",
       " 'someone': 280752,\n",
       " 'says': 263426,\n",
       " 'added': 6382,\n",
       " 'terrible': 300674,\n",
       " 'pop': 237256,\n",
       " 'right': 255397,\n",
       " 'start': 286602,\n",
       " 'working': 342364,\n",
       " 'nikster': 210704,\n",
       " 'jared': 154832,\n",
       " 'least': 171925,\n",
       " 'diss': 81866,\n",
       " 'bands': 27050,\n",
       " 'trace': 311575,\n",
       " 'clearly': 59421,\n",
       " 'ugly': 320240,\n",
       " 'attire': 21486,\n",
       " 'puma': 243498,\n",
       " 'singlet': 274920,\n",
       " 'adidas': 6644,\n",
       " 'shorts': 272273,\n",
       " 'black': 35771,\n",
       " 'business': 46364,\n",
       " 'socks': 280087,\n",
       " 'leather': 171945,\n",
       " 'shoes': 271738,\n",
       " 'lucky': 180468,\n",
       " 'run': 259257,\n",
       " 'cute': 71066,\n",
       " 'location': 176951,\n",
       " 'picnic': 232592,\n",
       " 'smells': 278402,\n",
       " 'citrus': 58616,\n",
       " 'donkey': 83987,\n",
       " 'sensitive': 267717,\n",
       " 'comments': 62649,\n",
       " 'nevertheless': 208565,\n",
       " 'hed': 133565,\n",
       " 'med': 189278,\n",
       " 'mug': 202024,\n",
       " 'asap': 19560,\n",
       " 'charger': 54084,\n",
       " 'awol': 23488,\n",
       " 'csi': 69972,\n",
       " 'tonight': 309588,\n",
       " 'fml': 108070,\n",
       " 'arms': 18729,\n",
       " 'sore': 281967,\n",
       " 'tennis': 300291,\n",
       " 'wonders': 341254,\n",
       " 'unhappy': 322256,\n",
       " 'split': 284303,\n",
       " 'seccond': 266188,\n",
       " 'saying': 263358,\n",
       " 'bye': 47334,\n",
       " 'ur': 324189,\n",
       " 'newsletter': 208876,\n",
       " 'fares': 101832,\n",
       " 'unbelievable': 321236,\n",
       " 'shame': 269419,\n",
       " 'booked': 39170,\n",
       " 'paid': 225339,\n",
       " 'mine': 194140,\n",
       " 'missin': 195244,\n",
       " 'boo': 38978,\n",
       " 'itm': 152815,\n",
       " 'damn': 72787,\n",
       " 'chalk': 53480,\n",
       " 'chalkboard': 53482,\n",
       " 'useless': 324671,\n",
       " 'blast': 36243,\n",
       " 'getty': 118327,\n",
       " 'villa': 328268,\n",
       " 'hates': 131763,\n",
       " 'throat': 304924,\n",
       " 'worse': 343034,\n",
       " 'sup': 292878,\n",
       " 'mama': 184398,\n",
       " 'tummy': 314872,\n",
       " 'hurts': 143305,\n",
       " 'wonder': 341165,\n",
       " 'hypnosis': 144027,\n",
       " 'anything': 16510,\n",
       " 'stop': 288513,\n",
       " 'smoking': 278727,\n",
       " 'fat': 102250,\n",
       " 'ones': 219885,\n",
       " 'babe': 24680,\n",
       " 'fam': 101159,\n",
       " 'annoys': 15541,\n",
       " 'thankfully': 301653,\n",
       " 'theyre': 303379,\n",
       " 'muahaha': 201617,\n",
       " 'evil': 97556,\n",
       " 'laugh': 170884,\n",
       " 'attention': 21444,\n",
       " 'covered': 67339,\n",
       " 'photoshop': 232031,\n",
       " 'webpage': 334008,\n",
       " 'design': 78347,\n",
       " 'undergrad': 321622,\n",
       " 'wednesday': 334222,\n",
       " 'bday': 29220,\n",
       " 'poor': 237192,\n",
       " 'cameron': 48974,\n",
       " 'hills': 136772,\n",
       " 'pray': 239211,\n",
       " 'please': 235013,\n",
       " 'ex': 97877,\n",
       " 'threatening': 304788,\n",
       " 'sh': 269025,\n",
       " 'myour': 204060,\n",
       " 'babies': 24765,\n",
       " 'st': 285890,\n",
       " 'birthday': 34999,\n",
       " 'party': 227376,\n",
       " 'jerk': 156267,\n",
       " 'headache': 132661,\n",
       " 'hmm': 137679,\n",
       " 'enjoy': 94090,\n",
       " 'problems': 241154,\n",
       " 'constants': 64648,\n",
       " 'things': 303670,\n",
       " 'find': 105414,\n",
       " 'ulike': 320736,\n",
       " 'strider': 289460,\n",
       " 'little': 175870,\n",
       " 'puppy': 243776,\n",
       " 'ryleegrace': 259870,\n",
       " 'wana': 331674,\n",
       " 'steves': 287653,\n",
       " 'since': 274720,\n",
       " 'easter': 89429,\n",
       " 'wnt': 340715,\n",
       " 'able': 4604,\n",
       " 'ohh': 217735,\n",
       " 'actually': 6131,\n",
       " 'bracket': 41341,\n",
       " 'pools': 237056,\n",
       " 'follow': 108472,\n",
       " 'nite': 211061,\n",
       " 'favorite': 102567,\n",
       " 'teams': 298965,\n",
       " 'astros': 20746,\n",
       " 'spartans': 283339,\n",
       " 'lose': 178815,\n",
       " 'tw': 315519,\n",
       " 'missing': 195246,\n",
       " 'northern': 213290,\n",
       " 'calif': 48462,\n",
       " 'girl': 119425,\n",
       " 'police': 236506,\n",
       " 'remains': 252076,\n",
       " 'california': 48469,\n",
       " 'hope': 139989,\n",
       " 'increase': 148006,\n",
       " 'capacity': 49849,\n",
       " 'fast': 102151,\n",
       " 'yesterday': 350537,\n",
       " 'pain': 225370,\n",
       " 'fail': 100655,\n",
       " 'whale': 336452,\n",
       " '15': 590,\n",
       " 'behind': 31121,\n",
       " 'classes': 59055,\n",
       " 'house': 141082,\n",
       " 'remember': 252152,\n",
       " 'bum': 45521,\n",
       " 'leg': 172401,\n",
       " 'strikes': 289488,\n",
       " 'serious': 268120,\n",
       " 'kinds': 164746,\n",
       " 'complaints': 63101,\n",
       " 'laptop': 170127,\n",
       " 'overheating': 223806,\n",
       " 'recalls': 249611,\n",
       " 'emily': 92933,\n",
       " 'mommy': 197372,\n",
       " 'training': 311915,\n",
       " 'misses': 195213,\n",
       " 'rather': 247981,\n",
       " 'send': 267566,\n",
       " 'messages': 191600,\n",
       " 'rd': 248472,\n",
       " 'mixed': 195688,\n",
       " 'sophmore': 281899,\n",
       " 'year': 349508,\n",
       " 'overrated': 223954,\n",
       " 'wondered': 341175,\n",
       " 'thing': 303589,\n",
       " 'moscow': 199586,\n",
       " 'laying': 171389,\n",
       " 'voice': 329315,\n",
       " 'sooo': 281626,\n",
       " 'killed': 164376,\n",
       " 'kutner': 168100,\n",
       " 'whyyyyyyyy': 338327,\n",
       " 'mea': 188903,\n",
       " 'culpa': 70438,\n",
       " 'sense': 267683,\n",
       " 'suicide': 291607,\n",
       " 'refuse': 251076,\n",
       " 'believe': 31394,\n",
       " 'happened': 130612,\n",
       " 'grind': 125276,\n",
       " 'inspirational': 149681,\n",
       " 'saddening': 260503,\n",
       " 'cuz': 71349,\n",
       " 'yeah': 349278,\n",
       " 'wudnt': 344499,\n",
       " 'chance': 53634,\n",
       " '30am': 1510,\n",
       " 'hanging': 130296,\n",
       " 'crooners': 69263,\n",
       " 'sing': 274784,\n",
       " 'sucks': 291150,\n",
       " 'aaw': 4212,\n",
       " 'bh': 33497,\n",
       " 'aww': 23592,\n",
       " 'beach': 29361,\n",
       " 'pissed': 233755,\n",
       " 'theres': 303104,\n",
       " 'asbas': 19589,\n",
       " 'radio': 246409,\n",
       " 'station': 286850,\n",
       " 'flipped': 107313,\n",
       " 'upside': 324012,\n",
       " 'head': 132644,\n",
       " 'ramen': 247331,\n",
       " 'sounds': 282555,\n",
       " 'sides': 273766,\n",
       " 'mention': 191017,\n",
       " 'crying': 69811,\n",
       " 'made': 182685,\n",
       " 'late': 170519,\n",
       " 'snack': 279019,\n",
       " 'glass': 120076,\n",
       " 'oj': 218252,\n",
       " 'bc': 29079,\n",
       " 'sickness': 273602,\n",
       " 'big': 33940,\n",
       " 'fan': 101393,\n",
       " 'camilla': 48999,\n",
       " 'belle': 31497,\n",
       " 'wah': 330810,\n",
       " 'clip': 59740,\n",
       " 'must': 203220,\n",
       " 'elstupido': 92467,\n",
       " 'filters': 105179,\n",
       " 'wait': 331050,\n",
       " 'till': 306141,\n",
       " 'puter': 244156,\n",
       " 'something': 280832,\n",
       " 'else': 92411,\n",
       " 'blame': 36114,\n",
       " 'broke': 43349,\n",
       " 'seems': 266584,\n",
       " 'longer': 177940,\n",
       " 'terms': 300584,\n",
       " 'cold': 61459,\n",
       " 'ehhh': 91275,\n",
       " 'weathers': 333771,\n",
       " 'take': 296794,\n",
       " 'turn': 315122,\n",
       " 'cooooold': 65663,\n",
       " 'incredible': 148032,\n",
       " 'stuff': 290084,\n",
       " 'hoping': 140094,\n",
       " 'rumbles': 259192,\n",
       " 'notice': 213767,\n",
       " 'told': 308781,\n",
       " 'id': 144903,\n",
       " 'agency': 8249,\n",
       " 'said': 260968,\n",
       " 'bedtime': 30437,\n",
       " 'alive': 11211,\n",
       " 'yawwwnn': 348892,\n",
       " 'tired': 307000,\n",
       " 'imma': 147067,\n",
       " 'try': 314041,\n",
       " 'hopefully': 140015,\n",
       " 'headstart': 132955,\n",
       " 'agh': 8391,\n",
       " 'snow': 279587,\n",
       " 'kenny': 162947,\n",
       " 'powers': 238695,\n",
       " 'thank': 301633,\n",
       " 'letting': 173319,\n",
       " 'direct': 80973,\n",
       " 'message': 191582,\n",
       " 'bridget': 42637,\n",
       " 'india': 148208,\n",
       " 'th': 301415,\n",
       " 'test': 300856,\n",
       " 'victory': 327848,\n",
       " 'consecutive': 64502,\n",
       " 'win': 339182,\n",
       " 'without': 340147,\n",
       " 'guess': 126438,\n",
       " 'stephan': 287420,\n",
       " 'leavin': 172019,\n",
       " 'intending': 150046,\n",
       " 'finish': 105645,\n",
       " 'editing': 90312,\n",
       " 'page': 225182,\n",
       " 'novel': 214107,\n",
       " 'manuscript': 185397,\n",
       " 'probably': 241057,\n",
       " 'happen': 130603,\n",
       " 'pages': 225229,\n",
       " 'left': 172328,\n",
       " 'laid': 169222,\n",
       " 'read': 248664,\n",
       " 'th10th': 301423,\n",
       " 'princess': 240757,\n",
       " 'diaries': 79566,\n",
       " 'saving': 263160,\n",
       " 'francesca': 110619,\n",
       " 'end': 93537,\n",
       " 'easy': 89485,\n",
       " 'books': 39251,\n",
       " 'nokia': 211990,\n",
       " 'died': 79882,\n",
       " 'mom': 197178,\n",
       " 'breast': 42205,\n",
       " 'cancer': 49350,\n",
       " 'worried': 342928,\n",
       " 'better': 32914,\n",
       " 'understood': 321731,\n",
       " 'daylight': 74527,\n",
       " 'savings': 263164,\n",
       " 'ended': 93572,\n",
       " 'breakfast': 42037,\n",
       " 'keep': 162481,\n",
       " 'waking': 331286,\n",
       " 'lame': 169602,\n",
       " 'understand': 321698,\n",
       " 'heroes': 135328,\n",
       " 'season': 266023,\n",
       " 'living': 176169,\n",
       " 'downtown': 85326,\n",
       " 'fun': 113738,\n",
       " 'calorie': 48767,\n",
       " 'wise': 339875,\n",
       " 'junk': 159746,\n",
       " 'food': 108945,\n",
       " 'free': 111080,\n",
       " 'ate': 20931,\n",
       " 'sour': 282630,\n",
       " 'skittles': 276217,\n",
       " 'ass': 20277,\n",
       " 'cherry': 55372,\n",
       " 'coke': 61368,\n",
       " 'hard': 130989,\n",
       " 'hot': 140631,\n",
       " 'tea': 298779,\n",
       " 'studying': 289998,\n",
       " 'sleeeep': 276888,\n",
       " 'eyebrows': 99648,\n",
       " 'waxed': 333089,\n",
       " 'phantasy': 231228,\n",
       " 'star': 286394,\n",
       " 'macheist': 182357,\n",
       " 'apps': 17548,\n",
       " 'sweet': 294894,\n",
       " 'espresso': 95942,\n",
       " 'serial': 268070,\n",
       " 'although': 12541,\n",
       " 'sent': 267738,\n",
       " 'picked': 232494,\n",
       " 'mich': 192496,\n",
       " 'pretty': 240381,\n",
       " 'pick': 232489,\n",
       " 'way': 333105,\n",
       " 'alone': 11983,\n",
       " 'downstairs': 85291,\n",
       " 'anoop': 15619,\n",
       " 'mean': 188984,\n",
       " 'seriously': 268142,\n",
       " 'kinda': 164669,\n",
       " 'sprint': 284934,\n",
       " 'baltimore': 26803,\n",
       " 'chicago': 55652,\n",
       " 'far': 101787,\n",
       " 'stuck': 289823,\n",
       " 'awake': 22804,\n",
       " 'middle': 192844,\n",
       " 'second': 266218,\n",
       " 'row': 258303,\n",
       " 'felt': 103689,\n",
       " 'bursting': 46250,\n",
       " 'bubble': 44629,\n",
       " 'gosh': 123030,\n",
       " 'sooooo': 281680,\n",
       " 'deleted': 76999,\n",
       " 'history': 137340,\n",
       " 'crazy': 68317,\n",
       " 'wind': 339239,\n",
       " 'birding': 34868,\n",
       " 'currently': 70828,\n",
       " 'grrr': 125837,\n",
       " 'ipods': 151346,\n",
       " 'acting': 5972,\n",
       " 'weird': 335128,\n",
       " 'jai': 154124,\n",
       " 'ho': 137946,\n",
       " 'thinking': 303835,\n",
       " 'full': 113614,\n",
       " 'songs': 281190,\n",
       " 'ughh': 320114,\n",
       " 'dvd': 88358,\n",
       " 'cos': 66443,\n",
       " 'heaps': 133098,\n",
       " 'deal': 75463,\n",
       " 'website': 334047,\n",
       " 'therapyfail': 302937,\n",
       " 'rail': 246789,\n",
       " 'tips': 306955,\n",
       " 'swear': 294728,\n",
       " 'losing': 178863,\n",
       " 'gaining': 115329,\n",
       " 'tweeps': 315857,\n",
       " 'wrenching': 343723,\n",
       " 'realized': 249028,\n",
       " 'hiding': 136240,\n",
       " 'staying': 287030,\n",
       " 'neighbors': 207585,\n",
       " 'loudhaving': 179127,\n",
       " 'danny': 73351,\n",
       " 'live': 175968,\n",
       " 'chat': 54359,\n",
       " 'car': 50087,\n",
       " 'trip': 313234,\n",
       " 'soooo': 281660,\n",
       " 'check': 54691,\n",
       " 'borders': 39851,\n",
       " 'closed': 59916,\n",
       " 'downloading': 85208,\n",
       " 'nins': 210915,\n",
       " 'album': 10539,\n",
       " 'slip': 277607,\n",
       " 'come': 62227,\n",
       " 'days': 74653,\n",
       " 'woke': 340909,\n",
       " 'written': 343910,\n",
       " 'email': 92569,\n",
       " 'early': 89120,\n",
       " 'university': 322516,\n",
       " 'teach': 298812,\n",
       " '30': 1423,\n",
       " 'hill': 136714,\n",
       " 'making': 183968,\n",
       " 'channels': 53825,\n",
       " 'yet': 350703,\n",
       " 'boring': 40080,\n",
       " 'lazy': 171496,\n",
       " 'hobby': 138013,\n",
       " 'buddy': 44888,\n",
       " 'ny': 215601,\n",
       " 'french': 111465,\n",
       " 'south': 282678,\n",
       " 'qtr': 244962,\n",
       " 'snarl': 279160,\n",
       " 'beautiful': 29825,\n",
       " 'opps': 221440,\n",
       " 'remain': 252068,\n",
       " 'problem': 241124,\n",
       " 'activated': 6019,\n",
       " 'selfcontrol': 267012,\n",
       " 'block': 36911,\n",
       " 'meaning': 189018,\n",
       " 'qc': 244679,\n",
       " 'regularizing': 251332,\n",
       " 'internal': 150271,\n",
       " 'clock': 59825,\n",
       " 'difficult': 80104,\n",
       " 'fb': 102768,\n",
       " 'spencer': 283830,\n",
       " 'guy': 127270,\n",
       " 'reese': 250765,\n",
       " 'dying': 88617,\n",
       " 'ttsc': 314427,\n",
       " 'finale': 105237,\n",
       " 'next': 209021,\n",
       " '24': 1153,\n",
       " 'madame': 182596,\n",
       " 'president': 240172,\n",
       " 'woman': 341064,\n",
       " 'limited': 174941,\n",
       " 'letterstoohope': 173310,\n",
       " 'guys': 127318,\n",
       " 'finei': 105491,\n",
       " 'dogshes': 83341,\n",
       " 'shit': 271225,\n",
       " 'screwed': 265405,\n",
       " 'wanttss': 331937,\n",
       " 'tonite': 309791,\n",
       " 'interview': 150513,\n",
       " 'cardiff': 50250,\n",
       " 'luck': 180390,\n",
       " 'whack': 336385,\n",
       " 'wiggetywhack': 338615,\n",
       " 'choose': 57128,\n",
       " 'chose': 57240,\n",
       " 'accept': 5201,\n",
       " 'familys': 101296,\n",
       " 'help': 134586,\n",
       " 'dead': 75356,\n",
       " 'kill': 164358,\n",
       " 'seen': 266591,\n",
       " 'ds9': 87081,\n",
       " 'solid': 280497,\n",
       " 'hahaha': 128602,\n",
       " 'hrs': 141723,\n",
       " 'mind': 194009,\n",
       " 'protesting': 242269,\n",
       " 'nightmares': 210248,\n",
       " 'boot': 39650,\n",
       " 'goin': 121356,\n",
       " 'angels': 14850,\n",
       " 'library': 173820,\n",
       " 'nap': 205709,\n",
       " 'interrupted': 150434,\n",
       " 'japanese': 154752,\n",
       " 'rents': 252576,\n",
       " 'kind': 164668,\n",
       " 'longs': 178042,\n",
       " 'bus': 46279,\n",
       " 'ghost': 118689,\n",
       " 'world': 342759,\n",
       " 'canada': 49218,\n",
       " 'supposed': 293508,\n",
       " 'awwh': 23629,\n",
       " 'babs': 24828,\n",
       " 'underneith': 321651,\n",
       " 'shop': 271979,\n",
       " 'entrance': 94497,\n",
       " 'yesterdays': 350598,\n",
       " 'musik': 203124,\n",
       " 'transformer': 312180,\n",
       " 'movie': 200296,\n",
       " 'feet': 103490,\n",
       " 'macbook': 182244,\n",
       " 'fell': 103638,\n",
       " 'tipsy': 306966,\n",
       " 'lonesome': 177887,\n",
       " 'sweating': 294768,\n",
       " 'forthcoming': 109975,\n",
       " 'e3': 88817,\n",
       " 'crash': 68142,\n",
       " 'somebody': 280666,\n",
       " 'omgawd': 219219,\n",
       " 'handle': 130129,\n",
       " 'cat': 51412,\n",
       " 'heat': 133326,\n",
       " 'auburn': 21632,\n",
       " 'looking': 178213,\n",
       " 'mag': 182942,\n",
       " 'fit': 106261,\n",
       " 'pictures': 232756,\n",
       " 'ever': 96992,\n",
       " 'magazine': 182986,\n",
       " 'tho': 304268,\n",
       " 'congrats': 64174,\n",
       " 'totally': 310934,\n",
       " 'forgot': 109724,\n",
       " 'submit': 290709,\n",
       " 'paula': 228111,\n",
       " 'amazing': 13071,\n",
       " 'xxx': 347906,\n",
       " 'twitter': 317660,\n",
       " 'using': 324805,\n",
       " 'stupid': 290306,\n",
       " 'ughhh': 320123,\n",
       " 'advance': 7081,\n",
       " 'shooting': 271949,\n",
       " 'outside': 223270,\n",
       " 'kidding': 163994,\n",
       " 'scared': 263779,\n",
       " 'tuesdayll': 314639,\n",
       " 'reflection': 250922,\n",
       " 'lecture': 172120,\n",
       " 'stress': 289317,\n",
       " 'reducing': 250493,\n",
       " 'techniques': 299221,\n",
       " 'become': 30156,\n",
       " 'useful': 324659,\n",
       " 'us': 324502,\n",
       " 'accompaniers': 5332,\n",
       " 'tragedy': 311806,\n",
       " 'disaster': 81237,\n",
       " 'news': 208797,\n",
       " 'trying': 314072,\n",
       " 'picture': 232710,\n",
       " 'upload': 323765,\n",
       " 'correclty': 66265,\n",
       " 'red': 250177,\n",
       " 'sox': 282876,\n",
       " 'rained': 246887,\n",
       " 'forward': 110062,\n",
       " 'opening': 221170,\n",
       " 'keys': 163464,\n",
       " 'dunno': 87980,\n",
       " 'home': 138740,\n",
       " 'town': 311338,\n",
       " 'mammy': 184536,\n",
       " 'depressd': 77943,\n",
       " 'pls': 235509,\n",
       " 'explain': 99115,\n",
       " 'parent': 226813,\n",
       " 'let': 173195,\n",
       " 'yr': 352533,\n",
       " 'old': 218757,\n",
       " 'child': 55991,\n",
       " 'walk': 331378,\n",
       " 'hello': 134426,\n",
       " 'antidepressants': 15981,\n",
       " 'paxilwellbutrin': 228284,\n",
       " 'combo': 62186,\n",
       " 'efficacy': 90961,\n",
       " 'restaurant': 253670,\n",
       " 'woodntap': 341439,\n",
       " ...}"
      ]
     },
     "execution_count": 46,
     "metadata": {},
     "output_type": "execute_result"
    }
   ],
   "source": [
    "vectorizer.vocabulary_"
   ]
  },
  {
   "cell_type": "code",
   "execution_count": 47,
   "metadata": {},
   "outputs": [
    {
     "data": {
      "text/plain": [
       "354940"
      ]
     },
     "execution_count": 47,
     "metadata": {},
     "output_type": "execute_result"
    }
   ],
   "source": [
    "len(vectorizer.vocabulary_)"
   ]
  },
  {
   "cell_type": "markdown",
   "metadata": {},
   "source": [
    "## Tokenize"
   ]
  },
  {
   "cell_type": "code",
   "execution_count": 12,
   "metadata": {},
   "outputs": [],
   "source": [
    "from keras.preprocessing.text import Tokenizer"
   ]
  },
  {
   "cell_type": "code",
   "execution_count": null,
   "metadata": {},
   "outputs": [],
   "source": []
  },
  {
   "cell_type": "code",
   "execution_count": 13,
   "metadata": {},
   "outputs": [],
   "source": [
    "tokenizer = Tokenizer(filters=\"@\")\n",
    "tokenizer.fit_on_texts(data.clean_text)"
   ]
  },
  {
   "cell_type": "code",
   "execution_count": 15,
   "metadata": {},
   "outputs": [],
   "source": [
    "X_tokenized = tokenizer.texts_to_sequences(data.clean_text)"
   ]
  },
  {
   "cell_type": "code",
   "execution_count": 16,
   "metadata": {},
   "outputs": [
    {
     "data": {
      "text/plain": [
       "[339, 41, 1049, 3286, 13, 753, 9674, 1736, 3]"
      ]
     },
     "execution_count": 16,
     "metadata": {},
     "output_type": "execute_result"
    }
   ],
   "source": [
    "X_tokenized[0]"
   ]
  },
  {
   "cell_type": "code",
   "execution_count": 22,
   "metadata": {},
   "outputs": [],
   "source": [
    "import keras"
   ]
  },
  {
   "cell_type": "code",
   "execution_count": 23,
   "metadata": {},
   "outputs": [],
   "source": [
    "max_length = 0\n",
    "for t in X_tokenized:\n",
    "    max_length = max(max_length, len(t))"
   ]
  },
  {
   "cell_type": "code",
   "execution_count": 24,
   "metadata": {},
   "outputs": [
    {
     "data": {
      "text/plain": [
       "35"
      ]
     },
     "execution_count": 24,
     "metadata": {},
     "output_type": "execute_result"
    }
   ],
   "source": [
    "max_length"
   ]
  },
  {
   "cell_type": "code",
   "execution_count": 92,
   "metadata": {},
   "outputs": [],
   "source": [
    "X_pad = keras.preprocessing.sequence.pad_sequences(X_tokenized, 10, padding=\"post\", truncating=\"post\" )"
   ]
  },
  {
   "cell_type": "code",
   "execution_count": 74,
   "metadata": {},
   "outputs": [
    {
     "data": {
      "text/plain": [
       "array([ 339,   41, 1049, 3286,   13,  753, 9674, 1736,    3,    0,    0,\n",
       "          0,    0,    0,    0,    0,    0,    0,    0,    0], dtype=int32)"
      ]
     },
     "execution_count": 74,
     "metadata": {},
     "output_type": "execute_result"
    }
   ],
   "source": [
    "X_pad[0]"
   ]
  },
  {
   "cell_type": "markdown",
   "metadata": {},
   "source": [
    "## Split into Train, Test, and Validation"
   ]
  },
  {
   "cell_type": "code",
   "execution_count": 48,
   "metadata": {},
   "outputs": [],
   "source": [
    "from sklearn.model_selection import train_test_split"
   ]
  },
  {
   "cell_type": "code",
   "execution_count": 49,
   "metadata": {},
   "outputs": [],
   "source": [
    "# X_train, X_test, y_train, y_test = train_test_split(X_pad, data[\"target\"].to_numpy())\n",
    "X_train, X_test, y_train, y_test = train_test_split(BOW, data[\"target\"].to_numpy())"
   ]
  },
  {
   "cell_type": "markdown",
   "metadata": {},
   "source": [
    "## ML Algorithm"
   ]
  },
  {
   "cell_type": "code",
   "execution_count": 50,
   "metadata": {},
   "outputs": [],
   "source": [
    "from sklearn.ensemble import RandomForestClassifier"
   ]
  },
  {
   "cell_type": "code",
   "execution_count": 51,
   "metadata": {},
   "outputs": [],
   "source": [
    "clf = RandomForestClassifier(n_estimators=100, n_jobs=-1)"
   ]
  },
  {
   "cell_type": "code",
   "execution_count": 52,
   "metadata": {},
   "outputs": [
    {
     "data": {
      "text/plain": [
       "RandomForestClassifier(n_jobs=-1)"
      ]
     },
     "execution_count": 52,
     "metadata": {},
     "output_type": "execute_result"
    }
   ],
   "source": [
    "clf.fit(X_train, y_train)\n"
   ]
  },
  {
   "cell_type": "code",
   "execution_count": 57,
   "metadata": {},
   "outputs": [],
   "source": [
    "# clf.predict(X_pad[0:10])"
   ]
  },
  {
   "cell_type": "code",
   "execution_count": 58,
   "metadata": {},
   "outputs": [
    {
     "data": {
      "text/plain": [
       "0.9888241666666666"
      ]
     },
     "execution_count": 58,
     "metadata": {},
     "output_type": "execute_result"
    }
   ],
   "source": [
    "clf.score(X_train, y_train)"
   ]
  },
  {
   "cell_type": "code",
   "execution_count": 59,
   "metadata": {},
   "outputs": [
    {
     "data": {
      "text/plain": [
       "0.770765"
      ]
     },
     "execution_count": 59,
     "metadata": {},
     "output_type": "execute_result"
    }
   ],
   "source": [
    "clf.score(X_test, y_test)"
   ]
  },
  {
   "cell_type": "code",
   "execution_count": 69,
   "metadata": {},
   "outputs": [],
   "source": [
    "def create_train_score(ClassiferClass, args={}):\n",
    "    clf = ClassiferClass(**args)\n",
    "    clf.fit(X_train, y_train)\n",
    "    train_score = clf.score(X_train, y_train)\n",
    "    print(f\"Training Score: {train_score:.4}\")\n",
    "    test_score = clf.score(X_test, y_test)\n",
    "    print(f\"Testing Score: {test_score:.4}\")\n"
   ]
  },
  {
   "cell_type": "code",
   "execution_count": 60,
   "metadata": {},
   "outputs": [],
   "source": [
    "del clf"
   ]
  },
  {
   "cell_type": "code",
   "execution_count": 61,
   "metadata": {},
   "outputs": [],
   "source": [
    "from sklearn.naive_bayes import GaussianNB"
   ]
  },
  {
   "cell_type": "code",
   "execution_count": 71,
   "metadata": {},
   "outputs": [
    {
     "ename": "Error",
     "evalue": "Canceled future for execute_request message before replies were done",
     "output_type": "error",
     "traceback": [
      "Error: Canceled future for execute_request message before replies were done",
      "at t.KernelShellFutureHandler.dispose (/Users/bradpayne/.vscode/extensions/ms-toolsai.jupyter-2022.3.1000901801/out/extension.js:2:1204175)",
      "at /Users/bradpayne/.vscode/extensions/ms-toolsai.jupyter-2022.3.1000901801/out/extension.js:2:1223227",
      "at Map.forEach (<anonymous>)",
      "at v._clearKernelState (/Users/bradpayne/.vscode/extensions/ms-toolsai.jupyter-2022.3.1000901801/out/extension.js:2:1223212)",
      "at v.dispose (/Users/bradpayne/.vscode/extensions/ms-toolsai.jupyter-2022.3.1000901801/out/extension.js:2:1216694)",
      "at /Users/bradpayne/.vscode/extensions/ms-toolsai.jupyter-2022.3.1000901801/out/extension.js:2:533674",
      "at t.swallowExceptions (/Users/bradpayne/.vscode/extensions/ms-toolsai.jupyter-2022.3.1000901801/out/extension.js:2:913059)",
      "at dispose (/Users/bradpayne/.vscode/extensions/ms-toolsai.jupyter-2022.3.1000901801/out/extension.js:2:533652)",
      "at t.RawSession.dispose (/Users/bradpayne/.vscode/extensions/ms-toolsai.jupyter-2022.3.1000901801/out/extension.js:2:537330)",
      "at runMicrotasks (<anonymous>)",
      "at processTicksAndRejections (node:internal/process/task_queues:96:5)"
     ]
    }
   ],
   "source": [
    "clf = GaussianNB()\n",
    "clf.fit(X_train.toarray(), y_train)\n"
   ]
  },
  {
   "cell_type": "code",
   "execution_count": null,
   "metadata": {},
   "outputs": [],
   "source": [
    "train_score = clf.score(X_train.toarray(), y_train)\n",
    "print(f\"Training Score: {train_score:.4}\")\n",
    "test_score = clf.score(X_test.toarray(), y_test)\n",
    "print(f\"Testing Score: {test_score:.4}\")"
   ]
  },
  {
   "cell_type": "markdown",
   "metadata": {},
   "source": [
    "## Evalute Model"
   ]
  },
  {
   "cell_type": "code",
   "execution_count": 53,
   "metadata": {},
   "outputs": [],
   "source": [
    "from sklearn.metrics import accuracy_score"
   ]
  },
  {
   "cell_type": "code",
   "execution_count": 54,
   "metadata": {},
   "outputs": [
    {
     "data": {
      "text/plain": [
       "(400000,)"
      ]
     },
     "execution_count": 54,
     "metadata": {},
     "output_type": "execute_result"
    }
   ],
   "source": [
    "y_test.shape"
   ]
  },
  {
   "cell_type": "code",
   "execution_count": 47,
   "metadata": {},
   "outputs": [],
   "source": []
  },
  {
   "cell_type": "code",
   "execution_count": 37,
   "metadata": {},
   "outputs": [
    {
     "data": {
      "text/plain": [
       "array([4, 4, 4, 0, 0, 4, 0, 0, 4, 0, 4, 4, 0, 0, 4, 0, 0, 0, 0, 4, 0, 0,\n",
       "       0, 4, 0])"
      ]
     },
     "execution_count": 37,
     "metadata": {},
     "output_type": "execute_result"
    }
   ],
   "source": [
    "y_pred[0:25]"
   ]
  },
  {
   "cell_type": "code",
   "execution_count": 55,
   "metadata": {},
   "outputs": [
    {
     "data": {
      "text/plain": [
       "0.9888241666666666"
      ]
     },
     "execution_count": 55,
     "metadata": {},
     "output_type": "execute_result"
    }
   ],
   "source": [
    "# accuracy of training set\n",
    "accuracy_score(y_train, clf.predict(X_train))"
   ]
  },
  {
   "cell_type": "code",
   "execution_count": 56,
   "metadata": {},
   "outputs": [
    {
     "data": {
      "text/plain": [
       "0.770765"
      ]
     },
     "execution_count": 56,
     "metadata": {},
     "output_type": "execute_result"
    }
   ],
   "source": [
    "# Accuracy of the test set \n",
    "y_pred = clf.predict(X_test)\n",
    "accuracy_score(y_test, y_pred)"
   ]
  },
  {
   "cell_type": "code",
   "execution_count": 50,
   "metadata": {},
   "outputs": [
    {
     "ename": "NameError",
     "evalue": "name 'vectorizer' is not defined",
     "output_type": "error",
     "traceback": [
      "\u001b[0;31m---------------------------------------------------------------------------\u001b[0m",
      "\u001b[0;31mNameError\u001b[0m                                 Traceback (most recent call last)",
      "\u001b[1;32m/Users/bradpayne/Desktop/CS6890/project/src/data_exploration.ipynb Cell 82'\u001b[0m in \u001b[0;36m<cell line: 1>\u001b[0;34m()\u001b[0m\n\u001b[0;32m----> <a href='vscode-notebook-cell:/Users/bradpayne/Desktop/CS6890/project/src/data_exploration.ipynb#ch0000074?line=0'>1</a>\u001b[0m rep \u001b[39m=\u001b[39m vectorizer\u001b[39m.\u001b[39mtransform((\u001b[39m\"\u001b[39m\u001b[39mlove flying\u001b[39m\u001b[39m\"\u001b[39m,))\n",
      "\u001b[0;31mNameError\u001b[0m: name 'vectorizer' is not defined"
     ]
    }
   ],
   "source": [
    "rep = vectorizer.transform((\"love flying\",))"
   ]
  },
  {
   "cell_type": "code",
   "execution_count": 114,
   "metadata": {},
   "outputs": [
    {
     "data": {
      "text/plain": [
       "<1x762202 sparse matrix of type '<class 'numpy.int64'>'\n",
       "\twith 2 stored elements in Compressed Sparse Row format>"
      ]
     },
     "execution_count": 114,
     "metadata": {},
     "output_type": "execute_result"
    }
   ],
   "source": [
    "rep"
   ]
  },
  {
   "cell_type": "code",
   "execution_count": 115,
   "metadata": {},
   "outputs": [
    {
     "data": {
      "text/plain": [
       "array([4])"
      ]
     },
     "execution_count": 115,
     "metadata": {},
     "output_type": "execute_result"
    }
   ],
   "source": [
    "clf.predict(rep)"
   ]
  }
 ],
 "metadata": {
  "interpreter": {
   "hash": "3b519ef6bc2ee8cb4647a3894e87e51237c625c1bd34856d1c9c224aa2aaabfd"
  },
  "kernelspec": {
   "display_name": "Python 3.9.4 64-bit ('3.9.4')",
   "language": "python",
   "name": "python3"
  },
  "language_info": {
   "codemirror_mode": {
    "name": "ipython",
    "version": 3
   },
   "file_extension": ".py",
   "mimetype": "text/x-python",
   "name": "python",
   "nbconvert_exporter": "python",
   "pygments_lexer": "ipython3",
   "version": "3.9.7"
  },
  "orig_nbformat": 4
 },
 "nbformat": 4,
 "nbformat_minor": 2
}
