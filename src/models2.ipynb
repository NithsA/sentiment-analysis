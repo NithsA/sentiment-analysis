{
 "cells": [
  {
   "cell_type": "code",
   "execution_count": 1,
   "metadata": {},
   "outputs": [
    {
     "name": "stderr",
     "output_type": "stream",
     "text": [
      "2022-04-08 12:33:12.237713: W tensorflow/stream_executor/platform/default/dso_loader.cc:64] Could not load dynamic library 'libcudart.so.11.0'; dlerror: libcudart.so.11.0: cannot open shared object file: No such file or directory\n",
      "2022-04-08 12:33:12.237745: I tensorflow/stream_executor/cuda/cudart_stub.cc:29] Ignore above cudart dlerror if you do not have a GPU set up on your machine.\n"
     ]
    }
   ],
   "source": [
    "from data_pipeline import TextProcessingPipeline\n",
    "from sklearn.model_selection import GridSearchCV\n",
    "from sklearn.naive_bayes import GaussianNB\n",
    "from sklearn.tree import DecisionTreeClassifier\n",
    "from sklearn.ensemble import RandomForestClassifier\n",
    "from sklearn.svm import SVC\n",
    "import nltk"
   ]
  },
  {
   "cell_type": "code",
   "execution_count": 2,
   "metadata": {},
   "outputs": [
    {
     "name": "stderr",
     "output_type": "stream",
     "text": [
      "[nltk_data] Downloading package stopwords to\n",
      "[nltk_data]     /home/bradley/nltk_data...\n",
      "[nltk_data]   Package stopwords is already up-to-date!\n"
     ]
    }
   ],
   "source": [
    "nltk.download(\"stopwords\")\n",
    "stopwords = nltk.corpus.stopwords.words(\"english\")"
   ]
  },
  {
   "cell_type": "code",
   "execution_count": 3,
   "metadata": {},
   "outputs": [
    {
     "name": "stdout",
     "output_type": "stream",
     "text": [
      "Data loaded with length: 1600000\n",
      "Starting Data Cleaning...\n",
      "Data cleaning complete!\n",
      "Data Tokenized and Padded!\n"
     ]
    }
   ],
   "source": [
    "data_path = \"/home/bradley/Projects/CS6890/data/training.1600000.processed.noemoticon.csv\"\n",
    "pipeline = TextProcessingPipeline(\n",
    "    filepath=data_path, columns=[\"target\", \"id\", \"date\", \"flag\", \"user\", \"text\"], stopwords=stopwords\n",
    ")\n",
    "pipeline.load()\n",
    "X_train, X_test, y_train, y_test = pipeline.get_train_test()"
   ]
  },
  {
   "cell_type": "code",
   "execution_count": 5,
   "metadata": {},
   "outputs": [
    {
     "data": {
      "text/plain": [
       "GaussianNB()"
      ]
     },
     "execution_count": 5,
     "metadata": {},
     "output_type": "execute_result"
    }
   ],
   "source": [
    "naive_bayes_clf = GaussianNB()\n",
    "naive_bayes_clf.fit(X_train, y_train)"
   ]
  },
  {
   "cell_type": "code",
   "execution_count": 6,
   "metadata": {},
   "outputs": [
    {
     "data": {
      "text/plain": [
       "0.5152839285714286"
      ]
     },
     "execution_count": 6,
     "metadata": {},
     "output_type": "execute_result"
    }
   ],
   "source": [
    "naive_bayes_clf.score(X_train, y_train)"
   ]
  },
  {
   "cell_type": "code",
   "execution_count": 7,
   "metadata": {},
   "outputs": [
    {
     "data": {
      "text/plain": [
       "0.5142479166666667"
      ]
     },
     "execution_count": 7,
     "metadata": {},
     "output_type": "execute_result"
    }
   ],
   "source": [
    "naive_bayes_clf.score(X_test, y_test)"
   ]
  },
  {
   "cell_type": "code",
   "execution_count": 8,
   "metadata": {},
   "outputs": [
    {
     "name": "stdout",
     "output_type": "stream",
     "text": [
      "Fitting 5 folds for each of 128 candidates, totalling 640 fits\n"
     ]
    },
    {
     "data": {
      "text/plain": [
       "GridSearchCV(cv=5, error_score='raise', estimator=DecisionTreeClassifier(),\n",
       "             n_jobs=4,\n",
       "             param_grid={'criterion': ['gini', 'entropy'],\n",
       "                         'max_depth': [None, 4, 5, 6, 7, 8, 9, 10],\n",
       "                         'max_features': [None, 'auto', 'sqrt', 'log2'],\n",
       "                         'splitter': ['best', 'random']},\n",
       "             verbose=1)"
      ]
     },
     "execution_count": 8,
     "metadata": {},
     "output_type": "execute_result"
    }
   ],
   "source": [
    "decision_tree_clf = GridSearchCV(\n",
    "    DecisionTreeClassifier(),\n",
    "    param_grid={\n",
    "        \"criterion\": [\"gini\", \"entropy\"],\n",
    "        \"max_depth\": [\n",
    "            None,\n",
    "            4,\n",
    "            5,\n",
    "            6,\n",
    "            7,\n",
    "            8,\n",
    "            9,\n",
    "            10,\n",
    "        ],\n",
    "        \"splitter\": [\"best\", \"random\"],\n",
    "        \"max_features\": [None, \"auto\", \"sqrt\", \"log2\"],\n",
    "\n",
    "    },\n",
    "    error_score=\"raise\",\n",
    "    n_jobs=43,\n",
    "    cv=5,\n",
    "    verbose=1\n",
    ")\n",
    "decision_tree_clf.fit(X_train, y_train)"
   ]
  },
  {
   "cell_type": "code",
   "execution_count": 9,
   "metadata": {},
   "outputs": [
    {
     "data": {
      "text/plain": [
       "0.6514455357142858"
      ]
     },
     "execution_count": 9,
     "metadata": {},
     "output_type": "execute_result"
    }
   ],
   "source": [
    "decision_tree_clf.best_score_"
   ]
  },
  {
   "cell_type": "code",
   "execution_count": 11,
   "metadata": {},
   "outputs": [
    {
     "data": {
      "text/plain": [
       "{'criterion': 'gini',\n",
       " 'max_depth': None,\n",
       " 'max_features': None,\n",
       " 'splitter': 'best'}"
      ]
     },
     "execution_count": 11,
     "metadata": {},
     "output_type": "execute_result"
    }
   ],
   "source": [
    "decision_tree_clf.best_params_"
   ]
  },
  {
   "cell_type": "code",
   "execution_count": 12,
   "metadata": {},
   "outputs": [
    {
     "data": {
      "text/plain": [
       "0.9903598214285714"
      ]
     },
     "execution_count": 12,
     "metadata": {},
     "output_type": "execute_result"
    }
   ],
   "source": [
    "decision_tree_clf.best_estimator_.score(X_train, y_train)"
   ]
  },
  {
   "cell_type": "code",
   "execution_count": 13,
   "metadata": {},
   "outputs": [
    {
     "data": {
      "text/plain": [
       "0.65444375"
      ]
     },
     "execution_count": 13,
     "metadata": {},
     "output_type": "execute_result"
    }
   ],
   "source": [
    "decision_tree_clf.best_estimator_.score(X_test, y_test)"
   ]
  },
  {
   "cell_type": "code",
   "execution_count": 14,
   "metadata": {},
   "outputs": [],
   "source": [
    "rf_clf = GridSearchCV(\n",
    "    RandomForestClassifier(),\n",
    "    param_grid={\n",
    "        \"n_estimators\": [1, 2, 3, 5, 10, 20, 50, 100, 200, 250],\n",
    "        \"criterion\": [\"gini\", \"entropy\"],\n",
    "        \"max_depth\": [None, 1, 2, 3, 5, 10],\n",
    "        \"min_samples_split\": [2, 3, 4],\n",
    "        \"min_samples_leaf\":[1, 2, 3, 10]\n",
    "    },\n",
    "    error_score=\"raise\",\n",
    "    n_jobs=4,\n",
    "    cv=5,\n",
    "    verbose=20\n",
    ")"
   ]
  },
  {
   "cell_type": "code",
   "execution_count": 15,
   "metadata": {},
   "outputs": [
    {
     "name": "stdout",
     "output_type": "stream",
     "text": [
      "Fitting 5 folds for each of 1440 candidates, totalling 7200 fits\n",
      "[CV 1/5; 1/1440] START criterion=gini, max_depth=None, min_samples_leaf=1, min_samples_split=2, n_estimators=1\n",
      "[CV 2/5; 1/1440] START criterion=gini, max_depth=None, min_samples_leaf=1, min_samples_split=2, n_estimators=1\n",
      "[CV 3/5; 1/1440] START criterion=gini, max_depth=None, min_samples_leaf=1, min_samples_split=2, n_estimators=1\n",
      "[CV 4/5; 1/1440] START criterion=gini, max_depth=None, min_samples_leaf=1, min_samples_split=2, n_estimators=1\n",
      "[CV 1/5; 1/1440] END criterion=gini, max_depth=None, min_samples_leaf=1, min_samples_split=2, n_estimators=1;, score=0.629 total time=  14.9s\n",
      "[CV 5/5; 1/1440] START criterion=gini, max_depth=None, min_samples_leaf=1, min_samples_split=2, n_estimators=1\n",
      "[CV 3/5; 1/1440] END criterion=gini, max_depth=None, min_samples_leaf=1, min_samples_split=2, n_estimators=1;, score=0.629 total time=  15.1s\n",
      "[CV 1/5; 2/1440] START criterion=gini, max_depth=None, min_samples_leaf=1, min_samples_split=2, n_estimators=2\n",
      "[CV 4/5; 1/1440] END criterion=gini, max_depth=None, min_samples_leaf=1, min_samples_split=2, n_estimators=1;, score=0.631 total time=  15.5s\n",
      "[CV 2/5; 2/1440] START criterion=gini, max_depth=None, min_samples_leaf=1, min_samples_split=2, n_estimators=2\n",
      "[CV 2/5; 1/1440] END criterion=gini, max_depth=None, min_samples_leaf=1, min_samples_split=2, n_estimators=1;, score=0.630 total time=  16.0s\n",
      "[CV 3/5; 2/1440] START criterion=gini, max_depth=None, min_samples_leaf=1, min_samples_split=2, n_estimators=2\n",
      "[CV 5/5; 1/1440] END criterion=gini, max_depth=None, min_samples_leaf=1, min_samples_split=2, n_estimators=1;, score=0.630 total time=  15.2s\n",
      "[CV 4/5; 2/1440] START criterion=gini, max_depth=None, min_samples_leaf=1, min_samples_split=2, n_estimators=2\n",
      "[CV 1/5; 2/1440] END criterion=gini, max_depth=None, min_samples_leaf=1, min_samples_split=2, n_estimators=2;, score=0.635 total time=  28.7s\n",
      "[CV 5/5; 2/1440] START criterion=gini, max_depth=None, min_samples_leaf=1, min_samples_split=2, n_estimators=2\n",
      "[CV 3/5; 2/1440] END criterion=gini, max_depth=None, min_samples_leaf=1, min_samples_split=2, n_estimators=2;, score=0.634 total time=  28.6s\n",
      "[CV 1/5; 3/1440] START criterion=gini, max_depth=None, min_samples_leaf=1, min_samples_split=2, n_estimators=3\n",
      "[CV 2/5; 2/1440] END criterion=gini, max_depth=None, min_samples_leaf=1, min_samples_split=2, n_estimators=2;, score=0.638 total time=  29.6s\n",
      "[CV 2/5; 3/1440] START criterion=gini, max_depth=None, min_samples_leaf=1, min_samples_split=2, n_estimators=3\n",
      "[CV 4/5; 2/1440] END criterion=gini, max_depth=None, min_samples_leaf=1, min_samples_split=2, n_estimators=2;, score=0.639 total time=  28.6s\n",
      "[CV 3/5; 3/1440] START criterion=gini, max_depth=None, min_samples_leaf=1, min_samples_split=2, n_estimators=3\n",
      "[CV 5/5; 2/1440] END criterion=gini, max_depth=None, min_samples_leaf=1, min_samples_split=2, n_estimators=2;, score=0.636 total time=  32.7s\n",
      "[CV 4/5; 3/1440] START criterion=gini, max_depth=None, min_samples_leaf=1, min_samples_split=2, n_estimators=3\n",
      "[CV 1/5; 3/1440] END criterion=gini, max_depth=None, min_samples_leaf=1, min_samples_split=2, n_estimators=3;, score=0.646 total time=  44.5s\n",
      "[CV 5/5; 3/1440] START criterion=gini, max_depth=None, min_samples_leaf=1, min_samples_split=2, n_estimators=3\n",
      "[CV 2/5; 3/1440] END criterion=gini, max_depth=None, min_samples_leaf=1, min_samples_split=2, n_estimators=3;, score=0.644 total time=  47.3s\n",
      "[CV 1/5; 4/1440] START criterion=gini, max_depth=None, min_samples_leaf=1, min_samples_split=2, n_estimators=5\n",
      "[CV 3/5; 3/1440] END criterion=gini, max_depth=None, min_samples_leaf=1, min_samples_split=2, n_estimators=3;, score=0.642 total time=  47.1s\n",
      "[CV 2/5; 4/1440] START criterion=gini, max_depth=None, min_samples_leaf=1, min_samples_split=2, n_estimators=5\n",
      "[CV 4/5; 3/1440] END criterion=gini, max_depth=None, min_samples_leaf=1, min_samples_split=2, n_estimators=3;, score=0.644 total time=  43.5s\n",
      "[CV 3/5; 4/1440] START criterion=gini, max_depth=None, min_samples_leaf=1, min_samples_split=2, n_estimators=5\n",
      "[CV 5/5; 3/1440] END criterion=gini, max_depth=None, min_samples_leaf=1, min_samples_split=2, n_estimators=3;, score=0.644 total time=  42.6s\n",
      "[CV 4/5; 4/1440] START criterion=gini, max_depth=None, min_samples_leaf=1, min_samples_split=2, n_estimators=5\n",
      "[CV 1/5; 4/1440] END criterion=gini, max_depth=None, min_samples_leaf=1, min_samples_split=2, n_estimators=5;, score=0.650 total time= 1.1min\n",
      "[CV 5/5; 4/1440] START criterion=gini, max_depth=None, min_samples_leaf=1, min_samples_split=2, n_estimators=5\n",
      "[CV 2/5; 4/1440] END criterion=gini, max_depth=None, min_samples_leaf=1, min_samples_split=2, n_estimators=5;, score=0.653 total time= 1.1min\n",
      "[CV 1/5; 5/1440] START criterion=gini, max_depth=None, min_samples_leaf=1, min_samples_split=2, n_estimators=10\n",
      "[CV 3/5; 4/1440] END criterion=gini, max_depth=None, min_samples_leaf=1, min_samples_split=2, n_estimators=5;, score=0.649 total time=  58.2s\n",
      "[CV 2/5; 5/1440] START criterion=gini, max_depth=None, min_samples_leaf=1, min_samples_split=2, n_estimators=10\n",
      "[CV 4/5; 4/1440] END criterion=gini, max_depth=None, min_samples_leaf=1, min_samples_split=2, n_estimators=5;, score=0.653 total time=  55.0s\n",
      "[CV 3/5; 5/1440] START criterion=gini, max_depth=None, min_samples_leaf=1, min_samples_split=2, n_estimators=10\n",
      "[CV 5/5; 4/1440] END criterion=gini, max_depth=None, min_samples_leaf=1, min_samples_split=2, n_estimators=5;, score=0.650 total time=  52.7s\n",
      "[CV 4/5; 5/1440] START criterion=gini, max_depth=None, min_samples_leaf=1, min_samples_split=2, n_estimators=10\n",
      "[CV 1/5; 5/1440] END criterion=gini, max_depth=None, min_samples_leaf=1, min_samples_split=2, n_estimators=10;, score=0.664 total time= 1.9min\n",
      "[CV 5/5; 5/1440] START criterion=gini, max_depth=None, min_samples_leaf=1, min_samples_split=2, n_estimators=10\n",
      "[CV 2/5; 5/1440] END criterion=gini, max_depth=None, min_samples_leaf=1, min_samples_split=2, n_estimators=10;, score=0.663 total time= 1.9min\n",
      "[CV 1/5; 6/1440] START criterion=gini, max_depth=None, min_samples_leaf=1, min_samples_split=2, n_estimators=20\n",
      "[CV 3/5; 5/1440] END criterion=gini, max_depth=None, min_samples_leaf=1, min_samples_split=2, n_estimators=10;, score=0.663 total time= 1.9min\n",
      "[CV 2/5; 6/1440] START criterion=gini, max_depth=None, min_samples_leaf=1, min_samples_split=2, n_estimators=20\n",
      "[CV 4/5; 5/1440] END criterion=gini, max_depth=None, min_samples_leaf=1, min_samples_split=2, n_estimators=10;, score=0.663 total time= 2.1min\n",
      "[CV 3/5; 6/1440] START criterion=gini, max_depth=None, min_samples_leaf=1, min_samples_split=2, n_estimators=20\n",
      "[CV 5/5; 5/1440] END criterion=gini, max_depth=None, min_samples_leaf=1, min_samples_split=2, n_estimators=10;, score=0.662 total time= 2.3min\n",
      "[CV 4/5; 6/1440] START criterion=gini, max_depth=None, min_samples_leaf=1, min_samples_split=2, n_estimators=20\n",
      "[CV 1/5; 6/1440] END criterion=gini, max_depth=None, min_samples_leaf=1, min_samples_split=2, n_estimators=20;, score=0.674 total time= 4.0min\n",
      "[CV 5/5; 6/1440] START criterion=gini, max_depth=None, min_samples_leaf=1, min_samples_split=2, n_estimators=20\n",
      "[CV 2/5; 6/1440] END criterion=gini, max_depth=None, min_samples_leaf=1, min_samples_split=2, n_estimators=20;, score=0.674 total time= 4.0min\n",
      "[CV 1/5; 7/1440] START criterion=gini, max_depth=None, min_samples_leaf=1, min_samples_split=2, n_estimators=50\n",
      "[CV 3/5; 6/1440] END criterion=gini, max_depth=None, min_samples_leaf=1, min_samples_split=2, n_estimators=20;, score=0.672 total time= 3.9min\n",
      "[CV 2/5; 7/1440] START criterion=gini, max_depth=None, min_samples_leaf=1, min_samples_split=2, n_estimators=50\n",
      "[CV 4/5; 6/1440] END criterion=gini, max_depth=None, min_samples_leaf=1, min_samples_split=2, n_estimators=20;, score=0.676 total time= 3.5min\n",
      "[CV 3/5; 7/1440] START criterion=gini, max_depth=None, min_samples_leaf=1, min_samples_split=2, n_estimators=50\n",
      "[CV 5/5; 6/1440] END criterion=gini, max_depth=None, min_samples_leaf=1, min_samples_split=2, n_estimators=20;, score=0.672 total time= 3.4min\n",
      "[CV 4/5; 7/1440] START criterion=gini, max_depth=None, min_samples_leaf=1, min_samples_split=2, n_estimators=50\n",
      "[CV 1/5; 7/1440] END criterion=gini, max_depth=None, min_samples_leaf=1, min_samples_split=2, n_estimators=50;, score=0.684 total time= 8.5min\n",
      "[CV 5/5; 7/1440] START criterion=gini, max_depth=None, min_samples_leaf=1, min_samples_split=2, n_estimators=50\n",
      "[CV 2/5; 7/1440] END criterion=gini, max_depth=None, min_samples_leaf=1, min_samples_split=2, n_estimators=50;, score=0.685 total time= 8.6min\n",
      "[CV 1/5; 8/1440] START criterion=gini, max_depth=None, min_samples_leaf=1, min_samples_split=2, n_estimators=100\n",
      "[CV 3/5; 7/1440] END criterion=gini, max_depth=None, min_samples_leaf=1, min_samples_split=2, n_estimators=50;, score=0.683 total time= 8.5min\n",
      "[CV 2/5; 8/1440] START criterion=gini, max_depth=None, min_samples_leaf=1, min_samples_split=2, n_estimators=100\n",
      "[CV 4/5; 7/1440] END criterion=gini, max_depth=None, min_samples_leaf=1, min_samples_split=2, n_estimators=50;, score=0.686 total time= 8.5min\n",
      "[CV 3/5; 8/1440] START criterion=gini, max_depth=None, min_samples_leaf=1, min_samples_split=2, n_estimators=100\n",
      "[CV 5/5; 7/1440] END criterion=gini, max_depth=None, min_samples_leaf=1, min_samples_split=2, n_estimators=50;, score=0.684 total time= 8.7min\n",
      "[CV 4/5; 8/1440] START criterion=gini, max_depth=None, min_samples_leaf=1, min_samples_split=2, n_estimators=100\n"
     ]
    }
   ],
   "source": [
    "rf_clf.fit(X_train, y_train)"
   ]
  },
  {
   "cell_type": "code",
   "execution_count": null,
   "metadata": {},
   "outputs": [
    {
     "ename": "NameError",
     "evalue": "name 'rf_clf' is not defined",
     "output_type": "error",
     "traceback": [
      "\u001b[0;31m---------------------------------------------------------------------------\u001b[0m",
      "\u001b[0;31mNameError\u001b[0m                                 Traceback (most recent call last)",
      "\u001b[1;32m/Users/bradpayne/Desktop/CS6890/project/src/models.ipynb Cell 13'\u001b[0m in \u001b[0;36m<cell line: 1>\u001b[0;34m()\u001b[0m\n\u001b[0;32m----> <a href='vscode-notebook-cell:/Users/bradpayne/Desktop/CS6890/project/src/models.ipynb#ch0000012?line=0'>1</a>\u001b[0m rf_clf\u001b[39m.\u001b[39mbest_params_\n",
      "\u001b[0;31mNameError\u001b[0m: name 'rf_clf' is not defined"
     ]
    }
   ],
   "source": [
    "rf_clf.best_params_"
   ]
  },
  {
   "cell_type": "code",
   "execution_count": null,
   "metadata": {},
   "outputs": [],
   "source": [
    "rf_clf.best_estimator_.score(X_train, y_train)"
   ]
  },
  {
   "cell_type": "code",
   "execution_count": null,
   "metadata": {},
   "outputs": [],
   "source": [
    "rf_clf.best_estimator_.score(X_test, y_test)"
   ]
  },
  {
   "cell_type": "code",
   "execution_count": 9,
   "metadata": {},
   "outputs": [],
   "source": [
    "svc_clf =  GridSearchCV(\n",
    "    SVC(),\n",
    "    param_grid={\n",
    "        \"C\": [1, 2],\n",
    "        \"kernel\": [\"linear\", \"poly\", \"rbg\", \"sigmoid\"],\n",
    "        \"gamma\": [\"scale\", \"auto\"]\n",
    "    },\n",
    "    error_score=\"raise\",\n",
    "    n_jobs=-1,\n",
    "    cv=2,\n",
    "    verbose=20\n",
    ")"
   ]
  },
  {
   "cell_type": "code",
   "execution_count": 10,
   "metadata": {},
   "outputs": [
    {
     "name": "stdout",
     "output_type": "stream",
     "text": [
      "Fitting 2 folds for each of 16 candidates, totalling 32 fits\n",
      "[CV 1/2; 1/16] START C=1, gamma=scale, kernel=linear............................\n",
      "[CV 2/2; 1/16] START C=1, gamma=scale, kernel=linear............................\n",
      "[CV 1/2; 2/16] START C=1, gamma=scale, kernel=poly..............................\n",
      "[CV 1/2; 4/16] START C=1, gamma=scale, kernel=sigmoid...........................\n",
      "[CV 1/2; 3/16] START C=1, gamma=scale, kernel=rbg...............................\n",
      "[CV 2/2; 3/16] START C=1, gamma=scale, kernel=rbg...............................\n",
      "[CV 2/2; 4/16] START C=1, gamma=scale, kernel=sigmoid...........................\n",
      "[CV 1/2; 5/16] START C=1, gamma=auto, kernel=linear.............................\n",
      "[CV 2/2; 5/16] START C=1, gamma=auto, kernel=linear.............................\n",
      "[CV 2/2; 2/16] START C=1, gamma=scale, kernel=poly..............................\n",
      "[CV 2/2; 4/16] END C=1, gamma=scale, kernel=sigmoid;, score=0.489 total time=13.6min\n",
      "[CV 1/2; 6/16] START C=1, gamma=auto, kernel=poly...............................\n",
      "[CV 1/2; 4/16] END C=1, gamma=scale, kernel=sigmoid;, score=0.490 total time=13.8min\n",
      "[CV 2/2; 6/16] START C=1, gamma=auto, kernel=poly...............................\n",
      "[CV 2/2; 2/16] END C=1, gamma=scale, kernel=poly;, score=0.555 total time=56.1min\n",
      "[CV 1/2; 7/16] START C=1, gamma=auto, kernel=rbg................................\n",
      "[CV 2/2; 7/16] START C=1, gamma=auto, kernel=rbg................................\n",
      "[CV 1/2; 8/16] START C=1, gamma=auto, kernel=sigmoid............................\n",
      "[CV 1/2; 2/16] END C=1, gamma=scale, kernel=poly;, score=0.554 total time=57.2min\n",
      "[CV 2/2; 8/16] START C=1, gamma=auto, kernel=sigmoid............................\n",
      "[CV 1/2; 8/16] END C=1, gamma=auto, kernel=sigmoid;, score=0.501 total time=12.6min\n",
      "[CV 1/2; 9/16] START C=2, gamma=scale, kernel=linear............................\n",
      "[CV 2/2; 8/16] END C=1, gamma=auto, kernel=sigmoid;, score=0.503 total time=13.3min\n",
      "[CV 2/2; 9/16] START C=2, gamma=scale, kernel=linear............................\n"
     ]
    }
   ],
   "source": [
    "svc_clf.fit(X_train[0:100000], y_train[0:100000])"
   ]
  },
  {
   "cell_type": "code",
   "execution_count": 6,
   "metadata": {},
   "outputs": [
    {
     "ename": "AttributeError",
     "evalue": "'GridSearchCV' object has no attribute 'best_estimator_'",
     "output_type": "error",
     "traceback": [
      "\u001b[0;31m---------------------------------------------------------------------------\u001b[0m",
      "\u001b[0;31mAttributeError\u001b[0m                            Traceback (most recent call last)",
      "\u001b[1;32m/home/bradley/Projects/CS6890/src/models.ipynb Cell 19'\u001b[0m in \u001b[0;36m<cell line: 1>\u001b[0;34m()\u001b[0m\n\u001b[0;32m----> <a href='vscode-notebook-cell:/home/bradley/Projects/CS6890/src/models.ipynb#ch0000018?line=0'>1</a>\u001b[0m svc_clf\u001b[39m.\u001b[39;49mbest_estimator_\u001b[39m.\u001b[39mscore(X_train, y_train)\n",
      "\u001b[0;31mAttributeError\u001b[0m: 'GridSearchCV' object has no attribute 'best_estimator_'"
     ]
    }
   ],
   "source": [
    "svc_clf.best_estimator_.score(X_train, y_train)"
   ]
  },
  {
   "cell_type": "code",
   "execution_count": null,
   "metadata": {},
   "outputs": [],
   "source": [
    "svc_clf.best_estimator_.score(X_test, y_test)"
   ]
  }
 ],
 "metadata": {
  "interpreter": {
   "hash": "f377127c09c84a9b90f4f166f8b1635d8e5cd0bb453100980b5884fcf7a8b0e4"
  },
  "kernelspec": {
   "display_name": "Python 3.9.11 64-bit ('3.9.11')",
   "language": "python",
   "name": "python3"
  },
  "language_info": {
   "codemirror_mode": {
    "name": "ipython",
    "version": 3
   },
   "file_extension": ".py",
   "mimetype": "text/x-python",
   "name": "python",
   "nbconvert_exporter": "python",
   "pygments_lexer": "ipython3",
   "version": "3.9.5"
  },
  "orig_nbformat": 4
 },
 "nbformat": 4,
 "nbformat_minor": 2
}
